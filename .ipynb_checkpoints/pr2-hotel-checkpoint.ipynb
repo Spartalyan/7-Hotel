{
 "cells": [
  {
   "cell_type": "markdown",
   "metadata": {},
   "source": [
    "<div style=\"padding: 30px 25px; border: 2px #6495ed solid\">\n",
    "    \n",
    "<b>Привет, Мария!</b>\n",
    "\n",
    "Меня зовут Алексей, и я буду проверять твой проект.\n",
    "    \n",
    "Предлагаю общаться на «<b>ты</b>», но если это неудобно — обязательно сообщи об этом.\n",
    "    \n",
    "Ниже ты увидишь мои комментарии, выделенные разным цветом:\n",
    "    \n",
    "<div class=\"alert alert-success\">\n",
    "<h2>Комментарий ревьюера<a class=\"tocSkip\"></a></h2>\n",
    "\n",
    "<b>Отлично!</b> ✔️: все ок, продолжай в том же духе :)\n",
    "\n",
    "</div>\n",
    "<div class=\"alert alert-warning\">\n",
    "<h2>Комментарий ревьюера<a class=\"tocSkip\"></a></h2>\n",
    "    \n",
    "<b>Есть совет</b> ⚠️: так выделены некритичные замечания или советы, которые смогут улучшить твой проект.\n",
    "\n",
    "</div>\n",
    "<div class=\"alert alert-danger\">\n",
    "<h2>Комментарий ревьюера<a class=\"tocSkip\"></a></h2>\n",
    "\n",
    "<b>Нужно доработать</b> ❌: так выделены важные замечания — без их исправления проект не может быть принят.\n",
    "    \n",
    "</div>\n",
    "\n",
    "Будет здорово, если ты будешь участвовать в диалоге, а свои вопросы, комментарии и изменения в проекте тоже будешь выделять, например, вот так:\n",
    "    \n",
    "<div class=\"alert alert-info\">\n",
    "    <b>Комментарий студента:</b> твой комментарий\n",
    "</div>\n",
    "    \n",
    "Пожалуйста, не перемещай и не удаляй мои комментарии, это усложнит повторную проверку.\n",
    "    \n",
    "</div>"
   ]
  },
  {
   "cell_type": "markdown",
   "metadata": {},
   "source": [
    "# Прогнозирование оттока клиентов в сети отелей «Как в гостях»"
   ]
  },
  {
   "cell_type": "markdown",
   "metadata": {},
   "source": [
    "## Импорт данных\n"
   ]
  },
  {
   "cell_type": "markdown",
   "metadata": {},
   "source": [
    "Заказчик этого исследования — сеть отелей «Как в гостях».\n",
    "\n",
    "Чтобы привлечь клиентов, эта сеть отелей добавила на свой сайт возможность забронировать номер без предоплаты. Однако если клиент отменял бронирование, то компания терпела убытки. Сотрудники отеля могли, например, закупить продукты к приезду гостя или просто не успеть найти другого клиента.\n",
    "\n",
    "Чтобы решить эту проблему, вам нужно разработать систему, которая предсказывает отказ от брони. Если модель покажет, что бронь будет отменена, то клиенту предлагается внести депозит. Размер депозита — 80% от стоимости номера за одни сутки и затрат на разовую уборку. Деньги будут списаны со счёта клиента, если он всё же отменит бронь.\n",
    "\n",
    "\n",
    "На разработку системы прогнозирования заложен бюджет — 400 000. При этом необходимо учесть, что внедрение модели должно окупиться за тестовый период. Затраты на разработку должны быть меньше той выручки, которую система принесёт компании."
   ]
  },
  {
   "cell_type": "code",
   "execution_count": 1,
   "metadata": {},
   "outputs": [],
   "source": [
    "!pip install scikit-learn==1.1.3 -q\n",
    "!pip install imblearn -q"
   ]
  },
  {
   "cell_type": "code",
   "execution_count": 2,
   "metadata": {},
   "outputs": [],
   "source": [
    "#импортируем библиотеки подгружаем модули необходимые нам в процессе работы\n",
    "import pandas as pd\n",
    "import math\n",
    "import matplotlib.pyplot as plt\n",
    "import numpy as np\n",
    "from sklearn.preprocessing import OneHotEncoder, StandardScaler\n",
    "from sklearn.linear_model import LogisticRegression\n",
    "from numpy.random import RandomState \n",
    "state=RandomState(12345)\n",
    "from sklearn.metrics import f1_score\n",
    "from sklearn.tree import DecisionTreeClassifier\n",
    "from sklearn.ensemble import RandomForestClassifier\n",
    "from sklearn.utils import shuffle\n",
    "from imblearn.over_sampling import SMOTE\n",
    "from scipy import stats as st\n",
    "import seaborn as sns\n",
    "from sklearn.model_selection import cross_val_score\n",
    "from imblearn.pipeline import Pipeline, make_pipeline\n",
    "from sklearn.model_selection import KFold\n",
    "import numpy as np"
   ]
  },
  {
   "cell_type": "code",
   "execution_count": 3,
   "metadata": {},
   "outputs": [],
   "source": [
    "#Объявим константы которые нам потребуются для дальнейших расчетов\n",
    "price_system = 400000 #Стоимость системы предсказывающий отказ от брони\n",
    "coefficient_deposit = 0.8 #Коэффициент, помогающий расчитать стоимость депозита (80% от стоимости ночи и разовой уборки)"
   ]
  },
  {
   "cell_type": "code",
   "execution_count": 4,
   "metadata": {},
   "outputs": [
    {
     "name": "stdout",
     "output_type": "stream",
     "text": [
      "Данные выгружены с платформы\n"
     ]
    }
   ],
   "source": [
    "try:\n",
    "    df_train = pd.read_csv('/Users/mariaspartalan/Desktop/готовые проекты/Сборный 2, Отель/Данные для работы/hotel_train.csv')\n",
    "    df_test = pd.read_csv('/Users/mariaspartalan/Desktop/готовые проекты/Сборный 2, Отель/Данные для работы/hotel_test.csv')\n",
    "    print('Данные выгружены локально')\n",
    "except FileNotFoundError:\n",
    "    df_train = pd.read_csv('/datasets/hotel_train.csv')\n",
    "    df_test = pd.read_csv('/datasets/hotel_test.csv')\n",
    "    print('Данные выгружены с платформы')\n",
    "else:\n",
    "    print('Что-то идет не по плану')"
   ]
  },
  {
   "cell_type": "markdown",
   "metadata": {},
   "source": [
    "### Промежуточный вывод:\n",
    "\n",
    "На данном этапе работы, данные загружены и сохранены в датафреймы."
   ]
  },
  {
   "cell_type": "markdown",
   "metadata": {},
   "source": [
    "<div class=\"alert alert-success\">\n",
    "<h2>Комментарий ревьюера<a class=\"tocSkip\"></a></h2>\n",
    "    \n",
    "**Отлично!** ✔️: данные на месте!</div>"
   ]
  },
  {
   "cell_type": "markdown",
   "metadata": {},
   "source": [
    "## Предобработка и исследовательский анализ данных\n",
    "\n",
    "### Предварительный анализ данных:\n",
    "\n",
    "Рассмотрим данные в таблицах повнимательнее"
   ]
  },
  {
   "cell_type": "code",
   "execution_count": 5,
   "metadata": {},
   "outputs": [
    {
     "data": {
      "text/html": [
       "<div>\n",
       "<style scoped>\n",
       "    .dataframe tbody tr th:only-of-type {\n",
       "        vertical-align: middle;\n",
       "    }\n",
       "\n",
       "    .dataframe tbody tr th {\n",
       "        vertical-align: top;\n",
       "    }\n",
       "\n",
       "    .dataframe thead th {\n",
       "        text-align: right;\n",
       "    }\n",
       "</style>\n",
       "<table border=\"1\" class=\"dataframe\">\n",
       "  <thead>\n",
       "    <tr style=\"text-align: right;\">\n",
       "      <th></th>\n",
       "      <th>id</th>\n",
       "      <th>is_canceled</th>\n",
       "      <th>lead_time</th>\n",
       "      <th>arrival_date_year</th>\n",
       "      <th>arrival_date_month</th>\n",
       "      <th>arrival_date_week_number</th>\n",
       "      <th>arrival_date_day_of_month</th>\n",
       "      <th>stays_in_weekend_nights</th>\n",
       "      <th>stays_in_week_nights</th>\n",
       "      <th>adults</th>\n",
       "      <th>...</th>\n",
       "      <th>is_repeated_guest</th>\n",
       "      <th>previous_cancellations</th>\n",
       "      <th>previous_bookings_not_canceled</th>\n",
       "      <th>reserved_room_type</th>\n",
       "      <th>booking_changes</th>\n",
       "      <th>days_in_waiting_list</th>\n",
       "      <th>customer_type</th>\n",
       "      <th>required_car_parking_spaces</th>\n",
       "      <th>total_of_special_requests</th>\n",
       "      <th>total_nights</th>\n",
       "    </tr>\n",
       "  </thead>\n",
       "  <tbody>\n",
       "    <tr>\n",
       "      <th>0</th>\n",
       "      <td>0</td>\n",
       "      <td>0</td>\n",
       "      <td>7.0</td>\n",
       "      <td>2015</td>\n",
       "      <td>July</td>\n",
       "      <td>27</td>\n",
       "      <td>1</td>\n",
       "      <td>0</td>\n",
       "      <td>1</td>\n",
       "      <td>1.0</td>\n",
       "      <td>...</td>\n",
       "      <td>0</td>\n",
       "      <td>0</td>\n",
       "      <td>0</td>\n",
       "      <td>A</td>\n",
       "      <td>0</td>\n",
       "      <td>0</td>\n",
       "      <td>Transient</td>\n",
       "      <td>0</td>\n",
       "      <td>0</td>\n",
       "      <td>1</td>\n",
       "    </tr>\n",
       "    <tr>\n",
       "      <th>1</th>\n",
       "      <td>1</td>\n",
       "      <td>0</td>\n",
       "      <td>14.0</td>\n",
       "      <td>2015</td>\n",
       "      <td>July</td>\n",
       "      <td>27</td>\n",
       "      <td>1</td>\n",
       "      <td>0</td>\n",
       "      <td>2</td>\n",
       "      <td>2.0</td>\n",
       "      <td>...</td>\n",
       "      <td>0</td>\n",
       "      <td>0</td>\n",
       "      <td>0</td>\n",
       "      <td>A</td>\n",
       "      <td>0</td>\n",
       "      <td>0</td>\n",
       "      <td>Transient</td>\n",
       "      <td>0</td>\n",
       "      <td>1</td>\n",
       "      <td>2</td>\n",
       "    </tr>\n",
       "    <tr>\n",
       "      <th>2</th>\n",
       "      <td>2</td>\n",
       "      <td>0</td>\n",
       "      <td>0.0</td>\n",
       "      <td>2015</td>\n",
       "      <td>July</td>\n",
       "      <td>27</td>\n",
       "      <td>1</td>\n",
       "      <td>0</td>\n",
       "      <td>2</td>\n",
       "      <td>2.0</td>\n",
       "      <td>...</td>\n",
       "      <td>0</td>\n",
       "      <td>0</td>\n",
       "      <td>0</td>\n",
       "      <td>C</td>\n",
       "      <td>0</td>\n",
       "      <td>0</td>\n",
       "      <td>Transient</td>\n",
       "      <td>0</td>\n",
       "      <td>0</td>\n",
       "      <td>2</td>\n",
       "    </tr>\n",
       "    <tr>\n",
       "      <th>3</th>\n",
       "      <td>3</td>\n",
       "      <td>0</td>\n",
       "      <td>9.0</td>\n",
       "      <td>2015</td>\n",
       "      <td>July</td>\n",
       "      <td>27</td>\n",
       "      <td>1</td>\n",
       "      <td>0</td>\n",
       "      <td>2</td>\n",
       "      <td>2.0</td>\n",
       "      <td>...</td>\n",
       "      <td>0</td>\n",
       "      <td>0</td>\n",
       "      <td>0</td>\n",
       "      <td>C</td>\n",
       "      <td>0</td>\n",
       "      <td>0</td>\n",
       "      <td>Transient</td>\n",
       "      <td>0</td>\n",
       "      <td>1</td>\n",
       "      <td>2</td>\n",
       "    </tr>\n",
       "    <tr>\n",
       "      <th>4</th>\n",
       "      <td>4</td>\n",
       "      <td>1</td>\n",
       "      <td>85.0</td>\n",
       "      <td>2015</td>\n",
       "      <td>July</td>\n",
       "      <td>27</td>\n",
       "      <td>1</td>\n",
       "      <td>0</td>\n",
       "      <td>3</td>\n",
       "      <td>2.0</td>\n",
       "      <td>...</td>\n",
       "      <td>0</td>\n",
       "      <td>0</td>\n",
       "      <td>0</td>\n",
       "      <td>A</td>\n",
       "      <td>0</td>\n",
       "      <td>0</td>\n",
       "      <td>Transient</td>\n",
       "      <td>0</td>\n",
       "      <td>1</td>\n",
       "      <td>3</td>\n",
       "    </tr>\n",
       "  </tbody>\n",
       "</table>\n",
       "<p>5 rows × 25 columns</p>\n",
       "</div>"
      ],
      "text/plain": [
       "   id  is_canceled  lead_time  arrival_date_year arrival_date_month  \\\n",
       "0   0            0        7.0               2015               July   \n",
       "1   1            0       14.0               2015               July   \n",
       "2   2            0        0.0               2015               July   \n",
       "3   3            0        9.0               2015               July   \n",
       "4   4            1       85.0               2015               July   \n",
       "\n",
       "   arrival_date_week_number  arrival_date_day_of_month  \\\n",
       "0                        27                          1   \n",
       "1                        27                          1   \n",
       "2                        27                          1   \n",
       "3                        27                          1   \n",
       "4                        27                          1   \n",
       "\n",
       "   stays_in_weekend_nights  stays_in_week_nights  adults  ...  \\\n",
       "0                        0                     1     1.0  ...   \n",
       "1                        0                     2     2.0  ...   \n",
       "2                        0                     2     2.0  ...   \n",
       "3                        0                     2     2.0  ...   \n",
       "4                        0                     3     2.0  ...   \n",
       "\n",
       "   is_repeated_guest  previous_cancellations previous_bookings_not_canceled  \\\n",
       "0                  0                       0                              0   \n",
       "1                  0                       0                              0   \n",
       "2                  0                       0                              0   \n",
       "3                  0                       0                              0   \n",
       "4                  0                       0                              0   \n",
       "\n",
       "  reserved_room_type booking_changes  days_in_waiting_list  customer_type  \\\n",
       "0   A                              0                     0      Transient   \n",
       "1   A                              0                     0      Transient   \n",
       "2   C                              0                     0      Transient   \n",
       "3   C                              0                     0      Transient   \n",
       "4   A                              0                     0      Transient   \n",
       "\n",
       "   required_car_parking_spaces total_of_special_requests  total_nights  \n",
       "0                            0                         0             1  \n",
       "1                            0                         1             2  \n",
       "2                            0                         0             2  \n",
       "3                            0                         1             2  \n",
       "4                            0                         1             3  \n",
       "\n",
       "[5 rows x 25 columns]"
      ]
     },
     "execution_count": 5,
     "metadata": {},
     "output_type": "execute_result"
    }
   ],
   "source": [
    "df_train.head()"
   ]
  },
  {
   "cell_type": "code",
   "execution_count": 6,
   "metadata": {},
   "outputs": [
    {
     "name": "stdout",
     "output_type": "stream",
     "text": [
      "<class 'pandas.core.frame.DataFrame'>\n",
      "RangeIndex: 65229 entries, 0 to 65228\n",
      "Data columns (total 25 columns):\n",
      " #   Column                          Non-Null Count  Dtype  \n",
      "---  ------                          --------------  -----  \n",
      " 0   id                              65229 non-null  int64  \n",
      " 1   is_canceled                     65229 non-null  int64  \n",
      " 2   lead_time                       65229 non-null  float64\n",
      " 3   arrival_date_year               65229 non-null  int64  \n",
      " 4   arrival_date_month              65229 non-null  object \n",
      " 5   arrival_date_week_number        65229 non-null  int64  \n",
      " 6   arrival_date_day_of_month       65229 non-null  int64  \n",
      " 7   stays_in_weekend_nights         65229 non-null  int64  \n",
      " 8   stays_in_week_nights            65229 non-null  int64  \n",
      " 9   adults                          65229 non-null  float64\n",
      " 10  children                        65229 non-null  float64\n",
      " 11  babies                          65229 non-null  float64\n",
      " 12  meal                            65229 non-null  object \n",
      " 13  country                         65229 non-null  object \n",
      " 14  distribution_channel            65229 non-null  object \n",
      " 15  is_repeated_guest               65229 non-null  int64  \n",
      " 16  previous_cancellations          65229 non-null  int64  \n",
      " 17  previous_bookings_not_canceled  65229 non-null  int64  \n",
      " 18  reserved_room_type              65229 non-null  object \n",
      " 19  booking_changes                 65229 non-null  int64  \n",
      " 20  days_in_waiting_list            65229 non-null  int64  \n",
      " 21  customer_type                   65229 non-null  object \n",
      " 22  required_car_parking_spaces     65229 non-null  int64  \n",
      " 23  total_of_special_requests       65229 non-null  int64  \n",
      " 24  total_nights                    65229 non-null  int64  \n",
      "dtypes: float64(4), int64(15), object(6)\n",
      "memory usage: 12.4+ MB\n"
     ]
    }
   ],
   "source": [
    "df_train.info()"
   ]
  },
  {
   "cell_type": "code",
   "execution_count": 7,
   "metadata": {},
   "outputs": [
    {
     "data": {
      "text/html": [
       "<div>\n",
       "<style scoped>\n",
       "    .dataframe tbody tr th:only-of-type {\n",
       "        vertical-align: middle;\n",
       "    }\n",
       "\n",
       "    .dataframe tbody tr th {\n",
       "        vertical-align: top;\n",
       "    }\n",
       "\n",
       "    .dataframe thead th {\n",
       "        text-align: right;\n",
       "    }\n",
       "</style>\n",
       "<table border=\"1\" class=\"dataframe\">\n",
       "  <thead>\n",
       "    <tr style=\"text-align: right;\">\n",
       "      <th></th>\n",
       "      <th>id</th>\n",
       "      <th>is_canceled</th>\n",
       "      <th>lead_time</th>\n",
       "      <th>arrival_date_year</th>\n",
       "      <th>arrival_date_month</th>\n",
       "      <th>arrival_date_week_number</th>\n",
       "      <th>arrival_date_day_of_month</th>\n",
       "      <th>stays_in_weekend_nights</th>\n",
       "      <th>stays_in_week_nights</th>\n",
       "      <th>adults</th>\n",
       "      <th>...</th>\n",
       "      <th>is_repeated_guest</th>\n",
       "      <th>previous_cancellations</th>\n",
       "      <th>previous_bookings_not_canceled</th>\n",
       "      <th>reserved_room_type</th>\n",
       "      <th>booking_changes</th>\n",
       "      <th>days_in_waiting_list</th>\n",
       "      <th>customer_type</th>\n",
       "      <th>required_car_parking_spaces</th>\n",
       "      <th>total_of_special_requests</th>\n",
       "      <th>total_nights</th>\n",
       "    </tr>\n",
       "  </thead>\n",
       "  <tbody>\n",
       "    <tr>\n",
       "      <th>0</th>\n",
       "      <td>6086</td>\n",
       "      <td>1</td>\n",
       "      <td>74.0</td>\n",
       "      <td>2017</td>\n",
       "      <td>January</td>\n",
       "      <td>1</td>\n",
       "      <td>1</td>\n",
       "      <td>1</td>\n",
       "      <td>0</td>\n",
       "      <td>2.0</td>\n",
       "      <td>...</td>\n",
       "      <td>0</td>\n",
       "      <td>0</td>\n",
       "      <td>0</td>\n",
       "      <td>A</td>\n",
       "      <td>0</td>\n",
       "      <td>0</td>\n",
       "      <td>Transient</td>\n",
       "      <td>0</td>\n",
       "      <td>0</td>\n",
       "      <td>1</td>\n",
       "    </tr>\n",
       "    <tr>\n",
       "      <th>1</th>\n",
       "      <td>6087</td>\n",
       "      <td>1</td>\n",
       "      <td>62.0</td>\n",
       "      <td>2017</td>\n",
       "      <td>January</td>\n",
       "      <td>1</td>\n",
       "      <td>1</td>\n",
       "      <td>2</td>\n",
       "      <td>2</td>\n",
       "      <td>2.0</td>\n",
       "      <td>...</td>\n",
       "      <td>0</td>\n",
       "      <td>0</td>\n",
       "      <td>0</td>\n",
       "      <td>A</td>\n",
       "      <td>0</td>\n",
       "      <td>0</td>\n",
       "      <td>Transient</td>\n",
       "      <td>0</td>\n",
       "      <td>1</td>\n",
       "      <td>4</td>\n",
       "    </tr>\n",
       "    <tr>\n",
       "      <th>2</th>\n",
       "      <td>6088</td>\n",
       "      <td>1</td>\n",
       "      <td>62.0</td>\n",
       "      <td>2017</td>\n",
       "      <td>January</td>\n",
       "      <td>1</td>\n",
       "      <td>1</td>\n",
       "      <td>2</td>\n",
       "      <td>2</td>\n",
       "      <td>2.0</td>\n",
       "      <td>...</td>\n",
       "      <td>0</td>\n",
       "      <td>0</td>\n",
       "      <td>0</td>\n",
       "      <td>A</td>\n",
       "      <td>0</td>\n",
       "      <td>0</td>\n",
       "      <td>Transient</td>\n",
       "      <td>0</td>\n",
       "      <td>1</td>\n",
       "      <td>4</td>\n",
       "    </tr>\n",
       "    <tr>\n",
       "      <th>3</th>\n",
       "      <td>6089</td>\n",
       "      <td>1</td>\n",
       "      <td>71.0</td>\n",
       "      <td>2017</td>\n",
       "      <td>January</td>\n",
       "      <td>1</td>\n",
       "      <td>1</td>\n",
       "      <td>2</td>\n",
       "      <td>2</td>\n",
       "      <td>1.0</td>\n",
       "      <td>...</td>\n",
       "      <td>0</td>\n",
       "      <td>0</td>\n",
       "      <td>0</td>\n",
       "      <td>A</td>\n",
       "      <td>0</td>\n",
       "      <td>0</td>\n",
       "      <td>Transient</td>\n",
       "      <td>0</td>\n",
       "      <td>1</td>\n",
       "      <td>4</td>\n",
       "    </tr>\n",
       "    <tr>\n",
       "      <th>4</th>\n",
       "      <td>6090</td>\n",
       "      <td>1</td>\n",
       "      <td>172.0</td>\n",
       "      <td>2017</td>\n",
       "      <td>January</td>\n",
       "      <td>1</td>\n",
       "      <td>1</td>\n",
       "      <td>2</td>\n",
       "      <td>5</td>\n",
       "      <td>2.0</td>\n",
       "      <td>...</td>\n",
       "      <td>0</td>\n",
       "      <td>0</td>\n",
       "      <td>0</td>\n",
       "      <td>A</td>\n",
       "      <td>0</td>\n",
       "      <td>0</td>\n",
       "      <td>Transient</td>\n",
       "      <td>0</td>\n",
       "      <td>0</td>\n",
       "      <td>7</td>\n",
       "    </tr>\n",
       "  </tbody>\n",
       "</table>\n",
       "<p>5 rows × 25 columns</p>\n",
       "</div>"
      ],
      "text/plain": [
       "     id  is_canceled  lead_time  arrival_date_year arrival_date_month  \\\n",
       "0  6086            1       74.0               2017            January   \n",
       "1  6087            1       62.0               2017            January   \n",
       "2  6088            1       62.0               2017            January   \n",
       "3  6089            1       71.0               2017            January   \n",
       "4  6090            1      172.0               2017            January   \n",
       "\n",
       "   arrival_date_week_number  arrival_date_day_of_month  \\\n",
       "0                         1                          1   \n",
       "1                         1                          1   \n",
       "2                         1                          1   \n",
       "3                         1                          1   \n",
       "4                         1                          1   \n",
       "\n",
       "   stays_in_weekend_nights  stays_in_week_nights  adults  ...  \\\n",
       "0                        1                     0     2.0  ...   \n",
       "1                        2                     2     2.0  ...   \n",
       "2                        2                     2     2.0  ...   \n",
       "3                        2                     2     1.0  ...   \n",
       "4                        2                     5     2.0  ...   \n",
       "\n",
       "   is_repeated_guest  previous_cancellations previous_bookings_not_canceled  \\\n",
       "0                  0                       0                              0   \n",
       "1                  0                       0                              0   \n",
       "2                  0                       0                              0   \n",
       "3                  0                       0                              0   \n",
       "4                  0                       0                              0   \n",
       "\n",
       "  reserved_room_type booking_changes  days_in_waiting_list  customer_type  \\\n",
       "0   A                              0                     0      Transient   \n",
       "1   A                              0                     0      Transient   \n",
       "2   A                              0                     0      Transient   \n",
       "3   A                              0                     0      Transient   \n",
       "4   A                              0                     0      Transient   \n",
       "\n",
       "   required_car_parking_spaces total_of_special_requests  total_nights  \n",
       "0                            0                         0             1  \n",
       "1                            0                         1             4  \n",
       "2                            0                         1             4  \n",
       "3                            0                         1             4  \n",
       "4                            0                         0             7  \n",
       "\n",
       "[5 rows x 25 columns]"
      ]
     },
     "execution_count": 7,
     "metadata": {},
     "output_type": "execute_result"
    }
   ],
   "source": [
    "df_test.head()"
   ]
  },
  {
   "cell_type": "code",
   "execution_count": 8,
   "metadata": {},
   "outputs": [
    {
     "name": "stdout",
     "output_type": "stream",
     "text": [
      "<class 'pandas.core.frame.DataFrame'>\n",
      "RangeIndex: 32412 entries, 0 to 32411\n",
      "Data columns (total 25 columns):\n",
      " #   Column                          Non-Null Count  Dtype  \n",
      "---  ------                          --------------  -----  \n",
      " 0   id                              32412 non-null  int64  \n",
      " 1   is_canceled                     32412 non-null  int64  \n",
      " 2   lead_time                       32412 non-null  float64\n",
      " 3   arrival_date_year               32412 non-null  int64  \n",
      " 4   arrival_date_month              32412 non-null  object \n",
      " 5   arrival_date_week_number        32412 non-null  int64  \n",
      " 6   arrival_date_day_of_month       32412 non-null  int64  \n",
      " 7   stays_in_weekend_nights         32412 non-null  int64  \n",
      " 8   stays_in_week_nights            32412 non-null  int64  \n",
      " 9   adults                          32412 non-null  float64\n",
      " 10  children                        32412 non-null  float64\n",
      " 11  babies                          32412 non-null  float64\n",
      " 12  meal                            32412 non-null  object \n",
      " 13  country                         32412 non-null  object \n",
      " 14  distribution_channel            32412 non-null  object \n",
      " 15  is_repeated_guest               32412 non-null  int64  \n",
      " 16  previous_cancellations          32412 non-null  int64  \n",
      " 17  previous_bookings_not_canceled  32412 non-null  int64  \n",
      " 18  reserved_room_type              32412 non-null  object \n",
      " 19  booking_changes                 32412 non-null  int64  \n",
      " 20  days_in_waiting_list            32412 non-null  int64  \n",
      " 21  customer_type                   32412 non-null  object \n",
      " 22  required_car_parking_spaces     32412 non-null  int64  \n",
      " 23  total_of_special_requests       32412 non-null  int64  \n",
      " 24  total_nights                    32412 non-null  int64  \n",
      "dtypes: float64(4), int64(15), object(6)\n",
      "memory usage: 6.2+ MB\n"
     ]
    }
   ],
   "source": [
    "df_test.info()"
   ]
  },
  {
   "cell_type": "markdown",
   "metadata": {},
   "source": [
    "У нас есть 2 массива данных тренировочный и тестовый,и для проверки работы созданной модели.\n",
    "\n",
    "В тренировочном представлены данные о 65228 объектах, в тестовом 32411.\n",
    "\n",
    "В обеих таблицах содержатся одинаковые столбцы:\n",
    "\n",
    "* id — номер записи;\n",
    "* \t\tadults  — количество взрослых постояльцев;\n",
    "* \t\tarrival_date_year — год заезда;\n",
    "* \t\tarrival_date_month — месяц заезда;\n",
    "* \t\tarrival_date_week_number — неделя заезда;\n",
    "* \t\tarrival_date_day_of_month — день заезда;\n",
    "* \t\tbabies — количество младенцев;\n",
    "* \t\tbooking_changes — количество изменений параметров заказа;\n",
    "* \t\tchildren — количество детей от 3 до 14 лет;\n",
    "* \t\tcountry — гражданство постояльца;\n",
    "* \t\tcustomer_type  — тип заказчика:\n",
    "* \t\t  \n",
    "    * \t\tContract — договор с юридическим лицом;\n",
    "    * \t\tGroup — групповой заезд;\n",
    "    * \t\tTransient — не связано с договором или групповым заездом;\n",
    "    * \t\tTransient-party — не связано с договором или групповым заездом, но связано с бронированием типа Transient.\n",
    "* \t\tdays_in_waiting_list — сколько дней заказ ожидал подтверждения;\n",
    "* \t\tdistribution_channel — канал дистрибуции заказа;\n",
    "* \t\tis_canceled — отмена заказа;\n",
    "* \t\tis_repeated_guest — признак того, что гость бронирует номер второй раз;\n",
    "* \t\tlead_time — количество дней между датой бронирования и датой прибытия;\n",
    "* \t\tmeal — опции заказа:\n",
    "* \t\t  \n",
    "    * \t\tSC — нет дополнительных опций;\n",
    "    * \t\tBB — включён завтрак;\n",
    "    * \t\tHB — включён завтрак и обед;\n",
    "    * \t\tFB — включён завтрак, обед и ужин.\n",
    "* \t\tprevious_bookings_not_canceled — количество подтверждённых заказов у клиента;\n",
    "* \t\tprevious_cancellations — количество отменённых заказов у клиента;\n",
    "* \t\trequired_car_parking_spaces — необходимость места для автомобиля;\n",
    "* \t\treserved_room_type  — тип забронированной комнаты;\n",
    "* \t\tstays_in_weekend_nights — количество ночей в выходные дни;\n",
    "* \t\tstays_in_week_nights — количество ночей в будние дни;\n",
    "* \t\ttotal_nights — общее количество ночей;\n",
    "* \t\ttotal_of_special_requests — количество специальных отметок.\n",
    "\n",
    "Типы данных в одинаковых столбцах обоих массивов  тоже совпадают.\n",
    "В большинстве своем указаны корректно, понадобиться замена, только в графах lead_time, adults, children, babies. Переведем их в целочисленный формат.\n",
    "\n",
    "Так же преобразуем значения в графе с месяцем. тоже переведем его в числа."
   ]
  },
  {
   "cell_type": "code",
   "execution_count": 9,
   "metadata": {},
   "outputs": [],
   "source": [
    "df_train[['adults', 'children', 'babies', 'lead_time']] = df_train[['adults', 'children', 'babies','lead_time']].astype(int)\n",
    "df_test[['adults', 'children', 'babies', 'lead_time']] = df_test[['adults', 'children', 'babies', 'lead_time']].astype(int)\n"
   ]
  },
  {
   "cell_type": "code",
   "execution_count": 10,
   "metadata": {
    "scrolled": true
   },
   "outputs": [],
   "source": [
    "#Заменяем название месяцев на числа\n",
    "\n",
    "for old, new in [('July', 7), ('August', 8), ('September', 9), ('October', 10), ('November', 11), ('December', 12), ('January', 1), ('February', 2), ('March', 3), ('April', 4), ('May', 5),('June', 6)]:\n",
    "    df_test['arrival_date_month'] = df_test['arrival_date_month'].replace(old, new)\n",
    "    df_train['arrival_date_month'] = df_train['arrival_date_month'].replace(old, new)\n",
    "    "
   ]
  },
  {
   "cell_type": "markdown",
   "metadata": {},
   "source": [
    "Посмотрим теперь на данные в наших фреймах"
   ]
  },
  {
   "cell_type": "code",
   "execution_count": 11,
   "metadata": {},
   "outputs": [
    {
     "name": "stdout",
     "output_type": "stream",
     "text": [
      "<class 'pandas.core.frame.DataFrame'>\n",
      "RangeIndex: 65229 entries, 0 to 65228\n",
      "Data columns (total 25 columns):\n",
      " #   Column                          Non-Null Count  Dtype \n",
      "---  ------                          --------------  ----- \n",
      " 0   id                              65229 non-null  int64 \n",
      " 1   is_canceled                     65229 non-null  int64 \n",
      " 2   lead_time                       65229 non-null  int64 \n",
      " 3   arrival_date_year               65229 non-null  int64 \n",
      " 4   arrival_date_month              65229 non-null  int64 \n",
      " 5   arrival_date_week_number        65229 non-null  int64 \n",
      " 6   arrival_date_day_of_month       65229 non-null  int64 \n",
      " 7   stays_in_weekend_nights         65229 non-null  int64 \n",
      " 8   stays_in_week_nights            65229 non-null  int64 \n",
      " 9   adults                          65229 non-null  int64 \n",
      " 10  children                        65229 non-null  int64 \n",
      " 11  babies                          65229 non-null  int64 \n",
      " 12  meal                            65229 non-null  object\n",
      " 13  country                         65229 non-null  object\n",
      " 14  distribution_channel            65229 non-null  object\n",
      " 15  is_repeated_guest               65229 non-null  int64 \n",
      " 16  previous_cancellations          65229 non-null  int64 \n",
      " 17  previous_bookings_not_canceled  65229 non-null  int64 \n",
      " 18  reserved_room_type              65229 non-null  object\n",
      " 19  booking_changes                 65229 non-null  int64 \n",
      " 20  days_in_waiting_list            65229 non-null  int64 \n",
      " 21  customer_type                   65229 non-null  object\n",
      " 22  required_car_parking_spaces     65229 non-null  int64 \n",
      " 23  total_of_special_requests       65229 non-null  int64 \n",
      " 24  total_nights                    65229 non-null  int64 \n",
      "dtypes: int64(20), object(5)\n",
      "memory usage: 12.4+ MB\n"
     ]
    }
   ],
   "source": [
    "df_train.info()"
   ]
  },
  {
   "cell_type": "code",
   "execution_count": 12,
   "metadata": {},
   "outputs": [
    {
     "name": "stdout",
     "output_type": "stream",
     "text": [
      "<class 'pandas.core.frame.DataFrame'>\n",
      "RangeIndex: 32412 entries, 0 to 32411\n",
      "Data columns (total 25 columns):\n",
      " #   Column                          Non-Null Count  Dtype \n",
      "---  ------                          --------------  ----- \n",
      " 0   id                              32412 non-null  int64 \n",
      " 1   is_canceled                     32412 non-null  int64 \n",
      " 2   lead_time                       32412 non-null  int64 \n",
      " 3   arrival_date_year               32412 non-null  int64 \n",
      " 4   arrival_date_month              32412 non-null  int64 \n",
      " 5   arrival_date_week_number        32412 non-null  int64 \n",
      " 6   arrival_date_day_of_month       32412 non-null  int64 \n",
      " 7   stays_in_weekend_nights         32412 non-null  int64 \n",
      " 8   stays_in_week_nights            32412 non-null  int64 \n",
      " 9   adults                          32412 non-null  int64 \n",
      " 10  children                        32412 non-null  int64 \n",
      " 11  babies                          32412 non-null  int64 \n",
      " 12  meal                            32412 non-null  object\n",
      " 13  country                         32412 non-null  object\n",
      " 14  distribution_channel            32412 non-null  object\n",
      " 15  is_repeated_guest               32412 non-null  int64 \n",
      " 16  previous_cancellations          32412 non-null  int64 \n",
      " 17  previous_bookings_not_canceled  32412 non-null  int64 \n",
      " 18  reserved_room_type              32412 non-null  object\n",
      " 19  booking_changes                 32412 non-null  int64 \n",
      " 20  days_in_waiting_list            32412 non-null  int64 \n",
      " 21  customer_type                   32412 non-null  object\n",
      " 22  required_car_parking_spaces     32412 non-null  int64 \n",
      " 23  total_of_special_requests       32412 non-null  int64 \n",
      " 24  total_nights                    32412 non-null  int64 \n",
      "dtypes: int64(20), object(5)\n",
      "memory usage: 6.2+ MB\n"
     ]
    }
   ],
   "source": [
    "df_test.info()"
   ]
  },
  {
   "cell_type": "markdown",
   "metadata": {},
   "source": [
    "Рассмотрим временной диапазон за который представлены наши данные"
   ]
  },
  {
   "cell_type": "code",
   "execution_count": 13,
   "metadata": {
    "scrolled": true
   },
   "outputs": [
    {
     "name": "stdout",
     "output_type": "stream",
     "text": [
      "В тренировочной выборке преставлены даты за [2015 2016] года\n",
      "\n",
      "В тестовой выборке преставлены даты за [2017] года\n"
     ]
    }
   ],
   "source": [
    "print('В тренировочной выборке преставлены даты за {} года'.format(df_train['arrival_date_year'].unique()))\n",
    "print()\n",
    "print('В тестовой выборке преставлены даты за {} года'.format(df_test['arrival_date_year'].unique()))"
   ]
  },
  {
   "cell_type": "code",
   "execution_count": 14,
   "metadata": {},
   "outputs": [
    {
     "name": "stdout",
     "output_type": "stream",
     "text": [
      "За 2015 год представлена информация за [ 7  8  9 10 11 12] месяцы.\n",
      "За 2016 год представлена информация за [ 1  2  3  4  5  6  7  8  9 10 11 12] месяцы.\n",
      "За 2017 год представлена информация за [1 2 3 4 5 6 7 8] месяцы.\n"
     ]
    }
   ],
   "source": [
    "#А по месяцам?\n",
    "\n",
    "print('За 2015 год представлена информация за {} месяцы.'.format(df_train[df_train['arrival_date_year'] == 2015]\n",
    "                                                                 ['arrival_date_month'].unique()))\n",
    "print('За 2016 год представлена информация за {} месяцы.'.format(df_train[df_train['arrival_date_year'] == 2016]\n",
    "                                                                 ['arrival_date_month'].unique()))\n",
    "print('За 2017 год представлена информация за {} месяцы.'.format(df_test[df_test['arrival_date_year'] == 2017]\n",
    "                                                                 ['arrival_date_month'].unique()))"
   ]
  },
  {
   "cell_type": "markdown",
   "metadata": {},
   "source": [
    "Итак в тренироваочноый выборке представлены заказы с июля 2015 годапо декабрь 2016, а в тестововй с января по август 2017-го года."
   ]
  },
  {
   "cell_type": "markdown",
   "metadata": {},
   "source": [
    "<div class=\"alert alert-success\">\n",
    "<h2>Комментарий ревьюера<a class=\"tocSkip\"></a></h2>\n",
    "    \n",
    "**Отлично!** ✔️: 👍</div>"
   ]
  },
  {
   "cell_type": "markdown",
   "metadata": {},
   "source": [
    "### Проверка на наличие пропусков:"
   ]
  },
  {
   "cell_type": "code",
   "execution_count": 15,
   "metadata": {},
   "outputs": [
    {
     "name": "stdout",
     "output_type": "stream",
     "text": [
      "В тренировочной выборке 0 пропусков\n",
      "\n",
      "В тестовой выборке 0 пропусков\n"
     ]
    }
   ],
   "source": [
    "print('В тренировочной выборке {} пропусков'.format(df_train.isna().sum().sum()))\n",
    "print()\n",
    "print('В тестовой выборке {} пропусков'.format(df_test.isna().sum().sum()))"
   ]
  },
  {
   "cell_type": "markdown",
   "metadata": {},
   "source": [
    "### Проверка на наличие дубликатов:\n"
   ]
  },
  {
   "cell_type": "code",
   "execution_count": 16,
   "metadata": {},
   "outputs": [
    {
     "name": "stdout",
     "output_type": "stream",
     "text": [
      "В тренировочной выборке 0 дубликатов\n",
      "\n",
      "В тестовой выборке 0 дубликатов\n"
     ]
    }
   ],
   "source": [
    "print('В тренировочной выборке {} дубликатов'.format(df_train.duplicated().sum()))\n",
    "print()\n",
    "print('В тестовой выборке {} дубликатов'.format(df_test.duplicated().sum()))"
   ]
  },
  {
   "cell_type": "markdown",
   "metadata": {},
   "source": [
    "Так же проверим на неявные дубликаты.\n",
    "\n",
    "id это уникальный номер записи, то есть он недолюен повторяться.\n",
    "Посмотрим, так ли это."
   ]
  },
  {
   "cell_type": "code",
   "execution_count": 17,
   "metadata": {
    "scrolled": false
   },
   "outputs": [
    {
     "name": "stdout",
     "output_type": "stream",
     "text": [
      "В тренировочной выборке в столбце id 0 дубликатов\n",
      "\n",
      "В тестовой выборке столбце id  0 дубликатов\n"
     ]
    }
   ],
   "source": [
    "print('В тренировочной выборке в столбце id {} дубликатов'.format(df_train['id'].duplicated().sum()))\n",
    "print()\n",
    "print('В тестовой выборке столбце id  {} дубликатов'.format(df_test['id'].duplicated().sum()))"
   ]
  },
  {
   "cell_type": "markdown",
   "metadata": {},
   "source": [
    "И еще раз проверим полные дубликаты."
   ]
  },
  {
   "cell_type": "code",
   "execution_count": 18,
   "metadata": {},
   "outputs": [
    {
     "name": "stdout",
     "output_type": "stream",
     "text": [
      "В тренировочной выборке в столбце id 0 дубликатов\n",
      "\n",
      "В тестовой выборке столбце id  0 дубликатов\n"
     ]
    }
   ],
   "source": [
    "print('В тренировочной выборке в столбце id {} дубликатов'.format(df_train.duplicated().sum()))\n",
    "print()\n",
    "print('В тестовой выборке столбце id  {} дубликатов'.format(df_test.duplicated().sum()))"
   ]
  },
  {
   "cell_type": "markdown",
   "metadata": {},
   "source": [
    "<div class=\"alert alert-warning\">\n",
    "<h2>Комментарий ревьюера<a class=\"tocSkip\"></a></h2>\n",
    "    \n",
    "**Есть совет** ⚠️: еще стоит проверить наличие полных дубликатов в выборке после удаления признака с id</div>"
   ]
  },
  {
   "cell_type": "markdown",
   "metadata": {},
   "source": [
    "<div class=\"alert alert-info\">\n",
    "    <b>Комментарий студента:</b> Эээ, я конечно сделала, но выглядит немного бесмысленно.\n",
    "    Если нет дублей по id, то наличие полных исключается, нет?)\n",
    "    Или я что-то не так понимаю?\n",
    "</div>"
   ]
  },
  {
   "cell_type": "markdown",
   "metadata": {},
   "source": [
    "Проверим наши заказы на \"адекватность\". Посмотрим есть ли заказы в которых нет взрослых."
   ]
  },
  {
   "cell_type": "code",
   "execution_count": 19,
   "metadata": {},
   "outputs": [
    {
     "name": "stdout",
     "output_type": "stream",
     "text": [
      "В тренировочной количество заказов без взрослых  166\n",
      "\n",
      "В тестовой количество заказов без взрослых  69\n"
     ]
    }
   ],
   "source": [
    "print('В тренировочной количество заказов без взрослых ', len(df_train.query('adults == 0')))\n",
    "print()\n",
    "print('В тестовой количество заказов без взрослых ', len(df_test.query('adults == 0')))"
   ]
  },
  {
   "cell_type": "markdown",
   "metadata": {},
   "source": [
    "Это исключено, потому исключим такие строки."
   ]
  },
  {
   "cell_type": "code",
   "execution_count": 20,
   "metadata": {},
   "outputs": [
    {
     "name": "stdout",
     "output_type": "stream",
     "text": [
      "В тренировочной количество заказов без взрослых  0\n",
      "\n",
      "В тестовой количество заказов без взрослых  0\n"
     ]
    }
   ],
   "source": [
    "df_train = df_train.query('adults > 0')\n",
    "df_test = df_test.query('adults > 0')\n",
    "#Проверка\n",
    "print('В тренировочной количество заказов без взрослых ', len(df_train.query('adults == 0')))\n",
    "print()\n",
    "print('В тестовой количество заказов без взрослых ', len(df_test.query('adults == 0')))"
   ]
  },
  {
   "cell_type": "markdown",
   "metadata": {},
   "source": [
    "### Анализ численных признаков\n",
    "\n",
    "Рассмотрим подробнее значение признака 'days_in_waiting_list'"
   ]
  },
  {
   "cell_type": "code",
   "execution_count": 21,
   "metadata": {
    "scrolled": true
   },
   "outputs": [
    {
     "name": "stdout",
     "output_type": "stream",
     "text": [
      "Показатели days_in_waiting_list для тренировочной выборки\n"
     ]
    },
    {
     "data": {
      "text/plain": [
       "count    65063.000000\n",
       "mean         3.342929\n",
       "std         18.262081\n",
       "min          0.000000\n",
       "25%          0.000000\n",
       "50%          0.000000\n",
       "75%          0.000000\n",
       "max        259.000000\n",
       "Name: days_in_waiting_list, dtype: float64"
      ]
     },
     "execution_count": 21,
     "metadata": {},
     "output_type": "execute_result"
    },
    {
     "data": {
      "image/png": "[encoded data removed]",
      "text/plain": [
       "<Figure size 432x288 with 1 Axes>"
      ]
     },
     "metadata": {
      "needs_background": "light"
     },
     "output_type": "display_data"
    }
   ],
   "source": [
    "print('Показатели days_in_waiting_list для тренировочной выборки')\n",
    "df_train.boxplot(column = 'days_in_waiting_list')\n",
    "df_train['days_in_waiting_list'].describe()"
   ]
  },
  {
   "cell_type": "code",
   "execution_count": 22,
   "metadata": {},
   "outputs": [
    {
     "name": "stdout",
     "output_type": "stream",
     "text": [
      "Показатели days_in_waiting_list для тестовой выборки\n"
     ]
    },
    {
     "data": {
      "text/plain": [
       "count    32343.000000\n",
       "mean         0.262901\n",
       "std          4.738057\n",
       "min          0.000000\n",
       "25%          0.000000\n",
       "50%          0.000000\n",
       "75%          0.000000\n",
       "max        223.000000\n",
       "Name: days_in_waiting_list, dtype: float64"
      ]
     },
     "execution_count": 22,
     "metadata": {},
     "output_type": "execute_result"
    },
    {
     "data": {
      "image/png": "[encoded data removed]",
      "text/plain": [
       "<Figure size 432x288 with 1 Axes>"
      ]
     },
     "metadata": {
      "needs_background": "light"
     },
     "output_type": "display_data"
    }
   ],
   "source": [
    "print('Показатели days_in_waiting_list для тестовой выборки')\n",
    "df_test.boxplot(column = 'days_in_waiting_list')\n",
    "df_test['days_in_waiting_list'].describe()"
   ]
  },
  {
   "cell_type": "markdown",
   "metadata": {},
   "source": [
    "75% заказов ожидали подтверждения 0 дней. тюею сразу были подтвеждены, но так же есть некоторые случаи длительного ожидания, вплоть от 150 до 259 дней. Отбросим такие объекты.\n"
   ]
  },
  {
   "cell_type": "code",
   "execution_count": 23,
   "metadata": {},
   "outputs": [],
   "source": [
    "df_train = df_train.query('days_in_waiting_list < 150')\n",
    "df_test = df_test.query('days_in_waiting_list < 150')"
   ]
  },
  {
   "cell_type": "markdown",
   "metadata": {},
   "source": [
    "Анализ прочих численных признаков"
   ]
  },
  {
   "cell_type": "code",
   "execution_count": 24,
   "metadata": {},
   "outputs": [
    {
     "name": "stdout",
     "output_type": "stream",
     "text": [
      "Данные для тренировочной выборки\n",
      "********************************************\n",
      "[ 1  2  3  4  6  7  5  8 10  9]\n",
      "[1 2 3 4]\n",
      "[0 1 2 3]\n",
      "[ 0  1  2 10  9]\n"
     ]
    }
   ],
   "source": [
    "#Рассмотрим какие варианты количества ночей, взрослых, детей и младенцев встречаеются в наших данных\n",
    "print('Данные для тренировочной выборки')\n",
    "print('********************************************')\n",
    "for col in ['total_nights', 'adults', 'children', 'babies']:\n",
    "    print(df_train[col].unique())"
   ]
  },
  {
   "cell_type": "markdown",
   "metadata": {},
   "source": [
    "Вопросики только к столбцу babies, количество младенцев в некоторых заказах 9 и 10. Возможно клиенты просто ошиблись при заполнении формы, исключим заказы с таким значениями."
   ]
  },
  {
   "cell_type": "code",
   "execution_count": 25,
   "metadata": {},
   "outputs": [],
   "source": [
    "df_train = df_train.query('babies <= 2')"
   ]
  },
  {
   "cell_type": "code",
   "execution_count": 26,
   "metadata": {},
   "outputs": [
    {
     "name": "stdout",
     "output_type": "stream",
     "text": [
      "Данные для тестовой выборки\n",
      "********************************************\n",
      "[ 1  4  7  2  5  6  3  8  9 10]\n",
      "[2 1 3 4]\n",
      "[0 2 1 3]\n",
      "[0 1 2]\n"
     ]
    }
   ],
   "source": [
    "print('Данные для тестовой выборки')\n",
    "print('********************************************')\n",
    "for col in ['total_nights', 'adults', 'children', 'babies']:\n",
    "    print(df_test[col].unique())"
   ]
  },
  {
   "cell_type": "markdown",
   "metadata": {},
   "source": [
    "Тут все в пределах нормы."
   ]
  },
  {
   "cell_type": "markdown",
   "metadata": {},
   "source": [
    "### Анализ заказов\n",
    "\n",
    "Рассмотрим распределение заказов по различным  признакам, "
   ]
  },
  {
   "cell_type": "code",
   "execution_count": 27,
   "metadata": {
    "scrolled": true
   },
   "outputs": [
    {
     "name": "stdout",
     "output_type": "stream",
     "text": [
      "<class 'pandas.core.frame.DataFrame'>\n",
      "Int64Index: 97097 entries, 0 to 32411\n",
      "Data columns (total 25 columns):\n",
      " #   Column                          Non-Null Count  Dtype \n",
      "---  ------                          --------------  ----- \n",
      " 0   id                              97097 non-null  int64 \n",
      " 1   is_canceled                     97097 non-null  int64 \n",
      " 2   lead_time                       97097 non-null  int64 \n",
      " 3   arrival_date_year               97097 non-null  int64 \n",
      " 4   arrival_date_month              97097 non-null  int64 \n",
      " 5   arrival_date_week_number        97097 non-null  int64 \n",
      " 6   arrival_date_day_of_month       97097 non-null  int64 \n",
      " 7   stays_in_weekend_nights         97097 non-null  int64 \n",
      " 8   stays_in_week_nights            97097 non-null  int64 \n",
      " 9   adults                          97097 non-null  int64 \n",
      " 10  children                        97097 non-null  int64 \n",
      " 11  babies                          97097 non-null  int64 \n",
      " 12  meal                            97097 non-null  object\n",
      " 13  country                         97097 non-null  object\n",
      " 14  distribution_channel            97097 non-null  object\n",
      " 15  is_repeated_guest               97097 non-null  int64 \n",
      " 16  previous_cancellations          97097 non-null  int64 \n",
      " 17  previous_bookings_not_canceled  97097 non-null  int64 \n",
      " 18  reserved_room_type              97097 non-null  object\n",
      " 19  booking_changes                 97097 non-null  int64 \n",
      " 20  days_in_waiting_list            97097 non-null  int64 \n",
      " 21  customer_type                   97097 non-null  object\n",
      " 22  required_car_parking_spaces     97097 non-null  int64 \n",
      " 23  total_of_special_requests       97097 non-null  int64 \n",
      " 24  total_nights                    97097 non-null  int64 \n",
      "dtypes: int64(20), object(5)\n",
      "memory usage: 19.3+ MB\n"
     ]
    }
   ],
   "source": [
    "#соединим 2 выборки в 1 датафрейм\n",
    "df = pd.concat([df_train, df_test])\n",
    "df.info()"
   ]
  },
  {
   "cell_type": "code",
   "execution_count": 28,
   "metadata": {
    "scrolled": true
   },
   "outputs": [
    {
     "data": {
      "image/png": "[encoded data removed]",
      "text/plain": [
       "<Figure size 432x288 with 1 Axes>"
      ]
     },
     "metadata": {
      "needs_background": "light"
     },
     "output_type": "display_data"
    },
    {
     "data": {
      "image/png": "[encoded data removed]",
      "text/plain": [
       "<Figure size 432x288 with 1 Axes>"
      ]
     },
     "metadata": {
      "needs_background": "light"
     },
     "output_type": "display_data"
    },
    {
     "data": {
      "image/png": "[encoded data removed]",
      "text/plain": [
       "<Figure size 432x288 with 1 Axes>"
      ]
     },
     "metadata": {
      "needs_background": "light"
     },
     "output_type": "display_data"
    },
    {
     "data": {
      "image/png": "[encoded data removed]",
      "text/plain": [
       "<Figure size 432x288 with 1 Axes>"
      ]
     },
     "metadata": {
      "needs_background": "light"
     },
     "output_type": "display_data"
    },
    {
     "data": {
      "image/png": "[encoded data removed]",
      "text/plain": [
       "<Figure size 432x288 with 1 Axes>"
      ]
     },
     "metadata": {
      "needs_background": "light"
     },
     "output_type": "display_data"
    }
   ],
   "source": [
    "\n",
    "for col in ['meal', 'distribution_channel', 'customer_type', 'total_nights']:\n",
    "    sns.countplot(data=df, x=col, hue='is_canceled');\n",
    "    plt.show()\n",
    "    \n",
    "\n",
    "top_countries = df['country'].value_counts().head(10).index.tolist()\n",
    "sns.countplot(data=df.query('country in @top_countries') , x='country', hue='is_canceled')\n",
    "plt.show()"
   ]
  },
  {
   "cell_type": "markdown",
   "metadata": {},
   "source": [
    "Из данных графиков видно:\n",
    "- Чаще прочих делают заказы с включенным завтраком. На втором месте, но в 3 раза реже встречается заказ без дополнительных опций. Самый непопулярный вариант это \"включён завтрак, обед и ужин\". Соотношение исполненных заказов пропорционально отмененным.\n",
    "\n",
    "- Чаще всего заказы поступают через TA/TO. Самый непопулярный канал дистрируции \"GDS\". Соотношение исполненных заказов пропорционально отмененным.\n",
    "\n",
    "- Самый популярное количество ночей для заказа 1-4, Заказы включающие 3 ночи, чаще других отменяются. Реже всего снимают номер на 8-10 ночей.\n",
    "\n",
    "- Топ 3 по количеству заказов Португалия, Германия и Франция. Португальцы так же и самые непостоянные, отменяют заказы чаще, чем приезжают.\n"
   ]
  },
  {
   "cell_type": "markdown",
   "metadata": {},
   "source": [
    "### Промежуточный вывод\n",
    "\n",
    "- На данном этапе работы мы проверили данные на корректность форматов, исправили где необходимо:\n",
    "    - Поменяли тип на целочисленный, в столбцах с указанием количества гостей, детей, младенцев. А так же в графе с информацией о количестве дней между бронированием и заездом.\n",
    "    - Для удобства дальнейшей работы изменили название месяцев на номера.\n",
    "- Изучили период времени за который представлены данные\n",
    "    - в тренировочных данных содержится информация о 65 228 заказах сделанных в период июль 2015 - декабрь 2016.\n",
    "    - в тестовых информация о заказах с январь по июль 2017-го.\n",
    "- Данные проверены на наличие пропусков и дубликатов, явных и неявных. Оных не обнаружено.\n",
    "\n",
    "- Заказы проверены на выбросы:\n",
    "\n",
    "     - Исключены заказы длительность подтверждения которых больше 150 дней.\n",
    "     - Исключены заказы в которых количество младенцев 9 и 10.\n",
    "     - Так же исключены заказы в которых нет ни одного взрослого.\n",
    "\n",
    "- Проведен анализ составлен график заказов по таким признакам как страна, длительность заезда, канал дистрибуции и какие дополнительно заказанным опциям.\n",
    "\n",
    "    - Чаще прочих делают заказы с включенным завтраком. На втором месте, но в 3 раза реже встречается заказ без дополнительных опций. Самый непопулярный вариант это \"включён завтрак, обед и ужин\". Соотношение исполненных заказов пропорционально отмененным.\n",
    "\n",
    "    - Чаще всего заказы поступают через TA/TO. Самый непопулярный канал дистрируции \"GDS\". Соотношение исполненных заказов пропорционально отмененным.\n",
    "\n",
    "    - Самый популярное количество ночей для заказа 1-4, Заказы включающие 3 ночи, чаще других отменяются. Реже всего снимают номер на 8-10 ночей.   \n",
    "\n",
    "    - Топ 3 по количеству заказов Португалия, Германия и Франция. Португальцы так же и самые непостоянные, отменяют заказы чаще, чем приезжают.\n"
   ]
  },
  {
   "cell_type": "markdown",
   "metadata": {},
   "source": [
    "<div class=\"alert alert-danger\">\n",
    "<h2>Комментарий ревьюера<a class=\"tocSkip\"></a></h2>\n",
    "\n",
    "**Нужно доработать** ❌: обязательная часть любого исследовательского анализа — это визуализация и описанные в выводах наблюдения, тут полезно будет поизучать, например, следующее:\n",
    "1. Доля клиентов по странам, типу заказчика, питанию, категориям номеров и т.д.\n",
    "2. Соотношение ушедших/неушедших клиентов по всем признакам. Для этого можно использовать <a href=\"https://seaborn.pydata.org/generated/seaborn.histplot.html\" target=\"blank_\">seaborn.histplot</a> и <a href=\"https://seaborn.pydata.org/generated/seaborn.countplot.html\">seaborn.countplot</a>\n",
    "3. Диаграммы размаха по численным признакам(<a href=\"https://seaborn.pydata.org/generated/seaborn.boxplot.html\" target=\"blank_\">seaborn.boxplot</a>)\n",
    "4. Матрица корреляций(а тут поможет <a href=\"https://seaborn.pydata.org/generated/seaborn.heatmap.html\" target=\"blank_\">seaborn.heatmap</a>)\n",
    "    \n",
    "Нужно построить хотя бы часть из них, это важная часть проекта\n",
    "</div>"
   ]
  },
  {
   "cell_type": "markdown",
   "metadata": {},
   "source": [
    "    \n",
    "<div class=\"alert alert-info\">\n",
    "    <b>Комментарий студента:</b> Добавила\n",
    "</div>"
   ]
  },
  {
   "cell_type": "markdown",
   "metadata": {},
   "source": [
    "<div class=\"alert alert-warning\">\n",
    "<h2>Комментарий ревьюера<a class=\"tocSkip\"></a></h2>\n",
    "    \n",
    "**Есть совет** ⚠️: еще здесь можно больше времени уделить предобработке, начать можно со следующего:\n",
    "1. Лучше внимательнее изучить каждый признак на предмет выбросов: например, 10 младенцев в бронировании  — явные аномалии, которые стоит обработать;\n",
    "2. Также можно проверить данные на адекватность: например, детям до 14 лет без взрослых номер сдать не могут, так что если такие записи есть — их лучше удалить;\n",
    "3. Судя по описанию, `total_nights` — это сумма `stays_in_week_nights` и `stays_in_weekend_nights`, если это и правда так, то все три признака нам не нужны, некоторые стоит удалить</div>"
   ]
  },
  {
   "cell_type": "markdown",
   "metadata": {},
   "source": [
    "    \n",
    "<div class=\"alert alert-info\">\n",
    "    <b>Комментарий студента:</b> Исключила сомнительные заказы. Столбцы которые ты указал действительно взимозаменяемы, но я не хочу их удалять, так как на мой взгляд они несут разную смысловую нагрузку\n",
    "</div>"
   ]
  },
  {
   "cell_type": "markdown",
   "metadata": {},
   "source": [
    "## Анализ прибыли\n",
    "\n",
    "Основная бизнес-метрика для любой сети отелей — её прибыль. Прибыль отеля — это разница между стоимостью номера за все ночи и затраты на обслуживание: как при подготовке номера, так и при проживании постояльца. \n",
    "\n",
    " В отеле есть несколько типов номеров. В зависимости от типа номера назначается стоимость за одну ночь. Есть также затраты на уборку. Если клиент снял номер надолго, то убираются каждые два дня. \n",
    "\n",
    "Стоимость номеров отеля:\n",
    "\n",
    "* категория A: за ночь — 1 000, разовое обслуживание — 400;\n",
    "* категория B: за ночь — 800, разовое обслуживание — 350;\n",
    "* категория C: за ночь — 600, разовое обслуживание — 350;\n",
    "* категория D: за ночь — 550, разовое обслуживание — 150;\n",
    "* категория E: за ночь — 500, разовое обслуживание — 150;\n",
    "* категория F: за ночь — 450, разовое обслуживание — 150;\n",
    "* категория G: за ночь — 350, разовое обслуживание — 150.\n",
    "\n",
    "\n",
    "В ценовой политике отеля используются сезонные коэффициенты: весной и осенью цены повышаются на 20%, летом — на 40%.\n",
    "\n",
    "Убытки отеля в случае отмены брони номера — это стоимость одной уборки и одной ночи с учётом сезонного коэффициента.\n",
    "\n",
    "Напишем формулу для расчеты прибыли по каждому заказу."
   ]
  },
  {
   "cell_type": "code",
   "execution_count": 29,
   "metadata": {
    "scrolled": false
   },
   "outputs": [
    {
     "name": "stdout",
     "output_type": "stream",
     "text": [
      "Уникальные значения в тренировочной выборке\n",
      "********************************************\n",
      "['A               ' 'C               ' 'D               '\n",
      " 'E               ' 'G               ' 'F               '\n",
      " 'B               ']\n",
      "['Transient' 'Contract' 'Transient-Party' 'Group']\n",
      "['Direct' 'TA/TO' 'Corporate' 'GDS']\n",
      "['BB       ' 'FB       ' 'HB       ' 'SC       ' 'SC']\n",
      "\n",
      "Уникальные значения в тестовой выборке\n",
      "********************************************\n",
      "['A               ' 'E               ' 'G               '\n",
      " 'D               ' 'F               ' 'C               '\n",
      " 'B               ']\n",
      "['Transient' 'Transient-Party' 'Contract' 'Group']\n",
      "['TA/TO' 'Direct' 'Corporate' 'GDS']\n",
      "['BB       ' 'HB       ' 'SC' 'FB       ' 'SC       ']\n"
     ]
    }
   ],
   "source": [
    "#Изучим значения в ячейке которая будет опрелять стоимость услуг\n",
    "print('Уникальные значения в тренировочной выборке')\n",
    "print('********************************************')\n",
    "for col in ['reserved_room_type', 'customer_type', 'distribution_channel', 'meal']:\n",
    "    print(df_train[col].unique())\n",
    "\n",
    "print()    \n",
    "print('Уникальные значения в тестовой выборке')\n",
    "print('********************************************')\n",
    "for col in ['reserved_room_type', 'customer_type', 'distribution_channel', 'meal']:\n",
    "    print(df_test[col].unique())"
   ]
  },
  {
   "cell_type": "markdown",
   "metadata": {},
   "source": [
    "Значения в столбцах указаны некорректно 'meal' и 'reserved_room_type', слишком много пробелов, удалим их и проверим снова"
   ]
  },
  {
   "cell_type": "code",
   "execution_count": 30,
   "metadata": {},
   "outputs": [
    {
     "name": "stdout",
     "output_type": "stream",
     "text": [
      "Уникальные значения в тренировочной выборке\n",
      "********************************************\n",
      "['A' 'C' 'D' 'E' 'G' 'F' 'B']\n",
      "['BB' 'FB' 'HB' 'SC']\n",
      "\n",
      "Уникальные значения в тестовой выборке\n",
      "********************************************\n",
      "['A' 'E' 'G' 'D' 'F' 'C' 'B']\n",
      "['BB' 'HB' 'SC' 'FB']\n"
     ]
    }
   ],
   "source": [
    "for df in [df_train, df_test]:\n",
    "    for c in ['reserved_room_type', 'meal']:\n",
    "        df[c] = df[c].str.replace(' ', '') \n",
    "        df[c] = df[c].str.strip()\n",
    "\n",
    "#Проверяем\n",
    "print('Уникальные значения в тренировочной выборке')\n",
    "print('********************************************')\n",
    "for col in ['reserved_room_type', 'meal']:\n",
    "    print(df_train[col].unique())\n",
    "\n",
    "print()    \n",
    "print('Уникальные значения в тестовой выборке')\n",
    "print('********************************************')\n",
    "for col in ['reserved_room_type', 'meal']:\n",
    "    print(df_test[col].unique())"
   ]
  },
  {
   "cell_type": "markdown",
   "metadata": {},
   "source": [
    "<div class=\"alert alert-success\">\n",
    "<h2>Комментарий ревьюера<a class=\"tocSkip\"></a></h2>\n",
    "    \n",
    "**Отлично!** ✔️: хорошо, что заметила лишние пробелы!</div>"
   ]
  },
  {
   "cell_type": "markdown",
   "metadata": {},
   "source": [
    "<div class=\"alert alert-warning\">\n",
    "<h2>Комментарий ревьюера<a class=\"tocSkip\"></a></h2>\n",
    "    \n",
    "**Есть совет** ⚠️: но стоит проверить и остальные категориальыне признаки на предмет лишних пробелов и неявных дубликатов</div>"
   ]
  },
  {
   "cell_type": "markdown",
   "metadata": {},
   "source": [
    "    \n",
    "<div class=\"alert alert-info\">\n",
    "    <b>Комментарий студента:</b> Done)\n",
    "</div>"
   ]
  },
  {
   "cell_type": "code",
   "execution_count": 31,
   "metadata": {
    "scrolled": false
   },
   "outputs": [
    {
     "data": {
      "text/html": [
       "<div>\n",
       "<style scoped>\n",
       "    .dataframe tbody tr th:only-of-type {\n",
       "        vertical-align: middle;\n",
       "    }\n",
       "\n",
       "    .dataframe tbody tr th {\n",
       "        vertical-align: top;\n",
       "    }\n",
       "\n",
       "    .dataframe thead th {\n",
       "        text-align: right;\n",
       "    }\n",
       "</style>\n",
       "<table border=\"1\" class=\"dataframe\">\n",
       "  <thead>\n",
       "    <tr style=\"text-align: right;\">\n",
       "      <th></th>\n",
       "      <th>id</th>\n",
       "      <th>is_canceled</th>\n",
       "      <th>lead_time</th>\n",
       "      <th>arrival_date_year</th>\n",
       "      <th>arrival_date_month</th>\n",
       "      <th>arrival_date_week_number</th>\n",
       "      <th>arrival_date_day_of_month</th>\n",
       "      <th>stays_in_weekend_nights</th>\n",
       "      <th>stays_in_week_nights</th>\n",
       "      <th>adults</th>\n",
       "      <th>...</th>\n",
       "      <th>previous_cancellations</th>\n",
       "      <th>previous_bookings_not_canceled</th>\n",
       "      <th>reserved_room_type</th>\n",
       "      <th>booking_changes</th>\n",
       "      <th>days_in_waiting_list</th>\n",
       "      <th>customer_type</th>\n",
       "      <th>required_car_parking_spaces</th>\n",
       "      <th>total_of_special_requests</th>\n",
       "      <th>total_nights</th>\n",
       "      <th>profit</th>\n",
       "    </tr>\n",
       "  </thead>\n",
       "  <tbody>\n",
       "    <tr>\n",
       "      <th>0</th>\n",
       "      <td>0</td>\n",
       "      <td>0</td>\n",
       "      <td>7</td>\n",
       "      <td>2015</td>\n",
       "      <td>7</td>\n",
       "      <td>27</td>\n",
       "      <td>1</td>\n",
       "      <td>0</td>\n",
       "      <td>1</td>\n",
       "      <td>1</td>\n",
       "      <td>...</td>\n",
       "      <td>0</td>\n",
       "      <td>0</td>\n",
       "      <td>A</td>\n",
       "      <td>0</td>\n",
       "      <td>0</td>\n",
       "      <td>Transient</td>\n",
       "      <td>0</td>\n",
       "      <td>0</td>\n",
       "      <td>1</td>\n",
       "      <td>1000.0</td>\n",
       "    </tr>\n",
       "    <tr>\n",
       "      <th>1</th>\n",
       "      <td>1</td>\n",
       "      <td>0</td>\n",
       "      <td>14</td>\n",
       "      <td>2015</td>\n",
       "      <td>7</td>\n",
       "      <td>27</td>\n",
       "      <td>1</td>\n",
       "      <td>0</td>\n",
       "      <td>2</td>\n",
       "      <td>2</td>\n",
       "      <td>...</td>\n",
       "      <td>0</td>\n",
       "      <td>0</td>\n",
       "      <td>A</td>\n",
       "      <td>0</td>\n",
       "      <td>0</td>\n",
       "      <td>Transient</td>\n",
       "      <td>0</td>\n",
       "      <td>1</td>\n",
       "      <td>2</td>\n",
       "      <td>2000.0</td>\n",
       "    </tr>\n",
       "    <tr>\n",
       "      <th>2</th>\n",
       "      <td>2</td>\n",
       "      <td>0</td>\n",
       "      <td>0</td>\n",
       "      <td>2015</td>\n",
       "      <td>7</td>\n",
       "      <td>27</td>\n",
       "      <td>1</td>\n",
       "      <td>0</td>\n",
       "      <td>2</td>\n",
       "      <td>2</td>\n",
       "      <td>...</td>\n",
       "      <td>0</td>\n",
       "      <td>0</td>\n",
       "      <td>C</td>\n",
       "      <td>0</td>\n",
       "      <td>0</td>\n",
       "      <td>Transient</td>\n",
       "      <td>0</td>\n",
       "      <td>0</td>\n",
       "      <td>2</td>\n",
       "      <td>980.0</td>\n",
       "    </tr>\n",
       "    <tr>\n",
       "      <th>3</th>\n",
       "      <td>3</td>\n",
       "      <td>0</td>\n",
       "      <td>9</td>\n",
       "      <td>2015</td>\n",
       "      <td>7</td>\n",
       "      <td>27</td>\n",
       "      <td>1</td>\n",
       "      <td>0</td>\n",
       "      <td>2</td>\n",
       "      <td>2</td>\n",
       "      <td>...</td>\n",
       "      <td>0</td>\n",
       "      <td>0</td>\n",
       "      <td>C</td>\n",
       "      <td>0</td>\n",
       "      <td>0</td>\n",
       "      <td>Transient</td>\n",
       "      <td>0</td>\n",
       "      <td>1</td>\n",
       "      <td>2</td>\n",
       "      <td>980.0</td>\n",
       "    </tr>\n",
       "    <tr>\n",
       "      <th>4</th>\n",
       "      <td>4</td>\n",
       "      <td>1</td>\n",
       "      <td>85</td>\n",
       "      <td>2015</td>\n",
       "      <td>7</td>\n",
       "      <td>27</td>\n",
       "      <td>1</td>\n",
       "      <td>0</td>\n",
       "      <td>3</td>\n",
       "      <td>2</td>\n",
       "      <td>...</td>\n",
       "      <td>0</td>\n",
       "      <td>0</td>\n",
       "      <td>A</td>\n",
       "      <td>0</td>\n",
       "      <td>0</td>\n",
       "      <td>Transient</td>\n",
       "      <td>0</td>\n",
       "      <td>1</td>\n",
       "      <td>3</td>\n",
       "      <td>-1800.0</td>\n",
       "    </tr>\n",
       "  </tbody>\n",
       "</table>\n",
       "<p>5 rows × 26 columns</p>\n",
       "</div>"
      ],
      "text/plain": [
       "   id  is_canceled  lead_time  arrival_date_year  arrival_date_month  \\\n",
       "0   0            0          7               2015                   7   \n",
       "1   1            0         14               2015                   7   \n",
       "2   2            0          0               2015                   7   \n",
       "3   3            0          9               2015                   7   \n",
       "4   4            1         85               2015                   7   \n",
       "\n",
       "   arrival_date_week_number  arrival_date_day_of_month  \\\n",
       "0                        27                          1   \n",
       "1                        27                          1   \n",
       "2                        27                          1   \n",
       "3                        27                          1   \n",
       "4                        27                          1   \n",
       "\n",
       "   stays_in_weekend_nights  stays_in_week_nights  adults  ...  \\\n",
       "0                        0                     1       1  ...   \n",
       "1                        0                     2       2  ...   \n",
       "2                        0                     2       2  ...   \n",
       "3                        0                     2       2  ...   \n",
       "4                        0                     3       2  ...   \n",
       "\n",
       "   previous_cancellations  previous_bookings_not_canceled reserved_room_type  \\\n",
       "0                       0                               0                  A   \n",
       "1                       0                               0                  A   \n",
       "2                       0                               0                  C   \n",
       "3                       0                               0                  C   \n",
       "4                       0                               0                  A   \n",
       "\n",
       "  booking_changes days_in_waiting_list  customer_type  \\\n",
       "0               0                    0      Transient   \n",
       "1               0                    0      Transient   \n",
       "2               0                    0      Transient   \n",
       "3               0                    0      Transient   \n",
       "4               0                    0      Transient   \n",
       "\n",
       "   required_car_parking_spaces  total_of_special_requests total_nights  profit  \n",
       "0                            0                          0            1  1000.0  \n",
       "1                            0                          1            2  2000.0  \n",
       "2                            0                          0            2   980.0  \n",
       "3                            0                          1            2   980.0  \n",
       "4                            0                          1            3 -1800.0  \n",
       "\n",
       "[5 rows x 26 columns]"
      ]
     },
     "execution_count": 31,
     "metadata": {},
     "output_type": "execute_result"
    }
   ],
   "source": [
    "\n",
    "#Определим добавочные коэффициенты к стоимости в зависимости от сезона\n",
    "season_low = [1, 2, 12]\n",
    "season_mid = [3, 4, 5, 9, 10, 11]  \n",
    "season_high = [6, 7, 8]\n",
    "\n",
    "#Напишем функцию которая расчитает прибыль/убыток для каждого заказа\n",
    "def revenue(row):\n",
    "    #Дадим расшифровку к стоимости в зависимости от категории номера\n",
    "    if row['reserved_room_type'] == 'A':\n",
    "        price =  1000\n",
    "        service = 400\n",
    "    elif row['reserved_room_type'] == 'B':\n",
    "        price =  800\n",
    "        service = 350\n",
    "    elif row['reserved_room_type'] == 'C':\n",
    "        price =  600\n",
    "        service = 350\n",
    "    elif row['reserved_room_type'] == 'D':\n",
    "        price =  550\n",
    "        service = 150\n",
    "    elif row['reserved_room_type'] == 'E':\n",
    "        price =  500\n",
    "        service = 150\n",
    "    elif row['reserved_room_type'] == 'F':\n",
    "        price =  450\n",
    "        service = 150\n",
    "    else:\n",
    "        price =  350\n",
    "        service = 150\n",
    "    #Определим сезон и коэффициент\n",
    "    if row['arrival_date_month'] in season_low:\n",
    "        coefficient = 1\n",
    "    elif row['arrival_date_month'] in season_mid:\n",
    "        coefficient = 1.2\n",
    "    elif row['arrival_date_month'] in season_high:\n",
    "        coefficient = 1.4\n",
    "   #Рассчитаем прибыль\n",
    "    if row['is_canceled'] == 1:\n",
    "        return -(price * coefficient + service)\n",
    "    else:\n",
    "        return price *  coefficient * row['total_nights'] - ((1 + row['total_nights'] // 2) * service)\n",
    "#Создадим новый столец с учетом стоимости заказа для хозяев отеля    \n",
    "df_train['profit'] = df_train.apply(revenue, axis=1)\n",
    "df_test['profit'] = df_test.apply(revenue, axis=1)  \n",
    "#Посмотрим насколько корректно работает наша фунция \n",
    "df_train.head()"
   ]
  },
  {
   "cell_type": "markdown",
   "metadata": {},
   "source": [
    "Функция работает корректно"
   ]
  },
  {
   "cell_type": "markdown",
   "metadata": {},
   "source": [
    "<div class=\"alert alert-success\">\n",
    "<h2>Комментарий ревьюера<a class=\"tocSkip\"></a></h2>\n",
    "    \n",
    "**Отлично!** ✔️: формула для расчета прибыли до внедрения модели составлена верно!</div>"
   ]
  },
  {
   "cell_type": "markdown",
   "metadata": {},
   "source": [
    "<div class=\"alert alert-warning\">\n",
    "<h2>Комментарий ревьюера<a class=\"tocSkip\"></a></h2>\n",
    "    \n",
    "**Есть совет** ⚠️: но при бронировании номера на одну ночь в номере проведут только одну уборку перед заселением, дополнительно уборка не потребуется\n",
    "    \n",
    "Тогда, для того, чтобы рассчитать количество уборок для любого количества ночей можно использовать формулу `1 + total_nights // 2`. Получается следующее:\n",
    "    \n",
    "1 ночь, дополнительная уборка не требуется, кроме уборки перед заселением, 1 + 1 // 2 = 1\n",
    "    \n",
    "2 ночи, убираться будут днем после первой ночи и перед заселением, 1 + 2 // 2 = 2\n",
    "    \n",
    "3 ночи, убираться будут днем после первой ночи и перед заселением, 1 + 3 // 2 = 2\n",
    "    \n",
    "4 ночи, убираться будут днем после первой ночи, днём после третьей ночи и перед заселением, 1 + 4 // 2 = 3 и т.д.</div>"
   ]
  },
  {
   "cell_type": "markdown",
   "metadata": {},
   "source": [
    "    \n",
    "<div class=\"alert alert-info\">\n",
    "    <b>Комментарий студента:</b> Хмм, ты прав. Я подумала, что после выселения тоже нужно доп.уборка, но в условии же про нее не было, спасибо) Поправила\n",
    "</div>"
   ]
  },
  {
   "cell_type": "markdown",
   "metadata": {},
   "source": [
    "### 2015-й год"
   ]
  },
  {
   "cell_type": "markdown",
   "metadata": {},
   "source": [
    "Рассмотрим показатели количества и приыбли заяввок по годам."
   ]
  },
  {
   "cell_type": "code",
   "execution_count": 32,
   "metadata": {},
   "outputs": [
    {
     "data": {
      "image/png": "[encoded data removed]",
      "text/plain": [
       "<Figure size 432x288 with 1 Axes>"
      ]
     },
     "metadata": {
      "needs_background": "light"
     },
     "output_type": "display_data"
    },
    {
     "data": {
      "image/png": "[encoded data removed]",
      "text/plain": [
       "<Figure size 432x288 with 1 Axes>"
      ]
     },
     "metadata": {
      "needs_background": "light"
     },
     "output_type": "display_data"
    }
   ],
   "source": [
    "#Создадим график в котором отразим количество заявок по месяцам\n",
    "year_2015 = df_train.query('arrival_date_year == 2015').pivot_table(index='arrival_date_month', \n",
    "                                                                    columns='is_canceled', \n",
    "                                                                    values='profit', \n",
    "                                                                    aggfunc='count')\n",
    "year_2015.columns = ['исполненные', 'отмененные']\n",
    "year_2015.plot(kind='bar', \n",
    "               stacked=True,\n",
    "               title='Количество заявок за 2015 год',\n",
    "               ylabel = 'штук',\n",
    "               xlabel = 'месяц')\n",
    "plt.show()\n",
    "\n",
    "#Создадим график в котором отразим выручку убыток от заказов по месяцам\n",
    "year_2015 = df_train.query('arrival_date_year == 2015').pivot_table(index='arrival_date_month', columns='is_canceled', values='profit', aggfunc='sum')\n",
    "year_2015.columns = ['прибыль', 'убыток']\n",
    "year_2015.plot(kind='bar', \n",
    "               title='Выручка/убыток по месяцам за 2015-год',\n",
    "               ylabel = 'млн.рублей',\n",
    "               xlabel = 'месяц')\n",
    "plt.show()"
   ]
  },
  {
   "cell_type": "code",
   "execution_count": 33,
   "metadata": {},
   "outputs": [],
   "source": [
    "#Создадим на основе нашего датафрейма сводную таблицу в которой отобразим информацию по \n",
    "#отмененным и исполненным заказам\n",
    "total_2015 = df_train.query('arrival_date_year == 2015').pivot_table(index='arrival_date_month',\n",
    "                                                                     columns='is_canceled',\n",
    "                                                                     values='profit',\n",
    "                                                                     aggfunc=['sum', 'count'])\n",
    "total_2015 = total_2015.droplevel(1, axis=1).reset_index()\n",
    "\n",
    "total_2015.columns = ['месяц заезда', 'доход от исполненных заказов', \n",
    "                      'убыток от отмененных заказов', 'количество исполненных заказов',\n",
    "                      'количество отмененных закaзов']\n",
    "\n",
    "total_2015['всего заказов'] = total_2015['количество исполненных заказов'] + total_2015['количество отмененных закaзов']\n",
    "\n",
    "total_2015['прибыль с вычетом убытков'] = total_2015['доход от исполненных заказов'] + total_2015['убыток от отмененных заказов']\n",
    "\n",
    "total_2015['доля отмененных заказов'] = round(total_2015['количество отмененных закaзов'] / \n",
    "                                              (total_2015['количество отмененных закaзов'] + \n",
    "                                               total_2015['количество исполненных заказов']) * 100, 2)\n",
    "X_2015 = {'месяц заезда':'Итого', \n",
    "         'доход от исполненных заказов': total_2015['доход от исполненных заказов'].sum(),\n",
    "         'убыток от отмененных заказов': total_2015['убыток от отмененных заказов'].sum(),\n",
    "         'количество исполненных заказов': total_2015['количество исполненных заказов'].sum(),\n",
    "         'количество отмененных закaзов': total_2015['количество отмененных закaзов'].sum(),\n",
    "         'всего заказов': total_2015['всего заказов'].sum(),\n",
    "         'прибыль с вычетом убытков': total_2015['прибыль с вычетом убытков'].sum(),\n",
    "         'доля отмененных заказов': round(total_2015['количество отмененных закaзов'].sum() / \n",
    "          (total_2015['количество отмененных закaзов'].sum() + total_2015['количество исполненных заказов'].sum()) * 100, 2),}\n",
    "total_2015 = total_2015.append(X_2015, ignore_index = True)"
   ]
  },
  {
   "cell_type": "code",
   "execution_count": 34,
   "metadata": {
    "scrolled": true
   },
   "outputs": [
    {
     "data": {
      "text/html": [
       "<div>\n",
       "<style scoped>\n",
       "    .dataframe tbody tr th:only-of-type {\n",
       "        vertical-align: middle;\n",
       "    }\n",
       "\n",
       "    .dataframe tbody tr th {\n",
       "        vertical-align: top;\n",
       "    }\n",
       "\n",
       "    .dataframe thead th {\n",
       "        text-align: right;\n",
       "    }\n",
       "</style>\n",
       "<table border=\"1\" class=\"dataframe\">\n",
       "  <thead>\n",
       "    <tr style=\"text-align: right;\">\n",
       "      <th></th>\n",
       "      <th>месяц заезда</th>\n",
       "      <th>доход от исполненных заказов</th>\n",
       "      <th>убыток от отмененных заказов</th>\n",
       "      <th>количество исполненных заказов</th>\n",
       "      <th>количество отмененных закaзов</th>\n",
       "      <th>всего заказов</th>\n",
       "      <th>прибыль с вычетом убытков</th>\n",
       "      <th>доля отмененных заказов</th>\n",
       "    </tr>\n",
       "  </thead>\n",
       "  <tbody>\n",
       "    <tr>\n",
       "      <th>0</th>\n",
       "      <td>7</td>\n",
       "      <td>3560840.0</td>\n",
       "      <td>-1947940.0</td>\n",
       "      <td>1055</td>\n",
       "      <td>1130</td>\n",
       "      <td>2185</td>\n",
       "      <td>1612900.0</td>\n",
       "      <td>51.72</td>\n",
       "    </tr>\n",
       "    <tr>\n",
       "      <th>1</th>\n",
       "      <td>8</td>\n",
       "      <td>5592910.0</td>\n",
       "      <td>-2452320.0</td>\n",
       "      <td>1710</td>\n",
       "      <td>1403</td>\n",
       "      <td>3113</td>\n",
       "      <td>3140590.0</td>\n",
       "      <td>45.07</td>\n",
       "    </tr>\n",
       "    <tr>\n",
       "      <th>2</th>\n",
       "      <td>9</td>\n",
       "      <td>6597090.0</td>\n",
       "      <td>-2969890.0</td>\n",
       "      <td>2533</td>\n",
       "      <td>1910</td>\n",
       "      <td>4443</td>\n",
       "      <td>3627200.0</td>\n",
       "      <td>42.99</td>\n",
       "    </tr>\n",
       "    <tr>\n",
       "      <th>3</th>\n",
       "      <td>10</td>\n",
       "      <td>6734690.0</td>\n",
       "      <td>-2366000.0</td>\n",
       "      <td>2767</td>\n",
       "      <td>1514</td>\n",
       "      <td>4281</td>\n",
       "      <td>4368690.0</td>\n",
       "      <td>35.37</td>\n",
       "    </tr>\n",
       "    <tr>\n",
       "      <th>4</th>\n",
       "      <td>11</td>\n",
       "      <td>3587900.0</td>\n",
       "      <td>-632310.0</td>\n",
       "      <td>1514</td>\n",
       "      <td>415</td>\n",
       "      <td>1929</td>\n",
       "      <td>2955590.0</td>\n",
       "      <td>21.51</td>\n",
       "    </tr>\n",
       "    <tr>\n",
       "      <th>5</th>\n",
       "      <td>12</td>\n",
       "      <td>2795050.0</td>\n",
       "      <td>-1067950.0</td>\n",
       "      <td>1547</td>\n",
       "      <td>816</td>\n",
       "      <td>2363</td>\n",
       "      <td>1727100.0</td>\n",
       "      <td>34.53</td>\n",
       "    </tr>\n",
       "    <tr>\n",
       "      <th>6</th>\n",
       "      <td>Итого</td>\n",
       "      <td>28868480.0</td>\n",
       "      <td>-11436410.0</td>\n",
       "      <td>11126</td>\n",
       "      <td>7188</td>\n",
       "      <td>18314</td>\n",
       "      <td>17432070.0</td>\n",
       "      <td>39.25</td>\n",
       "    </tr>\n",
       "  </tbody>\n",
       "</table>\n",
       "</div>"
      ],
      "text/plain": [
       "  месяц заезда  доход от исполненных заказов  убыток от отмененных заказов  \\\n",
       "0            7                     3560840.0                    -1947940.0   \n",
       "1            8                     5592910.0                    -2452320.0   \n",
       "2            9                     6597090.0                    -2969890.0   \n",
       "3           10                     6734690.0                    -2366000.0   \n",
       "4           11                     3587900.0                     -632310.0   \n",
       "5           12                     2795050.0                    -1067950.0   \n",
       "6        Итого                    28868480.0                   -11436410.0   \n",
       "\n",
       "   количество исполненных заказов  количество отмененных закaзов  \\\n",
       "0                            1055                           1130   \n",
       "1                            1710                           1403   \n",
       "2                            2533                           1910   \n",
       "3                            2767                           1514   \n",
       "4                            1514                            415   \n",
       "5                            1547                            816   \n",
       "6                           11126                           7188   \n",
       "\n",
       "   всего заказов  прибыль с вычетом убытков  доля отмененных заказов  \n",
       "0           2185                  1612900.0                    51.72  \n",
       "1           3113                  3140590.0                    45.07  \n",
       "2           4443                  3627200.0                    42.99  \n",
       "3           4281                  4368690.0                    35.37  \n",
       "4           1929                  2955590.0                    21.51  \n",
       "5           2363                  1727100.0                    34.53  \n",
       "6          18314                 17432070.0                    39.25  "
      ]
     },
     "execution_count": 34,
     "metadata": {},
     "output_type": "execute_result"
    }
   ],
   "source": [
    "total_2015"
   ]
  },
  {
   "cell_type": "markdown",
   "metadata": {},
   "source": [
    " **АНАЛИТИКА ПО 2015-му ГОДУ:**\n",
    "\n",
    "- За 2015-й год доход от исполненных заказов составил 28 868 480 руб, с вычетом убытков от отмененных заказов (а это 11 436 410 рублей) 17 432 070 .\n",
    "\n",
    "- Заказов за этот перод время было 18314, 39% из них, то есть 7188 были отменены\n",
    "\n",
    "- Самый прибыльный месяц с июля по декабрь - октябрь 4 368 690 руб\n",
    "\n",
    "- Самая маленькая прибыль обозначенного периода за декабрь 1 727 100 руб.\n"
   ]
  },
  {
   "cell_type": "markdown",
   "metadata": {},
   "source": [
    "### 2016-й год"
   ]
  },
  {
   "cell_type": "code",
   "execution_count": 35,
   "metadata": {
    "scrolled": true
   },
   "outputs": [
    {
     "data": {
      "image/png": "[encoded data removed]",
      "text/plain": [
       "<Figure size 432x288 with 1 Axes>"
      ]
     },
     "metadata": {
      "needs_background": "light"
     },
     "output_type": "display_data"
    },
    {
     "data": {
      "image/png": "[encoded data removed]",
      "text/plain": [
       "<Figure size 432x288 with 1 Axes>"
      ]
     },
     "metadata": {
      "needs_background": "light"
     },
     "output_type": "display_data"
    }
   ],
   "source": [
    "#Создадим график в котором отразим количество заявок по месяцам\n",
    "year_2016 = df_train.query('arrival_date_year == 2016').pivot_table(index='arrival_date_month',\n",
    "                                                                    columns='is_canceled', \n",
    "                                                                    values='profit', \n",
    "                                                                    aggfunc='count')\n",
    "year_2016.columns = ['исполненные', 'отмененные']\n",
    "year_2016.plot(kind='bar', \n",
    "               stacked=True,\n",
    "               title='Количество заявок за 2016 год',\n",
    "               ylabel = 'штук',\n",
    "               xlabel = 'месяц')\n",
    "plt.show()\n",
    "\n",
    "#Создадим график в котором отразим выручку убыток от заказов по месяцам\n",
    "year_2016 = df_train.query('arrival_date_year == 2016').pivot_table(index='arrival_date_month', columns='is_canceled', values='profit', aggfunc='sum')\n",
    "year_2016.columns = ['прибыль', 'убыток']\n",
    "year_2016.plot(kind='bar', \n",
    "               title='Выручка/убыток по месяцам за 2016-год',\n",
    "               ylabel = 'млн.рублей',\n",
    "               xlabel = 'месяц')\n",
    "plt.show()"
   ]
  },
  {
   "cell_type": "code",
   "execution_count": 36,
   "metadata": {},
   "outputs": [],
   "source": [
    "#Создадим на основе нашего датафрейма сводную таблицу в которой отобразим информацию по \n",
    "#отмененным и исполненным заказам\n",
    "total_2016 = df_train.query('arrival_date_year == 2016').pivot_table(index='arrival_date_month',\n",
    "                                                                     columns='is_canceled',\n",
    "                                                                     values='profit',\n",
    "                                                                     aggfunc=['sum', 'count'])\n",
    "total_2016 = total_2016.droplevel(1, axis=1).reset_index()\n",
    "\n",
    "total_2016.columns = ['месяц заезда', 'доход от исполненных заказов', \n",
    "                      'убыток от отмененных заказов', 'количество исполненных заказов',\n",
    "                      'количество отмененных закaзов']\n",
    "\n",
    "total_2016['всего заказов'] = total_2016['количество исполненных заказов'] + total_2016['количество отмененных закaзов']\n",
    "\n",
    "total_2016['прибыль с вычетом убытков'] = total_2016['доход от исполненных заказов'] + total_2016['убыток от отмененных заказов']\n",
    "\n",
    "total_2016['доля отмененных заказов'] = round(total_2016['количество отмененных закaзов'] / \n",
    "                                              (total_2016['количество отмененных закaзов'] + \n",
    "                                               total_2016['количество исполненных заказов']) * 100, 2)\n",
    "X_2016 = {'месяц заезда':'Итого', \n",
    "         'доход от исполненных заказов': total_2016['доход от исполненных заказов'].sum(),\n",
    "         'убыток от отмененных заказов': total_2016['убыток от отмененных заказов'].sum(),\n",
    "         'количество исполненных заказов': total_2016['количество исполненных заказов'].sum(),\n",
    "         'количество отмененных закaзов': total_2016['количество отмененных закaзов'].sum(),\n",
    "         'всего заказов': total_2016['всего заказов'].sum(),\n",
    "         'прибыль с вычетом убытков': total_2016['прибыль с вычетом убытков'].sum(),\n",
    "         'доля отмененных заказов': round(total_2016['количество отмененных закaзов'].sum() / \n",
    "          (total_2016['количество отмененных закaзов'].sum() + total_2016['количество исполненных заказов'].sum()) * 100, 2),}\n",
    "total_2016 = total_2016.append(X_2016, ignore_index = True)"
   ]
  },
  {
   "cell_type": "code",
   "execution_count": 37,
   "metadata": {},
   "outputs": [
    {
     "data": {
      "text/html": [
       "<div>\n",
       "<style scoped>\n",
       "    .dataframe tbody tr th:only-of-type {\n",
       "        vertical-align: middle;\n",
       "    }\n",
       "\n",
       "    .dataframe tbody tr th {\n",
       "        vertical-align: top;\n",
       "    }\n",
       "\n",
       "    .dataframe thead th {\n",
       "        text-align: right;\n",
       "    }\n",
       "</style>\n",
       "<table border=\"1\" class=\"dataframe\">\n",
       "  <thead>\n",
       "    <tr style=\"text-align: right;\">\n",
       "      <th></th>\n",
       "      <th>месяц заезда</th>\n",
       "      <th>доход от исполненных заказов</th>\n",
       "      <th>убыток от отмененных заказов</th>\n",
       "      <th>количество исполненных заказов</th>\n",
       "      <th>количество отмененных закaзов</th>\n",
       "      <th>всего заказов</th>\n",
       "      <th>прибыль с вычетом убытков</th>\n",
       "      <th>доля отмененных заказов</th>\n",
       "    </tr>\n",
       "  </thead>\n",
       "  <tbody>\n",
       "    <tr>\n",
       "      <th>0</th>\n",
       "      <td>1</td>\n",
       "      <td>2042100.0</td>\n",
       "      <td>-638000.0</td>\n",
       "      <td>1396</td>\n",
       "      <td>485</td>\n",
       "      <td>1881</td>\n",
       "      <td>1404100.0</td>\n",
       "      <td>25.78</td>\n",
       "    </tr>\n",
       "    <tr>\n",
       "      <th>1</th>\n",
       "      <td>2</td>\n",
       "      <td>3547650.0</td>\n",
       "      <td>-1564850.0</td>\n",
       "      <td>2165</td>\n",
       "      <td>1179</td>\n",
       "      <td>3344</td>\n",
       "      <td>1982800.0</td>\n",
       "      <td>35.26</td>\n",
       "    </tr>\n",
       "    <tr>\n",
       "      <th>2</th>\n",
       "      <td>3</td>\n",
       "      <td>6866140.0</td>\n",
       "      <td>-1826310.0</td>\n",
       "      <td>2866</td>\n",
       "      <td>1272</td>\n",
       "      <td>4138</td>\n",
       "      <td>5039830.0</td>\n",
       "      <td>30.74</td>\n",
       "    </tr>\n",
       "    <tr>\n",
       "      <th>3</th>\n",
       "      <td>4</td>\n",
       "      <td>6636390.0</td>\n",
       "      <td>-2598880.0</td>\n",
       "      <td>2865</td>\n",
       "      <td>1850</td>\n",
       "      <td>4715</td>\n",
       "      <td>4037510.0</td>\n",
       "      <td>39.24</td>\n",
       "    </tr>\n",
       "    <tr>\n",
       "      <th>4</th>\n",
       "      <td>5</td>\n",
       "      <td>6951080.0</td>\n",
       "      <td>-2292750.0</td>\n",
       "      <td>2920</td>\n",
       "      <td>1616</td>\n",
       "      <td>4536</td>\n",
       "      <td>4658330.0</td>\n",
       "      <td>35.63</td>\n",
       "    </tr>\n",
       "    <tr>\n",
       "      <th>5</th>\n",
       "      <td>6</td>\n",
       "      <td>7940690.0</td>\n",
       "      <td>-3200050.0</td>\n",
       "      <td>2722</td>\n",
       "      <td>1929</td>\n",
       "      <td>4651</td>\n",
       "      <td>4740640.0</td>\n",
       "      <td>41.47</td>\n",
       "    </tr>\n",
       "    <tr>\n",
       "      <th>6</th>\n",
       "      <td>7</td>\n",
       "      <td>7624360.0</td>\n",
       "      <td>-1674040.0</td>\n",
       "      <td>2430</td>\n",
       "      <td>1086</td>\n",
       "      <td>3516</td>\n",
       "      <td>5950320.0</td>\n",
       "      <td>30.89</td>\n",
       "    </tr>\n",
       "    <tr>\n",
       "      <th>7</th>\n",
       "      <td>8</td>\n",
       "      <td>7417830.0</td>\n",
       "      <td>-1813390.0</td>\n",
       "      <td>2348</td>\n",
       "      <td>1186</td>\n",
       "      <td>3534</td>\n",
       "      <td>5604440.0</td>\n",
       "      <td>33.56</td>\n",
       "    </tr>\n",
       "    <tr>\n",
       "      <th>8</th>\n",
       "      <td>9</td>\n",
       "      <td>6472630.0</td>\n",
       "      <td>-2136380.0</td>\n",
       "      <td>2733</td>\n",
       "      <td>1565</td>\n",
       "      <td>4298</td>\n",
       "      <td>4336250.0</td>\n",
       "      <td>36.41</td>\n",
       "    </tr>\n",
       "    <tr>\n",
       "      <th>9</th>\n",
       "      <td>10</td>\n",
       "      <td>6888010.0</td>\n",
       "      <td>-2800810.0</td>\n",
       "      <td>2883</td>\n",
       "      <td>2017</td>\n",
       "      <td>4900</td>\n",
       "      <td>4087200.0</td>\n",
       "      <td>41.16</td>\n",
       "    </tr>\n",
       "    <tr>\n",
       "      <th>10</th>\n",
       "      <td>11</td>\n",
       "      <td>5952630.0</td>\n",
       "      <td>-2102010.0</td>\n",
       "      <td>2417</td>\n",
       "      <td>1404</td>\n",
       "      <td>3821</td>\n",
       "      <td>3850620.0</td>\n",
       "      <td>36.74</td>\n",
       "    </tr>\n",
       "    <tr>\n",
       "      <th>11</th>\n",
       "      <td>12</td>\n",
       "      <td>3762500.0</td>\n",
       "      <td>-1304500.0</td>\n",
       "      <td>2022</td>\n",
       "      <td>1092</td>\n",
       "      <td>3114</td>\n",
       "      <td>2458000.0</td>\n",
       "      <td>35.07</td>\n",
       "    </tr>\n",
       "    <tr>\n",
       "      <th>12</th>\n",
       "      <td>Итого</td>\n",
       "      <td>72102010.0</td>\n",
       "      <td>-23951970.0</td>\n",
       "      <td>29767</td>\n",
       "      <td>16681</td>\n",
       "      <td>46448</td>\n",
       "      <td>48150040.0</td>\n",
       "      <td>35.91</td>\n",
       "    </tr>\n",
       "  </tbody>\n",
       "</table>\n",
       "</div>"
      ],
      "text/plain": [
       "   месяц заезда  доход от исполненных заказов  убыток от отмененных заказов  \\\n",
       "0             1                     2042100.0                     -638000.0   \n",
       "1             2                     3547650.0                    -1564850.0   \n",
       "2             3                     6866140.0                    -1826310.0   \n",
       "3             4                     6636390.0                    -2598880.0   \n",
       "4             5                     6951080.0                    -2292750.0   \n",
       "5             6                     7940690.0                    -3200050.0   \n",
       "6             7                     7624360.0                    -1674040.0   \n",
       "7             8                     7417830.0                    -1813390.0   \n",
       "8             9                     6472630.0                    -2136380.0   \n",
       "9            10                     6888010.0                    -2800810.0   \n",
       "10           11                     5952630.0                    -2102010.0   \n",
       "11           12                     3762500.0                    -1304500.0   \n",
       "12        Итого                    72102010.0                   -23951970.0   \n",
       "\n",
       "    количество исполненных заказов  количество отмененных закaзов  \\\n",
       "0                             1396                            485   \n",
       "1                             2165                           1179   \n",
       "2                             2866                           1272   \n",
       "3                             2865                           1850   \n",
       "4                             2920                           1616   \n",
       "5                             2722                           1929   \n",
       "6                             2430                           1086   \n",
       "7                             2348                           1186   \n",
       "8                             2733                           1565   \n",
       "9                             2883                           2017   \n",
       "10                            2417                           1404   \n",
       "11                            2022                           1092   \n",
       "12                           29767                          16681   \n",
       "\n",
       "    всего заказов  прибыль с вычетом убытков  доля отмененных заказов  \n",
       "0            1881                  1404100.0                    25.78  \n",
       "1            3344                  1982800.0                    35.26  \n",
       "2            4138                  5039830.0                    30.74  \n",
       "3            4715                  4037510.0                    39.24  \n",
       "4            4536                  4658330.0                    35.63  \n",
       "5            4651                  4740640.0                    41.47  \n",
       "6            3516                  5950320.0                    30.89  \n",
       "7            3534                  5604440.0                    33.56  \n",
       "8            4298                  4336250.0                    36.41  \n",
       "9            4900                  4087200.0                    41.16  \n",
       "10           3821                  3850620.0                    36.74  \n",
       "11           3114                  2458000.0                    35.07  \n",
       "12          46448                 48150040.0                    35.91  "
      ]
     },
     "execution_count": 37,
     "metadata": {},
     "output_type": "execute_result"
    }
   ],
   "source": [
    "total_2016"
   ]
  },
  {
   "cell_type": "markdown",
   "metadata": {},
   "source": [
    " **АНАЛИТИКА ПО 2016-му ГОДУ:**\n",
    "\n",
    "- За 2016-й год доход от исполненных заказов составил 72 102 010 руб, с вычетом убытков от отмененных заказов (а это 23 951 970 рублей) 48 150 040.\n",
    "\n",
    "- Заказов за этот перод время было 46 448, 35.9% из них, то есть 16 681 были отменены\n",
    "\n",
    "- Самый прибыльным периодом ожидаемо оказалось лето, самый топовый месяц - июль прибыль 5 950 320 руб\n",
    "\n",
    "- Самая маленькая прибыль обозначенного периода за январь 1 404 100 руб.\n"
   ]
  },
  {
   "cell_type": "markdown",
   "metadata": {},
   "source": [
    "### 2017-1 год"
   ]
  },
  {
   "cell_type": "code",
   "execution_count": 38,
   "metadata": {},
   "outputs": [
    {
     "data": {
      "image/png": "[encoded data removed]",
      "text/plain": [
       "<Figure size 432x288 with 1 Axes>"
      ]
     },
     "metadata": {
      "needs_background": "light"
     },
     "output_type": "display_data"
    },
    {
     "data": {
      "image/png": "[encoded data removed]",
      "text/plain": [
       "<Figure size 432x288 with 1 Axes>"
      ]
     },
     "metadata": {
      "needs_background": "light"
     },
     "output_type": "display_data"
    }
   ],
   "source": [
    "#Создадим график в котором отразим количество заявок по месяцам\n",
    "year_2017 = df_test.query('arrival_date_year == 2017').pivot_table(index='arrival_date_month',\n",
    "                                                                    columns='is_canceled', \n",
    "                                                                    values='profit', \n",
    "                                                                    aggfunc='count')\n",
    "year_2017.columns = ['исполненные', 'отмененные']\n",
    "year_2017.plot(kind='bar', \n",
    "               stacked=True,\n",
    "               title='Количество заявок за 2017 год',\n",
    "               ylabel = 'штук',\n",
    "               xlabel = 'месяц')\n",
    "plt.show()\n",
    "\n",
    "#Создадим график в котором отразим выручку убыток от заказов по месяцам\n",
    "year_2017 = df_train.query('arrival_date_year == 2016').pivot_table(index='arrival_date_month',\n",
    "                                                                    columns='is_canceled', \n",
    "                                                                    values='profit', \n",
    "                                                                    aggfunc='sum')\n",
    "year_2017.columns = ['прибыль', 'убыток']\n",
    "year_2017.plot(kind='bar', \n",
    "               title='Выручка/убыток по месяцам за 2017-год',\n",
    "               ylabel = 'млн.рублей',\n",
    "               xlabel = 'месяц')\n",
    "plt.show()"
   ]
  },
  {
   "cell_type": "code",
   "execution_count": 39,
   "metadata": {},
   "outputs": [],
   "source": [
    "#Создадим на основе нашего датафрейма сводную таблицу в которой отобразим информацию по \n",
    "#отмененным и исполненным заказам\n",
    "total_2017 = df_test.query('arrival_date_year == 2017').pivot_table(index='arrival_date_month',\n",
    "                                                                     columns='is_canceled',\n",
    "                                                                     values='profit',\n",
    "                                                                     aggfunc=['sum', 'count'])\n",
    "total_2017 = total_2017.droplevel(1, axis=1).reset_index()\n",
    "\n",
    "total_2017.columns = ['месяц заезда', 'доход от исполненных заказов', 'убыток от отмененных заказов', 'количество исполненных заказов','количество отмененных закaзов']\n",
    "\n",
    "total_2017['всего заказов'] = total_2017['количество исполненных заказов'] + total_2017['количество отмененных закaзов']\n",
    "\n",
    "total_2017['прибыль с вычетом убытков'] = total_2017['доход от исполненных заказов'] + total_2017['убыток от отмененных заказов']\n",
    "\n",
    "total_2017['доля отмененных заказов'] = round(total_2017['количество отмененных закaзов'] / \n",
    "                                              (total_2017['количество отмененных закaзов'] + \n",
    "                                               total_2017['количество исполненных заказов']) * 100, 2)\n",
    "X_2017 = {'месяц заезда':'Итого', \n",
    "         'доход от исполненных заказов': total_2017['доход от исполненных заказов'].sum(),\n",
    "         'убыток от отмененных заказов': total_2017['убыток от отмененных заказов'].sum(),\n",
    "         'количество исполненных заказов': total_2017['количество исполненных заказов'].sum(),\n",
    "         'количество отмененных закaзов': total_2017['количество отмененных закaзов'].sum(),\n",
    "         'всего заказов': total_2017['всего заказов'].sum(),\n",
    "         'прибыль с вычетом убытков': total_2017['прибыль с вычетом убытков'].sum(),\n",
    "         'доля отмененных заказов': round(total_2017['количество отмененных закaзов'].sum() / \n",
    "          (total_2017['количество отмененных закaзов'].sum() + total_2017['количество исполненных заказов'].sum()) * 100, 2),}\n",
    "total_2017 = total_2017.append(X_2017, ignore_index = True)"
   ]
  },
  {
   "cell_type": "code",
   "execution_count": 40,
   "metadata": {
    "scrolled": true
   },
   "outputs": [
    {
     "data": {
      "text/html": [
       "<div>\n",
       "<style scoped>\n",
       "    .dataframe tbody tr th:only-of-type {\n",
       "        vertical-align: middle;\n",
       "    }\n",
       "\n",
       "    .dataframe tbody tr th {\n",
       "        vertical-align: top;\n",
       "    }\n",
       "\n",
       "    .dataframe thead th {\n",
       "        text-align: right;\n",
       "    }\n",
       "</style>\n",
       "<table border=\"1\" class=\"dataframe\">\n",
       "  <thead>\n",
       "    <tr style=\"text-align: right;\">\n",
       "      <th></th>\n",
       "      <th>месяц заезда</th>\n",
       "      <th>доход от исполненных заказов</th>\n",
       "      <th>убыток от отмененных заказов</th>\n",
       "      <th>количество исполненных заказов</th>\n",
       "      <th>количество отмененных закaзов</th>\n",
       "      <th>всего заказов</th>\n",
       "      <th>прибыль с вычетом убытков</th>\n",
       "      <th>доля отмененных заказов</th>\n",
       "    </tr>\n",
       "  </thead>\n",
       "  <tbody>\n",
       "    <tr>\n",
       "      <th>0</th>\n",
       "      <td>1</td>\n",
       "      <td>3516650.0</td>\n",
       "      <td>-1348800.0</td>\n",
       "      <td>2073</td>\n",
       "      <td>1069</td>\n",
       "      <td>3142</td>\n",
       "      <td>2167850.0</td>\n",
       "      <td>34.02</td>\n",
       "    </tr>\n",
       "    <tr>\n",
       "      <th>1</th>\n",
       "      <td>2</td>\n",
       "      <td>4320950.0</td>\n",
       "      <td>-1400250.0</td>\n",
       "      <td>2406</td>\n",
       "      <td>1131</td>\n",
       "      <td>3537</td>\n",
       "      <td>2920700.0</td>\n",
       "      <td>31.98</td>\n",
       "    </tr>\n",
       "    <tr>\n",
       "      <th>2</th>\n",
       "      <td>3</td>\n",
       "      <td>6997610.0</td>\n",
       "      <td>-1947880.0</td>\n",
       "      <td>2860</td>\n",
       "      <td>1405</td>\n",
       "      <td>4265</td>\n",
       "      <td>5049730.0</td>\n",
       "      <td>32.94</td>\n",
       "    </tr>\n",
       "    <tr>\n",
       "      <th>3</th>\n",
       "      <td>4</td>\n",
       "      <td>7155050.0</td>\n",
       "      <td>-3026870.0</td>\n",
       "      <td>2696</td>\n",
       "      <td>2165</td>\n",
       "      <td>4861</td>\n",
       "      <td>4128180.0</td>\n",
       "      <td>44.54</td>\n",
       "    </tr>\n",
       "    <tr>\n",
       "      <th>4</th>\n",
       "      <td>5</td>\n",
       "      <td>7128140.0</td>\n",
       "      <td>-3268750.0</td>\n",
       "      <td>2944</td>\n",
       "      <td>2309</td>\n",
       "      <td>5253</td>\n",
       "      <td>3859390.0</td>\n",
       "      <td>43.96</td>\n",
       "    </tr>\n",
       "    <tr>\n",
       "      <th>5</th>\n",
       "      <td>6</td>\n",
       "      <td>7676870.0</td>\n",
       "      <td>-3313800.0</td>\n",
       "      <td>2522</td>\n",
       "      <td>2052</td>\n",
       "      <td>4574</td>\n",
       "      <td>4363070.0</td>\n",
       "      <td>44.86</td>\n",
       "    </tr>\n",
       "    <tr>\n",
       "      <th>6</th>\n",
       "      <td>7</td>\n",
       "      <td>7019890.0</td>\n",
       "      <td>-2020020.0</td>\n",
       "      <td>2284</td>\n",
       "      <td>1326</td>\n",
       "      <td>3610</td>\n",
       "      <td>4999870.0</td>\n",
       "      <td>36.73</td>\n",
       "    </tr>\n",
       "    <tr>\n",
       "      <th>7</th>\n",
       "      <td>8</td>\n",
       "      <td>6679320.0</td>\n",
       "      <td>-1669500.0</td>\n",
       "      <td>1993</td>\n",
       "      <td>1100</td>\n",
       "      <td>3093</td>\n",
       "      <td>5009820.0</td>\n",
       "      <td>35.56</td>\n",
       "    </tr>\n",
       "    <tr>\n",
       "      <th>8</th>\n",
       "      <td>Итого</td>\n",
       "      <td>50494480.0</td>\n",
       "      <td>-17995870.0</td>\n",
       "      <td>19778</td>\n",
       "      <td>12557</td>\n",
       "      <td>32335</td>\n",
       "      <td>32498610.0</td>\n",
       "      <td>38.83</td>\n",
       "    </tr>\n",
       "  </tbody>\n",
       "</table>\n",
       "</div>"
      ],
      "text/plain": [
       "  месяц заезда  доход от исполненных заказов  убыток от отмененных заказов  \\\n",
       "0            1                     3516650.0                    -1348800.0   \n",
       "1            2                     4320950.0                    -1400250.0   \n",
       "2            3                     6997610.0                    -1947880.0   \n",
       "3            4                     7155050.0                    -3026870.0   \n",
       "4            5                     7128140.0                    -3268750.0   \n",
       "5            6                     7676870.0                    -3313800.0   \n",
       "6            7                     7019890.0                    -2020020.0   \n",
       "7            8                     6679320.0                    -1669500.0   \n",
       "8        Итого                    50494480.0                   -17995870.0   \n",
       "\n",
       "   количество исполненных заказов  количество отмененных закaзов  \\\n",
       "0                            2073                           1069   \n",
       "1                            2406                           1131   \n",
       "2                            2860                           1405   \n",
       "3                            2696                           2165   \n",
       "4                            2944                           2309   \n",
       "5                            2522                           2052   \n",
       "6                            2284                           1326   \n",
       "7                            1993                           1100   \n",
       "8                           19778                          12557   \n",
       "\n",
       "   всего заказов  прибыль с вычетом убытков  доля отмененных заказов  \n",
       "0           3142                  2167850.0                    34.02  \n",
       "1           3537                  2920700.0                    31.98  \n",
       "2           4265                  5049730.0                    32.94  \n",
       "3           4861                  4128180.0                    44.54  \n",
       "4           5253                  3859390.0                    43.96  \n",
       "5           4574                  4363070.0                    44.86  \n",
       "6           3610                  4999870.0                    36.73  \n",
       "7           3093                  5009820.0                    35.56  \n",
       "8          32335                 32498610.0                    38.83  "
      ]
     },
     "execution_count": 40,
     "metadata": {},
     "output_type": "execute_result"
    }
   ],
   "source": [
    "total_2017"
   ]
  },
  {
   "cell_type": "markdown",
   "metadata": {},
   "source": [
    " **АНАЛИТИКА ПО 2017-му ГОДУ:**\n",
    "\n",
    "- За первое полугодие 2017-го года доход от исполненных заказов составил 50 494 480 руб, с вычетом убытков от отмененных заказов (а это 17 995 870 рублей) 32 498 610.\n",
    "\n",
    "- Заказов за этот перод времени было 32335, 38,8% из них, то есть 12 557 были отменены\n",
    "\n",
    "- Самый прибыльным  месяцем оказался март, прибыль 5 049 730 руб.\n",
    "\n",
    "- Самая маленькая прибыль обозначенного периода  - январь  2 167 850 руб.\n"
   ]
  },
  {
   "cell_type": "markdown",
   "metadata": {},
   "source": [
    "### Промежуточный вывод:\n",
    "- На этом этапе работы мы написали функцию которая расчитала прибыль от всех заказов, положительную от исполненных и отрицательную от отененных.\n",
    "- Далее с использованием этих данных мы сделали сводную таблицу в которой был указана суммарная доход и убыток по месяцам, а так же дополнили столбцами с расчитанными значениями:\n",
    "    - общее количество всех заказов\n",
    "    - доля отмененных заказов и всех\n",
    "    - прибыль с вычетом убытков\n",
    "- Полученнные данные были проанализированы\n",
    "\n",
    "  **АНАЛИТИКА ПО 2015-му ГОДУ:**\n",
    "\n",
    "   - За 2015-й год доход от исполненных заказов составил 28 868 480 руб, с вычетом убытков от отмененных заказов (а это 11 436 410 рублей) 17 432 070 .\n",
    "\n",
    "   - Заказов за этот перод время было 18314, 39% из них, то есть 7188 были отменены\n",
    "\n",
    "   - Самый прибыльный месяц с июля по декабрь - октябрь 4 368 690 руб\n",
    "\n",
    "   - Самая маленькая прибыль обозначенного периода за декабрь 1 727 100 руб.\n",
    "    \n",
    "  **АНАЛИТИКА ПО 2016-му ГОДУ:**\n",
    "\n",
    "   - За 2016-й год доход от исполненных заказов составил 72 102 010 руб, с вычетом убытков от отмененных заказов (а это 23 951 970 рублей) 48 150 040.\n",
    "\n",
    "   - Заказов за этот перод время было 46 448, 35.9% из них, то есть 16 681 были отменены\n",
    "\n",
    "   - Самый прибыльным периодом ожидаемо оказалось лето, самый топовый месяц - июль прибыль 5 950 320 руб\n",
    "\n",
    "   - Самая маленькая прибыль обозначенного периода за январь 1 404 100 руб.\n",
    "\n",
    "  **АНАЛИТИКА ПО 2017-му ГОДУ:**\n",
    "\n",
    "   - За первое полугодие 2017-го года доход от исполненных заказов составил 50 494 480 руб, с вычетом убытков от отмененных заказов (а это 17 995 870 рублей) 32 498 610.\n",
    "\n",
    "   - Заказов за этот перод времени было 32335, 38,8% из них, то есть 12 557 были отменены\n",
    "\n",
    "   - Самый прибыльным  месяцем оказался март, прибыль 5 049 730 руб.\n",
    "\n",
    "   - Самая маленькая прибыль обозначенного периода  - январь  2 167 850 руб.\n"
   ]
  },
  {
   "cell_type": "markdown",
   "metadata": {},
   "source": [
    "<div class=\"alert alert-success\">\n",
    "<h2>Комментарий ревьюера<a class=\"tocSkip\"></a></h2>\n",
    "    \n",
    "**Отлично!** ✔️: здорово, что подробно изучаешь прибыль отеля!</div>"
   ]
  },
  {
   "cell_type": "markdown",
   "metadata": {},
   "source": [
    "## ML\n",
    "\n",
    "###  Формулировка ML-задачи на основе бизнес-задачи"
   ]
  },
  {
   "cell_type": "markdown",
   "metadata": {},
   "source": [
    "   Из года в год очень отели несут огромные (от 11 до 18 млн в полгода) убытки от отменненных заказов.\n",
    "\n",
    "   Чтобы решить эту проблему, нужно разработать систему, которая предсказывает отказ от брони. Если модель покажет, что бронь будет отменена, то клиенту предлагается внести депозит. Размер депозита — 80% от стоимости номера за одни сутки и затрат на разовую уборку. Деньги будут списаны со счёта клиента, если он всё же отменит бронь.\n",
    "\n",
    "\n",
    "   На разработку системы прогнозирования заложен бюджет — 400 000. При этом необходимо учесть, что внедрение модели должно окупиться за тестовый период. Затраты на разработку должны быть меньше той выручки, которую система принесёт компании.\n",
    "\n",
    "### Подготовка данных для обучения модели\n",
    "\n",
    "Подготовим данные для разработки модели. \n",
    "\n",
    "Все данные изначально поделены на обучащие и тестовые, тренировочная выборка приблизительно в 2 раза больше тестовой. Очень удобно.\n",
    "\n",
    "Теперь выделим отдельно цель, это признак объекта is_canceled, именно он показывает нам отменен заказ или нет.\n",
    "\n",
    "Для обучения модели, нам не понадобятся данные id и  profit, исключим их"
   ]
  },
  {
   "cell_type": "code",
   "execution_count": 41,
   "metadata": {},
   "outputs": [],
   "source": [
    "features_train = df_train.drop(['id', 'profit', 'is_canceled'], axis = 1)\n",
    "target_train = df_train['is_canceled']\n",
    "features_test = df_test.drop(['id', 'profit', 'is_canceled'], axis = 1)\n",
    "target_test = df_test['is_canceled']"
   ]
  },
  {
   "cell_type": "markdown",
   "metadata": {},
   "source": [
    "Данные представленные НЕчисловыми значениями, представлены в столбцах 'meal','country','distribution_channel', 'reserved_room_type', 'customer_type'.\n",
    "\n",
    "Их нам и нужно преобразовать. \n",
    "Воспользуемся для этого методом OHE-кодирования.\n",
    "\n",
    "Признак is_repeated_guest  являeтся бинарными, его оставляем без изменения.\n",
    "\n",
    "Остальные численные признаки нужно стандартизировать для корректной работы модели."
   ]
  },
  {
   "cell_type": "code",
   "execution_count": 42,
   "metadata": {},
   "outputs": [
    {
     "data": {
      "text/html": [
       "<div>\n",
       "<style scoped>\n",
       "    .dataframe tbody tr th:only-of-type {\n",
       "        vertical-align: middle;\n",
       "    }\n",
       "\n",
       "    .dataframe tbody tr th {\n",
       "        vertical-align: top;\n",
       "    }\n",
       "\n",
       "    .dataframe thead th {\n",
       "        text-align: right;\n",
       "    }\n",
       "</style>\n",
       "<table border=\"1\" class=\"dataframe\">\n",
       "  <thead>\n",
       "    <tr style=\"text-align: right;\">\n",
       "      <th></th>\n",
       "      <th>lead_time</th>\n",
       "      <th>arrival_date_year</th>\n",
       "      <th>arrival_date_month</th>\n",
       "      <th>arrival_date_week_number</th>\n",
       "      <th>arrival_date_day_of_month</th>\n",
       "      <th>stays_in_weekend_nights</th>\n",
       "      <th>stays_in_week_nights</th>\n",
       "      <th>adults</th>\n",
       "      <th>children</th>\n",
       "      <th>babies</th>\n",
       "      <th>...</th>\n",
       "      <th>distribution_channel_TA/TO</th>\n",
       "      <th>reserved_room_type_B</th>\n",
       "      <th>reserved_room_type_C</th>\n",
       "      <th>reserved_room_type_D</th>\n",
       "      <th>reserved_room_type_E</th>\n",
       "      <th>reserved_room_type_F</th>\n",
       "      <th>reserved_room_type_G</th>\n",
       "      <th>customer_type_Group</th>\n",
       "      <th>customer_type_Transient</th>\n",
       "      <th>customer_type_Transient-Party</th>\n",
       "    </tr>\n",
       "  </thead>\n",
       "  <tbody>\n",
       "    <tr>\n",
       "      <th>0</th>\n",
       "      <td>-0.926400</td>\n",
       "      <td>-1.592546</td>\n",
       "      <td>-0.147593</td>\n",
       "      <td>-0.324688</td>\n",
       "      <td>-1.697334</td>\n",
       "      <td>-0.967314</td>\n",
       "      <td>-0.900732</td>\n",
       "      <td>-1.781255</td>\n",
       "      <td>-0.219764</td>\n",
       "      <td>-0.083093</td>\n",
       "      <td>...</td>\n",
       "      <td>0.0</td>\n",
       "      <td>0.0</td>\n",
       "      <td>0.0</td>\n",
       "      <td>0.0</td>\n",
       "      <td>0.0</td>\n",
       "      <td>0.0</td>\n",
       "      <td>0.0</td>\n",
       "      <td>0.0</td>\n",
       "      <td>1.0</td>\n",
       "      <td>0.0</td>\n",
       "    </tr>\n",
       "    <tr>\n",
       "      <th>1</th>\n",
       "      <td>-0.853086</td>\n",
       "      <td>-1.592546</td>\n",
       "      <td>-0.147593</td>\n",
       "      <td>-0.324688</td>\n",
       "      <td>-1.697334</td>\n",
       "      <td>-0.967314</td>\n",
       "      <td>-0.162421</td>\n",
       "      <td>0.336526</td>\n",
       "      <td>-0.219764</td>\n",
       "      <td>-0.083093</td>\n",
       "      <td>...</td>\n",
       "      <td>1.0</td>\n",
       "      <td>0.0</td>\n",
       "      <td>0.0</td>\n",
       "      <td>0.0</td>\n",
       "      <td>0.0</td>\n",
       "      <td>0.0</td>\n",
       "      <td>0.0</td>\n",
       "      <td>0.0</td>\n",
       "      <td>1.0</td>\n",
       "      <td>0.0</td>\n",
       "    </tr>\n",
       "    <tr>\n",
       "      <th>2</th>\n",
       "      <td>-0.999713</td>\n",
       "      <td>-1.592546</td>\n",
       "      <td>-0.147593</td>\n",
       "      <td>-0.324688</td>\n",
       "      <td>-1.697334</td>\n",
       "      <td>-0.967314</td>\n",
       "      <td>-0.162421</td>\n",
       "      <td>0.336526</td>\n",
       "      <td>-0.219764</td>\n",
       "      <td>-0.083093</td>\n",
       "      <td>...</td>\n",
       "      <td>0.0</td>\n",
       "      <td>0.0</td>\n",
       "      <td>1.0</td>\n",
       "      <td>0.0</td>\n",
       "      <td>0.0</td>\n",
       "      <td>0.0</td>\n",
       "      <td>0.0</td>\n",
       "      <td>0.0</td>\n",
       "      <td>1.0</td>\n",
       "      <td>0.0</td>\n",
       "    </tr>\n",
       "    <tr>\n",
       "      <th>3</th>\n",
       "      <td>-0.905453</td>\n",
       "      <td>-1.592546</td>\n",
       "      <td>-0.147593</td>\n",
       "      <td>-0.324688</td>\n",
       "      <td>-1.697334</td>\n",
       "      <td>-0.967314</td>\n",
       "      <td>-0.162421</td>\n",
       "      <td>0.336526</td>\n",
       "      <td>-0.219764</td>\n",
       "      <td>-0.083093</td>\n",
       "      <td>...</td>\n",
       "      <td>0.0</td>\n",
       "      <td>0.0</td>\n",
       "      <td>1.0</td>\n",
       "      <td>0.0</td>\n",
       "      <td>0.0</td>\n",
       "      <td>0.0</td>\n",
       "      <td>0.0</td>\n",
       "      <td>0.0</td>\n",
       "      <td>1.0</td>\n",
       "      <td>0.0</td>\n",
       "    </tr>\n",
       "    <tr>\n",
       "      <th>4</th>\n",
       "      <td>-0.109476</td>\n",
       "      <td>-1.592546</td>\n",
       "      <td>-0.147593</td>\n",
       "      <td>-0.324688</td>\n",
       "      <td>-1.697334</td>\n",
       "      <td>-0.967314</td>\n",
       "      <td>0.575890</td>\n",
       "      <td>0.336526</td>\n",
       "      <td>-0.219764</td>\n",
       "      <td>-0.083093</td>\n",
       "      <td>...</td>\n",
       "      <td>1.0</td>\n",
       "      <td>0.0</td>\n",
       "      <td>0.0</td>\n",
       "      <td>0.0</td>\n",
       "      <td>0.0</td>\n",
       "      <td>0.0</td>\n",
       "      <td>0.0</td>\n",
       "      <td>0.0</td>\n",
       "      <td>1.0</td>\n",
       "      <td>0.0</td>\n",
       "    </tr>\n",
       "  </tbody>\n",
       "</table>\n",
       "<p>5 rows × 187 columns</p>\n",
       "</div>"
      ],
      "text/plain": [
       "   lead_time  arrival_date_year  arrival_date_month  arrival_date_week_number  \\\n",
       "0  -0.926400          -1.592546           -0.147593                 -0.324688   \n",
       "1  -0.853086          -1.592546           -0.147593                 -0.324688   \n",
       "2  -0.999713          -1.592546           -0.147593                 -0.324688   \n",
       "3  -0.905453          -1.592546           -0.147593                 -0.324688   \n",
       "4  -0.109476          -1.592546           -0.147593                 -0.324688   \n",
       "\n",
       "   arrival_date_day_of_month  stays_in_weekend_nights  stays_in_week_nights  \\\n",
       "0                  -1.697334                -0.967314             -0.900732   \n",
       "1                  -1.697334                -0.967314             -0.162421   \n",
       "2                  -1.697334                -0.967314             -0.162421   \n",
       "3                  -1.697334                -0.967314             -0.162421   \n",
       "4                  -1.697334                -0.967314              0.575890   \n",
       "\n",
       "     adults  children    babies  ...  distribution_channel_TA/TO  \\\n",
       "0 -1.781255 -0.219764 -0.083093  ...                         0.0   \n",
       "1  0.336526 -0.219764 -0.083093  ...                         1.0   \n",
       "2  0.336526 -0.219764 -0.083093  ...                         0.0   \n",
       "3  0.336526 -0.219764 -0.083093  ...                         0.0   \n",
       "4  0.336526 -0.219764 -0.083093  ...                         1.0   \n",
       "\n",
       "   reserved_room_type_B  reserved_room_type_C  reserved_room_type_D  \\\n",
       "0                   0.0                   0.0                   0.0   \n",
       "1                   0.0                   0.0                   0.0   \n",
       "2                   0.0                   1.0                   0.0   \n",
       "3                   0.0                   1.0                   0.0   \n",
       "4                   0.0                   0.0                   0.0   \n",
       "\n",
       "   reserved_room_type_E  reserved_room_type_F  reserved_room_type_G  \\\n",
       "0                   0.0                   0.0                   0.0   \n",
       "1                   0.0                   0.0                   0.0   \n",
       "2                   0.0                   0.0                   0.0   \n",
       "3                   0.0                   0.0                   0.0   \n",
       "4                   0.0                   0.0                   0.0   \n",
       "\n",
       "   customer_type_Group  customer_type_Transient  customer_type_Transient-Party  \n",
       "0                  0.0                      1.0                            0.0  \n",
       "1                  0.0                      1.0                            0.0  \n",
       "2                  0.0                      1.0                            0.0  \n",
       "3                  0.0                      1.0                            0.0  \n",
       "4                  0.0                      1.0                            0.0  \n",
       "\n",
       "[5 rows x 187 columns]"
      ]
     },
     "execution_count": 42,
     "metadata": {},
     "output_type": "execute_result"
    }
   ],
   "source": [
    "#создаем список категориальных признаков\n",
    "ohe_features = features_train.select_dtypes(include='object').columns.to_list()\n",
    "\n",
    "#численные признаки\n",
    "num_features = features_train.select_dtypes(exclude='object').columns.to_list()\n",
    "#удаляем бинарные признаки\n",
    "num_features.remove('is_repeated_guest')\n",
    "\n",
    "\n",
    "# drop='first' удаляет первый признак из закодированных:\n",
    "# таким образом обходим dummy-ловушку\n",
    "# задаём handle_unknown='ignore':\n",
    "# игнорируется ранее невстречающиеся значения признака (при transform)\n",
    "encoder_ohe = OneHotEncoder(drop='first', handle_unknown='ignore', sparse=False)\n",
    "\n",
    "# обучаем энкодер на заданных категориальных признаках тренировочной выборки\n",
    "encoder_ohe.fit(features_train[ohe_features])\n",
    "\n",
    "# добавляем закодированные признаки в \n",
    "# encoder_ohe.get_feature_names_out() позволяет получить названия колонок\n",
    "features_train[encoder_ohe.get_feature_names_out(ohe_features)] = encoder_ohe.transform(features_train[ohe_features])\n",
    "\n",
    "# удаляем незакодированные категориальные признаки (изначальные колонки)\n",
    "features_train = features_train.drop(ohe_features, axis=1)\n",
    "\n",
    "#импортируем объект стандартизации\n",
    "scaler = StandardScaler()\n",
    "\n",
    "# обучаем его на численных признаках тренировочной выборки, трансформируем её же\n",
    "features_train[num_features] = scaler.fit_transform(features_train[num_features])\n",
    "\n",
    "# смотрим на результат\n",
    "features_train.head()"
   ]
  },
  {
   "cell_type": "markdown",
   "metadata": {},
   "source": [
    "<div class=\"alert alert-success\">\n",
    "<h2>Комментарий ревьюера<a class=\"tocSkip\"></a></h2>\n",
    "    \n",
    "**Отлично!** ✔️: здорово, что для OHE используешь именно OneHotEncoder!</div>"
   ]
  },
  {
   "cell_type": "code",
   "execution_count": 43,
   "metadata": {
    "scrolled": true
   },
   "outputs": [
    {
     "name": "stdout",
     "output_type": "stream",
     "text": [
      "<class 'pandas.core.frame.DataFrame'>\n",
      "Int64Index: 64762 entries, 0 to 65228\n",
      "Columns: 187 entries, lead_time to customer_type_Transient-Party\n",
      "dtypes: float64(186), int64(1)\n",
      "memory usage: 92.9 MB\n"
     ]
    }
   ],
   "source": [
    "features_train.info()"
   ]
  },
  {
   "cell_type": "code",
   "execution_count": 44,
   "metadata": {
    "scrolled": true
   },
   "outputs": [
    {
     "name": "stderr",
     "output_type": "stream",
     "text": [
      "/opt/conda/lib/python3.9/site-packages/sklearn/preprocessing/_encoders.py:188: UserWarning: Found unknown categories in columns [1] during transform. These unknown categories will be encoded as all zeros\n",
      "  warnings.warn(\n"
     ]
    }
   ],
   "source": [
    "#Таким же образом преобразуем данные из тестового массива\n",
    "features_test[\n",
    "    encoder_ohe.get_feature_names_out()\n",
    "] = encoder_ohe.transform(features_test[ohe_features])\n",
    "features_test = features_test.drop(ohe_features, axis=1)\n",
    "\n",
    "features_test[num_features] = scaler.transform(features_test[num_features])"
   ]
  },
  {
   "cell_type": "markdown",
   "metadata": {},
   "source": [
    "<div class=\"alert alert-danger\">\n",
    "<h2>Комментарий ревьюера<a class=\"tocSkip\"></a></h2>\n",
    "\n",
    "**Нужно доработать** ❌: Standardscaler необходимо обучать только на обучающей выборке, а трансформировать уже обе: если распределения признаков в тестовой выборке будет отличаться от распределений в обучающей(а это происходит не так редко), то метрики на тестовой выборке могут оказаться заниженными, поскольку признаки в выборках масштабируются по-разному и модель просто не сможет найти тех значений в тестовой выборке, которые были в обучающей выборке</div>"
   ]
  },
  {
   "cell_type": "markdown",
   "metadata": {},
   "source": [
    "    \n",
    "<div class=\"alert alert-info\">\n",
    "    <b>Комментарий студента:</b> Спасибо, поправила\n",
    "</div>"
   ]
  },
  {
   "cell_type": "markdown",
   "metadata": {},
   "source": [
    "<div class=\"alert alert-warning\">\n",
    "<h2>Комментарий ревьюера<a class=\"tocSkip\"></a></h2>\n",
    "    \n",
    "**Есть совет** ⚠️: а вообще для «деревянных» моделей лучше использовать порядковое кодирование, так как они заметно быстрее обучаются на меньшем количестве признаков и не теряют в качестве, есть <a href=\"https://medium.com/data-design/visiting-categorical-features-and-encoding-in-decision-trees-53400fa65931\" target=\"blank_\">шикарная статья</a> на эту тему. Но для линейных моделей(в том числе логистической регрессии) порядковое кодирование не подходит, потому что задает приоритет признакам, которого в природе данных нет. Тогда, например, значение 10^2 в признаке X для них будет важнее, чем значение 10^1, а это далеко не всегда верное утверждение. Поэтому для них лучше использовать OHE.\n",
    "    \n",
    "Также для «деревянных» моделей масштабирование совсем не обязательно, <a href=\"https://towardsdatascience.com/how-data-normalization-affects-your-random-forest-algorithm-fbc6753b4ddf\" target=\"blank_\">тут</a> можно почитать про это подробнее. Но для линейных моделей наоборот, может заметно улучшить метрики\n",
    "    \n",
    "Тогда у тебя получится разная предобработка для разных моделей, это вполне нормально, тут могут помочь пайплайны, они особенно полезны как раз в подобных случаях\n",
    "    \n",
    "P.S. сервисы Medium(в том числе TowardsDataScience) без VPN могут не загружаться, тогда можно попробовать аналогичные ссылки <a href=\"https://kiwidamien.github.io/are-you-getting-burned-by-one-hot-encoding.html\">про кодирование</a> и <a href=\"https://www.kdnuggets.com/2022/07/random-forest-algorithm-need-normalization.html\">масштабирование</a> здесь\n",
    "    \n",
    "Подробнее про пайплайны:\n",
    "* https://scikit-learn.org/stable/modules/generated/sklearn.pipeline.Pipeline.html\n",
    "* https://scikit-learn.org/stable/modules/compose.html\n",
    "* https://towardsdatascience.com/how-to-use-sklearn-pipelines-for-ridiculously-neat-code-a61ab66ca90d</div>"
   ]
  },
  {
   "cell_type": "markdown",
   "metadata": {},
   "source": [
    "    \n",
    "<div class=\"alert alert-info\">\n",
    "    <b>Комментарий студента:</b> О, кайф, про. пайпланы то, что нужно, изучу.\n",
    "    \n",
    "   </b> Сдохли ВПН, посоветуешь какой-нибудь?) \n",
    "    \n",
    "   </b>  Про порядковое кодирование, хотела но куратор написала, что пора о нем забывать, так как он не часто актуален\n",
    "</div>"
   ]
  },
  {
   "cell_type": "code",
   "execution_count": 45,
   "metadata": {},
   "outputs": [
    {
     "name": "stdout",
     "output_type": "stream",
     "text": [
      "<class 'pandas.core.frame.DataFrame'>\n",
      "Int64Index: 32335 entries, 0 to 32411\n",
      "Columns: 187 entries, lead_time to customer_type_Transient-Party\n",
      "dtypes: float64(186), int64(1)\n",
      "memory usage: 46.4 MB\n"
     ]
    }
   ],
   "source": [
    "features_test.info()"
   ]
  },
  {
   "cell_type": "markdown",
   "metadata": {},
   "source": [
    "###  Разработка модели ML\n",
    "\n",
    "\n",
    "Создадим несколько моделей, для предсказания значения is_canceled, этот признак указывает на это был ли заказ отменен или исполнен.\n",
    "Для оценки качества модели можно использовать метрики  recall, precision и f1.\n",
    "\n",
    "Первая покажет нам насколько охотно модель обпределят обект как 1. То есть, чем она выше, тем чаще модель отмечает все как 1. Выбрав модель с максимальным Recall, мы выберем модель которая будет заставлять макимальное количество людей вносить депозит, а это отталкивает некоторых клиентов. Нам такое не подходит.\n",
    "\n",
    "Показатель precission покажет нам насколько точно модель определят значение отмены заказов, то есть чем она выше, тем меньше не верных положительных предсказаний, то есть меньшее количество заказов будет с депозитами, тут мы можем просеть по прибыли.\n",
    "\n",
    "Потому остановимся на среднегармоническом f1, чем оно выше тем лучше баланс между количеством и качеством меток \"1\" в данном признаке.\n",
    "\n",
    "#### Модель - Линейная регрессия"
   ]
  },
  {
   "cell_type": "markdown",
   "metadata": {},
   "source": [
    "<div class=\"alert alert-danger\">\n",
    "<h2>Комментарий ревьюера<a class=\"tocSkip\"></a></h2>\n",
    "\n",
    "**Нужно доработать** ❌: перед обучением моделей необходимо выбрать основную метрику и аргументировать свой выбор, исходя из бизнес-задачи, это важная часть проекта. Ниже ты используешь F1-меру, и если ты считаешь, что эта метрика лучше других позволит минимизировать убытки от отмен бронирования, то нужно это пояснить</div>"
   ]
  },
  {
   "cell_type": "markdown",
   "metadata": {},
   "source": [
    "    \n",
    "<div class=\"alert alert-info\">\n",
    "    <b>Комментарий студента:</b> Добавила пояснения\n",
    "</div>"
   ]
  },
  {
   "cell_type": "code",
   "execution_count": 46,
   "metadata": {},
   "outputs": [
    {
     "name": "stdout",
     "output_type": "stream",
     "text": [
      "Средняя f1 качества линейной регрессии 0.5966835441612497\n"
     ]
    }
   ],
   "source": [
    "#Инициируем и обучаем модель, вычисляем f1 для нее\n",
    "lr = LogisticRegression(solver='liblinear', random_state=state)\n",
    "lr.fit(features_train, target_train)\n",
    "predicted = lr.predict(features_test)\n",
    "scores = cross_val_score(lr, features_train, target_train, cv=5, scoring='f1')\n",
    "print('Средняя f1 качества линейной регрессии', scores.sum() / len(scores))"
   ]
  },
  {
   "cell_type": "markdown",
   "metadata": {},
   "source": [
    "<div class=\"alert alert-danger\">\n",
    "<h2>Комментарий ревьюера<a class=\"tocSkip\"></a></h2>\n",
    "\n",
    "**Нужно доработать** ❌: на тестовой выборке нельзя сравнивать модели(а также способы борьбы с дисбалансом или подбирать гиперпараметры), иначе она перестанет быть независимой. Она используется на этапе финального тестирования только чтобы проверить одну лучшую модель по метрикам на кросс-валидации(с уже подобранными гиперпараметрами и примененным способом борьбы с дисбалансом)\n",
    "\n",
    "А на этом этапе необходимо рассчитывать метрики на кросс-валидации, которая будет проводиться для обучающей выборки</div>"
   ]
  },
  {
   "cell_type": "markdown",
   "metadata": {},
   "source": [
    "    \n",
    "<div class=\"alert alert-info\">\n",
    "    <b>Комментарий студента:</b> Ой, затупила\n",
    "</div>"
   ]
  },
  {
   "cell_type": "markdown",
   "metadata": {},
   "source": [
    "<div class=\"alert alert-warning\">\n",
    "<h2>Комментарий ревьюера<a class=\"tocSkip\"></a></h2>\n",
    "    \n",
    "**Есть совет** ⚠️: также для честного эксперимента стоит точнее настроить модели и подобрать хотя бы по 2 гиперпараметра для каждой модели(помимо взвешиивания классов), выбранной тобой для исследования. То есть алгоритм шага с моделями в проекте будет следующий:\n",
    "- обучить 2-3 разные модели и подобрать для них по 2-3 гиперпараметра по метрикам на кросс-валидации\n",
    "- выбрать лучшую модель с прошлого этапа и рассчитать для нее итоговую метрику на тестовой выборке(уже без использования кросс-валидации)\n",
    "- с учетом предсказаний лучшей модели, рассчитать итоговую прибыль после внедрения модели на тестовой выборке</div>"
   ]
  },
  {
   "cell_type": "markdown",
   "metadata": {},
   "source": [
    "    \n",
    "<div class=\"alert alert-info\">\n",
    "    <b>Комментарий студента:</b> Тут не поняла о чем речь, ведь я меняю параметры глубина и кол-во деревьев, а так же баланс классов. кажется, у меня туту пробле, посоветуй, что почитать по этой теме, плиз\n",
    "</div>"
   ]
  },
  {
   "cell_type": "markdown",
   "metadata": {},
   "source": [
    "#### Модель - Дерево решений"
   ]
  },
  {
   "cell_type": "code",
   "execution_count": 47,
   "metadata": {},
   "outputs": [
    {
     "name": "stdout",
     "output_type": "stream",
     "text": [
      "Лучший среднюю f1 0.5780886401203023 показало дерево глубиной 4\n"
     ]
    }
   ],
   "source": [
    "best_depth = 0\n",
    "best_score = 0\n",
    "\n",
    "for depth  in range(1, 30):\n",
    "    tree = DecisionTreeClassifier(max_depth = depth, random_state=state)\n",
    "    tree.fit(features_train, target_train)\n",
    "    scores = cross_val_score(tree, features_train, target_train, cv=5, scoring='f1')\n",
    "    final_score = scores.sum() / len(scores)\n",
    "    if final_score > best_score:\n",
    "        best_score = final_score\n",
    "        best_depth = depth\n",
    "        \n",
    "print('Лучший среднюю f1 {} показало дерево глубиной {}'.format(best_score, best_depth))"
   ]
  },
  {
   "cell_type": "markdown",
   "metadata": {},
   "source": [
    "#### Модель - Лес Случайных Деревьев"
   ]
  },
  {
   "cell_type": "code",
   "execution_count": 48,
   "metadata": {
    "scrolled": false
   },
   "outputs": [
    {
     "name": "stdout",
     "output_type": "stream",
     "text": [
      "Лучшия средняя f1: 0.4742324745039378\n",
      "Глубина для лучшей модели: 21\n",
      "Количество деревьев для лучшей модели: 1\n"
     ]
    }
   ],
   "source": [
    "best_est = 0\n",
    "best_depth = 0\n",
    "best_score = 0\n",
    "\n",
    "for est in (1, 150, 4):\n",
    "    for depth in (1, 21):\n",
    "        forest = RandomForestClassifier(max_depth = depth, n_estimators = est, random_state = state)\n",
    "        forest.fit(features_train, target_train)\n",
    "        scores = cross_val_score(forest, features_train, target_train, cv=5, scoring='f1')\n",
    "        final_score = scores.sum() / len(scores)\n",
    "        if final_score > best_score:\n",
    "            best_score = final_score\n",
    "            best_est = est\n",
    "            best_depth = depth\n",
    "            \n",
    "\n",
    "print('Лучшия средняя f1:', best_score)\n",
    "print('Глубина для лучшей модели:', best_depth)\n",
    "print('Количество деревьев для лучшей модели:', best_est)"
   ]
  },
  {
   "cell_type": "markdown",
   "metadata": {},
   "source": [
    "#### Баланс/Дисбаланс классов\n",
    "\n",
    "Выше в работе мы увидели что исполненных заказов бльше, чем отмененных, уточним как эти величины друг к другу относятся и попробуем поиграть с балансом, создать модель для каждой новой выборки, рассчитать f1 и выбрать лучше всего обученнную модель.\n"
   ]
  },
  {
   "cell_type": "code",
   "execution_count": 49,
   "metadata": {},
   "outputs": [
    {
     "name": "stdout",
     "output_type": "stream",
     "text": [
      "0    0.631435\n",
      "1    0.368565\n",
      "Name: is_canceled, dtype: float64\n"
     ]
    },
    {
     "data": {
      "image/png": "[encoded data removed]",
      "text/plain": [
       "<Figure size 432x288 with 1 Axes>"
      ]
     },
     "metadata": {
      "needs_background": "light"
     },
     "output_type": "display_data"
    }
   ],
   "source": [
    "\n",
    "class_frequency = df_train['is_canceled'].value_counts(normalize=True)\n",
    "print(class_frequency)\n",
    "class_frequency.plot(kind='bar')\n",
    "plt.title('Cоотношение значений целевого признака');"
   ]
  },
  {
   "cell_type": "code",
   "execution_count": 50,
   "metadata": {},
   "outputs": [
    {
     "name": "stdout",
     "output_type": "stream",
     "text": [
      "0    0.611659\n",
      "1    0.388341\n",
      "Name: is_canceled, dtype: float64\n"
     ]
    },
    {
     "data": {
      "image/png": "[encoded data removed]",
      "text/plain": [
       "<Figure size 432x288 with 1 Axes>"
      ]
     },
     "metadata": {
      "needs_background": "light"
     },
     "output_type": "display_data"
    }
   ],
   "source": [
    "\n",
    "class_frequency = df_test['is_canceled'].value_counts(normalize=True)\n",
    "print(class_frequency)\n",
    "class_frequency.plot(kind='bar')\n",
    "plt.title('Cоотношение значений целевого признака');"
   ]
  },
  {
   "cell_type": "markdown",
   "metadata": {},
   "source": [
    "<div class=\"alert alert-success\">\n",
    "<h2>Комментарий ревьюера<a class=\"tocSkip\"></a></h2>\n",
    "    \n",
    "**Отлично!** ✔️: верно, дисбаланс есть, хоть и не критичный</div>"
   ]
  },
  {
   "cell_type": "code",
   "execution_count": 51,
   "metadata": {},
   "outputs": [
    {
     "name": "stdout",
     "output_type": "stream",
     "text": [
      "Отрицательных значений 40893\n",
      "\n",
      "Положительных значений 23869\n"
     ]
    }
   ],
   "source": [
    "features_zeros = features_train[target_train == 0] \n",
    "target_zeros = target_train[target_train == 0] \n",
    "\n",
    "features_ones = features_train[target_train == 1]\n",
    "target_ones = target_train[target_train == 1]\n",
    "\n",
    "print('Отрицательных значений', target_zeros.shape[0])\n",
    "print()\n",
    "print('Положительных значений', target_ones.shape[0])"
   ]
  },
  {
   "cell_type": "code",
   "execution_count": 52,
   "metadata": {
    "scrolled": false
   },
   "outputs": [
    {
     "name": "stdout",
     "output_type": "stream",
     "text": [
      "Положительные значения целевого признака встречаются в 1.7 раза меньше, чем отрицательные\n"
     ]
    }
   ],
   "source": [
    "print('Положительные значения целевого признака встречаются в {} раза меньше, чем отрицательные'.format(\n",
    "    round(target_zeros.shape[0]/target_ones.shape[0], 1)))"
   ]
  },
  {
   "cell_type": "markdown",
   "metadata": {},
   "source": [
    "~##### Уменьшение мажоритарной выборки.~"
   ]
  },
  {
   "cell_type": "markdown",
   "metadata": {},
   "source": [
    "#Напишем функцию которая принимает на вход массив данных, возвращает обновленные данные в которых реже\n",
    "#встречаются обекты с целевым признаком который приянл отрицательное значение\n",
    "\n",
    "def downsample (features, target, fraction):\n",
    "    #Делим подборку по значению целевого признака\n",
    "    features_zeros = features[target == 0]\n",
    "    features_ones = features[target == 1]\n",
    "    target_zeros = target[target == 0]\n",
    "    target_ones = target[target == 1]\n",
    "    \n",
    "    features_downsamled = pd.concat([features_zeros.sample(frac = fraction, random_state = 12345)] +\n",
    "                                 [features_ones])\n",
    "    target_downsamled = pd.concat([target_zeros.sample(frac = fraction, random_state = 12345)] +\n",
    "                               [target_ones])\n",
    "     \n",
    "    features_downsamled, target_downsampled = shuffle(\n",
    "        features_downsamled, target_downsamled, random_state=12345)\n",
    "    \n",
    "    return features_downsamled, target_downsampled \n",
    "\n",
    "features_downsamled, target_downsampled = downsample(features_train, target_train, 0.6)~"
   ]
  },
  {
   "cell_type": "markdown",
   "metadata": {},
   "source": [
    "<div class=\"alert alert-danger\">\n",
    "<h2>Комментарий ревьюера<a class=\"tocSkip\"></a></h2>\n",
    "\n",
    "**Нужно доработать** ❌: так как сравнивать модели необходимо на кросс-валидации, то необходимо будет учесть, что на upsample/downsample выборках нельзя проводить кросс-валидацию:\n",
    "- так как upsample дублирует уже имеющиеся объекты, то при кросс-валидации в валидационные фолды могут попасть дубликаты, из-за чего модель почти гарантированно переобучится;\n",
    "- в случае downsample в фолдах окажутся более сбалансированные выборки, чем исходная, поэтому метрики окажутся завышенными;\n",
    "    \n",
    "<a href=\"https://kiwidamien.github.io/how-to-do-cross-validation-when-upsampling-data.html\" target=\"blank_\">Тут</a> можно почитать про это подробнее. Лучшей стратегией будет либо попробовать пайплайны из imblearn, как описано в статье, либо использовать другой способ борьбы с дисбалансом, либо реализовать собственную кросс-валидацию</div>"
   ]
  },
  {
   "cell_type": "markdown",
   "metadata": {},
   "source": [
    "#проверим количество объектов в урезанной подборке\n",
    "\n",
    "print('Отрицательных значений', len(target_downsampled[target_downsampled == 0]))\n",
    "print()\n",
    "print('Положительных значений', len(target_downsampled[target_downsampled == 1]))\n"
   ]
  },
  {
   "cell_type": "markdown",
   "metadata": {},
   "source": [
    "~Функция работает корректно, соотношение выборок изменилось, стало примерно 1:1.~"
   ]
  },
  {
   "cell_type": "markdown",
   "metadata": {},
   "source": [
    " ~**Работа логистической регрессии регрессии при уменьшенном мажоре**~"
   ]
  },
  {
   "cell_type": "markdown",
   "metadata": {},
   "source": [
    "model = LogisticRegression(random_state=state, solver='liblinear')\n",
    "model.fit(features_downsamled, target_downsampled)\n",
    "predicted = model.predict(features_test)\n",
    "\n",
    "print('f1 линейной регреессии на отредактированной (уменьшенной) выборке равно', f1_score(predicted, target_test))"
   ]
  },
  {
   "cell_type": "markdown",
   "metadata": {},
   "source": [
    "~**Работа дерева решений при уменьшенном мажоре**~"
   ]
  },
  {
   "cell_type": "markdown",
   "metadata": {},
   "source": [
    "best_depth = 0\n",
    "best_score = 0\n",
    "\n",
    "for depth  in range(1, 30):\n",
    "    tree = DecisionTreeClassifier(max_depth = depth, random_state=state)\n",
    "    tree.fit(features_downsamled, target_downsampled)\n",
    "    predicted = tree.predict(features_test)\n",
    "    score = f1_score(target_test, predicted)\n",
    "    if score > best_score:\n",
    "        best_score = score\n",
    "        best_depth = depth\n",
    "        \n",
    "print('Лучший результат f1 = {}, показало дерево глубиной {}'.format(best_score, best_depth))"
   ]
  },
  {
   "cell_type": "markdown",
   "metadata": {},
   "source": [
    "~**Работа леса случайных деревьев при уменьшенном мажоре**~"
   ]
  },
  {
   "cell_type": "markdown",
   "metadata": {},
   "source": [
    "best_est = 0\n",
    "best_depth = 0\n",
    "best_score = 0\n",
    "\n",
    "for est in (1, 150, 4):\n",
    "    for depth in (1, 21):\n",
    "        forest = RandomForestClassifier(max_depth = depth, n_estimators = est, random_state = state)\n",
    "        forest.fit(features_downsamled, target_downsampled)\n",
    "        predicted = forest.predict(features_test)\n",
    "        score = f1_score(target_test, predicted)\n",
    "        if score > best_score:\n",
    "            best_score = score\n",
    "            best_est = est\n",
    "            best_depth = depth\n",
    "            \n",
    "\n",
    "print('f1 лучшей модели для леса:', best_score)\n",
    "print('Глубина для лучшей модели:', best_depth)\n",
    "print('Количество деревьев для лучшей модели:', best_est)"
   ]
  },
  {
   "cell_type": "markdown",
   "metadata": {},
   "source": [
    "##### Увеличение миноритарной выборки"
   ]
  },
  {
   "cell_type": "code",
   "execution_count": 53,
   "metadata": {},
   "outputs": [],
   "source": [
    "kf = KFold(n_splits=5, random_state=12, shuffle=True)"
   ]
  },
  {
   "cell_type": "code",
   "execution_count": null,
   "metadata": {
    "scrolled": true
   },
   "outputs": [],
   "source": [
    "imba_pipeline = make_pipeline(SMOTE(random_state=state), \n",
    "                              RandomForestClassifier(n_estimators=100, random_state=state))\n",
    "cross_val_score(imba_pipeline, features_train, target_train, scoring='f1', cv=kf)"
   ]
  },
  {
   "cell_type": "code",
   "execution_count": null,
   "metadata": {},
   "outputs": [],
   "source": [
    "params = {\n",
    "    'n_estimators': [50, 100, 200],\n",
    "    'max_depth': [4, 6, 10, 12],\n",
    "    'random_state': 'state'}\n",
    "\n",
    "score_tracker = []\n",
    "for n_estimators in params['n_estimators']:\n",
    "    for max_depth in params['max_depth']:\n",
    "        example_params = {\n",
    "            'n_estimators': n_estimators,\n",
    "            'max_depth': max_depth,\n",
    "            'random_state': 'state'\n",
    "        }\n",
    "        example_params['f1'] = score_model(RandomForestClassifier, \n",
    "                                               example_params, cv=kf).mean()\n",
    "        score_tracker.append(example_params)\n",
    "        \n",
    "# What's the best model?\n",
    "sorted(score_tracker, key=lambda x: x['f1'], reverse=True)[0]"
   ]
  },
  {
   "cell_type": "code",
   "execution_count": null,
   "metadata": {},
   "outputs": [],
   "source": []
  },
  {
   "cell_type": "code",
   "execution_count": null,
   "metadata": {},
   "outputs": [],
   "source": []
  },
  {
   "cell_type": "code",
   "execution_count": null,
   "metadata": {},
   "outputs": [],
   "source": []
  },
  {
   "cell_type": "code",
   "execution_count": null,
   "metadata": {},
   "outputs": [],
   "source": [
    "params = \n",
    "\n",
    "def score_model(model, params, cv=None):\n",
    "\n",
    "    if cv is None:\n",
    "        cv = KFold(n_splits=5, random_state=state)\n",
    "\n",
    "    smoter = SMOTE(random_state=state)\n",
    "    \n",
    "    scores = []\n",
    "\n",
    "    for train_fold_index, val_fold_index in cv.split(features_train, target_train):\n",
    "        # Get the training data\n",
    "        X_train_fold, y_train_fold = X_train.iloc[train_fold_index], y_train[train_fold_index]\n",
    "        # Get the validation data\n",
    "        X_val_fold, y_val_fold = X_train.iloc[val_fold_index], y_train[val_fold_index]\n",
    "\n",
    "        # Upsample only the data in the training section\n",
    "        X_train_fold_upsample, y_train_fold_upsample = smoter.fit_resample(X_train_fold,\n",
    "                                                                           y_train_fold)\n",
    "        # Fit the model on the upsampled training data\n",
    "        model_obj = model(**params).fit(X_train_fold_upsample, y_train_fold_upsample)\n",
    "        # Score the model on the (non-upsampled) validation data\n",
    "        score = f1_score(y_val_fold, model_obj.predict(X_val_fold))\n",
    "        scores.append(score)\n",
    "    return np.array(scores)\n",
    "\n",
    "# Example of the model in action\n",
    "score_model(RandomForestClassifier, example_params, cv=kf)"
   ]
  },
  {
   "cell_type": "code",
   "execution_count": null,
   "metadata": {},
   "outputs": [],
   "source": []
  },
  {
   "cell_type": "code",
   "execution_count": null,
   "metadata": {},
   "outputs": [],
   "source": []
  },
  {
   "cell_type": "code",
   "execution_count": null,
   "metadata": {},
   "outputs": [],
   "source": []
  },
  {
   "cell_type": "code",
   "execution_count": null,
   "metadata": {},
   "outputs": [],
   "source": []
  },
  {
   "cell_type": "code",
   "execution_count": null,
   "metadata": {},
   "outputs": [],
   "source": []
  },
  {
   "cell_type": "code",
   "execution_count": null,
   "metadata": {},
   "outputs": [],
   "source": []
  },
  {
   "cell_type": "code",
   "execution_count": null,
   "metadata": {},
   "outputs": [],
   "source": []
  },
  {
   "cell_type": "code",
   "execution_count": null,
   "metadata": {},
   "outputs": [],
   "source": []
  },
  {
   "cell_type": "code",
   "execution_count": null,
   "metadata": {},
   "outputs": [],
   "source": [
    "oversample = SMOTE(random_state=state)\n",
    "features_train_up, target_train_up = oversample.fit_resample(features_train, target_train)"
   ]
  },
  {
   "cell_type": "markdown",
   "metadata": {},
   "source": [
    "<div class=\"alert alert-success\">\n",
    "<h2>Комментарий ревьюера<a class=\"tocSkip\"></a></h2>\n",
    "    \n",
    "**Отлично!** ✔️: круто, что знаешь про SMOTE!</div>"
   ]
  },
  {
   "cell_type": "markdown",
   "metadata": {},
   "source": [
    "<div class=\"alert alert-warning\">\n",
    "<h2>Комментарий ревьюера<a class=\"tocSkip\"></a></h2>\n",
    "    \n",
    "**Есть совет** ⚠️: обрати внимание, что SMOTE при проведении кросс-валидации также может привести к смещению метрик, так как в валидационных фолдах тоже изменится баланс классов, не забудь поправить\n",
    "\n",
    "Чтобы этого избежать, можно также использовать пайплайны из imblearn: в статье, которую я приводил выше, для примера используется как раз SMOTE</div>"
   ]
  },
  {
   "cell_type": "code",
   "execution_count": null,
   "metadata": {},
   "outputs": [],
   "source": [
    "print('Отрицательных значений', len(target_train_up[target_train_up == 0]))\n",
    "print()\n",
    "print('Положительных значений', len(target_train_up[target_train_up == 1]))"
   ]
  },
  {
   "cell_type": "markdown",
   "metadata": {},
   "source": [
    "Соотношение положительной и отрицательной выборок 1:1"
   ]
  },
  {
   "cell_type": "markdown",
   "metadata": {},
   "source": [
    "***Работа логистической регрессии регрессии при увеличенном миноре***"
   ]
  },
  {
   "cell_type": "code",
   "execution_count": null,
   "metadata": {},
   "outputs": [],
   "source": [
    "lr_minor = LogisticRegression(random_state=state, solver='liblinear')\n",
    "model.fit(features_train_up, target_train_up)\n",
    "predicted = model.predict(features_test)\n",
    "\n",
    "print('f1 линейной регреессии на отредактированной (уменьшенной) выборке равно', f1_score(predicted, target_test))"
   ]
  },
  {
   "cell_type": "code",
   "execution_count": null,
   "metadata": {},
   "outputs": [],
   "source": [
    "best_model = lr_minor\n",
    "best_predicted = predicted"
   ]
  },
  {
   "cell_type": "markdown",
   "metadata": {},
   "source": [
    "**Работа дерева решений при увеличенном миноре**"
   ]
  },
  {
   "cell_type": "code",
   "execution_count": null,
   "metadata": {},
   "outputs": [],
   "source": [
    "best_depth = 0\n",
    "best_score = 0\n",
    "\n",
    "for depth  in range(1, 30):\n",
    "    tree = DecisionTreeClassifier(max_depth = depth, random_state=state)\n",
    "    tree.fit(features_train_up, target_train_up)\n",
    "    predicted = tree.predict(features_test)\n",
    "    score = f1_score(target_test, predicted)\n",
    "    if score > best_score:\n",
    "        best_score = score\n",
    "        best_depth = depth\n",
    "        \n",
    "print('Лучший результат f1 = {}, показало дерево глубиной {}'.format(best_score, best_depth))"
   ]
  },
  {
   "cell_type": "markdown",
   "metadata": {},
   "source": [
    "**Работа леса случайных деревьев при увеличенном миноре**"
   ]
  },
  {
   "cell_type": "code",
   "execution_count": null,
   "metadata": {},
   "outputs": [],
   "source": [
    "best_est = 0\n",
    "best_depth = 0\n",
    "best_score = 0\n",
    "\n",
    "for est in (1, 150, 4):\n",
    "    for depth in (1, 21):\n",
    "        forest = RandomForestClassifier(max_depth = depth, n_estimators = est, random_state = state)\n",
    "        forest.fit(features_train_up, target_train_up)\n",
    "        predicted = forest.predict(features_test)\n",
    "        score = f1_score(target_test, predicted)\n",
    "        if score > best_score:\n",
    "            best_score = score\n",
    "            best_est = est\n",
    "            best_depth = depth\n",
    "            \n",
    "\n",
    "print('f1 лучшей модели для леса:', best_score)\n",
    "print('Глубина для лучшей модели:', best_depth)\n",
    "print('Количество деревьев для лучшей модели:', best_est)"
   ]
  },
  {
   "cell_type": "markdown",
   "metadata": {},
   "source": [
    "**Средние оценки на различных выборках c использованием лучших моделей**\n",
    "\n",
    "\n",
    "\n",
    "| Модель                     | Несблансированная выборка| Уменьшенный минор | Увеличенный минор |\n",
    "|----------------------------|--------------------------|-------------------|-------------------|\n",
    "| Логистическая регрессия    |          0.597|       0.673       |   **0.678**       |\n",
    "| Дерево решений             |          0.578        |       0.667       |        0.613      |\n",
    "| Лес случайных деревьев     |          0.46          |       0.673       |           0.66    |"
   ]
  },
  {
   "cell_type": "markdown",
   "metadata": {},
   "source": [
    "Лучше всего себя показала модель обученная на увеличенной выборке.\n",
    "СОхраним ее и ее предсказания в переменныу best_model и best_predicted\n",
    "\n",
    "Теперь нужно посчитать прибыль с вычетов убытков и прверить окупились ли траты на создание системы.\n",
    "Добавим столбец в выборку с результами предсказаний нашей модели и на основании нее графу с суммой депозита, котрый нужно будет ввести."
   ]
  },
  {
   "cell_type": "code",
   "execution_count": null,
   "metadata": {},
   "outputs": [],
   "source": [
    "best_predicted = pd.Series(best_predicted)\n",
    "df_test['predicted'] = best_predicted"
   ]
  },
  {
   "cell_type": "code",
   "execution_count": null,
   "metadata": {},
   "outputs": [],
   "source": [
    "def deposit(row):\n",
    "    if row['reserved_room_type'] == 'A':\n",
    "        price =  1000\n",
    "        service = 400\n",
    "    elif row['reserved_room_type'] == 'B':\n",
    "        price =  800\n",
    "        service = 350\n",
    "    elif row['reserved_room_type'] == 'C':\n",
    "        price =  600\n",
    "        service = 350\n",
    "    elif row['reserved_room_type'] == 'D':\n",
    "        price =  550\n",
    "        service = 150\n",
    "    elif row['reserved_room_type'] == 'E':\n",
    "        price =  500\n",
    "        service = 150\n",
    "    elif row['reserved_room_type'] == 'F':\n",
    "        price =  450\n",
    "        service = 150\n",
    "    else:\n",
    "        price =  350\n",
    "        service = 150\n",
    "    #Определим сезон и коэффициент\n",
    "    if row['arrival_date_month'] in season_low:\n",
    "        coefficient = 1\n",
    "    elif row['arrival_date_month'] in season_mid:\n",
    "        coefficient = 1.2\n",
    "    elif row['arrival_date_month'] in season_high:\n",
    "        coefficient = 1.4\n",
    "    #Hасчитываем сумму депозита\n",
    "    if row['predicted'] == 0:\n",
    "        return 0\n",
    "    if row['predicted'] == 1:\n",
    "        return price * coefficient_deposit + service"
   ]
  },
  {
   "cell_type": "code",
   "execution_count": null,
   "metadata": {},
   "outputs": [],
   "source": [
    "df_test['deposit'] = df_test.apply(deposit, axis=1)\n",
    "df_test.head(10)"
   ]
  },
  {
   "cell_type": "markdown",
   "metadata": {},
   "source": [
    "Теперь напишем функцию которая посчитает прибыль после введения новой системы предсказаний отомен и обязательных депозитов."
   ]
  },
  {
   "cell_type": "code",
   "execution_count": null,
   "metadata": {},
   "outputs": [],
   "source": [
    "def profit_b(row):\n",
    "    if row['predicted'] == 0:\n",
    "        return row['profit']\n",
    "    else:\n",
    "        return row['deposit']\n",
    "    \n",
    "df_test['profit_b'] = df_test.apply(profit_b, axis=1)\n",
    "df_test.head()"
   ]
  },
  {
   "cell_type": "markdown",
   "metadata": {},
   "source": [
    "<div class=\"alert alert-danger\">\n",
    "<h2>Комментарий ревьюера<a class=\"tocSkip\"></a></h2>\n",
    "\n",
    "**Нужно доработать** ❌: не совсем, здесь есть пара важных моментов:\n",
    "1. При расчете депозита к стоимости за номер также будет применяться сезонный коэффициент\n",
    "2. Согласно заданию, размер депозита составляет 80% от стоимости номера за одни сутки ***и затрат на разовую уборку***, то есть коэффициент 0.8 будет применяться и к стоимости уборки\n",
    "3. Так как модель будет предсказывать отмену брони не идеально, то для корректного расчета прибыли после внедрения модели, нужно одновременно учитывать факт отмены и предсказания модели. Чтобы не запутаться, можно рассмотреть все возможные варианты:\n",
    "    \n",
    "    `is_canceled = 0, predictions = 0` — постоялец заселился (profit > 0), модель предсказала, что он заселится. В этом случае прибыль отеля никак не меняется\n",
    "    \n",
    "    `is_canceled = 0, predictions = 1` — постоялец заселился (profit > 0), модель предсказала, что он отменит. В этом случае постоялец внесёт депозит, который пойдёт в счёт оплаты, то есть в этом случае прибыль отеля тоже никак не меняется.\n",
    "    \n",
    "    `is_canceled = 1, predictions = 0` — постоялец отменил бронь (profit < 0), модель предсказала, что он заселится, то есть депозит с такого клиента не брали. Тогда прибыль отеля тоже никак не меняется, отель просто потерял деньги, как и до внедрения модели.\n",
    "                                                                              \n",
    "    `is_canceled = 1, predictions = 1` — постоялец отменил бронь (profit < 0), модель предсказала, что он отменит, с постояльца взяли депозит в 80% от стоимости номера за одни сутки с учетом сезонного коэффициента и затрат на разовую уборку, отель потеряет только 20% от той суммы, которую терял без модели, так как остальное покроет депозит</div>"
   ]
  },
  {
   "cell_type": "code",
   "execution_count": null,
   "metadata": {},
   "outputs": [],
   "source": [
    "#посчитаем разницу прибылей в тестовый период доввеления новшеств и после\n",
    "print('После введения системы обязательных депозитов выручка изменилась на',  df_test['profit_b'].sum() - df_test['profit'].sum())"
   ]
  },
  {
   "cell_type": "markdown",
   "metadata": {},
   "source": [
    "Разница в прибыли с внедрением системы составляет больше 15 млн рублей.\n",
    "     Это во много раз больше затраченнных на производство 400 000 рублей"
   ]
  },
  {
   "cell_type": "markdown",
   "metadata": {},
   "source": [
    "**Промежуточный вывод:**\n",
    "\n",
    "На данном этапе работы были изучены модели:\n",
    "- линейная регрессия\n",
    "- дерево решений\n",
    "- лес случайных моделей\n",
    "\n",
    "Для каждой были подобораны параметры, при которых модель показывала лучший результат.\n",
    "\n",
    "Далее был выявлен дисбаланс классов. И были созданы новые подборки:\n",
    "- подборка с увеличенным миноритарным признаком\n",
    "- подборка с уменьшенным мажоритарным признаком\n",
    "\n",
    "На каждой опять обучены те же модели с оптимальными гиперпараметрами и выбраны лучший.\n",
    "\n",
    "Показатели качества всех моделей сведены в таблицу, из которой видно что лучшей показала себя модель линейной регрессии на увеличенном миноре.\n",
    "\n",
    "**Показатели f1 на различных выборках c использованием лучших моделей**\n",
    "\n",
    "\n",
    "\n",
    "| Модель                     | Несблансированная выборка| Уменьшенный минор | Увеличенный минор |\n",
    "|----------------------------|--------------------------|-------------------|-------------------|\n",
    "| Логистическая регрессия    |          0.733          |       0.673       |   **0.678**       |\n",
    "| Дерево решений             |          0.647           |       0.667       |        0.613      |\n",
    "| Лес случайных деревьев     |          0.626           |       0.673       |           0.66    |\n",
    "\n",
    "\n",
    "Предсказанные ею значения добавлены в таблицу с тестовыми данными. Но основании их расчитан обязательный депозит, с учетом этого рассчитана прибыль отеля после внедрения новшеств.\n",
    "\n",
    "Разница в прибыли с внедрением системы составляет больше 15 млн рублей.\n",
    "\n",
    "Это во много раз больше затраченнных на производство 400 000 рублей. \n"
   ]
  },
  {
   "cell_type": "markdown",
   "metadata": {},
   "source": [
    "###  Опишите портрет «ненадёжного» клиента"
   ]
  },
  {
   "cell_type": "markdown",
   "metadata": {},
   "source": [
    "Посмотрим как рспределяются признаки отмененных заказов"
   ]
  },
  {
   "cell_type": "code",
   "execution_count": null,
   "metadata": {},
   "outputs": [],
   "source": [
    "#Выберем столбцы, распределения в которых будем изучать\n",
    "analize_columns = (\n",
    "    df\n",
    "    .drop([\n",
    "    'id', 'is_canceled','arrival_date_year', 'profit', 'predicted', 'deposit', 'profit_b' ], axis = 1)\n",
    "    .columns\n",
    "    .to_list()\n",
    ")\n",
    "\n",
    "#Сгруппируем все значения по значению отмены и посмотрим, насколько равномерно распределяются топовые признаки\n",
    "for col in analize_columns:\n",
    "    print(df.groupby('is_canceled')[col].value_counts().head(5))\n",
    "    print()\n",
    "    print('********************************')\n",
    "    print()"
   ]
  },
  {
   "cell_type": "markdown",
   "metadata": {},
   "source": [
    "* много (почти каждый 3-й заказ) отмен встречается в заказах без детей.\n",
    "\n",
    "* много (почти каждый 3 заказ) отмен встречается в заказах которые связаны с каналом дистрибьюции TA/TO.\n",
    "\n",
    "* так же часто делают отмены люди которые бронируют отели самостоятельно (без сторонней компании или группы)"
   ]
  },
  {
   "cell_type": "markdown",
   "metadata": {},
   "source": [
    "**Промежуточный вывод:**\n",
    "\n",
    "Портрeт \"ненадежного\" клиента:\n",
    "    Клиент пришедший через канал дистрибуции TA/TO, без детей и путешествет \"дикарем\"."
   ]
  },
  {
   "cell_type": "markdown",
   "metadata": {},
   "source": [
    "<div class=\"alert alert-warning\">\n",
    "<h2>Комментарий ревьюера<a class=\"tocSkip\"></a></h2>\n",
    "    \n",
    "**Есть совет** ⚠️: окей, а как влияют остальные признаки: количество дней между бронированием и заездом, гражданство постояльца, количество парковочных мест и т.д.?\n",
    "\n",
    "Для составления более полного портрета «ненадежного» клиента как раз пригодится визуализация с этапа исследовательского анализа: при вызове countplot/histplot в параметр `hue` можно передать целевой признак, чтобы построить графики сразу для обеих групп ушел/остался</div>"
   ]
  },
  {
   "cell_type": "markdown",
   "metadata": {},
   "source": [
    "<div class=\"alert alert-warning\">\n",
    "<h2>Комментарий ревьюера<a class=\"tocSkip\"></a></h2>\n",
    "    \n",
    "**Есть совет** ⚠️: если интересно, то еще можно узнать, как именно тот или иной признак влияет на обучение модели, для этого есть **feature_importances**, то есть важность признаков для решения модели. Это позволит дополнить портрет «ненадежного» клиента, а также убедиться, что модель обучилась корректно, сравнив результаты исследовательского анализа с результатами модели. А если важность очень мала, то такие признаки можно даже удалить, метрики, вероятно, поменяются незначительно\n",
    "    \n",
    "Также помимо встроенных методов, можно попробовать изучить важность признаков по-другому: например, с помощью библиотеки <a href=\"https://shap.readthedocs.io/en/latest/index.html\">SHAP</a>. Одно из преимушеств этого подхода в том, что он позволяет оценить важность признака независимо от остальных признаков.<a href=\"https://habr.com/ru/articles/428213/\" target=\"blank_\">Здесь</a> можно подробнее почитать про сам принцип алгоритма, а <a href=\"https://www.kaggle.com/code/wrosinski/shap-feature-importance-with-feature-engineering\" target=\"blank_\">тут</a> есть подробный пример использования\n",
    "    \n",
    "Подробнее про **feature_importances**:\n",
    "* https://towardsdatascience.com/understanding-feature-importance-and-how-to-implement-it-in-python-ff0287b20285\n",
    "* https://medium.com/analytics-vidhya/feature-importance-explained-bfc8d874bcf\n",
    "* https://scikit-learn.org/stable/auto_examples/ensemble/plot_forest_importances.html\n",
    "* https://christophm.github.io/interpretable-ml-book/feature-importance.html\n",
    "</div>"
   ]
  },
  {
   "cell_type": "markdown",
   "metadata": {},
   "source": [
    "## Общий вывод"
   ]
  },
  {
   "cell_type": "markdown",
   "metadata": {},
   "source": [
    "Для данной работы мы получили два массива данных. Их отредактировали, обработали и приобразовали:\n",
    "\n",
    "- На данном этапе работы мы проверили данные на корректность форматов, исправили где необходимо:\n",
    "    - Поменяли тип на целочисленный, в столбцах с указанием количества гостей, детей, младенцев. А так же в графе с информацией о количестве дней между бронированием и заездом.\n",
    "    - Для удобства дальнейшей работы изменили название месяцев на номера.\n",
    "- Изучили период времени за который представлены данные\n",
    "    - в тренировочных данных содержится информация о 65 228 заказах сделанных в период июль 2015 - декабрь 2016.\n",
    "    - в тестовых информация о заказах с январь по июль 2017-го.\n",
    "- Данные проверены на наличие пропусков и дубликатов, явных и неявных. Оных не обнаружено.\n",
    "\n",
    "- Заказы проверены на выбросы:\n",
    "\n",
    "     - Исключены заказы длительность подтверждения которых больше 150 дней.\n",
    "     - Исключены заказы в которых количество младенцев 9 и 10.\n",
    "     - Так же исключены заказы в которых нет ни одного взрослого.\n",
    "\n",
    "- Проведен анализ составлен график заказов по таким признакам как страна, длительность заезда, канал дистрибуции и какие дополнительно заказанным опциям.\n",
    "\n",
    "    - Чаще прочих делают заказы с включенным завтраком. На втором месте, но в 3 раза реже встречается заказ без дополнительных опций. Самый непопулярный вариант это \"включён завтрак, обед и ужин\". Соотношение исполненных заказов пропорционально отмененным.\n",
    "\n",
    "    - Чаще всего заказы поступают через TA/TO. Самый непопулярный канал дистрируции \"GDS\". Соотношение исполненных заказов пропорционально отмененным.\n",
    "\n",
    "    - Самый популярное количество ночей для заказа 1-4, Заказы включающие 3 ночи, чаще других отменяются. Реже всего снимают номер на 8-10 ночей.   \n",
    "\n",
    "    - Топ 3 по количеству заказов Португалия, Германия и Франция. Португальцы так же и самые непостоянные, отменяют заказы чаще, чем приезжают.\n",
    "\n",
    "____________________________\n",
    "\n",
    "Затем написали функцию которая рассчитала прибыль от всех заказов, положительную от исполненных и отрицательную от отененных.\n",
    "- Далее с использованием этих данных мы сделали сводную таблицу в которой был указана суммарная доход и убыток по месяцам, а так же дополнили столбцами с расчитанными значениями:\n",
    "    - общее количество всех заказов\n",
    "    - доля отмененных заказов и всех\n",
    "    - прибыль с вычетом убытков\n",
    "- Полученнные данные были проанализированы\n",
    "\n",
    " **АНАЛИТИКА ПО 2015-му ГОДУ:**\n",
    "\n",
    "    - За 2015-й год доход от исполненных заказов составил 28 868 480 руб, с вычетом убытков от отмененных заказов (а это 11 436 410 рублей) 17 432 070 .\n",
    "\n",
    "    - Заказов за этот перод время было 18314, 39% из них, то есть 7188 были отменены\n",
    "\n",
    "    - Самый прибыльный месяц с июля по декабрь - октябрь 4 368 690 руб\n",
    "\n",
    "    - Самая маленькая прибыль обозначенного периода за декабрь 1 727 100 руб.\n",
    "    \n",
    "  **АНАЛИТИКА ПО 2016-му ГОДУ:**\n",
    "\n",
    "    - За 2016-й год доход от исполненных заказов составил 66 905 590 руб, c с вычетом убытков от отмененных заказов (а это 24 214 380 рублей) 42 691 210.0 .\n",
    "\n",
    "    - Заказов за этот перод время было 46 901, 36% из них, то есть 16 852 были отменены  \n",
    "\n",
    "    - Самый прибыльным периодом ожидаемо оказалось лето, самый топовый месяц - июль прибыль 1 081 250 руб\n",
    "\n",
    "    - Самая маленькая прибыль обозначенного периода за январь 2 465 350 руб.\n",
    "    \n",
    "  **АНАЛИТИКА ПО 2016-му ГОДУ:**\n",
    "\n",
    "    - За первое полугодие 2017-го года доход от исполненных заказов составил 50 494 480 руб, с вычетом убытков от отмененных заказов (а это 17 995 870 рублей) 32 498 610.\n",
    "\n",
    "    - Заказов за этот перод времени было 32335, 38,8% из них, то есть 12 557 были отменены\n",
    "\n",
    "    - Самый прибыльным  месяцем оказался март, прибыль 5 049 730 руб.\n",
    "\n",
    "    - Самая маленькая прибыль обозначенного периода  - январь  2 167 850 руб.\n",
    "\n",
    "Далее была разработана модель для предсказания отмены клиентом заказа.\n",
    "\n",
    "________\n",
    "\n",
    "На данном этапе работы были изучены модели:\n",
    "- линейная регрессия\n",
    "- дерево решений\n",
    "- лес случайных моделей\n",
    "\n",
    "Для каждой были подобораны параметры, при которых модель показывала лучший результат.\n",
    "\n",
    "Далее был выявлен дисбаланс классов. И были созданы новые подборки:\n",
    "- подборка с увеличенным миноритарным признаком\n",
    "- подборка с уменьшенным мажоритарным признаком\n",
    "\n",
    "На каждой опять обучены те же модели с оптимальными гиперпараметрами и выбраны лучший.\n",
    "\n",
    "**Показатели f1 на различных выборках c использованием лучших моделей**\n",
    "\n",
    "\n",
    "\n",
    "| Модель                     | Несблансированная выборка| Уменьшенный минор | Увеличенный минор |\n",
    "|----------------------------|--------------------------|-------------------|-------------------|\n",
    "| Логистическая регрессия    |          0.63            |       0.673       |   **0.678**       |\n",
    "| Дерево решений             |          0.647           |       0.667       |        0.613      |\n",
    "| Лес случайных деревьев     |          0.626           |       0.673       |           0.66    |\n",
    "\n",
    "\n",
    "Показатели кажчества всех моделей сведены в таблицу, из которой видно что лучшей показала себя модель линейной регрессии на увеличенном миноре.\n",
    "\n",
    "Предсказанные ею значения добавлены в таблицу с тестовыми данными. Но основании их расчитан обязательный депозит, с учетом этого рассчитана прибыль отеля после внедрения новшеств.\n",
    "\n",
    "\n",
    "Разница в прибыли с внедрением системы составляет больше 15 млн рублей.\n",
    "\n",
    "Это во много раз больше затраченнных на производство 400 000 рублей.\n",
    "\n",
    "Так же в ходе работы были проанализированы отменные заказы и выявлен Портрeт \"ненадежного\" клиента:\n",
    "\n",
    "    Клиент пришедший через канал дистрибуции TA/TO, без детей и путешествет \"дикарем\"."
   ]
  },
  {
   "cell_type": "markdown",
   "metadata": {},
   "source": [
    "<div style=\"padding: 20px 25px; border: 2px #6495ed solid\">\n",
    "    \n",
    "<h2 style=\"color: #87187D\">Итоговый комментарий ревьюера<a class=\"tocSkip\"></a></h2>\n",
    "\n",
    "Видно, что ты приложила много усилий, спасибо за проект!\n",
    "\n",
    "Но тебе обязательно нужно обратить внимание на следующее:\n",
    "* доработай исследовательский анализ;\n",
    "* поправь этап масштабирования численных признаков;\n",
    "* выбери основную метрику и аргументируй свой выбор: подходящих метрик тут может быть несколько, но по сути основная задача с точки зрения ML — это минимизировать количество ложноотрицательных ответов. Но если разобраться, то и бизнес-метрика вполне может быть основной метрикой для оценки моделей, здорово, если у тебя получится это реализовать;\n",
    "* не используй тестовую выборку для сравнения моделей, для этих целей необходимо использовать кросс-валидацию;\n",
    "* при использованиии методов борьбы с дисбалансом убедись, что при проведении кросс-валидации дисбаланс устраняется только в обучающих фолдах;\n",
    "* поправь расчет прибыли после внедрения модели;\n",
    "\n",
    "Остальные комментарии можно найти в проекте. Готов ответить на любые вопросы :)\n",
    "\n",
    "<b>Жду доработанный проект на повторное ревью! Удачи!</b>\n",
    "        \n",
    "</div>"
   ]
  },
  {
   "cell_type": "code",
   "execution_count": null,
   "metadata": {},
   "outputs": [],
   "source": []
  }
 ],
 "metadata": {
  "ExecuteTimeLog": [
   {
    "duration": 488,
    "start_time": "2023-10-01T13:21:18.548Z"
   },
   {
    "duration": 159,
    "start_time": "2023-10-01T13:21:20.476Z"
   },
   {
    "duration": 1029,
    "start_time": "2023-10-01T13:21:28.653Z"
   },
   {
    "duration": 375,
    "start_time": "2023-10-01T13:21:57.995Z"
   },
   {
    "duration": 42,
    "start_time": "2023-10-01T13:52:35.930Z"
   },
   {
    "duration": 38,
    "start_time": "2023-10-01T13:53:51.273Z"
   },
   {
    "duration": 21,
    "start_time": "2023-10-01T13:56:38.726Z"
   },
   {
    "duration": 35,
    "start_time": "2023-10-01T13:56:59.107Z"
   },
   {
    "duration": 83,
    "start_time": "2023-10-01T14:36:13.656Z"
   },
   {
    "duration": 6,
    "start_time": "2023-10-01T14:36:44.674Z"
   },
   {
    "duration": 7,
    "start_time": "2023-10-01T14:37:07.773Z"
   },
   {
    "duration": 6,
    "start_time": "2023-10-01T14:46:12.147Z"
   },
   {
    "duration": 437,
    "start_time": "2023-10-01T14:59:54.543Z"
   },
   {
    "duration": 336,
    "start_time": "2023-10-01T14:59:54.982Z"
   },
   {
    "duration": 44,
    "start_time": "2023-10-01T14:59:55.324Z"
   },
   {
    "duration": 84,
    "start_time": "2023-10-01T14:59:55.372Z"
   },
   {
    "duration": 31,
    "start_time": "2023-10-01T14:59:55.458Z"
   },
   {
    "duration": 48,
    "start_time": "2023-10-01T14:59:55.491Z"
   },
   {
    "duration": 72,
    "start_time": "2023-10-01T14:59:55.541Z"
   },
   {
    "duration": 0,
    "start_time": "2023-10-01T14:59:55.614Z"
   },
   {
    "duration": 7,
    "start_time": "2023-10-01T15:11:16.091Z"
   },
   {
    "duration": 18,
    "start_time": "2023-10-01T15:11:34.960Z"
   },
   {
    "duration": 22,
    "start_time": "2023-10-01T15:11:44.651Z"
   },
   {
    "duration": 8,
    "start_time": "2023-10-01T15:12:57.960Z"
   },
   {
    "duration": 15,
    "start_time": "2023-10-01T15:13:41.028Z"
   },
   {
    "duration": 122,
    "start_time": "2023-10-01T15:13:52.597Z"
   },
   {
    "duration": 29,
    "start_time": "2023-10-01T15:14:05.224Z"
   },
   {
    "duration": 367,
    "start_time": "2023-10-01T17:13:10.286Z"
   },
   {
    "duration": 463,
    "start_time": "2023-10-01T17:13:10.655Z"
   },
   {
    "duration": 26,
    "start_time": "2023-10-01T17:13:11.119Z"
   },
   {
    "duration": 30,
    "start_time": "2023-10-01T17:13:11.146Z"
   },
   {
    "duration": 20,
    "start_time": "2023-10-01T17:13:11.179Z"
   },
   {
    "duration": 20,
    "start_time": "2023-10-01T17:13:11.201Z"
   },
   {
    "duration": 27,
    "start_time": "2023-10-01T17:13:11.223Z"
   },
   {
    "duration": 19,
    "start_time": "2023-10-01T17:13:11.252Z"
   },
   {
    "duration": 13,
    "start_time": "2023-10-01T17:13:11.273Z"
   },
   {
    "duration": 7,
    "start_time": "2023-10-01T17:15:23.346Z"
   },
   {
    "duration": 64,
    "start_time": "2023-10-01T17:16:20.682Z"
   },
   {
    "duration": 11,
    "start_time": "2023-10-01T17:18:14.482Z"
   },
   {
    "duration": 9,
    "start_time": "2023-10-01T17:19:12.009Z"
   },
   {
    "duration": 395,
    "start_time": "2023-10-01T17:20:48.189Z"
   },
   {
    "duration": 9,
    "start_time": "2023-10-01T17:22:47.562Z"
   },
   {
    "duration": 818,
    "start_time": "2023-10-01T17:25:11.537Z"
   },
   {
    "duration": 7,
    "start_time": "2023-10-01T17:25:38.327Z"
   },
   {
    "duration": 152,
    "start_time": "2023-10-01T17:34:59.171Z"
   },
   {
    "duration": 12,
    "start_time": "2023-10-01T17:35:09.782Z"
   },
   {
    "duration": 23,
    "start_time": "2023-10-01T17:36:02.312Z"
   },
   {
    "duration": 5,
    "start_time": "2023-10-01T17:36:40.835Z"
   },
   {
    "duration": 59,
    "start_time": "2023-10-01T17:36:53.656Z"
   },
   {
    "duration": 17,
    "start_time": "2023-10-01T17:37:10.274Z"
   },
   {
    "duration": 387,
    "start_time": "2023-10-01T17:37:39.733Z"
   },
   {
    "duration": 434,
    "start_time": "2023-10-01T17:38:14.327Z"
   },
   {
    "duration": 318,
    "start_time": "2023-10-01T17:38:50.336Z"
   },
   {
    "duration": 7,
    "start_time": "2023-10-01T17:39:22.431Z"
   },
   {
    "duration": 7,
    "start_time": "2023-10-01T17:39:26.811Z"
   },
   {
    "duration": 43,
    "start_time": "2023-10-01T17:39:39.340Z"
   },
   {
    "duration": 6,
    "start_time": "2023-10-01T17:39:41.301Z"
   },
   {
    "duration": 17,
    "start_time": "2023-10-01T17:40:22.506Z"
   },
   {
    "duration": 4,
    "start_time": "2023-10-01T17:40:24.389Z"
   },
   {
    "duration": 19,
    "start_time": "2023-10-01T17:40:32.963Z"
   },
   {
    "duration": 51,
    "start_time": "2023-10-01T17:42:09.516Z"
   },
   {
    "duration": 347,
    "start_time": "2023-10-01T17:42:45.278Z"
   },
   {
    "duration": 5,
    "start_time": "2023-10-01T17:42:47.563Z"
   },
   {
    "duration": 244,
    "start_time": "2023-10-01T17:44:44.348Z"
   },
   {
    "duration": 4,
    "start_time": "2023-10-01T17:44:46.901Z"
   },
   {
    "duration": 27,
    "start_time": "2023-10-01T17:44:50.153Z"
   },
   {
    "duration": 3,
    "start_time": "2023-10-01T17:45:35.047Z"
   },
   {
    "duration": 238,
    "start_time": "2023-10-01T17:45:35.052Z"
   },
   {
    "duration": 30,
    "start_time": "2023-10-01T17:45:35.292Z"
   },
   {
    "duration": 59,
    "start_time": "2023-10-01T17:45:35.325Z"
   },
   {
    "duration": 20,
    "start_time": "2023-10-01T17:45:35.386Z"
   },
   {
    "duration": 44,
    "start_time": "2023-10-01T17:45:35.408Z"
   },
   {
    "duration": 12,
    "start_time": "2023-10-01T17:45:35.454Z"
   },
   {
    "duration": 26,
    "start_time": "2023-10-01T17:45:35.468Z"
   },
   {
    "duration": 18,
    "start_time": "2023-10-01T17:45:35.496Z"
   },
   {
    "duration": 46,
    "start_time": "2023-10-01T17:45:35.516Z"
   },
   {
    "duration": 209,
    "start_time": "2023-10-01T17:45:35.563Z"
   },
   {
    "duration": 4,
    "start_time": "2023-10-01T17:45:35.775Z"
   },
   {
    "duration": 64,
    "start_time": "2023-10-01T17:45:35.781Z"
   },
   {
    "duration": 398,
    "start_time": "2023-10-01T17:46:04.583Z"
   },
   {
    "duration": 234,
    "start_time": "2023-10-01T17:46:04.983Z"
   },
   {
    "duration": 25,
    "start_time": "2023-10-01T17:46:05.218Z"
   },
   {
    "duration": 31,
    "start_time": "2023-10-01T17:46:05.245Z"
   },
   {
    "duration": 22,
    "start_time": "2023-10-01T17:46:05.278Z"
   },
   {
    "duration": 38,
    "start_time": "2023-10-01T17:46:05.301Z"
   },
   {
    "duration": 8,
    "start_time": "2023-10-01T17:46:05.350Z"
   },
   {
    "duration": 81,
    "start_time": "2023-10-01T17:46:05.360Z"
   },
   {
    "duration": 0,
    "start_time": "2023-10-01T17:46:05.443Z"
   },
   {
    "duration": 0,
    "start_time": "2023-10-01T17:46:05.444Z"
   },
   {
    "duration": 610,
    "start_time": "2023-10-01T17:46:26.092Z"
   },
   {
    "duration": 9,
    "start_time": "2023-10-01T17:47:08.743Z"
   },
   {
    "duration": 11,
    "start_time": "2023-10-01T17:47:27.342Z"
   },
   {
    "duration": 687,
    "start_time": "2023-10-01T17:47:41.384Z"
   },
   {
    "duration": 75,
    "start_time": "2023-10-01T17:48:37.484Z"
   },
   {
    "duration": 4,
    "start_time": "2023-10-01T17:48:47.274Z"
   },
   {
    "duration": 3,
    "start_time": "2023-10-01T17:49:30.856Z"
   },
   {
    "duration": 338,
    "start_time": "2023-10-01T17:49:30.861Z"
   },
   {
    "duration": 20,
    "start_time": "2023-10-01T17:49:31.201Z"
   },
   {
    "duration": 113,
    "start_time": "2023-10-01T17:49:31.223Z"
   },
   {
    "duration": 66,
    "start_time": "2023-10-01T17:49:31.339Z"
   },
   {
    "duration": 62,
    "start_time": "2023-10-01T17:49:31.408Z"
   },
   {
    "duration": 44,
    "start_time": "2023-10-01T17:49:31.472Z"
   },
   {
    "duration": 119,
    "start_time": "2023-10-01T17:49:31.518Z"
   },
   {
    "duration": 5,
    "start_time": "2023-10-01T17:49:31.639Z"
   },
   {
    "duration": 53,
    "start_time": "2023-10-01T17:49:31.646Z"
   },
   {
    "duration": 52,
    "start_time": "2023-10-01T17:49:31.701Z"
   },
   {
    "duration": 55,
    "start_time": "2023-10-01T17:49:31.755Z"
   },
   {
    "duration": 16,
    "start_time": "2023-10-01T17:49:48.448Z"
   },
   {
    "duration": 13,
    "start_time": "2023-10-01T17:49:51.186Z"
   },
   {
    "duration": 5,
    "start_time": "2023-10-01T17:49:53.296Z"
   },
   {
    "duration": 6,
    "start_time": "2023-10-01T17:50:02.245Z"
   },
   {
    "duration": 4,
    "start_time": "2023-10-01T17:50:36.207Z"
   },
   {
    "duration": 252,
    "start_time": "2023-10-01T17:50:36.214Z"
   },
   {
    "duration": 24,
    "start_time": "2023-10-01T17:50:36.468Z"
   },
   {
    "duration": 64,
    "start_time": "2023-10-01T17:50:36.494Z"
   },
   {
    "duration": 28,
    "start_time": "2023-10-01T17:50:36.561Z"
   },
   {
    "duration": 26,
    "start_time": "2023-10-01T17:50:36.590Z"
   },
   {
    "duration": 10,
    "start_time": "2023-10-01T17:50:36.618Z"
   },
   {
    "duration": 8,
    "start_time": "2023-10-01T17:50:36.650Z"
   },
   {
    "duration": 19,
    "start_time": "2023-10-01T17:50:36.660Z"
   },
   {
    "duration": 124,
    "start_time": "2023-10-01T17:50:36.684Z"
   },
   {
    "duration": 5,
    "start_time": "2023-10-01T17:50:36.811Z"
   },
   {
    "duration": 24,
    "start_time": "2023-10-01T17:50:36.818Z"
   },
   {
    "duration": 16,
    "start_time": "2023-10-01T17:50:36.844Z"
   },
   {
    "duration": 41,
    "start_time": "2023-10-01T17:50:36.861Z"
   },
   {
    "duration": 22,
    "start_time": "2023-10-01T17:51:59.825Z"
   },
   {
    "duration": 24,
    "start_time": "2023-10-01T17:52:20.511Z"
   },
   {
    "duration": 5,
    "start_time": "2023-10-01T17:53:34.034Z"
   },
   {
    "duration": 2,
    "start_time": "2023-10-01T17:54:52.451Z"
   },
   {
    "duration": 291,
    "start_time": "2023-10-01T17:54:52.455Z"
   },
   {
    "duration": 26,
    "start_time": "2023-10-01T17:54:52.749Z"
   },
   {
    "duration": 74,
    "start_time": "2023-10-01T17:54:52.777Z"
   },
   {
    "duration": 17,
    "start_time": "2023-10-01T17:54:52.853Z"
   },
   {
    "duration": 37,
    "start_time": "2023-10-01T17:54:52.872Z"
   },
   {
    "duration": 10,
    "start_time": "2023-10-01T17:54:52.911Z"
   },
   {
    "duration": 16,
    "start_time": "2023-10-01T17:54:52.923Z"
   },
   {
    "duration": 11,
    "start_time": "2023-10-01T17:54:52.940Z"
   },
   {
    "duration": 100,
    "start_time": "2023-10-01T17:54:52.953Z"
   },
   {
    "duration": 4,
    "start_time": "2023-10-01T17:54:53.057Z"
   },
   {
    "duration": 22,
    "start_time": "2023-10-01T17:54:53.063Z"
   },
   {
    "duration": 33,
    "start_time": "2023-10-01T17:54:53.087Z"
   },
   {
    "duration": 15,
    "start_time": "2023-10-01T17:54:53.122Z"
   },
   {
    "duration": 39,
    "start_time": "2023-10-01T17:54:53.138Z"
   },
   {
    "duration": 3,
    "start_time": "2023-10-01T17:55:04.686Z"
   },
   {
    "duration": 258,
    "start_time": "2023-10-01T17:55:04.691Z"
   },
   {
    "duration": 17,
    "start_time": "2023-10-01T17:55:04.951Z"
   },
   {
    "duration": 38,
    "start_time": "2023-10-01T17:55:04.969Z"
   },
   {
    "duration": 24,
    "start_time": "2023-10-01T17:55:05.009Z"
   },
   {
    "duration": 152,
    "start_time": "2023-10-01T17:55:05.049Z"
   },
   {
    "duration": 12,
    "start_time": "2023-10-01T17:55:05.202Z"
   },
   {
    "duration": 26,
    "start_time": "2023-10-01T17:55:05.216Z"
   },
   {
    "duration": 6,
    "start_time": "2023-10-01T17:55:05.244Z"
   },
   {
    "duration": 112,
    "start_time": "2023-10-01T17:55:05.252Z"
   },
   {
    "duration": 4,
    "start_time": "2023-10-01T17:55:05.366Z"
   },
   {
    "duration": 16,
    "start_time": "2023-10-01T17:55:05.371Z"
   },
   {
    "duration": 32,
    "start_time": "2023-10-01T17:55:05.389Z"
   },
   {
    "duration": 5,
    "start_time": "2023-10-01T17:55:05.424Z"
   },
   {
    "duration": 45,
    "start_time": "2023-10-01T17:55:05.431Z"
   },
   {
    "duration": 6,
    "start_time": "2023-10-01T17:55:47.582Z"
   },
   {
    "duration": 10,
    "start_time": "2023-10-01T17:56:15.748Z"
   },
   {
    "duration": 18,
    "start_time": "2023-10-01T17:56:42.349Z"
   },
   {
    "duration": 32,
    "start_time": "2023-10-01T18:00:15.343Z"
   },
   {
    "duration": 43,
    "start_time": "2023-10-01T18:00:51.773Z"
   },
   {
    "duration": 15,
    "start_time": "2023-10-01T18:02:15.779Z"
   },
   {
    "duration": 12,
    "start_time": "2023-10-01T18:03:50.071Z"
   },
   {
    "duration": 117,
    "start_time": "2023-10-01T18:04:02.766Z"
   },
   {
    "duration": 11,
    "start_time": "2023-10-01T18:05:52.513Z"
   },
   {
    "duration": 3,
    "start_time": "2023-10-01T18:07:48.363Z"
   },
   {
    "duration": 295,
    "start_time": "2023-10-01T18:07:48.369Z"
   },
   {
    "duration": 20,
    "start_time": "2023-10-01T18:07:48.666Z"
   },
   {
    "duration": 42,
    "start_time": "2023-10-01T18:07:48.688Z"
   },
   {
    "duration": 29,
    "start_time": "2023-10-01T18:07:48.732Z"
   },
   {
    "duration": 45,
    "start_time": "2023-10-01T18:07:48.763Z"
   },
   {
    "duration": 14,
    "start_time": "2023-10-01T18:07:48.810Z"
   },
   {
    "duration": 25,
    "start_time": "2023-10-01T18:07:48.826Z"
   },
   {
    "duration": 120,
    "start_time": "2023-10-01T18:07:48.853Z"
   },
   {
    "duration": 19,
    "start_time": "2023-10-01T18:07:48.975Z"
   },
   {
    "duration": 27,
    "start_time": "2023-10-01T18:07:48.995Z"
   },
   {
    "duration": 110,
    "start_time": "2023-10-01T18:07:49.024Z"
   },
   {
    "duration": 14,
    "start_time": "2023-10-01T18:07:49.137Z"
   },
   {
    "duration": 458,
    "start_time": "2023-10-02T16:15:54.361Z"
   },
   {
    "duration": 815,
    "start_time": "2023-10-02T16:15:54.823Z"
   },
   {
    "duration": 35,
    "start_time": "2023-10-02T16:15:55.640Z"
   },
   {
    "duration": 33,
    "start_time": "2023-10-02T16:15:55.679Z"
   },
   {
    "duration": 42,
    "start_time": "2023-10-02T16:15:55.715Z"
   },
   {
    "duration": 44,
    "start_time": "2023-10-02T16:15:55.762Z"
   },
   {
    "duration": 24,
    "start_time": "2023-10-02T16:15:55.808Z"
   },
   {
    "duration": 115,
    "start_time": "2023-10-02T16:15:55.834Z"
   },
   {
    "duration": 45,
    "start_time": "2023-10-02T16:15:55.950Z"
   },
   {
    "duration": 107,
    "start_time": "2023-10-02T16:15:55.997Z"
   },
   {
    "duration": 43,
    "start_time": "2023-10-02T16:15:56.105Z"
   },
   {
    "duration": 1912,
    "start_time": "2023-10-02T16:16:18.998Z"
   },
   {
    "duration": 9,
    "start_time": "2023-10-02T16:16:59.531Z"
   },
   {
    "duration": 3,
    "start_time": "2023-10-02T16:47:30.498Z"
   },
   {
    "duration": 400,
    "start_time": "2023-10-02T16:47:30.504Z"
   },
   {
    "duration": 20,
    "start_time": "2023-10-02T16:47:30.905Z"
   },
   {
    "duration": 100,
    "start_time": "2023-10-02T16:47:30.927Z"
   },
   {
    "duration": 66,
    "start_time": "2023-10-02T16:47:31.030Z"
   },
   {
    "duration": 54,
    "start_time": "2023-10-02T16:47:31.098Z"
   },
   {
    "duration": 52,
    "start_time": "2023-10-02T16:47:31.153Z"
   },
   {
    "duration": 154,
    "start_time": "2023-10-02T16:47:31.207Z"
   },
   {
    "duration": 45,
    "start_time": "2023-10-02T16:47:31.371Z"
   },
   {
    "duration": 131,
    "start_time": "2023-10-02T16:47:31.419Z"
   },
   {
    "duration": 16,
    "start_time": "2023-10-02T16:47:31.554Z"
   },
   {
    "duration": 200,
    "start_time": "2023-10-02T16:47:31.578Z"
   },
   {
    "duration": 0,
    "start_time": "2023-10-02T16:47:31.779Z"
   },
   {
    "duration": 199,
    "start_time": "2023-10-02T16:53:53.503Z"
   },
   {
    "duration": 91,
    "start_time": "2023-10-02T16:54:02.022Z"
   },
   {
    "duration": 138,
    "start_time": "2023-10-02T17:09:48.470Z"
   },
   {
    "duration": 42,
    "start_time": "2023-10-02T17:10:11.891Z"
   },
   {
    "duration": 880,
    "start_time": "2023-10-02T17:10:29.216Z"
   },
   {
    "duration": 4,
    "start_time": "2023-10-02T17:10:45.893Z"
   },
   {
    "duration": 22,
    "start_time": "2023-10-02T17:10:53.073Z"
   },
   {
    "duration": 150,
    "start_time": "2023-10-02T17:11:23.064Z"
   },
   {
    "duration": 77,
    "start_time": "2023-10-02T17:11:29.012Z"
   },
   {
    "duration": 52,
    "start_time": "2023-10-02T17:12:19.727Z"
   },
   {
    "duration": 882,
    "start_time": "2023-10-02T17:12:29.333Z"
   },
   {
    "duration": 18,
    "start_time": "2023-10-02T17:12:31.565Z"
   },
   {
    "duration": 115,
    "start_time": "2023-10-02T17:13:05.292Z"
   },
   {
    "duration": 881,
    "start_time": "2023-10-02T17:13:30.124Z"
   },
   {
    "duration": 40,
    "start_time": "2023-10-02T17:13:34.113Z"
   },
   {
    "duration": 59,
    "start_time": "2023-10-02T17:14:07.912Z"
   },
   {
    "duration": 398,
    "start_time": "2023-10-02T17:14:26.689Z"
   },
   {
    "duration": 57,
    "start_time": "2023-10-02T17:14:31.739Z"
   },
   {
    "duration": 98,
    "start_time": "2023-10-02T17:15:09.474Z"
   },
   {
    "duration": 1066,
    "start_time": "2023-10-02T17:15:32.044Z"
   },
   {
    "duration": 22,
    "start_time": "2023-10-02T17:15:34.364Z"
   },
   {
    "duration": 53,
    "start_time": "2023-10-02T17:21:39.973Z"
   },
   {
    "duration": 57,
    "start_time": "2023-10-02T17:21:50.829Z"
   },
   {
    "duration": 116,
    "start_time": "2023-10-02T17:21:57.298Z"
   },
   {
    "duration": 42,
    "start_time": "2023-10-02T17:22:15.472Z"
   },
   {
    "duration": 52,
    "start_time": "2023-10-02T17:32:10.385Z"
   },
   {
    "duration": 53,
    "start_time": "2023-10-02T17:37:39.068Z"
   },
   {
    "duration": 5,
    "start_time": "2023-10-02T17:39:52.662Z"
   },
   {
    "duration": 2615,
    "start_time": "2023-10-02T17:40:17.453Z"
   },
   {
    "duration": 5,
    "start_time": "2023-10-02T17:40:54.876Z"
   },
   {
    "duration": 18,
    "start_time": "2023-10-02T17:41:07.028Z"
   },
   {
    "duration": 6,
    "start_time": "2023-10-02T17:42:46.208Z"
   },
   {
    "duration": 2582,
    "start_time": "2023-10-02T17:42:48.174Z"
   },
   {
    "duration": 6,
    "start_time": "2023-10-02T17:43:26.665Z"
   },
   {
    "duration": 9,
    "start_time": "2023-10-02T17:45:34.352Z"
   },
   {
    "duration": 1980,
    "start_time": "2023-10-02T17:45:37.150Z"
   },
   {
    "duration": 5,
    "start_time": "2023-10-02T17:46:59.878Z"
   },
   {
    "duration": 1534,
    "start_time": "2023-10-02T17:47:01.889Z"
   },
   {
    "duration": 5,
    "start_time": "2023-10-02T17:50:30.189Z"
   },
   {
    "duration": 1571,
    "start_time": "2023-10-02T17:50:32.704Z"
   },
   {
    "duration": 16,
    "start_time": "2023-10-02T17:50:36.482Z"
   },
   {
    "duration": 1605,
    "start_time": "2023-10-02T17:50:56.196Z"
   },
   {
    "duration": 1517,
    "start_time": "2023-10-02T17:51:06.579Z"
   },
   {
    "duration": 17,
    "start_time": "2023-10-02T17:51:10.724Z"
   },
   {
    "duration": 8,
    "start_time": "2023-10-02T17:53:31.413Z"
   },
   {
    "duration": 1635,
    "start_time": "2023-10-02T17:53:33.431Z"
   },
   {
    "duration": 377,
    "start_time": "2023-10-02T17:53:53.062Z"
   },
   {
    "duration": 260,
    "start_time": "2023-10-02T17:53:53.443Z"
   },
   {
    "duration": 40,
    "start_time": "2023-10-02T17:53:53.705Z"
   },
   {
    "duration": 32,
    "start_time": "2023-10-02T17:53:53.748Z"
   },
   {
    "duration": 34,
    "start_time": "2023-10-02T17:53:53.782Z"
   },
   {
    "duration": 40,
    "start_time": "2023-10-02T17:53:53.818Z"
   },
   {
    "duration": 11,
    "start_time": "2023-10-02T17:53:53.860Z"
   },
   {
    "duration": 95,
    "start_time": "2023-10-02T17:53:53.873Z"
   },
   {
    "duration": 30,
    "start_time": "2023-10-02T17:53:53.970Z"
   },
   {
    "duration": 99,
    "start_time": "2023-10-02T17:53:54.003Z"
   },
   {
    "duration": 8,
    "start_time": "2023-10-02T17:53:54.103Z"
   },
   {
    "duration": 7,
    "start_time": "2023-10-02T17:53:54.113Z"
   },
   {
    "duration": 1632,
    "start_time": "2023-10-02T17:53:54.122Z"
   },
   {
    "duration": 15,
    "start_time": "2023-10-02T17:53:55.756Z"
   },
   {
    "duration": 90,
    "start_time": "2023-10-02T17:53:55.773Z"
   },
   {
    "duration": 4,
    "start_time": "2023-10-02T17:55:07.610Z"
   },
   {
    "duration": 5,
    "start_time": "2023-10-02T17:56:40.812Z"
   },
   {
    "duration": 102,
    "start_time": "2023-10-02T17:56:43.462Z"
   },
   {
    "duration": 3,
    "start_time": "2023-10-02T17:56:50.288Z"
   },
   {
    "duration": 1496,
    "start_time": "2023-10-02T17:56:57.343Z"
   },
   {
    "duration": 5,
    "start_time": "2023-10-02T17:56:59.860Z"
   },
   {
    "duration": 1518,
    "start_time": "2023-10-02T17:57:01.354Z"
   },
   {
    "duration": 4,
    "start_time": "2023-10-02T17:57:31.171Z"
   },
   {
    "duration": 6,
    "start_time": "2023-10-02T17:57:58.325Z"
   },
   {
    "duration": 7,
    "start_time": "2023-10-02T18:00:03.449Z"
   },
   {
    "duration": 1562,
    "start_time": "2023-10-02T18:00:08.699Z"
   },
   {
    "duration": 17,
    "start_time": "2023-10-02T18:00:12.182Z"
   },
   {
    "duration": 6,
    "start_time": "2023-10-02T18:03:45.318Z"
   },
   {
    "duration": 1709,
    "start_time": "2023-10-02T18:03:47.172Z"
   },
   {
    "duration": 17,
    "start_time": "2023-10-02T18:03:50.142Z"
   },
   {
    "duration": 6,
    "start_time": "2023-10-02T18:07:14.973Z"
   },
   {
    "duration": 52,
    "start_time": "2023-10-02T18:07:17.062Z"
   },
   {
    "duration": 6,
    "start_time": "2023-10-02T18:08:57.585Z"
   },
   {
    "duration": 55,
    "start_time": "2023-10-02T18:09:00.294Z"
   },
   {
    "duration": 8,
    "start_time": "2023-10-02T18:11:00.249Z"
   },
   {
    "duration": 9,
    "start_time": "2023-10-02T18:11:02.949Z"
   },
   {
    "duration": 49,
    "start_time": "2023-10-02T18:11:08.258Z"
   },
   {
    "duration": 6,
    "start_time": "2023-10-02T18:14:30.328Z"
   },
   {
    "duration": 48,
    "start_time": "2023-10-02T18:14:34.637Z"
   },
   {
    "duration": 6,
    "start_time": "2023-10-02T18:21:28.328Z"
   },
   {
    "duration": 50,
    "start_time": "2023-10-02T18:21:31.445Z"
   },
   {
    "duration": 3,
    "start_time": "2023-10-02T18:44:00.259Z"
   },
   {
    "duration": 287,
    "start_time": "2023-10-02T18:44:00.263Z"
   },
   {
    "duration": 19,
    "start_time": "2023-10-02T18:44:00.551Z"
   },
   {
    "duration": 82,
    "start_time": "2023-10-02T18:44:00.572Z"
   },
   {
    "duration": 18,
    "start_time": "2023-10-02T18:44:00.656Z"
   },
   {
    "duration": 54,
    "start_time": "2023-10-02T18:44:00.675Z"
   },
   {
    "duration": 37,
    "start_time": "2023-10-02T18:44:00.731Z"
   },
   {
    "duration": 105,
    "start_time": "2023-10-02T18:44:00.769Z"
   },
   {
    "duration": 28,
    "start_time": "2023-10-02T18:44:00.876Z"
   },
   {
    "duration": 177,
    "start_time": "2023-10-02T18:44:00.905Z"
   },
   {
    "duration": 6,
    "start_time": "2023-10-02T18:44:01.085Z"
   },
   {
    "duration": 109,
    "start_time": "2023-10-02T18:44:01.093Z"
   },
   {
    "duration": 138,
    "start_time": "2023-10-02T18:44:01.203Z"
   },
   {
    "duration": 0,
    "start_time": "2023-10-02T18:44:01.343Z"
   },
   {
    "duration": 0,
    "start_time": "2023-10-02T18:44:01.344Z"
   },
   {
    "duration": 5,
    "start_time": "2023-10-02T18:45:14.920Z"
   },
   {
    "duration": 1731,
    "start_time": "2023-10-02T18:45:16.401Z"
   },
   {
    "duration": 16,
    "start_time": "2023-10-02T18:45:34.789Z"
   },
   {
    "duration": 424,
    "start_time": "2023-10-02T18:45:59.333Z"
   },
   {
    "duration": 274,
    "start_time": "2023-10-02T18:45:59.759Z"
   },
   {
    "duration": 39,
    "start_time": "2023-10-02T18:46:00.035Z"
   },
   {
    "duration": 125,
    "start_time": "2023-10-02T18:46:00.077Z"
   },
   {
    "duration": 38,
    "start_time": "2023-10-02T18:46:00.204Z"
   },
   {
    "duration": 51,
    "start_time": "2023-10-02T18:46:00.244Z"
   },
   {
    "duration": 36,
    "start_time": "2023-10-02T18:46:00.296Z"
   },
   {
    "duration": 111,
    "start_time": "2023-10-02T18:46:00.334Z"
   },
   {
    "duration": 28,
    "start_time": "2023-10-02T18:46:00.447Z"
   },
   {
    "duration": 126,
    "start_time": "2023-10-02T18:46:00.478Z"
   },
   {
    "duration": 17,
    "start_time": "2023-10-02T18:46:00.606Z"
   },
   {
    "duration": 80,
    "start_time": "2023-10-02T18:46:00.624Z"
   },
   {
    "duration": 1949,
    "start_time": "2023-10-02T18:46:00.706Z"
   },
   {
    "duration": 16,
    "start_time": "2023-10-02T18:46:02.657Z"
   },
   {
    "duration": 106,
    "start_time": "2023-10-02T18:46:02.674Z"
   },
   {
    "duration": 5,
    "start_time": "2023-10-02T18:51:14.549Z"
   },
   {
    "duration": 5,
    "start_time": "2023-10-02T18:52:33.219Z"
   },
   {
    "duration": 20,
    "start_time": "2023-10-02T18:54:00.610Z"
   },
   {
    "duration": 18,
    "start_time": "2023-10-02T18:54:10.782Z"
   },
   {
    "duration": 16,
    "start_time": "2023-10-02T18:54:21.140Z"
   },
   {
    "duration": 8,
    "start_time": "2023-10-02T18:55:15.025Z"
   },
   {
    "duration": 2043,
    "start_time": "2023-10-02T18:55:16.610Z"
   },
   {
    "duration": 6,
    "start_time": "2023-10-02T18:55:29.162Z"
   },
   {
    "duration": 15,
    "start_time": "2023-10-02T18:55:40.862Z"
   },
   {
    "duration": 9,
    "start_time": "2023-10-02T18:56:08.142Z"
   },
   {
    "duration": 26,
    "start_time": "2023-10-02T18:56:10.097Z"
   },
   {
    "duration": 6,
    "start_time": "2023-10-02T18:56:26.907Z"
   },
   {
    "duration": 18,
    "start_time": "2023-10-02T18:56:29.988Z"
   },
   {
    "duration": 6,
    "start_time": "2023-10-02T18:56:49.490Z"
   },
   {
    "duration": 2000,
    "start_time": "2023-10-02T18:56:55.570Z"
   },
   {
    "duration": 17,
    "start_time": "2023-10-02T18:56:57.572Z"
   },
   {
    "duration": 12,
    "start_time": "2023-10-02T18:58:04.540Z"
   },
   {
    "duration": 1959,
    "start_time": "2023-10-02T18:58:06.403Z"
   },
   {
    "duration": 15,
    "start_time": "2023-10-02T18:58:08.364Z"
   },
   {
    "duration": 16,
    "start_time": "2023-10-02T18:59:09.341Z"
   },
   {
    "duration": 2072,
    "start_time": "2023-10-02T18:59:12.233Z"
   },
   {
    "duration": 2102,
    "start_time": "2023-10-02T18:59:35.999Z"
   },
   {
    "duration": 358,
    "start_time": "2023-10-03T11:38:08.693Z"
   },
   {
    "duration": 590,
    "start_time": "2023-10-03T11:38:09.053Z"
   },
   {
    "duration": 22,
    "start_time": "2023-10-03T11:38:09.645Z"
   },
   {
    "duration": 25,
    "start_time": "2023-10-03T11:38:09.669Z"
   },
   {
    "duration": 19,
    "start_time": "2023-10-03T11:38:09.696Z"
   },
   {
    "duration": 34,
    "start_time": "2023-10-03T11:38:09.717Z"
   },
   {
    "duration": 11,
    "start_time": "2023-10-03T11:38:09.753Z"
   },
   {
    "duration": 88,
    "start_time": "2023-10-03T11:38:09.765Z"
   },
   {
    "duration": 27,
    "start_time": "2023-10-03T11:38:09.855Z"
   },
   {
    "duration": 97,
    "start_time": "2023-10-03T11:38:09.885Z"
   },
   {
    "duration": 8,
    "start_time": "2023-10-03T11:38:09.983Z"
   },
   {
    "duration": 1689,
    "start_time": "2023-10-03T11:38:09.992Z"
   },
   {
    "duration": 4,
    "start_time": "2023-10-03T11:38:11.683Z"
   },
   {
    "duration": 1666,
    "start_time": "2023-10-03T11:38:49.918Z"
   },
   {
    "duration": 1670,
    "start_time": "2023-10-03T11:39:36.319Z"
   },
   {
    "duration": 1550,
    "start_time": "2023-10-03T11:39:58.353Z"
   },
   {
    "duration": 1648,
    "start_time": "2023-10-03T11:40:33.191Z"
   },
   {
    "duration": 1674,
    "start_time": "2023-10-03T11:40:47.731Z"
   },
   {
    "duration": 116,
    "start_time": "2023-10-03T11:44:26.117Z"
   },
   {
    "duration": 2784,
    "start_time": "2023-10-03T11:46:06.673Z"
   },
   {
    "duration": 2798,
    "start_time": "2023-10-03T11:46:22.121Z"
   },
   {
    "duration": 2885,
    "start_time": "2023-10-03T11:47:05.791Z"
   },
   {
    "duration": 2540,
    "start_time": "2023-10-03T11:50:05.389Z"
   },
   {
    "duration": 7,
    "start_time": "2023-10-03T11:50:16.941Z"
   },
   {
    "duration": 6,
    "start_time": "2023-10-03T11:53:44.991Z"
   },
   {
    "duration": 81,
    "start_time": "2023-10-03T11:54:38.538Z"
   },
   {
    "duration": 7,
    "start_time": "2023-10-03T11:54:42.768Z"
   },
   {
    "duration": 9,
    "start_time": "2023-10-03T11:56:23.577Z"
   },
   {
    "duration": 7,
    "start_time": "2023-10-03T11:57:25.849Z"
   },
   {
    "duration": 7,
    "start_time": "2023-10-03T11:57:29.532Z"
   },
   {
    "duration": 20,
    "start_time": "2023-10-03T12:01:10.934Z"
   },
   {
    "duration": 465,
    "start_time": "2023-10-03T12:01:35.866Z"
   },
   {
    "duration": 341,
    "start_time": "2023-10-03T12:02:07.304Z"
   },
   {
    "duration": 223,
    "start_time": "2023-10-03T12:02:07.647Z"
   },
   {
    "duration": 24,
    "start_time": "2023-10-03T12:02:07.872Z"
   },
   {
    "duration": 30,
    "start_time": "2023-10-03T12:02:07.898Z"
   },
   {
    "duration": 31,
    "start_time": "2023-10-03T12:02:07.930Z"
   },
   {
    "duration": 23,
    "start_time": "2023-10-03T12:02:07.962Z"
   },
   {
    "duration": 9,
    "start_time": "2023-10-03T12:02:07.987Z"
   },
   {
    "duration": 79,
    "start_time": "2023-10-03T12:02:07.998Z"
   },
   {
    "duration": 27,
    "start_time": "2023-10-03T12:02:08.079Z"
   },
   {
    "duration": 95,
    "start_time": "2023-10-03T12:02:08.108Z"
   },
   {
    "duration": 7,
    "start_time": "2023-10-03T12:02:08.205Z"
   },
   {
    "duration": 2737,
    "start_time": "2023-10-03T12:02:08.213Z"
   },
   {
    "duration": 18,
    "start_time": "2023-10-03T12:02:10.952Z"
   },
   {
    "duration": 639,
    "start_time": "2023-10-03T12:02:10.972Z"
   },
   {
    "duration": 0,
    "start_time": "2023-10-03T12:02:11.613Z"
   },
   {
    "duration": 0,
    "start_time": "2023-10-03T12:02:11.614Z"
   },
   {
    "duration": 10,
    "start_time": "2023-10-03T12:03:00.743Z"
   },
   {
    "duration": 10,
    "start_time": "2023-10-03T12:03:17.275Z"
   },
   {
    "duration": 8,
    "start_time": "2023-10-03T12:03:46.666Z"
   },
   {
    "duration": 9,
    "start_time": "2023-10-03T12:04:53.677Z"
   },
   {
    "duration": 9,
    "start_time": "2023-10-03T12:05:28.636Z"
   },
   {
    "duration": 3,
    "start_time": "2023-10-03T12:05:43.572Z"
   },
   {
    "duration": 297,
    "start_time": "2023-10-03T12:05:43.577Z"
   },
   {
    "duration": 17,
    "start_time": "2023-10-03T12:05:43.876Z"
   },
   {
    "duration": 47,
    "start_time": "2023-10-03T12:05:43.894Z"
   },
   {
    "duration": 17,
    "start_time": "2023-10-03T12:05:43.944Z"
   },
   {
    "duration": 33,
    "start_time": "2023-10-03T12:05:43.963Z"
   },
   {
    "duration": 15,
    "start_time": "2023-10-03T12:05:43.997Z"
   },
   {
    "duration": 81,
    "start_time": "2023-10-03T12:05:44.013Z"
   },
   {
    "duration": 26,
    "start_time": "2023-10-03T12:05:44.095Z"
   },
   {
    "duration": 82,
    "start_time": "2023-10-03T12:05:44.122Z"
   },
   {
    "duration": 6,
    "start_time": "2023-10-03T12:05:44.205Z"
   },
   {
    "duration": 55,
    "start_time": "2023-10-03T12:05:44.213Z"
   },
   {
    "duration": 2931,
    "start_time": "2023-10-03T12:05:44.270Z"
   },
   {
    "duration": 23,
    "start_time": "2023-10-03T12:05:47.203Z"
   },
   {
    "duration": 0,
    "start_time": "2023-10-03T12:05:47.227Z"
   },
   {
    "duration": 0,
    "start_time": "2023-10-03T12:05:47.228Z"
   },
   {
    "duration": 0,
    "start_time": "2023-10-03T12:05:47.229Z"
   },
   {
    "duration": 72,
    "start_time": "2023-10-03T12:08:17.760Z"
   },
   {
    "duration": 3,
    "start_time": "2023-10-03T12:08:59.087Z"
   },
   {
    "duration": 216,
    "start_time": "2023-10-03T12:08:59.092Z"
   },
   {
    "duration": 18,
    "start_time": "2023-10-03T12:08:59.309Z"
   },
   {
    "duration": 33,
    "start_time": "2023-10-03T12:08:59.329Z"
   },
   {
    "duration": 17,
    "start_time": "2023-10-03T12:08:59.364Z"
   },
   {
    "duration": 40,
    "start_time": "2023-10-03T12:08:59.383Z"
   },
   {
    "duration": 21,
    "start_time": "2023-10-03T12:08:59.424Z"
   },
   {
    "duration": 78,
    "start_time": "2023-10-03T12:08:59.446Z"
   },
   {
    "duration": 25,
    "start_time": "2023-10-03T12:08:59.525Z"
   },
   {
    "duration": 115,
    "start_time": "2023-10-03T12:08:59.552Z"
   },
   {
    "duration": 5,
    "start_time": "2023-10-03T12:08:59.669Z"
   },
   {
    "duration": 19,
    "start_time": "2023-10-03T12:08:59.676Z"
   },
   {
    "duration": 100,
    "start_time": "2023-10-03T12:08:59.696Z"
   },
   {
    "duration": 6,
    "start_time": "2023-10-03T12:08:59.799Z"
   },
   {
    "duration": 1813,
    "start_time": "2023-10-03T12:08:59.807Z"
   },
   {
    "duration": 3177,
    "start_time": "2023-10-03T12:09:01.621Z"
   },
   {
    "duration": 0,
    "start_time": "2023-10-03T12:09:04.800Z"
   },
   {
    "duration": 0,
    "start_time": "2023-10-03T12:09:04.801Z"
   },
   {
    "duration": 0,
    "start_time": "2023-10-03T12:09:04.803Z"
   },
   {
    "duration": 5,
    "start_time": "2023-10-03T12:22:50.223Z"
   },
   {
    "duration": 9,
    "start_time": "2023-10-03T12:27:09.382Z"
   },
   {
    "duration": 7,
    "start_time": "2023-10-03T12:28:38.577Z"
   },
   {
    "duration": 15,
    "start_time": "2023-10-03T12:29:04.197Z"
   },
   {
    "duration": 17,
    "start_time": "2023-10-03T12:29:17.058Z"
   },
   {
    "duration": 19,
    "start_time": "2023-10-03T12:29:30.249Z"
   },
   {
    "duration": 406,
    "start_time": "2023-10-05T15:39:25.885Z"
   },
   {
    "duration": 635,
    "start_time": "2023-10-05T15:39:26.293Z"
   },
   {
    "duration": 27,
    "start_time": "2023-10-05T15:39:26.930Z"
   },
   {
    "duration": 27,
    "start_time": "2023-10-05T15:39:26.967Z"
   },
   {
    "duration": 40,
    "start_time": "2023-10-05T15:39:26.995Z"
   },
   {
    "duration": 53,
    "start_time": "2023-10-05T15:39:27.036Z"
   },
   {
    "duration": 16,
    "start_time": "2023-10-05T15:39:27.090Z"
   },
   {
    "duration": 92,
    "start_time": "2023-10-05T15:39:27.108Z"
   },
   {
    "duration": 5,
    "start_time": "2023-10-05T15:39:27.201Z"
   },
   {
    "duration": 49,
    "start_time": "2023-10-05T15:39:27.209Z"
   },
   {
    "duration": 29,
    "start_time": "2023-10-05T15:39:27.259Z"
   },
   {
    "duration": 100,
    "start_time": "2023-10-05T15:39:27.290Z"
   },
   {
    "duration": 7,
    "start_time": "2023-10-05T15:39:27.391Z"
   },
   {
    "duration": 9,
    "start_time": "2023-10-05T15:39:27.399Z"
   },
   {
    "duration": 105,
    "start_time": "2023-10-05T15:39:27.410Z"
   },
   {
    "duration": 6,
    "start_time": "2023-10-05T15:39:27.517Z"
   },
   {
    "duration": 1945,
    "start_time": "2023-10-05T15:39:27.524Z"
   },
   {
    "duration": 413,
    "start_time": "2023-10-05T15:49:05.801Z"
   },
   {
    "duration": 311,
    "start_time": "2023-10-05T15:49:06.217Z"
   },
   {
    "duration": 45,
    "start_time": "2023-10-05T15:49:06.530Z"
   },
   {
    "duration": 43,
    "start_time": "2023-10-05T15:49:06.581Z"
   },
   {
    "duration": 44,
    "start_time": "2023-10-05T15:49:06.625Z"
   },
   {
    "duration": 31,
    "start_time": "2023-10-05T15:49:06.671Z"
   },
   {
    "duration": 30,
    "start_time": "2023-10-05T15:49:06.704Z"
   },
   {
    "duration": 100,
    "start_time": "2023-10-05T15:49:06.736Z"
   },
   {
    "duration": 5,
    "start_time": "2023-10-05T15:49:06.838Z"
   },
   {
    "duration": 55,
    "start_time": "2023-10-05T15:49:06.855Z"
   },
   {
    "duration": 28,
    "start_time": "2023-10-05T15:49:06.912Z"
   },
   {
    "duration": 109,
    "start_time": "2023-10-05T15:49:06.943Z"
   },
   {
    "duration": 13,
    "start_time": "2023-10-05T15:49:07.054Z"
   },
   {
    "duration": 38,
    "start_time": "2023-10-05T15:49:07.076Z"
   },
   {
    "duration": 141,
    "start_time": "2023-10-05T15:49:07.116Z"
   },
   {
    "duration": 12,
    "start_time": "2023-10-05T15:49:07.264Z"
   },
   {
    "duration": 2635,
    "start_time": "2023-10-05T15:49:07.278Z"
   },
   {
    "duration": 433,
    "start_time": "2023-10-05T15:49:44.170Z"
   },
   {
    "duration": 97,
    "start_time": "2023-10-05T15:54:32.487Z"
   },
   {
    "duration": 15,
    "start_time": "2023-10-05T15:57:54.876Z"
   },
   {
    "duration": 9,
    "start_time": "2023-10-05T16:01:19.134Z"
   },
   {
    "duration": 10,
    "start_time": "2023-10-05T16:02:16.383Z"
   },
   {
    "duration": 670,
    "start_time": "2023-10-05T16:04:25.504Z"
   },
   {
    "duration": 331,
    "start_time": "2023-10-05T16:04:26.177Z"
   },
   {
    "duration": 32,
    "start_time": "2023-10-05T16:04:26.510Z"
   },
   {
    "duration": 56,
    "start_time": "2023-10-05T16:04:26.544Z"
   },
   {
    "duration": 20,
    "start_time": "2023-10-05T16:04:26.602Z"
   },
   {
    "duration": 63,
    "start_time": "2023-10-05T16:04:26.623Z"
   },
   {
    "duration": 11,
    "start_time": "2023-10-05T16:04:26.688Z"
   },
   {
    "duration": 87,
    "start_time": "2023-10-05T16:04:26.701Z"
   },
   {
    "duration": 6,
    "start_time": "2023-10-05T16:04:26.790Z"
   },
   {
    "duration": 35,
    "start_time": "2023-10-05T16:04:26.798Z"
   },
   {
    "duration": 64,
    "start_time": "2023-10-05T16:04:26.835Z"
   },
   {
    "duration": 108,
    "start_time": "2023-10-05T16:04:26.901Z"
   },
   {
    "duration": 6,
    "start_time": "2023-10-05T16:04:27.011Z"
   },
   {
    "duration": 43,
    "start_time": "2023-10-05T16:04:27.018Z"
   },
   {
    "duration": 113,
    "start_time": "2023-10-05T16:04:27.063Z"
   },
   {
    "duration": 7,
    "start_time": "2023-10-05T16:04:27.177Z"
   },
   {
    "duration": 2246,
    "start_time": "2023-10-05T16:04:27.185Z"
   },
   {
    "duration": 97,
    "start_time": "2023-10-05T16:04:29.433Z"
   },
   {
    "duration": 17,
    "start_time": "2023-10-05T16:05:16.176Z"
   },
   {
    "duration": 710,
    "start_time": "2023-10-05T16:06:47.311Z"
   },
   {
    "duration": 272,
    "start_time": "2023-10-05T16:06:48.023Z"
   },
   {
    "duration": 26,
    "start_time": "2023-10-05T16:06:48.297Z"
   },
   {
    "duration": 60,
    "start_time": "2023-10-05T16:06:48.326Z"
   },
   {
    "duration": 21,
    "start_time": "2023-10-05T16:06:48.388Z"
   },
   {
    "duration": 57,
    "start_time": "2023-10-05T16:06:48.410Z"
   },
   {
    "duration": 16,
    "start_time": "2023-10-05T16:06:48.475Z"
   },
   {
    "duration": 101,
    "start_time": "2023-10-05T16:06:48.493Z"
   },
   {
    "duration": 6,
    "start_time": "2023-10-05T16:06:48.596Z"
   },
   {
    "duration": 63,
    "start_time": "2023-10-05T16:06:48.604Z"
   },
   {
    "duration": 43,
    "start_time": "2023-10-05T16:06:48.675Z"
   },
   {
    "duration": 101,
    "start_time": "2023-10-05T16:06:48.719Z"
   },
   {
    "duration": 8,
    "start_time": "2023-10-05T16:06:48.822Z"
   },
   {
    "duration": 38,
    "start_time": "2023-10-05T16:06:48.832Z"
   },
   {
    "duration": 121,
    "start_time": "2023-10-05T16:06:48.877Z"
   },
   {
    "duration": 8,
    "start_time": "2023-10-05T16:06:49.000Z"
   },
   {
    "duration": 2306,
    "start_time": "2023-10-05T16:06:49.010Z"
   },
   {
    "duration": 0,
    "start_time": "2023-10-05T16:11:00.884Z"
   },
   {
    "duration": 0,
    "start_time": "2023-10-05T16:11:00.885Z"
   },
   {
    "duration": 0,
    "start_time": "2023-10-05T16:11:00.887Z"
   },
   {
    "duration": 0,
    "start_time": "2023-10-05T16:11:00.889Z"
   },
   {
    "duration": 0,
    "start_time": "2023-10-05T16:11:00.890Z"
   },
   {
    "duration": 0,
    "start_time": "2023-10-05T16:11:00.892Z"
   },
   {
    "duration": 0,
    "start_time": "2023-10-05T16:11:00.893Z"
   },
   {
    "duration": 0,
    "start_time": "2023-10-05T16:11:00.895Z"
   },
   {
    "duration": 0,
    "start_time": "2023-10-05T16:11:00.896Z"
   },
   {
    "duration": 0,
    "start_time": "2023-10-05T16:11:00.898Z"
   },
   {
    "duration": 0,
    "start_time": "2023-10-05T16:11:00.899Z"
   },
   {
    "duration": 0,
    "start_time": "2023-10-05T16:11:00.901Z"
   },
   {
    "duration": 0,
    "start_time": "2023-10-05T16:11:00.902Z"
   },
   {
    "duration": 0,
    "start_time": "2023-10-05T16:11:00.904Z"
   },
   {
    "duration": 0,
    "start_time": "2023-10-05T16:11:00.951Z"
   },
   {
    "duration": 0,
    "start_time": "2023-10-05T16:11:00.952Z"
   },
   {
    "duration": 0,
    "start_time": "2023-10-05T16:11:00.955Z"
   },
   {
    "duration": 0,
    "start_time": "2023-10-05T16:11:00.956Z"
   },
   {
    "duration": 4,
    "start_time": "2023-10-05T16:11:20.062Z"
   },
   {
    "duration": 274,
    "start_time": "2023-10-05T16:11:20.069Z"
   },
   {
    "duration": 23,
    "start_time": "2023-10-05T16:11:20.345Z"
   },
   {
    "duration": 31,
    "start_time": "2023-10-05T16:11:20.370Z"
   },
   {
    "duration": 47,
    "start_time": "2023-10-05T16:11:20.403Z"
   },
   {
    "duration": 59,
    "start_time": "2023-10-05T16:11:20.452Z"
   },
   {
    "duration": 40,
    "start_time": "2023-10-05T16:11:20.512Z"
   },
   {
    "duration": 118,
    "start_time": "2023-10-05T16:11:20.556Z"
   },
   {
    "duration": 4,
    "start_time": "2023-10-05T16:11:20.676Z"
   },
   {
    "duration": 78,
    "start_time": "2023-10-05T16:11:20.682Z"
   },
   {
    "duration": 39,
    "start_time": "2023-10-05T16:11:20.763Z"
   },
   {
    "duration": 159,
    "start_time": "2023-10-05T16:11:20.804Z"
   },
   {
    "duration": 9,
    "start_time": "2023-10-05T16:11:20.965Z"
   },
   {
    "duration": 67,
    "start_time": "2023-10-05T16:11:20.975Z"
   },
   {
    "duration": 123,
    "start_time": "2023-10-05T16:11:21.044Z"
   },
   {
    "duration": 15,
    "start_time": "2023-10-05T16:11:21.169Z"
   },
   {
    "duration": 2003,
    "start_time": "2023-10-05T16:11:21.185Z"
   },
   {
    "duration": 46,
    "start_time": "2023-10-05T16:12:31.568Z"
   },
   {
    "duration": 694,
    "start_time": "2023-10-05T16:12:44.575Z"
   },
   {
    "duration": 547,
    "start_time": "2023-10-05T16:12:45.271Z"
   },
   {
    "duration": 41,
    "start_time": "2023-10-05T16:12:45.820Z"
   },
   {
    "duration": 64,
    "start_time": "2023-10-05T16:12:45.862Z"
   },
   {
    "duration": 25,
    "start_time": "2023-10-05T16:12:45.929Z"
   },
   {
    "duration": 54,
    "start_time": "2023-10-05T16:12:45.956Z"
   },
   {
    "duration": 13,
    "start_time": "2023-10-05T16:12:46.012Z"
   },
   {
    "duration": 110,
    "start_time": "2023-10-05T16:12:46.027Z"
   },
   {
    "duration": 10,
    "start_time": "2023-10-05T16:12:46.139Z"
   },
   {
    "duration": 39,
    "start_time": "2023-10-05T16:12:46.157Z"
   },
   {
    "duration": 66,
    "start_time": "2023-10-05T16:12:46.198Z"
   },
   {
    "duration": 133,
    "start_time": "2023-10-05T16:12:46.266Z"
   },
   {
    "duration": 11,
    "start_time": "2023-10-05T16:12:46.403Z"
   },
   {
    "duration": 15,
    "start_time": "2023-10-05T16:12:46.418Z"
   },
   {
    "duration": 185,
    "start_time": "2023-10-05T16:12:46.436Z"
   },
   {
    "duration": 10,
    "start_time": "2023-10-05T16:12:46.623Z"
   },
   {
    "duration": 2148,
    "start_time": "2023-10-05T16:12:46.634Z"
   },
   {
    "duration": 152,
    "start_time": "2023-10-05T16:12:48.783Z"
   },
   {
    "duration": 135,
    "start_time": "2023-10-05T16:13:29.713Z"
   },
   {
    "duration": 165,
    "start_time": "2023-10-05T16:13:43.270Z"
   },
   {
    "duration": 138,
    "start_time": "2023-10-05T16:16:23.165Z"
   },
   {
    "duration": 304,
    "start_time": "2023-10-05T16:17:02.582Z"
   },
   {
    "duration": 243,
    "start_time": "2023-10-05T16:17:06.811Z"
   },
   {
    "duration": 129,
    "start_time": "2023-10-05T16:18:33.390Z"
   },
   {
    "duration": 122,
    "start_time": "2023-10-05T16:18:38.123Z"
   },
   {
    "duration": 3,
    "start_time": "2023-10-05T16:22:14.758Z"
   },
   {
    "duration": 268,
    "start_time": "2023-10-05T16:29:09.309Z"
   },
   {
    "duration": 258,
    "start_time": "2023-10-05T16:30:19.849Z"
   },
   {
    "duration": 27,
    "start_time": "2023-10-05T16:31:41.866Z"
   },
   {
    "duration": 255,
    "start_time": "2023-10-05T16:31:59.757Z"
   },
   {
    "duration": 258,
    "start_time": "2023-10-05T16:36:02.935Z"
   },
   {
    "duration": 314,
    "start_time": "2023-10-05T16:36:23.479Z"
   },
   {
    "duration": 251,
    "start_time": "2023-10-05T16:36:32.165Z"
   },
   {
    "duration": 687,
    "start_time": "2023-10-05T16:40:08.265Z"
   },
   {
    "duration": 141,
    "start_time": "2023-10-05T16:40:54.850Z"
   },
   {
    "duration": 150,
    "start_time": "2023-10-05T16:41:15.127Z"
   },
   {
    "duration": 119,
    "start_time": "2023-10-05T16:42:13.481Z"
   },
   {
    "duration": 148,
    "start_time": "2023-10-05T16:42:23.090Z"
   },
   {
    "duration": 155,
    "start_time": "2023-10-05T16:42:52.239Z"
   },
   {
    "duration": 149,
    "start_time": "2023-10-05T16:43:02.094Z"
   },
   {
    "duration": 146,
    "start_time": "2023-10-05T16:43:18.672Z"
   },
   {
    "duration": 152,
    "start_time": "2023-10-05T16:43:37.995Z"
   },
   {
    "duration": 153,
    "start_time": "2023-10-05T16:44:11.769Z"
   },
   {
    "duration": 189,
    "start_time": "2023-10-05T16:46:55.974Z"
   },
   {
    "duration": 236,
    "start_time": "2023-10-05T16:48:50.364Z"
   },
   {
    "duration": 160,
    "start_time": "2023-10-05T16:49:03.246Z"
   },
   {
    "duration": 183,
    "start_time": "2023-10-05T16:51:38.142Z"
   },
   {
    "duration": 155,
    "start_time": "2023-10-05T16:51:51.765Z"
   },
   {
    "duration": 108,
    "start_time": "2023-10-05T16:53:38.667Z"
   },
   {
    "duration": 158,
    "start_time": "2023-10-05T16:53:51.467Z"
   },
   {
    "duration": 173,
    "start_time": "2023-10-05T16:54:22.581Z"
   },
   {
    "duration": 85,
    "start_time": "2023-10-05T16:57:43.372Z"
   },
   {
    "duration": 209,
    "start_time": "2023-10-05T16:57:47.782Z"
   },
   {
    "duration": 84,
    "start_time": "2023-10-05T16:58:21.665Z"
   },
   {
    "duration": 312,
    "start_time": "2023-10-05T16:58:32.951Z"
   },
   {
    "duration": 9,
    "start_time": "2023-10-05T16:58:53.165Z"
   },
   {
    "duration": 223,
    "start_time": "2023-10-05T16:59:36.568Z"
   },
   {
    "duration": 186,
    "start_time": "2023-10-05T17:00:43.857Z"
   },
   {
    "duration": 171,
    "start_time": "2023-10-05T17:02:27.843Z"
   },
   {
    "duration": 163,
    "start_time": "2023-10-05T17:06:33.592Z"
   },
   {
    "duration": 172,
    "start_time": "2023-10-05T17:07:52.185Z"
   },
   {
    "duration": 248,
    "start_time": "2023-10-05T17:08:19.872Z"
   },
   {
    "duration": 933,
    "start_time": "2023-10-06T17:07:12.015Z"
   },
   {
    "duration": 602,
    "start_time": "2023-10-06T17:07:12.953Z"
   },
   {
    "duration": 43,
    "start_time": "2023-10-06T17:07:13.557Z"
   },
   {
    "duration": 55,
    "start_time": "2023-10-06T17:07:13.602Z"
   },
   {
    "duration": 142,
    "start_time": "2023-10-06T17:07:13.660Z"
   },
   {
    "duration": 195,
    "start_time": "2023-10-06T17:07:13.804Z"
   },
   {
    "duration": 146,
    "start_time": "2023-10-06T17:07:14.001Z"
   },
   {
    "duration": 226,
    "start_time": "2023-10-06T17:07:14.150Z"
   },
   {
    "duration": 5,
    "start_time": "2023-10-06T17:07:14.378Z"
   },
   {
    "duration": 114,
    "start_time": "2023-10-06T17:07:14.384Z"
   },
   {
    "duration": 213,
    "start_time": "2023-10-06T17:07:14.499Z"
   },
   {
    "duration": 220,
    "start_time": "2023-10-06T17:07:14.714Z"
   },
   {
    "duration": 235,
    "start_time": "2023-10-06T17:07:14.936Z"
   },
   {
    "duration": 189,
    "start_time": "2023-10-06T17:07:15.174Z"
   },
   {
    "duration": 149,
    "start_time": "2023-10-06T17:07:15.365Z"
   },
   {
    "duration": 9,
    "start_time": "2023-10-06T17:07:15.516Z"
   },
   {
    "duration": 2202,
    "start_time": "2023-10-06T17:07:15.533Z"
   },
   {
    "duration": 190,
    "start_time": "2023-10-06T17:07:17.736Z"
   },
   {
    "duration": 177,
    "start_time": "2023-10-06T17:07:17.928Z"
   },
   {
    "duration": 220,
    "start_time": "2023-10-06T17:07:18.107Z"
   },
   {
    "duration": 182,
    "start_time": "2023-10-06T17:07:18.329Z"
   },
   {
    "duration": 23,
    "start_time": "2023-10-06T17:10:52.879Z"
   },
   {
    "duration": 15,
    "start_time": "2023-10-06T17:10:58.885Z"
   },
   {
    "duration": 12,
    "start_time": "2023-10-06T17:11:03.749Z"
   },
   {
    "duration": 33,
    "start_time": "2023-10-06T17:11:42.117Z"
   },
   {
    "duration": 142,
    "start_time": "2023-10-06T17:11:55.977Z"
   },
   {
    "duration": 93,
    "start_time": "2023-10-06T17:12:03.257Z"
   },
   {
    "duration": 13,
    "start_time": "2023-10-06T17:12:05.869Z"
   },
   {
    "duration": 5,
    "start_time": "2023-10-06T17:17:53.581Z"
   },
   {
    "duration": 11,
    "start_time": "2023-10-06T17:17:59.259Z"
   },
   {
    "duration": 35,
    "start_time": "2023-10-06T17:20:10.546Z"
   },
   {
    "duration": 28,
    "start_time": "2023-10-06T17:21:41.427Z"
   },
   {
    "duration": 15,
    "start_time": "2023-10-06T17:21:45.287Z"
   },
   {
    "duration": 102,
    "start_time": "2023-10-06T17:27:45.796Z"
   },
   {
    "duration": 93,
    "start_time": "2023-10-06T17:27:52.716Z"
   },
   {
    "duration": 11,
    "start_time": "2023-10-06T17:27:55.147Z"
   },
   {
    "duration": 11,
    "start_time": "2023-10-06T17:28:06.376Z"
   },
   {
    "duration": 2019,
    "start_time": "2023-10-06T17:28:20.041Z"
   },
   {
    "duration": 10,
    "start_time": "2023-10-06T17:28:22.741Z"
   },
   {
    "duration": 1733,
    "start_time": "2023-10-06T17:28:43.009Z"
   },
   {
    "duration": 35,
    "start_time": "2023-10-06T17:31:23.141Z"
   },
   {
    "duration": 13,
    "start_time": "2023-10-06T17:31:26.383Z"
   },
   {
    "duration": 7,
    "start_time": "2023-10-06T17:31:46.751Z"
   },
   {
    "duration": 1468,
    "start_time": "2023-10-06T17:33:11.843Z"
   },
   {
    "duration": 2176,
    "start_time": "2023-10-06T17:33:29.272Z"
   },
   {
    "duration": 40,
    "start_time": "2023-10-06T17:33:51.312Z"
   },
   {
    "duration": 2122,
    "start_time": "2023-10-06T17:34:02.273Z"
   },
   {
    "duration": 14,
    "start_time": "2023-10-06T17:34:15.984Z"
   },
   {
    "duration": 36,
    "start_time": "2023-10-06T17:37:08.381Z"
   },
   {
    "duration": 10,
    "start_time": "2023-10-06T17:37:14.791Z"
   },
   {
    "duration": 6,
    "start_time": "2023-10-06T17:38:33.860Z"
   },
   {
    "duration": 7,
    "start_time": "2023-10-06T17:39:17.157Z"
   },
   {
    "duration": 7,
    "start_time": "2023-10-06T17:39:44.456Z"
   },
   {
    "duration": 8,
    "start_time": "2023-10-06T17:39:59.860Z"
   },
   {
    "duration": 8,
    "start_time": "2023-10-06T17:41:46.768Z"
   },
   {
    "duration": 8,
    "start_time": "2023-10-06T17:41:53.777Z"
   },
   {
    "duration": 5,
    "start_time": "2023-10-06T17:42:24.888Z"
   },
   {
    "duration": 15,
    "start_time": "2023-10-06T17:42:30.615Z"
   },
   {
    "duration": 8,
    "start_time": "2023-10-06T17:42:45.033Z"
   },
   {
    "duration": 18,
    "start_time": "2023-10-06T17:42:47.039Z"
   },
   {
    "duration": 76,
    "start_time": "2023-10-06T17:46:12.627Z"
   },
   {
    "duration": 37,
    "start_time": "2023-10-06T17:46:47.184Z"
   },
   {
    "duration": 6,
    "start_time": "2023-10-06T17:46:49.655Z"
   },
   {
    "duration": 11,
    "start_time": "2023-10-06T17:46:52.063Z"
   },
   {
    "duration": 714,
    "start_time": "2023-10-06T18:05:27.667Z"
   },
   {
    "duration": 288,
    "start_time": "2023-10-06T18:05:28.383Z"
   },
   {
    "duration": 24,
    "start_time": "2023-10-06T18:05:28.672Z"
   },
   {
    "duration": 52,
    "start_time": "2023-10-06T18:05:28.698Z"
   },
   {
    "duration": 28,
    "start_time": "2023-10-06T18:05:28.753Z"
   },
   {
    "duration": 39,
    "start_time": "2023-10-06T18:05:28.783Z"
   },
   {
    "duration": 18,
    "start_time": "2023-10-06T18:05:28.824Z"
   },
   {
    "duration": 119,
    "start_time": "2023-10-06T18:05:28.844Z"
   },
   {
    "duration": 6,
    "start_time": "2023-10-06T18:05:28.965Z"
   },
   {
    "duration": 77,
    "start_time": "2023-10-06T18:05:28.974Z"
   },
   {
    "duration": 39,
    "start_time": "2023-10-06T18:05:29.053Z"
   },
   {
    "duration": 152,
    "start_time": "2023-10-06T18:05:29.094Z"
   },
   {
    "duration": 8,
    "start_time": "2023-10-06T18:05:29.248Z"
   },
   {
    "duration": 30,
    "start_time": "2023-10-06T18:05:29.258Z"
   },
   {
    "duration": 124,
    "start_time": "2023-10-06T18:05:29.290Z"
   },
   {
    "duration": 17,
    "start_time": "2023-10-06T18:05:29.416Z"
   },
   {
    "duration": 2167,
    "start_time": "2023-10-06T18:05:29.435Z"
   },
   {
    "duration": 204,
    "start_time": "2023-10-06T18:05:31.603Z"
   },
   {
    "duration": 200,
    "start_time": "2023-10-06T18:05:31.808Z"
   },
   {
    "duration": 35,
    "start_time": "2023-10-06T18:05:32.011Z"
   },
   {
    "duration": 17,
    "start_time": "2023-10-06T18:05:32.048Z"
   },
   {
    "duration": 57,
    "start_time": "2023-10-06T18:05:32.066Z"
   },
   {
    "duration": 1856,
    "start_time": "2023-10-06T18:05:32.125Z"
   },
   {
    "duration": 1,
    "start_time": "2023-10-06T18:05:33.982Z"
   },
   {
    "duration": 0,
    "start_time": "2023-10-06T18:05:33.984Z"
   },
   {
    "duration": 0,
    "start_time": "2023-10-06T18:05:33.985Z"
   },
   {
    "duration": 126,
    "start_time": "2023-10-06T18:09:49.741Z"
   },
   {
    "duration": 7,
    "start_time": "2023-10-06T18:10:01.741Z"
   },
   {
    "duration": 3,
    "start_time": "2023-10-06T18:17:58.778Z"
   },
   {
    "duration": 286,
    "start_time": "2023-10-06T18:17:58.782Z"
   },
   {
    "duration": 18,
    "start_time": "2023-10-06T18:17:59.072Z"
   },
   {
    "duration": 50,
    "start_time": "2023-10-06T18:17:59.092Z"
   },
   {
    "duration": 83,
    "start_time": "2023-10-06T18:17:59.143Z"
   },
   {
    "duration": 20,
    "start_time": "2023-10-06T18:17:59.228Z"
   },
   {
    "duration": 23,
    "start_time": "2023-10-06T18:17:59.250Z"
   },
   {
    "duration": 87,
    "start_time": "2023-10-06T18:17:59.275Z"
   },
   {
    "duration": 5,
    "start_time": "2023-10-06T18:17:59.363Z"
   },
   {
    "duration": 60,
    "start_time": "2023-10-06T18:17:59.370Z"
   },
   {
    "duration": 59,
    "start_time": "2023-10-06T18:17:59.432Z"
   },
   {
    "duration": 95,
    "start_time": "2023-10-06T18:17:59.493Z"
   },
   {
    "duration": 6,
    "start_time": "2023-10-06T18:17:59.590Z"
   },
   {
    "duration": 35,
    "start_time": "2023-10-06T18:17:59.598Z"
   },
   {
    "duration": 108,
    "start_time": "2023-10-06T18:17:59.635Z"
   },
   {
    "duration": 9,
    "start_time": "2023-10-06T18:17:59.745Z"
   },
   {
    "duration": 2241,
    "start_time": "2023-10-06T18:17:59.756Z"
   },
   {
    "duration": 180,
    "start_time": "2023-10-06T18:18:01.999Z"
   },
   {
    "duration": 203,
    "start_time": "2023-10-06T18:18:02.181Z"
   },
   {
    "duration": 53,
    "start_time": "2023-10-06T18:18:02.385Z"
   },
   {
    "duration": 18,
    "start_time": "2023-10-06T18:18:02.441Z"
   },
   {
    "duration": 66,
    "start_time": "2023-10-06T18:18:02.460Z"
   },
   {
    "duration": 50,
    "start_time": "2023-10-06T18:18:02.528Z"
   },
   {
    "duration": 282,
    "start_time": "2023-10-06T18:18:02.580Z"
   },
   {
    "duration": 217,
    "start_time": "2023-10-06T18:18:02.864Z"
   },
   {
    "duration": 41,
    "start_time": "2023-10-06T18:20:17.118Z"
   },
   {
    "duration": 37,
    "start_time": "2023-10-06T18:21:36.382Z"
   },
   {
    "duration": 35,
    "start_time": "2023-10-06T18:21:46.640Z"
   },
   {
    "duration": 10,
    "start_time": "2023-10-06T18:21:49.511Z"
   },
   {
    "duration": 790,
    "start_time": "2023-10-06T18:42:51.742Z"
   },
   {
    "duration": 652,
    "start_time": "2023-10-06T18:43:13.461Z"
   },
   {
    "duration": 266,
    "start_time": "2023-10-06T18:43:14.114Z"
   },
   {
    "duration": 21,
    "start_time": "2023-10-06T18:43:14.382Z"
   },
   {
    "duration": 50,
    "start_time": "2023-10-06T18:43:14.405Z"
   },
   {
    "duration": 19,
    "start_time": "2023-10-06T18:43:14.457Z"
   },
   {
    "duration": 34,
    "start_time": "2023-10-06T18:43:14.478Z"
   },
   {
    "duration": 17,
    "start_time": "2023-10-06T18:43:14.524Z"
   },
   {
    "duration": 116,
    "start_time": "2023-10-06T18:43:14.543Z"
   },
   {
    "duration": 6,
    "start_time": "2023-10-06T18:43:14.661Z"
   },
   {
    "duration": 38,
    "start_time": "2023-10-06T18:43:14.669Z"
   },
   {
    "duration": 65,
    "start_time": "2023-10-06T18:43:14.709Z"
   },
   {
    "duration": 95,
    "start_time": "2023-10-06T18:43:14.776Z"
   },
   {
    "duration": 7,
    "start_time": "2023-10-06T18:43:14.873Z"
   },
   {
    "duration": 18,
    "start_time": "2023-10-06T18:43:14.883Z"
   },
   {
    "duration": 127,
    "start_time": "2023-10-06T18:43:14.904Z"
   },
   {
    "duration": 13,
    "start_time": "2023-10-06T18:43:15.032Z"
   },
   {
    "duration": 2298,
    "start_time": "2023-10-06T18:43:15.046Z"
   },
   {
    "duration": 198,
    "start_time": "2023-10-06T18:43:17.346Z"
   },
   {
    "duration": 188,
    "start_time": "2023-10-06T18:43:17.546Z"
   },
   {
    "duration": 33,
    "start_time": "2023-10-06T18:43:17.736Z"
   },
   {
    "duration": 9,
    "start_time": "2023-10-06T18:43:17.771Z"
   },
   {
    "duration": 247,
    "start_time": "2023-10-06T18:43:17.782Z"
   },
   {
    "duration": 205,
    "start_time": "2023-10-06T18:43:18.031Z"
   },
   {
    "duration": 91,
    "start_time": "2023-10-06T18:45:26.254Z"
   },
   {
    "duration": 11,
    "start_time": "2023-10-06T18:45:28.447Z"
   },
   {
    "duration": 38,
    "start_time": "2023-10-06T18:45:44.697Z"
   },
   {
    "duration": 10,
    "start_time": "2023-10-06T18:45:47.383Z"
   },
   {
    "duration": 773,
    "start_time": "2023-10-06T18:56:08.907Z"
   },
   {
    "duration": 314,
    "start_time": "2023-10-06T18:56:09.682Z"
   },
   {
    "duration": 34,
    "start_time": "2023-10-06T18:56:09.997Z"
   },
   {
    "duration": 37,
    "start_time": "2023-10-06T18:56:10.038Z"
   },
   {
    "duration": 19,
    "start_time": "2023-10-06T18:56:10.078Z"
   },
   {
    "duration": 41,
    "start_time": "2023-10-06T18:56:10.099Z"
   },
   {
    "duration": 17,
    "start_time": "2023-10-06T18:56:10.147Z"
   },
   {
    "duration": 130,
    "start_time": "2023-10-06T18:56:10.167Z"
   },
   {
    "duration": 6,
    "start_time": "2023-10-06T18:56:10.299Z"
   },
   {
    "duration": 57,
    "start_time": "2023-10-06T18:56:10.308Z"
   },
   {
    "duration": 35,
    "start_time": "2023-10-06T18:56:10.367Z"
   },
   {
    "duration": 113,
    "start_time": "2023-10-06T18:56:10.405Z"
   },
   {
    "duration": 11,
    "start_time": "2023-10-06T18:56:10.524Z"
   },
   {
    "duration": 48,
    "start_time": "2023-10-06T18:56:10.542Z"
   },
   {
    "duration": 303,
    "start_time": "2023-10-06T18:56:10.592Z"
   },
   {
    "duration": 173,
    "start_time": "2023-10-06T18:56:10.897Z"
   },
   {
    "duration": 2224,
    "start_time": "2023-10-06T18:56:11.072Z"
   },
   {
    "duration": 194,
    "start_time": "2023-10-06T18:56:13.297Z"
   },
   {
    "duration": 220,
    "start_time": "2023-10-06T18:56:13.493Z"
   },
   {
    "duration": 49,
    "start_time": "2023-10-06T18:56:13.714Z"
   },
   {
    "duration": 65,
    "start_time": "2023-10-06T18:56:13.765Z"
   },
   {
    "duration": 332,
    "start_time": "2023-10-06T18:56:13.832Z"
   },
   {
    "duration": 208,
    "start_time": "2023-10-06T18:56:14.166Z"
   },
   {
    "duration": 429,
    "start_time": "2023-10-06T18:57:09.426Z"
   },
   {
    "duration": 461,
    "start_time": "2023-10-06T18:58:03.007Z"
   },
   {
    "duration": 840,
    "start_time": "2023-10-07T13:07:04.047Z"
   },
   {
    "duration": 478,
    "start_time": "2023-10-07T13:07:04.890Z"
   },
   {
    "duration": 23,
    "start_time": "2023-10-07T13:07:05.370Z"
   },
   {
    "duration": 28,
    "start_time": "2023-10-07T13:07:05.395Z"
   },
   {
    "duration": 31,
    "start_time": "2023-10-07T13:07:05.424Z"
   },
   {
    "duration": 28,
    "start_time": "2023-10-07T13:07:05.457Z"
   },
   {
    "duration": 9,
    "start_time": "2023-10-07T13:07:05.487Z"
   },
   {
    "duration": 80,
    "start_time": "2023-10-07T13:07:05.498Z"
   },
   {
    "duration": 5,
    "start_time": "2023-10-07T13:07:05.580Z"
   },
   {
    "duration": 42,
    "start_time": "2023-10-07T13:07:05.587Z"
   },
   {
    "duration": 28,
    "start_time": "2023-10-07T13:07:05.630Z"
   },
   {
    "duration": 97,
    "start_time": "2023-10-07T13:07:05.660Z"
   },
   {
    "duration": 8,
    "start_time": "2023-10-07T13:07:05.759Z"
   },
   {
    "duration": 20,
    "start_time": "2023-10-07T13:07:05.769Z"
   },
   {
    "duration": 119,
    "start_time": "2023-10-07T13:07:05.791Z"
   },
   {
    "duration": 13,
    "start_time": "2023-10-07T13:07:05.911Z"
   },
   {
    "duration": 1871,
    "start_time": "2023-10-07T13:07:05.925Z"
   },
   {
    "duration": 334,
    "start_time": "2023-10-07T13:07:07.798Z"
   },
   {
    "duration": 31,
    "start_time": "2023-10-07T13:07:08.134Z"
   },
   {
    "duration": 10,
    "start_time": "2023-10-07T13:07:08.166Z"
   },
   {
    "duration": 388,
    "start_time": "2023-10-07T13:07:08.178Z"
   },
   {
    "duration": 235,
    "start_time": "2023-10-07T13:07:08.568Z"
   },
   {
    "duration": 32,
    "start_time": "2023-10-07T13:07:54.137Z"
   },
   {
    "duration": 11,
    "start_time": "2023-10-07T13:07:56.235Z"
   },
   {
    "duration": 31,
    "start_time": "2023-10-07T13:08:24.723Z"
   },
   {
    "duration": 11,
    "start_time": "2023-10-07T13:08:27.406Z"
   },
   {
    "duration": 6,
    "start_time": "2023-10-07T13:08:53.247Z"
   },
   {
    "duration": 7,
    "start_time": "2023-10-07T13:09:19.625Z"
   },
   {
    "duration": 4,
    "start_time": "2023-10-07T13:10:08.666Z"
   },
   {
    "duration": 6,
    "start_time": "2023-10-07T13:10:29.861Z"
   },
   {
    "duration": 5,
    "start_time": "2023-10-07T13:11:07.171Z"
   },
   {
    "duration": 31,
    "start_time": "2023-10-07T13:11:28.363Z"
   },
   {
    "duration": 11,
    "start_time": "2023-10-07T13:11:30.840Z"
   },
   {
    "duration": 31,
    "start_time": "2023-10-07T13:12:32.086Z"
   },
   {
    "duration": 10,
    "start_time": "2023-10-07T13:12:35.070Z"
   },
   {
    "duration": 313,
    "start_time": "2023-10-07T13:14:58.852Z"
   },
   {
    "duration": 305,
    "start_time": "2023-10-07T13:16:54.565Z"
   },
   {
    "duration": 393,
    "start_time": "2023-10-07T13:17:57.185Z"
   },
   {
    "duration": 35,
    "start_time": "2023-10-07T13:21:04.687Z"
   },
   {
    "duration": 13,
    "start_time": "2023-10-07T13:21:13.957Z"
   },
   {
    "duration": 1325,
    "start_time": "2023-10-07T13:23:41.511Z"
   },
   {
    "duration": 12,
    "start_time": "2023-10-07T13:25:46.570Z"
   },
   {
    "duration": 8,
    "start_time": "2023-10-07T13:27:25.488Z"
   },
   {
    "duration": 5,
    "start_time": "2023-10-07T13:27:40.530Z"
   },
   {
    "duration": 4,
    "start_time": "2023-10-07T13:27:47.117Z"
   },
   {
    "duration": 4,
    "start_time": "2023-10-07T13:28:08.192Z"
   },
   {
    "duration": 4,
    "start_time": "2023-10-07T13:28:29.412Z"
   },
   {
    "duration": 4,
    "start_time": "2023-10-07T13:29:20.126Z"
   },
   {
    "duration": 9,
    "start_time": "2023-10-07T13:30:26.506Z"
   },
   {
    "duration": 3,
    "start_time": "2023-10-07T13:30:37.889Z"
   },
   {
    "duration": 34,
    "start_time": "2023-10-07T13:37:12.990Z"
   },
   {
    "duration": 33,
    "start_time": "2023-10-07T13:38:54.819Z"
   },
   {
    "duration": 11,
    "start_time": "2023-10-07T13:38:57.156Z"
   },
   {
    "duration": 33,
    "start_time": "2023-10-07T13:39:26.488Z"
   },
   {
    "duration": 11,
    "start_time": "2023-10-07T13:39:28.698Z"
   },
   {
    "duration": 37,
    "start_time": "2023-10-07T13:40:27.626Z"
   },
   {
    "duration": 11,
    "start_time": "2023-10-07T13:40:28.791Z"
   },
   {
    "duration": 1651,
    "start_time": "2023-10-07T13:42:41.599Z"
   },
   {
    "duration": 0,
    "start_time": "2023-10-07T13:42:43.251Z"
   },
   {
    "duration": 128,
    "start_time": "2023-10-07T13:44:41.986Z"
   },
   {
    "duration": 42,
    "start_time": "2023-10-07T13:45:04.578Z"
   },
   {
    "duration": 13,
    "start_time": "2023-10-07T13:45:16.997Z"
   },
   {
    "duration": 31,
    "start_time": "2023-10-07T13:46:34.528Z"
   },
   {
    "duration": 12,
    "start_time": "2023-10-07T13:46:36.386Z"
   },
   {
    "duration": 42,
    "start_time": "2023-10-07T13:49:47.037Z"
   },
   {
    "duration": 12,
    "start_time": "2023-10-07T13:50:47.266Z"
   },
   {
    "duration": 38,
    "start_time": "2023-10-07T13:51:37.025Z"
   },
   {
    "duration": 29,
    "start_time": "2023-10-07T13:51:37.065Z"
   },
   {
    "duration": 11,
    "start_time": "2023-10-07T14:01:47.430Z"
   },
   {
    "duration": 6,
    "start_time": "2023-10-07T14:02:17.267Z"
   },
   {
    "duration": 6,
    "start_time": "2023-10-07T14:02:43.679Z"
   },
   {
    "duration": 28,
    "start_time": "2023-10-07T14:03:15.589Z"
   },
   {
    "duration": 29,
    "start_time": "2023-10-07T14:04:14.273Z"
   },
   {
    "duration": 7,
    "start_time": "2023-10-07T14:07:56.204Z"
   },
   {
    "duration": 53,
    "start_time": "2023-10-07T14:07:56.213Z"
   },
   {
    "duration": 31,
    "start_time": "2023-10-07T14:08:08.375Z"
   },
   {
    "duration": 7,
    "start_time": "2023-10-07T14:09:00.671Z"
   },
   {
    "duration": 27,
    "start_time": "2023-10-07T14:09:02.493Z"
   },
   {
    "duration": 378,
    "start_time": "2023-10-07T14:14:36.223Z"
   },
   {
    "duration": 380,
    "start_time": "2023-10-07T14:16:34.003Z"
   },
   {
    "duration": 548,
    "start_time": "2023-10-07T14:17:03.877Z"
   },
   {
    "duration": 82,
    "start_time": "2023-10-07T14:17:34.825Z"
   },
   {
    "duration": 20,
    "start_time": "2023-10-07T14:17:41.278Z"
   },
   {
    "duration": 6,
    "start_time": "2023-10-07T14:17:50.819Z"
   },
   {
    "duration": 37,
    "start_time": "2023-10-07T14:18:53.114Z"
   },
   {
    "duration": 13,
    "start_time": "2023-10-07T14:19:05.459Z"
   },
   {
    "duration": 11,
    "start_time": "2023-10-09T15:25:30.211Z"
   },
   {
    "duration": 862,
    "start_time": "2023-10-09T15:25:40.335Z"
   },
   {
    "duration": 4,
    "start_time": "2023-10-09T15:25:41.199Z"
   },
   {
    "duration": 509,
    "start_time": "2023-10-09T15:25:41.204Z"
   },
   {
    "duration": 39,
    "start_time": "2023-10-09T15:25:41.715Z"
   },
   {
    "duration": 29,
    "start_time": "2023-10-09T15:25:41.757Z"
   },
   {
    "duration": 41,
    "start_time": "2023-10-09T15:25:41.788Z"
   },
   {
    "duration": 49,
    "start_time": "2023-10-09T15:25:41.831Z"
   },
   {
    "duration": 22,
    "start_time": "2023-10-09T15:25:41.882Z"
   },
   {
    "duration": 141,
    "start_time": "2023-10-09T15:25:41.905Z"
   },
   {
    "duration": 5,
    "start_time": "2023-10-09T15:25:42.048Z"
   },
   {
    "duration": 60,
    "start_time": "2023-10-09T15:25:42.055Z"
   },
   {
    "duration": 31,
    "start_time": "2023-10-09T15:25:42.117Z"
   },
   {
    "duration": 107,
    "start_time": "2023-10-09T15:25:42.150Z"
   },
   {
    "duration": 8,
    "start_time": "2023-10-09T15:25:42.258Z"
   },
   {
    "duration": 20,
    "start_time": "2023-10-09T15:25:42.269Z"
   },
   {
    "duration": 115,
    "start_time": "2023-10-09T15:25:42.290Z"
   },
   {
    "duration": 7,
    "start_time": "2023-10-09T15:25:42.407Z"
   },
   {
    "duration": 2138,
    "start_time": "2023-10-09T15:25:42.424Z"
   },
   {
    "duration": 347,
    "start_time": "2023-10-09T15:25:44.563Z"
   },
   {
    "duration": 45,
    "start_time": "2023-10-09T15:25:44.913Z"
   },
   {
    "duration": 12,
    "start_time": "2023-10-09T15:25:44.959Z"
   },
   {
    "duration": 455,
    "start_time": "2023-10-09T15:25:44.973Z"
   },
   {
    "duration": 116,
    "start_time": "2023-10-09T15:25:45.430Z"
   },
   {
    "duration": 14,
    "start_time": "2023-10-09T15:25:45.547Z"
   },
   {
    "duration": 475,
    "start_time": "2023-10-09T15:25:45.563Z"
   },
   {
    "duration": 39,
    "start_time": "2023-10-09T15:25:46.040Z"
   },
   {
    "duration": 12,
    "start_time": "2023-10-09T15:25:46.081Z"
   },
   {
    "duration": 28,
    "start_time": "2023-10-09T15:25:46.096Z"
   },
   {
    "duration": 29,
    "start_time": "2023-10-09T15:30:56.944Z"
   },
   {
    "duration": 21,
    "start_time": "2023-10-09T15:31:09.834Z"
   },
   {
    "duration": 1503,
    "start_time": "2023-10-09T15:36:43.979Z"
   },
   {
    "duration": 94,
    "start_time": "2023-10-09T15:39:28.600Z"
   },
   {
    "duration": 189,
    "start_time": "2023-10-09T15:39:34.427Z"
   },
   {
    "duration": 80,
    "start_time": "2023-10-09T15:40:55.077Z"
   },
   {
    "duration": 17,
    "start_time": "2023-10-09T15:41:07.793Z"
   },
   {
    "duration": 17,
    "start_time": "2023-10-09T15:41:13.018Z"
   },
   {
    "duration": 17,
    "start_time": "2023-10-09T15:43:11.678Z"
   },
   {
    "duration": 26,
    "start_time": "2023-10-09T15:43:21.953Z"
   },
   {
    "duration": 14,
    "start_time": "2023-10-09T15:45:25.786Z"
   },
   {
    "duration": 936,
    "start_time": "2023-10-09T15:45:40.835Z"
   },
   {
    "duration": 22,
    "start_time": "2023-10-09T15:45:45.893Z"
   },
   {
    "duration": 112,
    "start_time": "2023-10-09T15:47:49.717Z"
   },
   {
    "duration": 14,
    "start_time": "2023-10-09T15:48:19.626Z"
   },
   {
    "duration": 4,
    "start_time": "2023-10-09T15:48:49.000Z"
   },
   {
    "duration": 13,
    "start_time": "2023-10-09T15:55:15.580Z"
   },
   {
    "duration": 11,
    "start_time": "2023-10-09T15:55:24.438Z"
   },
   {
    "duration": 9,
    "start_time": "2023-10-09T15:57:24.260Z"
   },
   {
    "duration": 28,
    "start_time": "2023-10-09T16:01:47.454Z"
   },
   {
    "duration": 241,
    "start_time": "2023-10-09T16:04:48.064Z"
   },
   {
    "duration": 234,
    "start_time": "2023-10-09T16:05:14.321Z"
   },
   {
    "duration": 267,
    "start_time": "2023-10-09T16:12:10.320Z"
   },
   {
    "duration": 281,
    "start_time": "2023-10-09T16:12:27.174Z"
   },
   {
    "duration": 6,
    "start_time": "2023-10-09T16:12:38.432Z"
   },
   {
    "duration": 274,
    "start_time": "2023-10-09T16:12:51.293Z"
   },
   {
    "duration": 19,
    "start_time": "2023-10-09T16:13:08.170Z"
   },
   {
    "duration": 176,
    "start_time": "2023-10-09T16:13:30.248Z"
   },
   {
    "duration": 25,
    "start_time": "2023-10-09T16:19:07.942Z"
   },
   {
    "duration": 17,
    "start_time": "2023-10-09T16:19:17.964Z"
   },
   {
    "duration": 3,
    "start_time": "2023-10-09T16:19:41.045Z"
   },
   {
    "duration": 5,
    "start_time": "2023-10-09T16:19:41.051Z"
   },
   {
    "duration": 272,
    "start_time": "2023-10-09T16:19:41.058Z"
   },
   {
    "duration": 26,
    "start_time": "2023-10-09T16:19:41.332Z"
   },
   {
    "duration": 32,
    "start_time": "2023-10-09T16:19:41.360Z"
   },
   {
    "duration": 106,
    "start_time": "2023-10-09T16:19:41.394Z"
   },
   {
    "duration": 45,
    "start_time": "2023-10-09T16:19:41.502Z"
   },
   {
    "duration": 13,
    "start_time": "2023-10-09T16:19:41.550Z"
   },
   {
    "duration": 94,
    "start_time": "2023-10-09T16:19:41.564Z"
   },
   {
    "duration": 30,
    "start_time": "2023-10-09T16:19:41.660Z"
   },
   {
    "duration": 73,
    "start_time": "2023-10-09T16:19:41.692Z"
   },
   {
    "duration": 83,
    "start_time": "2023-10-09T16:19:41.767Z"
   },
   {
    "duration": 58,
    "start_time": "2023-10-09T16:19:41.852Z"
   },
   {
    "duration": 44,
    "start_time": "2023-10-09T16:19:41.913Z"
   },
   {
    "duration": 137,
    "start_time": "2023-10-09T16:19:41.959Z"
   },
   {
    "duration": 8,
    "start_time": "2023-10-09T16:19:42.097Z"
   },
   {
    "duration": 53,
    "start_time": "2023-10-09T16:19:42.107Z"
   },
   {
    "duration": 189,
    "start_time": "2023-10-09T16:19:42.163Z"
   },
   {
    "duration": 8,
    "start_time": "2023-10-09T16:19:42.354Z"
   },
   {
    "duration": 2671,
    "start_time": "2023-10-09T16:19:42.364Z"
   },
   {
    "duration": 399,
    "start_time": "2023-10-09T16:19:45.037Z"
   },
   {
    "duration": 49,
    "start_time": "2023-10-09T16:19:45.437Z"
   },
   {
    "duration": 171,
    "start_time": "2023-10-09T16:19:45.488Z"
   },
   {
    "duration": 650,
    "start_time": "2023-10-09T16:19:45.661Z"
   },
   {
    "duration": 60,
    "start_time": "2023-10-09T16:19:46.316Z"
   },
   {
    "duration": 25,
    "start_time": "2023-10-09T16:19:46.379Z"
   },
   {
    "duration": 669,
    "start_time": "2023-10-09T16:19:46.406Z"
   },
   {
    "duration": 65,
    "start_time": "2023-10-09T16:19:47.077Z"
   },
   {
    "duration": 197,
    "start_time": "2023-10-09T16:19:47.147Z"
   },
   {
    "duration": 155,
    "start_time": "2023-10-09T16:19:47.347Z"
   },
   {
    "duration": 310,
    "start_time": "2023-10-09T16:19:47.504Z"
   },
   {
    "duration": 20,
    "start_time": "2023-10-09T16:19:47.823Z"
   },
   {
    "duration": 6,
    "start_time": "2023-10-09T16:20:02.049Z"
   },
   {
    "duration": 3,
    "start_time": "2023-10-09T16:24:54.182Z"
   },
   {
    "duration": 2308,
    "start_time": "2023-10-09T16:30:21.947Z"
   },
   {
    "duration": 2502,
    "start_time": "2023-10-09T16:30:30.400Z"
   },
   {
    "duration": 4,
    "start_time": "2023-10-09T16:31:13.816Z"
   },
   {
    "duration": 3282,
    "start_time": "2023-10-09T16:31:46.277Z"
   },
   {
    "duration": 6,
    "start_time": "2023-10-09T16:31:51.551Z"
   },
   {
    "duration": 5,
    "start_time": "2023-10-09T16:32:18.981Z"
   },
   {
    "duration": 6,
    "start_time": "2023-10-09T16:32:55.224Z"
   },
   {
    "duration": 1777,
    "start_time": "2023-10-09T16:33:05.039Z"
   },
   {
    "duration": 6,
    "start_time": "2023-10-09T16:33:09.182Z"
   },
   {
    "duration": 4,
    "start_time": "2023-10-09T16:36:55.540Z"
   },
   {
    "duration": 25,
    "start_time": "2023-10-09T16:37:05.995Z"
   },
   {
    "duration": 31,
    "start_time": "2023-10-09T16:37:13.618Z"
   },
   {
    "duration": 8,
    "start_time": "2023-10-09T16:39:48.788Z"
   },
   {
    "duration": 5,
    "start_time": "2023-10-09T16:40:08.717Z"
   },
   {
    "duration": 3708,
    "start_time": "2023-10-09T16:40:24.881Z"
   },
   {
    "duration": 3,
    "start_time": "2023-10-09T16:40:28.591Z"
   },
   {
    "duration": 383,
    "start_time": "2023-10-09T16:40:28.596Z"
   },
   {
    "duration": 47,
    "start_time": "2023-10-09T16:40:28.981Z"
   },
   {
    "duration": 50,
    "start_time": "2023-10-09T16:40:29.031Z"
   },
   {
    "duration": 46,
    "start_time": "2023-10-09T16:40:29.083Z"
   },
   {
    "duration": 40,
    "start_time": "2023-10-09T16:40:29.131Z"
   },
   {
    "duration": 11,
    "start_time": "2023-10-09T16:40:29.174Z"
   },
   {
    "duration": 146,
    "start_time": "2023-10-09T16:40:29.190Z"
   },
   {
    "duration": 42,
    "start_time": "2023-10-09T16:40:29.339Z"
   },
   {
    "duration": 48,
    "start_time": "2023-10-09T16:40:29.383Z"
   },
   {
    "duration": 5,
    "start_time": "2023-10-09T16:40:29.433Z"
   },
   {
    "duration": 45,
    "start_time": "2023-10-09T16:40:29.440Z"
   },
   {
    "duration": 68,
    "start_time": "2023-10-09T16:40:29.489Z"
   },
   {
    "duration": 133,
    "start_time": "2023-10-09T16:40:29.559Z"
   },
   {
    "duration": 8,
    "start_time": "2023-10-09T16:40:29.695Z"
   },
   {
    "duration": 27,
    "start_time": "2023-10-09T16:40:29.705Z"
   },
   {
    "duration": 174,
    "start_time": "2023-10-09T16:40:29.734Z"
   },
   {
    "duration": 16,
    "start_time": "2023-10-09T16:40:29.909Z"
   },
   {
    "duration": 3276,
    "start_time": "2023-10-09T16:40:29.927Z"
   },
   {
    "duration": 607,
    "start_time": "2023-10-09T16:40:33.205Z"
   },
   {
    "duration": 52,
    "start_time": "2023-10-09T16:40:33.815Z"
   },
   {
    "duration": 101,
    "start_time": "2023-10-09T16:40:33.869Z"
   },
   {
    "duration": 658,
    "start_time": "2023-10-09T16:40:33.971Z"
   },
   {
    "duration": 56,
    "start_time": "2023-10-09T16:40:34.631Z"
   },
   {
    "duration": 172,
    "start_time": "2023-10-09T16:40:34.689Z"
   },
   {
    "duration": 655,
    "start_time": "2023-10-09T16:40:34.863Z"
   },
   {
    "duration": 156,
    "start_time": "2023-10-09T16:40:35.520Z"
   },
   {
    "duration": 265,
    "start_time": "2023-10-09T16:40:35.678Z"
   },
   {
    "duration": 180,
    "start_time": "2023-10-09T16:40:35.946Z"
   },
   {
    "duration": 315,
    "start_time": "2023-10-09T16:40:36.128Z"
   },
   {
    "duration": 0,
    "start_time": "2023-10-09T16:40:36.445Z"
   },
   {
    "duration": 0,
    "start_time": "2023-10-09T16:40:36.448Z"
   },
   {
    "duration": 8,
    "start_time": "2023-10-09T16:41:20.694Z"
   },
   {
    "duration": 5,
    "start_time": "2023-10-09T16:41:25.475Z"
   },
   {
    "duration": 18,
    "start_time": "2023-10-09T16:41:42.099Z"
   },
   {
    "duration": 17,
    "start_time": "2023-10-09T16:42:00.980Z"
   },
   {
    "duration": 321,
    "start_time": "2023-10-09T16:43:18.797Z"
   },
   {
    "duration": 24,
    "start_time": "2023-10-09T16:44:25.617Z"
   },
   {
    "duration": 22,
    "start_time": "2023-10-09T16:44:55.121Z"
   },
   {
    "duration": 234,
    "start_time": "2023-10-09T16:44:59.426Z"
   },
   {
    "duration": 236,
    "start_time": "2023-10-09T16:45:39.788Z"
   },
   {
    "duration": 876,
    "start_time": "2023-10-09T16:46:10.207Z"
   },
   {
    "duration": 248,
    "start_time": "2023-10-09T16:48:30.382Z"
   },
   {
    "duration": 15181,
    "start_time": "2023-10-09T17:08:43.762Z"
   },
   {
    "duration": 0,
    "start_time": "2023-10-09T17:08:58.954Z"
   },
   {
    "duration": 0,
    "start_time": "2023-10-09T17:08:58.956Z"
   },
   {
    "duration": 0,
    "start_time": "2023-10-09T17:08:58.958Z"
   },
   {
    "duration": 0,
    "start_time": "2023-10-09T17:08:58.959Z"
   },
   {
    "duration": 0,
    "start_time": "2023-10-09T17:08:58.961Z"
   },
   {
    "duration": 0,
    "start_time": "2023-10-09T17:08:58.963Z"
   },
   {
    "duration": 0,
    "start_time": "2023-10-09T17:08:58.965Z"
   },
   {
    "duration": 0,
    "start_time": "2023-10-09T17:08:58.967Z"
   },
   {
    "duration": 0,
    "start_time": "2023-10-09T17:08:58.968Z"
   },
   {
    "duration": 0,
    "start_time": "2023-10-09T17:08:58.969Z"
   },
   {
    "duration": 0,
    "start_time": "2023-10-09T17:08:58.971Z"
   },
   {
    "duration": 0,
    "start_time": "2023-10-09T17:08:58.972Z"
   },
   {
    "duration": 0,
    "start_time": "2023-10-09T17:08:58.975Z"
   },
   {
    "duration": 0,
    "start_time": "2023-10-09T17:08:58.977Z"
   },
   {
    "duration": 0,
    "start_time": "2023-10-09T17:08:58.978Z"
   },
   {
    "duration": 0,
    "start_time": "2023-10-09T17:08:58.979Z"
   },
   {
    "duration": 0,
    "start_time": "2023-10-09T17:08:58.980Z"
   },
   {
    "duration": 0,
    "start_time": "2023-10-09T17:08:58.982Z"
   },
   {
    "duration": 0,
    "start_time": "2023-10-09T17:08:58.983Z"
   },
   {
    "duration": 0,
    "start_time": "2023-10-09T17:08:58.984Z"
   },
   {
    "duration": 0,
    "start_time": "2023-10-09T17:08:58.986Z"
   },
   {
    "duration": 0,
    "start_time": "2023-10-09T17:08:58.987Z"
   },
   {
    "duration": 0,
    "start_time": "2023-10-09T17:08:58.988Z"
   },
   {
    "duration": 0,
    "start_time": "2023-10-09T17:08:58.989Z"
   },
   {
    "duration": 0,
    "start_time": "2023-10-09T17:08:58.990Z"
   },
   {
    "duration": 0,
    "start_time": "2023-10-09T17:08:58.992Z"
   },
   {
    "duration": 0,
    "start_time": "2023-10-09T17:08:58.993Z"
   },
   {
    "duration": 0,
    "start_time": "2023-10-09T17:08:58.994Z"
   },
   {
    "duration": 0,
    "start_time": "2023-10-09T17:08:58.995Z"
   },
   {
    "duration": 0,
    "start_time": "2023-10-09T17:08:59.025Z"
   },
   {
    "duration": 0,
    "start_time": "2023-10-09T17:08:59.026Z"
   },
   {
    "duration": 0,
    "start_time": "2023-10-09T17:08:59.027Z"
   },
   {
    "duration": 0,
    "start_time": "2023-10-09T17:08:59.028Z"
   },
   {
    "duration": 0,
    "start_time": "2023-10-09T17:08:59.029Z"
   },
   {
    "duration": 0,
    "start_time": "2023-10-09T17:08:59.030Z"
   },
   {
    "duration": 3478,
    "start_time": "2023-10-09T17:09:21.502Z"
   },
   {
    "duration": 3521,
    "start_time": "2023-10-09T17:09:33.655Z"
   },
   {
    "duration": 1582,
    "start_time": "2023-10-09T17:09:37.179Z"
   },
   {
    "duration": 4,
    "start_time": "2023-10-09T17:09:38.764Z"
   },
   {
    "duration": 481,
    "start_time": "2023-10-09T17:09:38.771Z"
   },
   {
    "duration": 48,
    "start_time": "2023-10-09T17:09:39.256Z"
   },
   {
    "duration": 235,
    "start_time": "2023-10-09T17:09:39.308Z"
   },
   {
    "duration": 35,
    "start_time": "2023-10-09T17:09:39.553Z"
   },
   {
    "duration": 50,
    "start_time": "2023-10-09T17:09:39.590Z"
   },
   {
    "duration": 177,
    "start_time": "2023-10-09T17:09:39.642Z"
   },
   {
    "duration": 219,
    "start_time": "2023-10-09T17:09:39.822Z"
   },
   {
    "duration": 123,
    "start_time": "2023-10-09T17:09:40.049Z"
   },
   {
    "duration": 115,
    "start_time": "2023-10-09T17:09:40.175Z"
   },
   {
    "duration": 86,
    "start_time": "2023-10-09T17:09:40.292Z"
   },
   {
    "duration": 59,
    "start_time": "2023-10-09T17:09:40.384Z"
   },
   {
    "duration": 52,
    "start_time": "2023-10-09T17:09:40.455Z"
   },
   {
    "duration": 149,
    "start_time": "2023-10-09T17:09:40.511Z"
   },
   {
    "duration": 10,
    "start_time": "2023-10-09T17:09:40.662Z"
   },
   {
    "duration": 46,
    "start_time": "2023-10-09T17:09:40.674Z"
   },
   {
    "duration": 179,
    "start_time": "2023-10-09T17:09:40.722Z"
   },
   {
    "duration": 27,
    "start_time": "2023-10-09T17:09:40.904Z"
   },
   {
    "duration": 2818,
    "start_time": "2023-10-09T17:09:40.937Z"
   },
   {
    "duration": 397,
    "start_time": "2023-10-09T17:09:43.759Z"
   },
   {
    "duration": 36,
    "start_time": "2023-10-09T17:09:44.158Z"
   },
   {
    "duration": 124,
    "start_time": "2023-10-09T17:09:44.196Z"
   },
   {
    "duration": 610,
    "start_time": "2023-10-09T17:09:44.322Z"
   },
   {
    "duration": 48,
    "start_time": "2023-10-09T17:09:44.934Z"
   },
   {
    "duration": 118,
    "start_time": "2023-10-09T17:09:44.984Z"
   },
   {
    "duration": 710,
    "start_time": "2023-10-09T17:09:45.105Z"
   },
   {
    "duration": 69,
    "start_time": "2023-10-09T17:09:45.825Z"
   },
   {
    "duration": 70,
    "start_time": "2023-10-09T17:09:45.896Z"
   },
   {
    "duration": 52,
    "start_time": "2023-10-09T17:09:45.972Z"
   },
   {
    "duration": 13022,
    "start_time": "2023-10-09T17:09:46.026Z"
   },
   {
    "duration": 9,
    "start_time": "2023-10-09T17:09:59.056Z"
   },
   {
    "duration": 3811,
    "start_time": "2023-10-09T17:18:19.182Z"
   },
   {
    "duration": 1761,
    "start_time": "2023-10-09T17:18:22.997Z"
   },
   {
    "duration": 4,
    "start_time": "2023-10-09T17:18:24.760Z"
   },
   {
    "duration": 535,
    "start_time": "2023-10-09T17:18:24.767Z"
   },
   {
    "duration": 52,
    "start_time": "2023-10-09T17:18:25.304Z"
   },
   {
    "duration": 53,
    "start_time": "2023-10-09T17:18:25.359Z"
   },
   {
    "duration": 36,
    "start_time": "2023-10-09T17:18:25.423Z"
   },
   {
    "duration": 45,
    "start_time": "2023-10-09T17:18:25.464Z"
   },
   {
    "duration": 31,
    "start_time": "2023-10-09T17:18:25.511Z"
   },
   {
    "duration": 169,
    "start_time": "2023-10-09T17:18:25.546Z"
   },
   {
    "duration": 53,
    "start_time": "2023-10-09T17:18:25.717Z"
   },
   {
    "duration": 48,
    "start_time": "2023-10-09T17:18:25.775Z"
   },
   {
    "duration": 7,
    "start_time": "2023-10-09T17:18:25.825Z"
   },
   {
    "duration": 68,
    "start_time": "2023-10-09T17:18:25.835Z"
   },
   {
    "duration": 59,
    "start_time": "2023-10-09T17:18:25.905Z"
   },
   {
    "duration": 148,
    "start_time": "2023-10-09T17:18:25.971Z"
   },
   {
    "duration": 21,
    "start_time": "2023-10-09T17:18:26.124Z"
   },
   {
    "duration": 18,
    "start_time": "2023-10-09T17:18:26.150Z"
   },
   {
    "duration": 166,
    "start_time": "2023-10-09T17:18:26.170Z"
   },
   {
    "duration": 22,
    "start_time": "2023-10-09T17:18:26.345Z"
   },
   {
    "duration": 2956,
    "start_time": "2023-10-09T17:18:26.370Z"
   },
   {
    "duration": 557,
    "start_time": "2023-10-09T17:18:29.327Z"
   },
   {
    "duration": 72,
    "start_time": "2023-10-09T17:18:29.887Z"
   },
   {
    "duration": 21,
    "start_time": "2023-10-09T17:18:29.964Z"
   },
   {
    "duration": 690,
    "start_time": "2023-10-09T17:18:29.988Z"
   },
   {
    "duration": 80,
    "start_time": "2023-10-09T17:18:30.681Z"
   },
   {
    "duration": 119,
    "start_time": "2023-10-09T17:18:30.764Z"
   },
   {
    "duration": 714,
    "start_time": "2023-10-09T17:18:30.888Z"
   },
   {
    "duration": 72,
    "start_time": "2023-10-09T17:18:31.605Z"
   },
   {
    "duration": 25,
    "start_time": "2023-10-09T17:18:31.682Z"
   },
   {
    "duration": 21,
    "start_time": "2023-10-09T17:18:31.710Z"
   },
   {
    "duration": 14242,
    "start_time": "2023-10-09T17:18:31.733Z"
   },
   {
    "duration": 5,
    "start_time": "2023-10-09T17:18:45.978Z"
   },
   {
    "duration": 3944,
    "start_time": "2023-10-09T17:19:01.007Z"
   },
   {
    "duration": 27,
    "start_time": "2023-10-09T17:19:23.423Z"
   },
   {
    "duration": 3424,
    "start_time": "2023-10-09T17:21:20.807Z"
   },
   {
    "duration": 1530,
    "start_time": "2023-10-09T17:21:24.235Z"
   },
   {
    "duration": 3,
    "start_time": "2023-10-09T17:21:25.770Z"
   },
   {
    "duration": 438,
    "start_time": "2023-10-09T17:21:25.776Z"
   },
   {
    "duration": 45,
    "start_time": "2023-10-09T17:21:26.218Z"
   },
   {
    "duration": 78,
    "start_time": "2023-10-09T17:21:26.268Z"
   },
   {
    "duration": 30,
    "start_time": "2023-10-09T17:21:26.349Z"
   },
   {
    "duration": 30,
    "start_time": "2023-10-09T17:21:26.382Z"
   },
   {
    "duration": 30,
    "start_time": "2023-10-09T17:21:26.415Z"
   },
   {
    "duration": 137,
    "start_time": "2023-10-09T17:21:26.452Z"
   },
   {
    "duration": 50,
    "start_time": "2023-10-09T17:21:26.592Z"
   },
   {
    "duration": 32,
    "start_time": "2023-10-09T17:21:26.644Z"
   },
   {
    "duration": 5,
    "start_time": "2023-10-09T17:21:26.679Z"
   },
   {
    "duration": 70,
    "start_time": "2023-10-09T17:21:26.688Z"
   },
   {
    "duration": 73,
    "start_time": "2023-10-09T17:21:26.760Z"
   },
   {
    "duration": 129,
    "start_time": "2023-10-09T17:21:26.842Z"
   },
   {
    "duration": 9,
    "start_time": "2023-10-09T17:21:26.973Z"
   },
   {
    "duration": 20,
    "start_time": "2023-10-09T17:21:26.985Z"
   },
   {
    "duration": 182,
    "start_time": "2023-10-09T17:21:27.007Z"
   },
   {
    "duration": 12,
    "start_time": "2023-10-09T17:21:27.191Z"
   },
   {
    "duration": 2646,
    "start_time": "2023-10-09T17:21:27.206Z"
   },
   {
    "duration": 427,
    "start_time": "2023-10-09T17:21:29.857Z"
   },
   {
    "duration": 59,
    "start_time": "2023-10-09T17:21:30.289Z"
   },
   {
    "duration": 307,
    "start_time": "2023-10-09T17:21:30.350Z"
   },
   {
    "duration": 573,
    "start_time": "2023-10-09T17:21:30.659Z"
   },
   {
    "duration": 53,
    "start_time": "2023-10-09T17:21:31.234Z"
   },
   {
    "duration": 41,
    "start_time": "2023-10-09T17:21:31.289Z"
   },
   {
    "duration": 530,
    "start_time": "2023-10-09T17:21:31.339Z"
   },
   {
    "duration": 49,
    "start_time": "2023-10-09T17:21:31.871Z"
   },
   {
    "duration": 350,
    "start_time": "2023-10-09T17:21:31.922Z"
   },
   {
    "duration": 146,
    "start_time": "2023-10-09T17:21:32.277Z"
   },
   {
    "duration": 14373,
    "start_time": "2023-10-09T17:21:32.425Z"
   },
   {
    "duration": 29,
    "start_time": "2023-10-09T17:21:46.801Z"
   },
   {
    "duration": 49,
    "start_time": "2023-10-09T17:22:05.100Z"
   },
   {
    "duration": 33,
    "start_time": "2023-10-09T17:22:13.242Z"
   },
   {
    "duration": 4318,
    "start_time": "2023-10-09T17:23:59.596Z"
   },
   {
    "duration": 26,
    "start_time": "2023-10-09T17:24:38.812Z"
   },
   {
    "duration": 8373,
    "start_time": "2023-10-09T17:25:27.679Z"
   },
   {
    "duration": 1415,
    "start_time": "2023-10-09T17:25:36.065Z"
   },
   {
    "duration": 5,
    "start_time": "2023-10-09T17:25:37.483Z"
   },
   {
    "duration": 455,
    "start_time": "2023-10-09T17:25:37.490Z"
   },
   {
    "duration": 36,
    "start_time": "2023-10-09T17:25:37.951Z"
   },
   {
    "duration": 35,
    "start_time": "2023-10-09T17:25:37.992Z"
   },
   {
    "duration": 33,
    "start_time": "2023-10-09T17:25:38.028Z"
   },
   {
    "duration": 94,
    "start_time": "2023-10-09T17:25:38.068Z"
   },
   {
    "duration": 112,
    "start_time": "2023-10-09T17:25:38.167Z"
   },
   {
    "duration": 160,
    "start_time": "2023-10-09T17:25:38.289Z"
   },
   {
    "duration": 45,
    "start_time": "2023-10-09T17:25:38.450Z"
   },
   {
    "duration": 83,
    "start_time": "2023-10-09T17:25:38.497Z"
   },
   {
    "duration": 25,
    "start_time": "2023-10-09T17:25:38.581Z"
   },
   {
    "duration": 87,
    "start_time": "2023-10-09T17:25:38.607Z"
   },
   {
    "duration": 33,
    "start_time": "2023-10-09T17:25:38.697Z"
   },
   {
    "duration": 143,
    "start_time": "2023-10-09T17:25:38.731Z"
   },
   {
    "duration": 13,
    "start_time": "2023-10-09T17:25:38.888Z"
   },
   {
    "duration": 40,
    "start_time": "2023-10-09T17:25:38.903Z"
   },
   {
    "duration": 162,
    "start_time": "2023-10-09T17:25:38.945Z"
   },
   {
    "duration": 23,
    "start_time": "2023-10-09T17:25:39.109Z"
   },
   {
    "duration": 2861,
    "start_time": "2023-10-09T17:25:39.138Z"
   },
   {
    "duration": 490,
    "start_time": "2023-10-09T17:25:42.002Z"
   },
   {
    "duration": 62,
    "start_time": "2023-10-09T17:25:42.495Z"
   },
   {
    "duration": 93,
    "start_time": "2023-10-09T17:25:42.562Z"
   },
   {
    "duration": 695,
    "start_time": "2023-10-09T17:25:42.659Z"
   },
   {
    "duration": 59,
    "start_time": "2023-10-09T17:25:43.358Z"
   },
   {
    "duration": 20,
    "start_time": "2023-10-09T17:25:43.420Z"
   },
   {
    "duration": 572,
    "start_time": "2023-10-09T17:25:43.444Z"
   },
   {
    "duration": 67,
    "start_time": "2023-10-09T17:25:44.029Z"
   },
   {
    "duration": 17,
    "start_time": "2023-10-09T17:25:44.098Z"
   },
   {
    "duration": 16,
    "start_time": "2023-10-09T17:25:44.126Z"
   },
   {
    "duration": 10542,
    "start_time": "2023-10-09T17:25:44.144Z"
   },
   {
    "duration": 40,
    "start_time": "2023-10-09T17:25:54.688Z"
   },
   {
    "duration": 4596,
    "start_time": "2023-10-09T17:25:54.735Z"
   },
   {
    "duration": 43,
    "start_time": "2023-10-09T17:25:59.333Z"
   },
   {
    "duration": 75,
    "start_time": "2023-10-09T17:27:31.968Z"
   },
   {
    "duration": 157,
    "start_time": "2023-10-09T17:30:24.595Z"
   },
   {
    "duration": 17,
    "start_time": "2023-10-09T17:30:38.592Z"
   },
   {
    "duration": 27,
    "start_time": "2023-10-09T17:31:06.839Z"
   },
   {
    "duration": 6579,
    "start_time": "2023-10-09T17:31:18.409Z"
   },
   {
    "duration": 1578,
    "start_time": "2023-10-09T17:31:24.991Z"
   },
   {
    "duration": 5,
    "start_time": "2023-10-09T17:31:26.576Z"
   },
   {
    "duration": 407,
    "start_time": "2023-10-09T17:31:26.586Z"
   },
   {
    "duration": 69,
    "start_time": "2023-10-09T17:31:26.998Z"
   },
   {
    "duration": 45,
    "start_time": "2023-10-09T17:31:27.077Z"
   },
   {
    "duration": 36,
    "start_time": "2023-10-09T17:31:27.128Z"
   },
   {
    "duration": 38,
    "start_time": "2023-10-09T17:31:27.166Z"
   },
   {
    "duration": 9,
    "start_time": "2023-10-09T17:31:27.206Z"
   },
   {
    "duration": 138,
    "start_time": "2023-10-09T17:31:27.217Z"
   },
   {
    "duration": 47,
    "start_time": "2023-10-09T17:31:27.357Z"
   },
   {
    "duration": 34,
    "start_time": "2023-10-09T17:31:27.406Z"
   },
   {
    "duration": 13,
    "start_time": "2023-10-09T17:31:27.442Z"
   },
   {
    "duration": 81,
    "start_time": "2023-10-09T17:31:27.460Z"
   },
   {
    "duration": 55,
    "start_time": "2023-10-09T17:31:27.547Z"
   },
   {
    "duration": 127,
    "start_time": "2023-10-09T17:31:27.605Z"
   },
   {
    "duration": 15,
    "start_time": "2023-10-09T17:31:27.734Z"
   },
   {
    "duration": 36,
    "start_time": "2023-10-09T17:31:27.751Z"
   },
   {
    "duration": 195,
    "start_time": "2023-10-09T17:31:27.790Z"
   },
   {
    "duration": 12,
    "start_time": "2023-10-09T17:31:27.987Z"
   },
   {
    "duration": 2828,
    "start_time": "2023-10-09T17:31:28.001Z"
   },
   {
    "duration": 582,
    "start_time": "2023-10-09T17:31:30.831Z"
   },
   {
    "duration": 62,
    "start_time": "2023-10-09T17:31:31.417Z"
   },
   {
    "duration": 16,
    "start_time": "2023-10-09T17:31:31.481Z"
   },
   {
    "duration": 645,
    "start_time": "2023-10-09T17:31:31.499Z"
   },
   {
    "duration": 55,
    "start_time": "2023-10-09T17:31:32.146Z"
   },
   {
    "duration": 54,
    "start_time": "2023-10-09T17:31:32.203Z"
   },
   {
    "duration": 558,
    "start_time": "2023-10-09T17:31:32.258Z"
   },
   {
    "duration": 81,
    "start_time": "2023-10-09T17:31:32.820Z"
   },
   {
    "duration": 58,
    "start_time": "2023-10-09T17:31:32.903Z"
   },
   {
    "duration": 67,
    "start_time": "2023-10-09T17:31:32.965Z"
   },
   {
    "duration": 9307,
    "start_time": "2023-10-09T17:31:33.037Z"
   },
   {
    "duration": 21,
    "start_time": "2023-10-09T17:31:42.346Z"
   },
   {
    "duration": 3895,
    "start_time": "2023-10-09T17:31:42.377Z"
   },
   {
    "duration": 33,
    "start_time": "2023-10-09T17:31:46.274Z"
   },
   {
    "duration": 200,
    "start_time": "2023-10-09T17:32:20.316Z"
   },
   {
    "duration": 6705,
    "start_time": "2023-10-09T17:32:43.867Z"
   },
   {
    "duration": 1391,
    "start_time": "2023-10-09T17:32:50.574Z"
   },
   {
    "duration": 3,
    "start_time": "2023-10-09T17:32:51.967Z"
   },
   {
    "duration": 385,
    "start_time": "2023-10-09T17:32:51.972Z"
   },
   {
    "duration": 38,
    "start_time": "2023-10-09T17:32:52.365Z"
   },
   {
    "duration": 53,
    "start_time": "2023-10-09T17:32:52.405Z"
   },
   {
    "duration": 31,
    "start_time": "2023-10-09T17:32:52.461Z"
   },
   {
    "duration": 33,
    "start_time": "2023-10-09T17:32:52.497Z"
   },
   {
    "duration": 25,
    "start_time": "2023-10-09T17:32:52.534Z"
   },
   {
    "duration": 162,
    "start_time": "2023-10-09T17:32:52.568Z"
   },
   {
    "duration": 53,
    "start_time": "2023-10-09T17:32:52.735Z"
   },
   {
    "duration": 28,
    "start_time": "2023-10-09T17:32:52.790Z"
   },
   {
    "duration": 12,
    "start_time": "2023-10-09T17:32:52.820Z"
   },
   {
    "duration": 47,
    "start_time": "2023-10-09T17:32:52.835Z"
   },
   {
    "duration": 279,
    "start_time": "2023-10-09T17:32:52.883Z"
   },
   {
    "duration": 367,
    "start_time": "2023-10-09T17:32:53.165Z"
   },
   {
    "duration": 10,
    "start_time": "2023-10-09T17:32:53.534Z"
   },
   {
    "duration": 184,
    "start_time": "2023-10-09T17:32:53.546Z"
   },
   {
    "duration": 258,
    "start_time": "2023-10-09T17:32:53.739Z"
   },
   {
    "duration": 11,
    "start_time": "2023-10-09T17:32:54.003Z"
   },
   {
    "duration": 3069,
    "start_time": "2023-10-09T17:32:54.016Z"
   },
   {
    "duration": 475,
    "start_time": "2023-10-09T17:32:57.087Z"
   },
   {
    "duration": 48,
    "start_time": "2023-10-09T17:32:57.572Z"
   },
   {
    "duration": 186,
    "start_time": "2023-10-09T17:32:57.622Z"
   },
   {
    "duration": 941,
    "start_time": "2023-10-09T17:32:57.811Z"
   },
   {
    "duration": 62,
    "start_time": "2023-10-09T17:32:58.760Z"
   },
   {
    "duration": 68,
    "start_time": "2023-10-09T17:32:58.824Z"
   },
   {
    "duration": 583,
    "start_time": "2023-10-09T17:32:58.894Z"
   },
   {
    "duration": 61,
    "start_time": "2023-10-09T17:32:59.479Z"
   },
   {
    "duration": 45,
    "start_time": "2023-10-09T17:32:59.544Z"
   },
   {
    "duration": 56,
    "start_time": "2023-10-09T17:32:59.591Z"
   },
   {
    "duration": 9766,
    "start_time": "2023-10-09T17:32:59.653Z"
   },
   {
    "duration": 44,
    "start_time": "2023-10-09T17:33:09.421Z"
   },
   {
    "duration": 3679,
    "start_time": "2023-10-09T17:33:09.467Z"
   },
   {
    "duration": 23,
    "start_time": "2023-10-09T17:33:13.147Z"
   },
   {
    "duration": 170,
    "start_time": "2023-10-09T17:35:57.679Z"
   },
   {
    "duration": 24,
    "start_time": "2023-10-09T17:36:40.273Z"
   },
   {
    "duration": 6,
    "start_time": "2023-10-09T17:36:44.499Z"
   },
   {
    "duration": 13,
    "start_time": "2023-10-09T17:37:19.985Z"
   },
   {
    "duration": 8,
    "start_time": "2023-10-09T17:37:44.642Z"
   },
   {
    "duration": 5,
    "start_time": "2023-10-09T17:39:48.996Z"
   },
   {
    "duration": 3096,
    "start_time": "2023-10-09T17:41:59.876Z"
   },
   {
    "duration": 2308,
    "start_time": "2023-10-09T17:42:40.978Z"
   },
   {
    "duration": 59,
    "start_time": "2023-10-09T17:44:38.724Z"
   },
   {
    "duration": 5,
    "start_time": "2023-10-09T17:44:51.794Z"
   },
   {
    "duration": 14127,
    "start_time": "2023-10-09T17:51:58.363Z"
   },
   {
    "duration": 13347,
    "start_time": "2023-10-09T17:52:27.148Z"
   },
   {
    "duration": 13270,
    "start_time": "2023-10-09T17:52:51.951Z"
   },
   {
    "duration": 11852,
    "start_time": "2023-10-09T17:53:59.992Z"
   },
   {
    "duration": 11,
    "start_time": "2023-10-09T17:56:33.511Z"
   },
   {
    "duration": 39,
    "start_time": "2023-10-09T17:56:37.364Z"
   },
   {
    "duration": 4,
    "start_time": "2023-10-09T17:56:53.893Z"
   },
   {
    "duration": 15,
    "start_time": "2023-10-09T18:05:30.581Z"
   },
   {
    "duration": 158,
    "start_time": "2023-10-09T18:05:39.666Z"
   },
   {
    "duration": 11931,
    "start_time": "2023-10-09T18:05:52.848Z"
   },
   {
    "duration": 11788,
    "start_time": "2023-10-09T18:06:41.982Z"
   },
   {
    "duration": 18093,
    "start_time": "2023-10-09T18:07:32.797Z"
   },
   {
    "duration": 23290,
    "start_time": "2023-10-09T18:08:23.039Z"
   },
   {
    "duration": 12,
    "start_time": "2023-10-09T18:10:08.739Z"
   },
   {
    "duration": 130,
    "start_time": "2023-10-09T18:10:41.164Z"
   },
   {
    "duration": 132,
    "start_time": "2023-10-09T18:10:58.358Z"
   },
   {
    "duration": 221,
    "start_time": "2023-10-09T18:12:58.274Z"
   },
   {
    "duration": 4,
    "start_time": "2023-10-09T18:17:09.978Z"
   },
   {
    "duration": 6,
    "start_time": "2023-10-09T18:21:18.649Z"
   },
   {
    "duration": 401,
    "start_time": "2023-10-09T18:24:38.558Z"
   },
   {
    "duration": 10,
    "start_time": "2023-10-09T18:25:43.842Z"
   },
   {
    "duration": 6,
    "start_time": "2023-10-09T18:25:48.757Z"
   },
   {
    "duration": 648,
    "start_time": "2023-10-09T18:25:56.569Z"
   },
   {
    "duration": 10,
    "start_time": "2023-10-09T18:26:22.023Z"
   },
   {
    "duration": 1509,
    "start_time": "2023-10-09T18:28:12.449Z"
   },
   {
    "duration": 1420,
    "start_time": "2023-10-09T18:28:43.630Z"
   },
   {
    "duration": 17940,
    "start_time": "2023-10-09T18:30:43.359Z"
   },
   {
    "duration": 16748,
    "start_time": "2023-10-09T18:31:51.177Z"
   },
   {
    "duration": 136,
    "start_time": "2023-10-09T18:32:41.558Z"
   },
   {
    "duration": 10031,
    "start_time": "2023-10-09T18:33:39.384Z"
   },
   {
    "duration": 8,
    "start_time": "2023-10-09T18:33:55.505Z"
   },
   {
    "duration": 3483,
    "start_time": "2023-10-09T18:36:42.154Z"
   },
   {
    "duration": 37694,
    "start_time": "2023-10-09T18:37:31.869Z"
   },
   {
    "duration": 28103,
    "start_time": "2023-10-09T18:38:31.910Z"
   },
   {
    "duration": 52,
    "start_time": "2023-10-10T09:47:08.345Z"
   },
   {
    "duration": 11991,
    "start_time": "2023-10-10T09:47:17.523Z"
   },
   {
    "duration": 1489,
    "start_time": "2023-10-10T09:47:29.517Z"
   },
   {
    "duration": 3,
    "start_time": "2023-10-10T09:47:31.009Z"
   },
   {
    "duration": 1185,
    "start_time": "2023-10-10T09:47:31.013Z"
   },
   {
    "duration": 27,
    "start_time": "2023-10-10T09:47:32.201Z"
   },
   {
    "duration": 35,
    "start_time": "2023-10-10T09:47:32.230Z"
   },
   {
    "duration": 71,
    "start_time": "2023-10-10T09:47:32.267Z"
   },
   {
    "duration": 117,
    "start_time": "2023-10-10T09:47:32.340Z"
   },
   {
    "duration": 402,
    "start_time": "2023-10-10T09:47:32.459Z"
   },
   {
    "duration": 225,
    "start_time": "2023-10-10T09:47:32.863Z"
   },
   {
    "duration": 29,
    "start_time": "2023-10-10T09:47:33.090Z"
   },
   {
    "duration": 35,
    "start_time": "2023-10-10T09:47:33.121Z"
   },
   {
    "duration": 16,
    "start_time": "2023-10-10T09:47:33.158Z"
   },
   {
    "duration": 65,
    "start_time": "2023-10-10T09:47:33.177Z"
   },
   {
    "duration": 31,
    "start_time": "2023-10-10T09:47:33.244Z"
   },
   {
    "duration": 126,
    "start_time": "2023-10-10T09:47:33.277Z"
   },
   {
    "duration": 9,
    "start_time": "2023-10-10T09:47:33.405Z"
   },
   {
    "duration": 22,
    "start_time": "2023-10-10T09:47:33.415Z"
   },
   {
    "duration": 111,
    "start_time": "2023-10-10T09:47:33.439Z"
   },
   {
    "duration": 7,
    "start_time": "2023-10-10T09:47:33.553Z"
   },
   {
    "duration": 2078,
    "start_time": "2023-10-10T09:47:33.562Z"
   },
   {
    "duration": 360,
    "start_time": "2023-10-10T09:47:35.642Z"
   },
   {
    "duration": 38,
    "start_time": "2023-10-10T09:47:36.004Z"
   },
   {
    "duration": 58,
    "start_time": "2023-10-10T09:47:36.043Z"
   },
   {
    "duration": 462,
    "start_time": "2023-10-10T09:47:36.103Z"
   },
   {
    "duration": 45,
    "start_time": "2023-10-10T09:47:36.567Z"
   },
   {
    "duration": 16,
    "start_time": "2023-10-10T09:47:36.613Z"
   },
   {
    "duration": 558,
    "start_time": "2023-10-10T09:47:36.631Z"
   },
   {
    "duration": 40,
    "start_time": "2023-10-10T09:47:37.192Z"
   },
   {
    "duration": 27,
    "start_time": "2023-10-10T09:47:37.234Z"
   },
   {
    "duration": 13,
    "start_time": "2023-10-10T09:47:37.263Z"
   },
   {
    "duration": 12651,
    "start_time": "2023-10-10T09:47:37.278Z"
   },
   {
    "duration": 15,
    "start_time": "2023-10-10T09:47:49.931Z"
   },
   {
    "duration": 4856,
    "start_time": "2023-10-10T09:47:49.955Z"
   },
   {
    "duration": 19,
    "start_time": "2023-10-10T09:47:54.812Z"
   },
   {
    "duration": 2833,
    "start_time": "2023-10-10T09:47:54.833Z"
   },
   {
    "duration": 21030,
    "start_time": "2023-10-10T09:47:57.757Z"
   },
   {
    "duration": 17886,
    "start_time": "2023-10-10T09:48:18.789Z"
   },
   {
    "duration": 122,
    "start_time": "2023-10-10T09:48:36.677Z"
   },
   {
    "duration": 127,
    "start_time": "2023-10-10T09:48:36.800Z"
   },
   {
    "duration": 81,
    "start_time": "2023-10-10T09:48:36.932Z"
   },
   {
    "duration": 4,
    "start_time": "2023-10-10T09:48:37.016Z"
   },
   {
    "duration": 322,
    "start_time": "2023-10-10T09:48:37.022Z"
   },
   {
    "duration": 17,
    "start_time": "2023-10-10T09:48:37.346Z"
   },
   {
    "duration": 1893,
    "start_time": "2023-10-10T09:48:37.365Z"
   },
   {
    "duration": 16844,
    "start_time": "2023-10-10T09:48:39.261Z"
   },
   {
    "duration": 15693,
    "start_time": "2023-10-10T09:48:56.107Z"
   },
   {
    "duration": 7440,
    "start_time": "2023-10-10T09:49:11.802Z"
   },
   {
    "duration": 13,
    "start_time": "2023-10-10T09:49:19.244Z"
   },
   {
    "duration": 3399,
    "start_time": "2023-10-10T09:49:19.259Z"
   },
   {
    "duration": 2,
    "start_time": "2023-10-10T09:49:22.660Z"
   },
   {
    "duration": 31060,
    "start_time": "2023-10-10T09:49:22.664Z"
   },
   {
    "duration": 23202,
    "start_time": "2023-10-10T09:49:53.726Z"
   },
   {
    "duration": 6,
    "start_time": "2023-10-10T10:07:52.827Z"
   },
   {
    "duration": 4,
    "start_time": "2023-10-10T10:08:44.929Z"
   },
   {
    "duration": 7,
    "start_time": "2023-10-10T10:08:51.057Z"
   },
   {
    "duration": 5,
    "start_time": "2023-10-10T10:09:21.985Z"
   },
   {
    "duration": 152,
    "start_time": "2023-10-10T10:09:47.045Z"
   },
   {
    "duration": 22,
    "start_time": "2023-10-10T10:09:51.983Z"
   },
   {
    "duration": 5,
    "start_time": "2023-10-10T10:19:11.019Z"
   },
   {
    "duration": 610,
    "start_time": "2023-10-10T10:20:39.690Z"
   },
   {
    "duration": 649,
    "start_time": "2023-10-10T10:21:01.253Z"
   },
   {
    "duration": 631,
    "start_time": "2023-10-10T10:21:17.458Z"
   },
   {
    "duration": 93,
    "start_time": "2023-10-10T10:26:14.616Z"
   },
   {
    "duration": 292,
    "start_time": "2023-10-10T10:26:40.537Z"
   },
   {
    "duration": 329,
    "start_time": "2023-10-10T10:27:03.041Z"
   },
   {
    "duration": 331,
    "start_time": "2023-10-10T10:27:29.207Z"
   },
   {
    "duration": 344,
    "start_time": "2023-10-10T10:27:38.028Z"
   },
   {
    "duration": 308,
    "start_time": "2023-10-10T10:28:06.138Z"
   },
   {
    "duration": 325,
    "start_time": "2023-10-10T10:29:50.113Z"
   },
   {
    "duration": 1921,
    "start_time": "2023-10-10T10:35:10.266Z"
   },
   {
    "duration": 2029,
    "start_time": "2023-10-10T10:35:20.780Z"
   },
   {
    "duration": 35,
    "start_time": "2023-10-10T10:35:27.695Z"
   },
   {
    "duration": 7,
    "start_time": "2023-10-10T10:35:52.673Z"
   },
   {
    "duration": 320,
    "start_time": "2023-10-10T10:40:45.469Z"
   },
   {
    "duration": 4,
    "start_time": "2023-10-10T10:44:24.944Z"
   },
   {
    "duration": 2084,
    "start_time": "2023-10-10T10:45:44.093Z"
   },
   {
    "duration": 2403,
    "start_time": "2023-10-10T10:45:54.722Z"
   },
   {
    "duration": 6,
    "start_time": "2023-10-10T10:45:59.139Z"
   },
   {
    "duration": 5,
    "start_time": "2023-10-10T10:46:16.793Z"
   },
   {
    "duration": 7452,
    "start_time": "2023-10-10T15:37:33.367Z"
   },
   {
    "duration": 1582,
    "start_time": "2023-10-10T15:37:40.822Z"
   },
   {
    "duration": 3,
    "start_time": "2023-10-10T15:37:42.406Z"
   },
   {
    "duration": 507,
    "start_time": "2023-10-10T15:37:42.410Z"
   },
   {
    "duration": 25,
    "start_time": "2023-10-10T15:37:42.920Z"
   },
   {
    "duration": 44,
    "start_time": "2023-10-10T15:37:42.947Z"
   },
   {
    "duration": 22,
    "start_time": "2023-10-10T15:37:42.993Z"
   },
   {
    "duration": 38,
    "start_time": "2023-10-10T15:37:43.016Z"
   },
   {
    "duration": 10,
    "start_time": "2023-10-10T15:37:43.056Z"
   },
   {
    "duration": 104,
    "start_time": "2023-10-10T15:37:43.068Z"
   },
   {
    "duration": 31,
    "start_time": "2023-10-10T15:37:43.174Z"
   },
   {
    "duration": 21,
    "start_time": "2023-10-10T15:37:43.207Z"
   },
   {
    "duration": 22,
    "start_time": "2023-10-10T15:37:43.230Z"
   },
   {
    "duration": 57,
    "start_time": "2023-10-10T15:37:43.256Z"
   },
   {
    "duration": 32,
    "start_time": "2023-10-10T15:37:43.314Z"
   },
   {
    "duration": 96,
    "start_time": "2023-10-10T15:37:43.348Z"
   },
   {
    "duration": 7,
    "start_time": "2023-10-10T15:37:43.446Z"
   },
   {
    "duration": 46,
    "start_time": "2023-10-10T15:37:43.455Z"
   },
   {
    "duration": 122,
    "start_time": "2023-10-10T15:37:43.502Z"
   },
   {
    "duration": 106,
    "start_time": "2023-10-10T15:37:43.626Z"
   },
   {
    "duration": 2174,
    "start_time": "2023-10-10T15:37:43.734Z"
   },
   {
    "duration": 348,
    "start_time": "2023-10-10T15:37:45.910Z"
   },
   {
    "duration": 49,
    "start_time": "2023-10-10T15:37:46.260Z"
   },
   {
    "duration": 103,
    "start_time": "2023-10-10T15:37:46.311Z"
   },
   {
    "duration": 461,
    "start_time": "2023-10-10T15:37:46.417Z"
   },
   {
    "duration": 136,
    "start_time": "2023-10-10T15:37:46.880Z"
   },
   {
    "duration": 17,
    "start_time": "2023-10-10T15:37:47.019Z"
   },
   {
    "duration": 423,
    "start_time": "2023-10-10T15:37:47.038Z"
   },
   {
    "duration": 53,
    "start_time": "2023-10-10T15:37:47.463Z"
   },
   {
    "duration": 13,
    "start_time": "2023-10-10T15:37:47.517Z"
   },
   {
    "duration": 23,
    "start_time": "2023-10-10T15:37:47.533Z"
   },
   {
    "duration": 8256,
    "start_time": "2023-10-10T15:37:47.558Z"
   },
   {
    "duration": 15,
    "start_time": "2023-10-10T15:37:55.816Z"
   },
   {
    "duration": 3288,
    "start_time": "2023-10-10T15:37:55.833Z"
   },
   {
    "duration": 15,
    "start_time": "2023-10-10T15:37:59.123Z"
   },
   {
    "duration": 3466,
    "start_time": "2023-10-10T15:37:59.140Z"
   },
   {
    "duration": 19956,
    "start_time": "2023-10-10T15:38:02.608Z"
   },
   {
    "duration": 16567,
    "start_time": "2023-10-10T15:38:22.566Z"
   },
   {
    "duration": 123,
    "start_time": "2023-10-10T15:38:39.135Z"
   },
   {
    "duration": 124,
    "start_time": "2023-10-10T15:38:39.260Z"
   },
   {
    "duration": 55,
    "start_time": "2023-10-10T15:38:39.388Z"
   },
   {
    "duration": 6,
    "start_time": "2023-10-10T15:38:39.445Z"
   },
   {
    "duration": 315,
    "start_time": "2023-10-10T15:38:39.453Z"
   },
   {
    "duration": 7,
    "start_time": "2023-10-10T15:38:39.771Z"
   },
   {
    "duration": 1623,
    "start_time": "2023-10-10T15:38:39.779Z"
   },
   {
    "duration": 15714,
    "start_time": "2023-10-10T15:38:41.404Z"
   },
   {
    "duration": 14174,
    "start_time": "2023-10-10T15:38:57.120Z"
   },
   {
    "duration": 7402,
    "start_time": "2023-10-10T15:39:11.301Z"
   },
   {
    "duration": 7,
    "start_time": "2023-10-10T15:39:18.705Z"
   },
   {
    "duration": 2896,
    "start_time": "2023-10-10T15:39:18.715Z"
   },
   {
    "duration": 3,
    "start_time": "2023-10-10T15:39:21.613Z"
   },
   {
    "duration": 28630,
    "start_time": "2023-10-10T15:39:21.619Z"
   },
   {
    "duration": 21734,
    "start_time": "2023-10-10T15:39:50.251Z"
   },
   {
    "duration": 15,
    "start_time": "2023-10-10T15:40:11.988Z"
   },
   {
    "duration": 33,
    "start_time": "2023-10-10T15:40:12.005Z"
   },
   {
    "duration": 773,
    "start_time": "2023-10-10T15:40:12.040Z"
   },
   {
    "duration": 329,
    "start_time": "2023-10-10T15:40:12.815Z"
   },
   {
    "duration": 5,
    "start_time": "2023-10-10T15:40:13.146Z"
   },
   {
    "duration": 135,
    "start_time": "2023-10-10T15:55:38.020Z"
   },
   {
    "duration": 22,
    "start_time": "2023-10-10T15:57:02.180Z"
   },
   {
    "duration": 54,
    "start_time": "2023-10-10T15:57:11.922Z"
   },
   {
    "duration": 17,
    "start_time": "2023-10-10T15:59:14.797Z"
   },
   {
    "duration": 141,
    "start_time": "2023-10-10T16:00:38.938Z"
   },
   {
    "duration": 4983,
    "start_time": "2023-10-10T16:14:48.828Z"
   },
   {
    "duration": 2790,
    "start_time": "2023-10-10T16:14:53.814Z"
   },
   {
    "duration": 3,
    "start_time": "2023-10-10T16:14:56.606Z"
   },
   {
    "duration": 559,
    "start_time": "2023-10-10T16:14:56.611Z"
   },
   {
    "duration": 26,
    "start_time": "2023-10-10T16:14:57.173Z"
   },
   {
    "duration": 33,
    "start_time": "2023-10-10T16:14:57.202Z"
   },
   {
    "duration": 21,
    "start_time": "2023-10-10T16:14:57.237Z"
   },
   {
    "duration": 48,
    "start_time": "2023-10-10T16:14:57.260Z"
   },
   {
    "duration": 12,
    "start_time": "2023-10-10T16:14:57.310Z"
   },
   {
    "duration": 98,
    "start_time": "2023-10-10T16:14:57.324Z"
   },
   {
    "duration": 28,
    "start_time": "2023-10-10T16:14:57.423Z"
   },
   {
    "duration": 20,
    "start_time": "2023-10-10T16:14:57.453Z"
   },
   {
    "duration": 26,
    "start_time": "2023-10-10T16:14:57.475Z"
   },
   {
    "duration": 37,
    "start_time": "2023-10-10T16:14:57.505Z"
   },
   {
    "duration": 59,
    "start_time": "2023-10-10T16:14:57.545Z"
   },
   {
    "duration": 81,
    "start_time": "2023-10-10T16:14:57.605Z"
   },
   {
    "duration": 9,
    "start_time": "2023-10-10T16:14:57.701Z"
   },
   {
    "duration": 20,
    "start_time": "2023-10-10T16:14:57.711Z"
   },
   {
    "duration": 120,
    "start_time": "2023-10-10T16:14:57.732Z"
   },
   {
    "duration": 8,
    "start_time": "2023-10-10T16:14:57.854Z"
   },
   {
    "duration": 2069,
    "start_time": "2023-10-10T16:14:57.863Z"
   },
   {
    "duration": 376,
    "start_time": "2023-10-10T16:14:59.934Z"
   },
   {
    "duration": 40,
    "start_time": "2023-10-10T16:15:00.311Z"
   },
   {
    "duration": 440,
    "start_time": "2023-10-10T16:15:00.353Z"
   },
   {
    "duration": 1135,
    "start_time": "2023-10-10T16:15:00.795Z"
   },
   {
    "duration": 43,
    "start_time": "2023-10-10T16:15:01.932Z"
   },
   {
    "duration": 767,
    "start_time": "2023-10-10T16:15:01.977Z"
   },
   {
    "duration": 580,
    "start_time": "2023-10-10T16:15:02.746Z"
   },
   {
    "duration": 41,
    "start_time": "2023-10-10T16:15:03.328Z"
   },
   {
    "duration": 42,
    "start_time": "2023-10-10T16:15:03.371Z"
   },
   {
    "duration": 34,
    "start_time": "2023-10-10T16:15:03.415Z"
   },
   {
    "duration": 11459,
    "start_time": "2023-10-10T16:15:03.451Z"
   },
   {
    "duration": 15,
    "start_time": "2023-10-10T16:15:14.912Z"
   },
   {
    "duration": 4648,
    "start_time": "2023-10-10T16:15:14.929Z"
   },
   {
    "duration": 15,
    "start_time": "2023-10-10T16:15:19.579Z"
   },
   {
    "duration": 2600,
    "start_time": "2023-10-10T16:15:19.602Z"
   },
   {
    "duration": 20118,
    "start_time": "2023-10-10T16:15:22.204Z"
   },
   {
    "duration": 16534,
    "start_time": "2023-10-10T16:15:42.324Z"
   },
   {
    "duration": 147,
    "start_time": "2023-10-10T16:15:58.861Z"
   },
   {
    "duration": 132,
    "start_time": "2023-10-10T16:15:59.010Z"
   },
   {
    "duration": 70,
    "start_time": "2023-10-10T16:15:59.147Z"
   },
   {
    "duration": 4,
    "start_time": "2023-10-10T16:15:59.220Z"
   },
   {
    "duration": 298,
    "start_time": "2023-10-10T16:15:59.226Z"
   },
   {
    "duration": 7,
    "start_time": "2023-10-10T16:15:59.526Z"
   },
   {
    "duration": 1766,
    "start_time": "2023-10-10T16:15:59.535Z"
   },
   {
    "duration": 16236,
    "start_time": "2023-10-10T16:16:01.303Z"
   },
   {
    "duration": 14620,
    "start_time": "2023-10-10T16:16:17.541Z"
   },
   {
    "duration": 7535,
    "start_time": "2023-10-10T16:16:32.162Z"
   },
   {
    "duration": 8,
    "start_time": "2023-10-10T16:16:39.699Z"
   },
   {
    "duration": 3197,
    "start_time": "2023-10-10T16:16:39.708Z"
   },
   {
    "duration": 4,
    "start_time": "2023-10-10T16:16:42.907Z"
   },
   {
    "duration": 29647,
    "start_time": "2023-10-10T16:16:42.913Z"
   },
   {
    "duration": 22343,
    "start_time": "2023-10-10T16:17:12.562Z"
   },
   {
    "duration": 4,
    "start_time": "2023-10-10T16:17:34.907Z"
   },
   {
    "duration": 99,
    "start_time": "2023-10-10T16:17:34.912Z"
   },
   {
    "duration": 667,
    "start_time": "2023-10-10T16:17:35.013Z"
   },
   {
    "duration": 310,
    "start_time": "2023-10-10T16:17:35.682Z"
   },
   {
    "duration": 5,
    "start_time": "2023-10-10T16:17:36.001Z"
   },
   {
    "duration": 110,
    "start_time": "2023-10-10T16:17:36.008Z"
   },
   {
    "duration": 63,
    "start_time": "2023-10-10T16:21:25.871Z"
   },
   {
    "duration": 4830,
    "start_time": "2023-10-10T16:21:39.698Z"
   },
   {
    "duration": 2754,
    "start_time": "2023-10-10T16:21:44.532Z"
   },
   {
    "duration": 3,
    "start_time": "2023-10-10T16:21:47.288Z"
   },
   {
    "duration": 545,
    "start_time": "2023-10-10T16:21:47.293Z"
   },
   {
    "duration": 25,
    "start_time": "2023-10-10T16:21:47.840Z"
   },
   {
    "duration": 51,
    "start_time": "2023-10-10T16:21:47.867Z"
   },
   {
    "duration": 23,
    "start_time": "2023-10-10T16:21:47.920Z"
   },
   {
    "duration": 52,
    "start_time": "2023-10-10T16:21:47.945Z"
   },
   {
    "duration": 12,
    "start_time": "2023-10-10T16:21:47.999Z"
   },
   {
    "duration": 113,
    "start_time": "2023-10-10T16:21:48.014Z"
   },
   {
    "duration": 27,
    "start_time": "2023-10-10T16:21:48.129Z"
   },
   {
    "duration": 43,
    "start_time": "2023-10-10T16:21:48.158Z"
   },
   {
    "duration": 17,
    "start_time": "2023-10-10T16:21:48.203Z"
   },
   {
    "duration": 48,
    "start_time": "2023-10-10T16:21:48.222Z"
   },
   {
    "duration": 31,
    "start_time": "2023-10-10T16:21:48.272Z"
   },
   {
    "duration": 104,
    "start_time": "2023-10-10T16:21:48.305Z"
   },
   {
    "duration": 8,
    "start_time": "2023-10-10T16:21:48.410Z"
   },
   {
    "duration": 31,
    "start_time": "2023-10-10T16:21:48.420Z"
   },
   {
    "duration": 167,
    "start_time": "2023-10-10T16:21:48.452Z"
   },
   {
    "duration": 9,
    "start_time": "2023-10-10T16:21:48.621Z"
   },
   {
    "duration": 2111,
    "start_time": "2023-10-10T16:21:48.632Z"
   },
   {
    "duration": 371,
    "start_time": "2023-10-10T16:21:50.745Z"
   },
   {
    "duration": 36,
    "start_time": "2023-10-10T16:21:51.117Z"
   },
   {
    "duration": 27,
    "start_time": "2023-10-10T16:21:51.154Z"
   },
   {
    "duration": 477,
    "start_time": "2023-10-10T16:21:51.183Z"
   },
   {
    "duration": 57,
    "start_time": "2023-10-10T16:21:51.662Z"
   },
   {
    "duration": 138,
    "start_time": "2023-10-10T16:21:51.720Z"
   },
   {
    "duration": 543,
    "start_time": "2023-10-10T16:21:51.861Z"
   },
   {
    "duration": 54,
    "start_time": "2023-10-10T16:21:52.406Z"
   },
   {
    "duration": 51,
    "start_time": "2023-10-10T16:21:52.463Z"
   },
   {
    "duration": 57,
    "start_time": "2023-10-10T16:21:52.516Z"
   },
   {
    "duration": 11110,
    "start_time": "2023-10-10T16:21:52.575Z"
   },
   {
    "duration": 28,
    "start_time": "2023-10-10T16:22:03.686Z"
   },
   {
    "duration": 4561,
    "start_time": "2023-10-10T16:22:03.716Z"
   },
   {
    "duration": 23,
    "start_time": "2023-10-10T16:22:08.279Z"
   },
   {
    "duration": 2899,
    "start_time": "2023-10-10T16:22:08.304Z"
   },
   {
    "duration": 20421,
    "start_time": "2023-10-10T16:22:11.205Z"
   },
   {
    "duration": 16722,
    "start_time": "2023-10-10T16:22:31.628Z"
   },
   {
    "duration": 154,
    "start_time": "2023-10-10T16:22:48.352Z"
   },
   {
    "duration": 130,
    "start_time": "2023-10-10T16:22:48.508Z"
   },
   {
    "duration": 72,
    "start_time": "2023-10-10T16:22:48.641Z"
   },
   {
    "duration": 4,
    "start_time": "2023-10-10T16:22:48.716Z"
   },
   {
    "duration": 321,
    "start_time": "2023-10-10T16:22:48.722Z"
   },
   {
    "duration": 7,
    "start_time": "2023-10-10T16:22:49.045Z"
   },
   {
    "duration": 1459,
    "start_time": "2023-10-10T16:22:49.053Z"
   },
   {
    "duration": 16462,
    "start_time": "2023-10-10T16:22:50.602Z"
   },
   {
    "duration": 14849,
    "start_time": "2023-10-10T16:23:07.066Z"
   },
   {
    "duration": 7538,
    "start_time": "2023-10-10T16:23:21.917Z"
   },
   {
    "duration": 7,
    "start_time": "2023-10-10T16:23:29.458Z"
   },
   {
    "duration": 3446,
    "start_time": "2023-10-10T16:23:29.467Z"
   },
   {
    "duration": 3,
    "start_time": "2023-10-10T16:23:33.001Z"
   },
   {
    "duration": 30708,
    "start_time": "2023-10-10T16:23:33.006Z"
   },
   {
    "duration": 23135,
    "start_time": "2023-10-10T16:24:03.716Z"
   },
   {
    "duration": 5,
    "start_time": "2023-10-10T16:24:26.852Z"
   },
   {
    "duration": 16,
    "start_time": "2023-10-10T16:24:26.859Z"
   },
   {
    "duration": 645,
    "start_time": "2023-10-10T16:24:26.877Z"
   },
   {
    "duration": 344,
    "start_time": "2023-10-10T16:24:27.524Z"
   },
   {
    "duration": 5,
    "start_time": "2023-10-10T16:24:27.871Z"
   },
   {
    "duration": 81,
    "start_time": "2023-10-10T16:24:27.878Z"
   },
   {
    "duration": 29113,
    "start_time": "2023-10-10T16:24:27.961Z"
   },
   {
    "duration": 19,
    "start_time": "2023-10-10T16:25:26.655Z"
   },
   {
    "duration": 21,
    "start_time": "2023-10-10T16:25:30.746Z"
   },
   {
    "duration": 7856,
    "start_time": "2023-10-10T16:25:52.782Z"
   },
   {
    "duration": 6913,
    "start_time": "2023-10-10T16:26:08.276Z"
   },
   {
    "duration": 261,
    "start_time": "2023-10-10T16:27:07.420Z"
   },
   {
    "duration": 179,
    "start_time": "2023-10-10T16:28:17.427Z"
   },
   {
    "duration": 17,
    "start_time": "2023-10-10T16:39:17.258Z"
   },
   {
    "duration": 16,
    "start_time": "2023-10-10T16:39:30.267Z"
   },
   {
    "duration": 13,
    "start_time": "2023-10-10T16:39:48.378Z"
   },
   {
    "duration": 24,
    "start_time": "2023-10-10T16:43:12.852Z"
   },
   {
    "duration": 44,
    "start_time": "2023-10-10T16:43:53.284Z"
   },
   {
    "duration": 10,
    "start_time": "2023-10-10T16:50:52.832Z"
   },
   {
    "duration": 12,
    "start_time": "2023-10-10T16:51:00.112Z"
   },
   {
    "duration": 196,
    "start_time": "2023-10-10T16:51:10.097Z"
   },
   {
    "duration": 192,
    "start_time": "2023-10-10T16:53:19.629Z"
   },
   {
    "duration": 78,
    "start_time": "2023-10-10T16:55:47.064Z"
   },
   {
    "duration": 68,
    "start_time": "2023-10-10T16:55:58.262Z"
   },
   {
    "duration": 20,
    "start_time": "2023-10-10T16:56:05.601Z"
   },
   {
    "duration": 21,
    "start_time": "2023-10-10T16:56:22.324Z"
   },
   {
    "duration": 30,
    "start_time": "2023-10-10T16:56:41.682Z"
   },
   {
    "duration": 23,
    "start_time": "2023-10-10T16:56:58.502Z"
   },
   {
    "duration": 33,
    "start_time": "2023-10-10T16:57:03.807Z"
   },
   {
    "duration": 34,
    "start_time": "2023-10-10T16:57:27.040Z"
   },
   {
    "duration": 214,
    "start_time": "2023-10-10T16:58:18.900Z"
   },
   {
    "duration": 32,
    "start_time": "2023-10-10T16:59:32.048Z"
   },
   {
    "duration": 209,
    "start_time": "2023-10-10T16:59:59.932Z"
   },
   {
    "duration": 232,
    "start_time": "2023-10-10T17:00:09.191Z"
   },
   {
    "duration": 226,
    "start_time": "2023-10-10T17:00:35.966Z"
   },
   {
    "duration": 54,
    "start_time": "2023-10-10T17:01:35.495Z"
   },
   {
    "duration": 252,
    "start_time": "2023-10-10T17:01:39.899Z"
   },
   {
    "duration": 173,
    "start_time": "2023-10-10T17:01:43.647Z"
   },
   {
    "duration": 247,
    "start_time": "2023-10-10T17:02:14.470Z"
   },
   {
    "duration": 11,
    "start_time": "2023-10-10T17:02:43.697Z"
   },
   {
    "duration": 11,
    "start_time": "2023-10-10T17:02:58.974Z"
   },
   {
    "duration": 37,
    "start_time": "2023-10-10T17:07:19.812Z"
   },
   {
    "duration": 59,
    "start_time": "2023-10-10T17:07:39.671Z"
   },
   {
    "duration": 16,
    "start_time": "2023-10-10T17:07:42.945Z"
   },
   {
    "duration": 21,
    "start_time": "2023-10-10T17:07:55.110Z"
   },
   {
    "duration": 15,
    "start_time": "2023-10-10T17:08:05.676Z"
   },
   {
    "duration": 24,
    "start_time": "2023-10-10T17:08:32.523Z"
   },
   {
    "duration": 23,
    "start_time": "2023-10-10T17:09:11.268Z"
   },
   {
    "duration": 16,
    "start_time": "2023-10-10T17:09:26.869Z"
   },
   {
    "duration": 21,
    "start_time": "2023-10-10T17:09:44.800Z"
   },
   {
    "duration": 22,
    "start_time": "2023-10-10T17:10:13.618Z"
   },
   {
    "duration": 24,
    "start_time": "2023-10-10T17:11:07.943Z"
   },
   {
    "duration": 23,
    "start_time": "2023-10-10T17:11:24.891Z"
   },
   {
    "duration": 12,
    "start_time": "2023-10-10T17:20:26.832Z"
   },
   {
    "duration": 66,
    "start_time": "2023-10-10T17:20:43.572Z"
   },
   {
    "duration": 14,
    "start_time": "2023-10-10T17:21:05.035Z"
   },
   {
    "duration": 13,
    "start_time": "2023-10-10T17:21:12.476Z"
   },
   {
    "duration": 11,
    "start_time": "2023-10-10T17:21:19.046Z"
   },
   {
    "duration": 11,
    "start_time": "2023-10-10T17:21:43.677Z"
   },
   {
    "duration": 13,
    "start_time": "2023-10-10T17:22:20.385Z"
   },
   {
    "duration": 13,
    "start_time": "2023-10-10T17:23:00.319Z"
   },
   {
    "duration": 14,
    "start_time": "2023-10-10T17:23:05.119Z"
   },
   {
    "duration": 2092,
    "start_time": "2023-10-10T17:31:46.182Z"
   },
   {
    "duration": 14,
    "start_time": "2023-10-10T17:32:01.621Z"
   },
   {
    "duration": 6,
    "start_time": "2023-10-10T17:32:39.786Z"
   },
   {
    "duration": 13,
    "start_time": "2023-10-10T17:33:19.750Z"
   },
   {
    "duration": 13,
    "start_time": "2023-10-10T17:34:14.089Z"
   },
   {
    "duration": 11,
    "start_time": "2023-10-10T17:34:23.280Z"
   },
   {
    "duration": 33,
    "start_time": "2023-10-10T17:34:58.783Z"
   },
   {
    "duration": 118,
    "start_time": "2023-10-10T17:35:12.600Z"
   },
   {
    "duration": 172,
    "start_time": "2023-10-10T17:35:19.346Z"
   },
   {
    "duration": 207,
    "start_time": "2023-10-10T17:35:35.552Z"
   },
   {
    "duration": 15,
    "start_time": "2023-10-10T17:35:58.504Z"
   },
   {
    "duration": 83,
    "start_time": "2023-10-10T17:36:53.203Z"
   },
   {
    "duration": 186,
    "start_time": "2023-10-10T17:37:11.029Z"
   },
   {
    "duration": 173,
    "start_time": "2023-10-10T17:37:26.281Z"
   },
   {
    "duration": 37,
    "start_time": "2023-10-10T18:24:25.466Z"
   },
   {
    "duration": 5,
    "start_time": "2023-10-10T18:24:40.286Z"
   },
   {
    "duration": 83,
    "start_time": "2023-10-10T18:25:14.529Z"
   },
   {
    "duration": 84,
    "start_time": "2023-10-10T18:26:34.493Z"
   },
   {
    "duration": 10,
    "start_time": "2023-10-10T18:26:39.813Z"
   },
   {
    "duration": 214,
    "start_time": "2023-10-10T18:27:01.495Z"
   },
   {
    "duration": 4801,
    "start_time": "2023-10-10T19:02:07.183Z"
   },
   {
    "duration": 1325,
    "start_time": "2023-10-10T19:02:11.987Z"
   },
   {
    "duration": 3,
    "start_time": "2023-10-10T19:02:13.314Z"
   },
   {
    "duration": 354,
    "start_time": "2023-10-10T19:02:13.319Z"
   },
   {
    "duration": 33,
    "start_time": "2023-10-10T19:02:13.676Z"
   },
   {
    "duration": 44,
    "start_time": "2023-10-10T19:02:13.711Z"
   },
   {
    "duration": 26,
    "start_time": "2023-10-10T19:02:13.757Z"
   },
   {
    "duration": 36,
    "start_time": "2023-10-10T19:02:13.785Z"
   },
   {
    "duration": 13,
    "start_time": "2023-10-10T19:02:13.823Z"
   },
   {
    "duration": 105,
    "start_time": "2023-10-10T19:02:13.838Z"
   },
   {
    "duration": 29,
    "start_time": "2023-10-10T19:02:13.945Z"
   },
   {
    "duration": 130,
    "start_time": "2023-10-10T19:02:13.976Z"
   },
   {
    "duration": 47,
    "start_time": "2023-10-10T19:02:14.108Z"
   },
   {
    "duration": 68,
    "start_time": "2023-10-10T19:02:14.158Z"
   },
   {
    "duration": 37,
    "start_time": "2023-10-10T19:02:14.228Z"
   },
   {
    "duration": 109,
    "start_time": "2023-10-10T19:02:14.267Z"
   },
   {
    "duration": 7,
    "start_time": "2023-10-10T19:02:14.378Z"
   },
   {
    "duration": 41,
    "start_time": "2023-10-10T19:02:14.387Z"
   },
   {
    "duration": 117,
    "start_time": "2023-10-10T19:02:14.430Z"
   },
   {
    "duration": 9,
    "start_time": "2023-10-10T19:02:14.550Z"
   },
   {
    "duration": 2043,
    "start_time": "2023-10-10T19:02:14.561Z"
   },
   {
    "duration": 368,
    "start_time": "2023-10-10T19:02:16.606Z"
   },
   {
    "duration": 42,
    "start_time": "2023-10-10T19:02:16.976Z"
   },
   {
    "duration": 18,
    "start_time": "2023-10-10T19:02:17.020Z"
   },
   {
    "duration": 462,
    "start_time": "2023-10-10T19:02:17.039Z"
   },
   {
    "duration": 42,
    "start_time": "2023-10-10T19:02:17.503Z"
   },
   {
    "duration": 13,
    "start_time": "2023-10-10T19:02:17.547Z"
   },
   {
    "duration": 510,
    "start_time": "2023-10-10T19:02:17.562Z"
   },
   {
    "duration": 48,
    "start_time": "2023-10-10T19:02:18.074Z"
   },
   {
    "duration": 13,
    "start_time": "2023-10-10T19:02:18.124Z"
   },
   {
    "duration": 20,
    "start_time": "2023-10-10T19:02:18.139Z"
   },
   {
    "duration": 11758,
    "start_time": "2023-10-10T19:02:18.161Z"
   },
   {
    "duration": 15,
    "start_time": "2023-10-10T19:02:29.922Z"
   },
   {
    "duration": 5281,
    "start_time": "2023-10-10T19:02:29.940Z"
   },
   {
    "duration": 15,
    "start_time": "2023-10-10T19:02:35.223Z"
   },
   {
    "duration": 2964,
    "start_time": "2023-10-10T19:02:35.240Z"
   },
   {
    "duration": 19874,
    "start_time": "2023-10-10T19:02:38.206Z"
   },
   {
    "duration": 16256,
    "start_time": "2023-10-10T19:02:58.083Z"
   },
   {
    "duration": 122,
    "start_time": "2023-10-10T19:03:14.341Z"
   },
   {
    "duration": 150,
    "start_time": "2023-10-10T19:03:14.465Z"
   },
   {
    "duration": 67,
    "start_time": "2023-10-10T19:03:14.619Z"
   },
   {
    "duration": 5,
    "start_time": "2023-10-10T19:03:14.702Z"
   },
   {
    "duration": 421,
    "start_time": "2023-10-10T19:03:14.709Z"
   },
   {
    "duration": 7,
    "start_time": "2023-10-10T19:03:15.132Z"
   },
   {
    "duration": 1864,
    "start_time": "2023-10-10T19:03:15.140Z"
   },
   {
    "duration": 15986,
    "start_time": "2023-10-10T19:03:17.007Z"
   },
   {
    "duration": 14631,
    "start_time": "2023-10-10T19:03:32.995Z"
   },
   {
    "duration": 7898,
    "start_time": "2023-10-10T19:03:47.628Z"
   },
   {
    "duration": 9,
    "start_time": "2023-10-10T19:03:55.530Z"
   },
   {
    "duration": 3376,
    "start_time": "2023-10-10T19:03:55.542Z"
   },
   {
    "duration": 81,
    "start_time": "2023-10-10T19:03:58.921Z"
   },
   {
    "duration": 29239,
    "start_time": "2023-10-10T19:03:59.004Z"
   },
   {
    "duration": 21562,
    "start_time": "2023-10-10T19:04:28.245Z"
   },
   {
    "duration": 4,
    "start_time": "2023-10-10T19:04:49.809Z"
   },
   {
    "duration": 50,
    "start_time": "2023-10-10T19:04:49.815Z"
   },
   {
    "duration": 671,
    "start_time": "2023-10-10T19:04:49.866Z"
   },
   {
    "duration": 325,
    "start_time": "2023-10-10T19:04:50.540Z"
   },
   {
    "duration": 6,
    "start_time": "2023-10-10T19:04:50.866Z"
   },
   {
    "duration": 90,
    "start_time": "2023-10-10T19:04:50.874Z"
   },
   {
    "duration": 247,
    "start_time": "2023-10-10T19:04:50.967Z"
   },
   {
    "duration": 1762,
    "start_time": "2023-10-13T15:44:30.981Z"
   },
   {
    "duration": 12512,
    "start_time": "2023-10-13T15:44:56.346Z"
   },
   {
    "duration": 1424,
    "start_time": "2023-10-13T15:45:08.861Z"
   },
   {
    "duration": 0,
    "start_time": "2023-10-13T15:45:10.288Z"
   },
   {
    "duration": 0,
    "start_time": "2023-10-13T15:45:10.289Z"
   },
   {
    "duration": 0,
    "start_time": "2023-10-13T15:45:10.290Z"
   },
   {
    "duration": 0,
    "start_time": "2023-10-13T15:45:10.291Z"
   },
   {
    "duration": 0,
    "start_time": "2023-10-13T15:45:10.292Z"
   },
   {
    "duration": 0,
    "start_time": "2023-10-13T15:45:10.293Z"
   },
   {
    "duration": 0,
    "start_time": "2023-10-13T15:45:10.294Z"
   },
   {
    "duration": 0,
    "start_time": "2023-10-13T15:45:10.296Z"
   },
   {
    "duration": 0,
    "start_time": "2023-10-13T15:45:10.297Z"
   },
   {
    "duration": 0,
    "start_time": "2023-10-13T15:45:10.298Z"
   },
   {
    "duration": 0,
    "start_time": "2023-10-13T15:45:10.299Z"
   },
   {
    "duration": 0,
    "start_time": "2023-10-13T15:45:10.300Z"
   },
   {
    "duration": 0,
    "start_time": "2023-10-13T15:45:10.301Z"
   },
   {
    "duration": 0,
    "start_time": "2023-10-13T15:45:10.303Z"
   },
   {
    "duration": 0,
    "start_time": "2023-10-13T15:45:10.304Z"
   },
   {
    "duration": 0,
    "start_time": "2023-10-13T15:45:10.305Z"
   },
   {
    "duration": 0,
    "start_time": "2023-10-13T15:45:10.306Z"
   },
   {
    "duration": 0,
    "start_time": "2023-10-13T15:45:10.307Z"
   },
   {
    "duration": 0,
    "start_time": "2023-10-13T15:45:10.308Z"
   },
   {
    "duration": 0,
    "start_time": "2023-10-13T15:45:10.309Z"
   },
   {
    "duration": 0,
    "start_time": "2023-10-13T15:45:10.346Z"
   },
   {
    "duration": 0,
    "start_time": "2023-10-13T15:45:10.347Z"
   },
   {
    "duration": 0,
    "start_time": "2023-10-13T15:45:10.348Z"
   },
   {
    "duration": 0,
    "start_time": "2023-10-13T15:45:10.349Z"
   },
   {
    "duration": 0,
    "start_time": "2023-10-13T15:45:10.350Z"
   },
   {
    "duration": 0,
    "start_time": "2023-10-13T15:45:10.351Z"
   },
   {
    "duration": 0,
    "start_time": "2023-10-13T15:45:10.352Z"
   },
   {
    "duration": 0,
    "start_time": "2023-10-13T15:45:10.353Z"
   },
   {
    "duration": 0,
    "start_time": "2023-10-13T15:45:10.354Z"
   },
   {
    "duration": 0,
    "start_time": "2023-10-13T15:45:10.355Z"
   },
   {
    "duration": 0,
    "start_time": "2023-10-13T15:45:10.356Z"
   },
   {
    "duration": 0,
    "start_time": "2023-10-13T15:45:10.357Z"
   },
   {
    "duration": 0,
    "start_time": "2023-10-13T15:45:10.358Z"
   },
   {
    "duration": 0,
    "start_time": "2023-10-13T15:45:10.359Z"
   },
   {
    "duration": 0,
    "start_time": "2023-10-13T15:45:10.360Z"
   },
   {
    "duration": 0,
    "start_time": "2023-10-13T15:45:10.361Z"
   },
   {
    "duration": 0,
    "start_time": "2023-10-13T15:45:10.362Z"
   },
   {
    "duration": 0,
    "start_time": "2023-10-13T15:45:10.363Z"
   },
   {
    "duration": 0,
    "start_time": "2023-10-13T15:45:10.364Z"
   },
   {
    "duration": 0,
    "start_time": "2023-10-13T15:45:10.366Z"
   },
   {
    "duration": 0,
    "start_time": "2023-10-13T15:45:10.366Z"
   },
   {
    "duration": 0,
    "start_time": "2023-10-13T15:45:10.368Z"
   },
   {
    "duration": 0,
    "start_time": "2023-10-13T15:45:10.373Z"
   },
   {
    "duration": 0,
    "start_time": "2023-10-13T15:45:10.377Z"
   },
   {
    "duration": 0,
    "start_time": "2023-10-13T15:45:10.379Z"
   },
   {
    "duration": 0,
    "start_time": "2023-10-13T15:45:10.380Z"
   },
   {
    "duration": 0,
    "start_time": "2023-10-13T15:45:10.382Z"
   },
   {
    "duration": 0,
    "start_time": "2023-10-13T15:45:10.384Z"
   },
   {
    "duration": 0,
    "start_time": "2023-10-13T15:45:10.385Z"
   },
   {
    "duration": 0,
    "start_time": "2023-10-13T15:45:10.387Z"
   },
   {
    "duration": 0,
    "start_time": "2023-10-13T15:45:10.388Z"
   },
   {
    "duration": 0,
    "start_time": "2023-10-13T15:45:10.445Z"
   },
   {
    "duration": 0,
    "start_time": "2023-10-13T15:45:10.450Z"
   },
   {
    "duration": 0,
    "start_time": "2023-10-13T15:45:10.452Z"
   },
   {
    "duration": 0,
    "start_time": "2023-10-13T15:45:10.454Z"
   },
   {
    "duration": 0,
    "start_time": "2023-10-13T15:45:10.456Z"
   },
   {
    "duration": 0,
    "start_time": "2023-10-13T15:45:10.458Z"
   },
   {
    "duration": 0,
    "start_time": "2023-10-13T15:45:10.459Z"
   },
   {
    "duration": 67,
    "start_time": "2023-10-13T15:46:14.766Z"
   },
   {
    "duration": 5730,
    "start_time": "2023-10-13T15:46:22.598Z"
   },
   {
    "duration": 1336,
    "start_time": "2023-10-13T15:46:28.331Z"
   },
   {
    "duration": 3,
    "start_time": "2023-10-13T15:46:29.669Z"
   },
   {
    "duration": 491,
    "start_time": "2023-10-13T15:46:29.674Z"
   },
   {
    "duration": 33,
    "start_time": "2023-10-13T15:46:30.167Z"
   },
   {
    "duration": 39,
    "start_time": "2023-10-13T15:46:30.202Z"
   },
   {
    "duration": 39,
    "start_time": "2023-10-13T15:46:30.244Z"
   },
   {
    "duration": 70,
    "start_time": "2023-10-13T15:46:30.285Z"
   },
   {
    "duration": 73,
    "start_time": "2023-10-13T15:46:30.358Z"
   },
   {
    "duration": 129,
    "start_time": "2023-10-13T15:46:30.435Z"
   },
   {
    "duration": 28,
    "start_time": "2023-10-13T15:46:30.566Z"
   },
   {
    "duration": 162,
    "start_time": "2023-10-13T15:46:30.596Z"
   },
   {
    "duration": 49,
    "start_time": "2023-10-13T15:46:30.760Z"
   },
   {
    "duration": 169,
    "start_time": "2023-10-13T15:46:30.812Z"
   },
   {
    "duration": 124,
    "start_time": "2023-10-13T15:46:30.983Z"
   },
   {
    "duration": 137,
    "start_time": "2023-10-13T15:46:31.109Z"
   },
   {
    "duration": 7,
    "start_time": "2023-10-13T15:46:31.248Z"
   },
   {
    "duration": 61,
    "start_time": "2023-10-13T15:46:31.257Z"
   },
   {
    "duration": 132,
    "start_time": "2023-10-13T15:46:31.320Z"
   },
   {
    "duration": 10,
    "start_time": "2023-10-13T15:46:31.454Z"
   },
   {
    "duration": 2157,
    "start_time": "2023-10-13T15:46:31.465Z"
   },
   {
    "duration": 397,
    "start_time": "2023-10-13T15:46:33.624Z"
   },
   {
    "duration": 49,
    "start_time": "2023-10-13T15:46:34.023Z"
   },
   {
    "duration": 12,
    "start_time": "2023-10-13T15:46:34.074Z"
   },
   {
    "duration": 488,
    "start_time": "2023-10-13T15:46:34.088Z"
   },
   {
    "duration": 152,
    "start_time": "2023-10-13T15:46:34.578Z"
   },
   {
    "duration": 22,
    "start_time": "2023-10-13T15:46:34.733Z"
   },
   {
    "duration": 411,
    "start_time": "2023-10-13T15:46:34.759Z"
   },
   {
    "duration": 51,
    "start_time": "2023-10-13T15:46:35.172Z"
   },
   {
    "duration": 28,
    "start_time": "2023-10-13T15:46:35.225Z"
   },
   {
    "duration": 25,
    "start_time": "2023-10-13T15:46:35.255Z"
   },
   {
    "duration": 8178,
    "start_time": "2023-10-13T15:46:35.282Z"
   },
   {
    "duration": 14,
    "start_time": "2023-10-13T15:46:43.462Z"
   },
   {
    "duration": 3477,
    "start_time": "2023-10-13T15:46:43.478Z"
   },
   {
    "duration": 13,
    "start_time": "2023-10-13T15:46:46.957Z"
   },
   {
    "duration": 2273,
    "start_time": "2023-10-13T15:46:46.972Z"
   },
   {
    "duration": 18953,
    "start_time": "2023-10-13T15:46:49.247Z"
   },
   {
    "duration": 17021,
    "start_time": "2023-10-13T15:47:08.202Z"
   },
   {
    "duration": 139,
    "start_time": "2023-10-13T15:47:25.224Z"
   },
   {
    "duration": 140,
    "start_time": "2023-10-13T15:47:25.365Z"
   },
   {
    "duration": 67,
    "start_time": "2023-10-13T15:47:25.507Z"
   },
   {
    "duration": 7,
    "start_time": "2023-10-13T15:47:25.576Z"
   },
   {
    "duration": 331,
    "start_time": "2023-10-13T15:47:25.585Z"
   },
   {
    "duration": 8,
    "start_time": "2023-10-13T15:47:25.919Z"
   },
   {
    "duration": 1720,
    "start_time": "2023-10-13T15:47:25.928Z"
   },
   {
    "duration": 17580,
    "start_time": "2023-10-13T15:47:27.655Z"
   },
   {
    "duration": 14799,
    "start_time": "2023-10-13T15:47:45.238Z"
   },
   {
    "duration": 7802,
    "start_time": "2023-10-13T15:48:00.040Z"
   },
   {
    "duration": 8,
    "start_time": "2023-10-13T15:48:07.845Z"
   },
   {
    "duration": 2807,
    "start_time": "2023-10-13T15:48:07.855Z"
   },
   {
    "duration": 80,
    "start_time": "2023-10-13T15:48:10.664Z"
   },
   {
    "duration": 29057,
    "start_time": "2023-10-13T15:48:10.746Z"
   },
   {
    "duration": 22604,
    "start_time": "2023-10-13T15:48:39.805Z"
   },
   {
    "duration": 4,
    "start_time": "2023-10-13T15:49:02.411Z"
   },
   {
    "duration": 60,
    "start_time": "2023-10-13T15:49:02.416Z"
   },
   {
    "duration": 674,
    "start_time": "2023-10-13T15:49:02.479Z"
   },
   {
    "duration": 309,
    "start_time": "2023-10-13T15:49:03.155Z"
   },
   {
    "duration": 6,
    "start_time": "2023-10-13T15:49:03.466Z"
   },
   {
    "duration": 100,
    "start_time": "2023-10-13T15:49:03.474Z"
   },
   {
    "duration": 297,
    "start_time": "2023-10-13T15:49:03.577Z"
   },
   {
    "duration": 56,
    "start_time": "2023-10-13T15:53:06.017Z"
   },
   {
    "duration": 169,
    "start_time": "2023-10-13T16:09:04.927Z"
   },
   {
    "duration": 21,
    "start_time": "2023-10-13T16:09:12.278Z"
   },
   {
    "duration": 21,
    "start_time": "2023-10-13T16:09:33.007Z"
   },
   {
    "duration": 17,
    "start_time": "2023-10-13T16:09:55.713Z"
   },
   {
    "duration": 37,
    "start_time": "2023-10-13T16:10:49.008Z"
   },
   {
    "duration": 37,
    "start_time": "2023-10-13T16:11:00.687Z"
   },
   {
    "duration": 37,
    "start_time": "2023-10-13T16:11:21.004Z"
   },
   {
    "duration": 8,
    "start_time": "2023-10-13T16:13:46.673Z"
   },
   {
    "duration": 30,
    "start_time": "2023-10-13T16:13:56.659Z"
   },
   {
    "duration": 45,
    "start_time": "2023-10-13T16:15:12.822Z"
   },
   {
    "duration": 14,
    "start_time": "2023-10-13T16:19:13.688Z"
   },
   {
    "duration": 193,
    "start_time": "2023-10-13T16:19:20.996Z"
   },
   {
    "duration": 237,
    "start_time": "2023-10-13T16:19:48.427Z"
   },
   {
    "duration": 225,
    "start_time": "2023-10-13T16:20:18.495Z"
   },
   {
    "duration": 196,
    "start_time": "2023-10-13T16:20:55.598Z"
   },
   {
    "duration": 208,
    "start_time": "2023-10-13T16:21:04.586Z"
   },
   {
    "duration": 833,
    "start_time": "2023-10-13T16:43:20.716Z"
   },
   {
    "duration": 274,
    "start_time": "2023-10-13T16:44:29.943Z"
   },
   {
    "duration": 1164,
    "start_time": "2023-10-13T16:44:47.872Z"
   },
   {
    "duration": 4147,
    "start_time": "2023-10-13T16:45:02.095Z"
   },
   {
    "duration": 20,
    "start_time": "2023-10-13T16:46:13.029Z"
   },
   {
    "duration": 13,
    "start_time": "2023-10-13T16:46:28.918Z"
   },
   {
    "duration": 11,
    "start_time": "2023-10-13T16:46:49.432Z"
   },
   {
    "duration": 1050,
    "start_time": "2023-10-13T16:47:28.034Z"
   },
   {
    "duration": 201,
    "start_time": "2023-10-13T16:48:21.948Z"
   },
   {
    "duration": 183,
    "start_time": "2023-10-13T16:48:40.493Z"
   },
   {
    "duration": 1016,
    "start_time": "2023-10-13T16:48:54.107Z"
   },
   {
    "duration": 937,
    "start_time": "2023-10-13T16:50:04.259Z"
   },
   {
    "duration": 987,
    "start_time": "2023-10-13T16:51:00.740Z"
   },
   {
    "duration": 889,
    "start_time": "2023-10-13T16:52:03.420Z"
   },
   {
    "duration": 840,
    "start_time": "2023-10-13T16:53:58.456Z"
   },
   {
    "duration": 944,
    "start_time": "2023-10-13T16:55:02.455Z"
   },
   {
    "duration": 865,
    "start_time": "2023-10-13T16:57:49.667Z"
   },
   {
    "duration": 967,
    "start_time": "2023-10-13T16:58:16.192Z"
   },
   {
    "duration": 997,
    "start_time": "2023-10-13T16:59:45.818Z"
   },
   {
    "duration": 904,
    "start_time": "2023-10-13T17:00:07.921Z"
   },
   {
    "duration": 898,
    "start_time": "2023-10-13T17:00:26.820Z"
   },
   {
    "duration": 737,
    "start_time": "2023-10-13T17:00:40.919Z"
   },
   {
    "duration": 1007,
    "start_time": "2023-10-13T17:00:43.293Z"
   },
   {
    "duration": 976,
    "start_time": "2023-10-13T17:01:09.754Z"
   },
   {
    "duration": 1227,
    "start_time": "2023-10-13T17:01:31.671Z"
   },
   {
    "duration": 116,
    "start_time": "2023-10-13T17:02:29.648Z"
   },
   {
    "duration": 1241,
    "start_time": "2023-10-13T17:02:43.129Z"
   },
   {
    "duration": 803,
    "start_time": "2023-10-13T17:08:18.895Z"
   },
   {
    "duration": 987,
    "start_time": "2023-10-13T17:08:36.194Z"
   },
   {
    "duration": 809,
    "start_time": "2023-10-13T17:08:49.604Z"
   },
   {
    "duration": 4880,
    "start_time": "2023-10-13T18:03:31.035Z"
   },
   {
    "duration": 1378,
    "start_time": "2023-10-13T18:03:35.917Z"
   },
   {
    "duration": 3,
    "start_time": "2023-10-13T18:03:37.296Z"
   },
   {
    "duration": 275,
    "start_time": "2023-10-13T18:03:37.300Z"
   },
   {
    "duration": 23,
    "start_time": "2023-10-13T18:03:37.577Z"
   },
   {
    "duration": 47,
    "start_time": "2023-10-13T18:03:37.601Z"
   },
   {
    "duration": 27,
    "start_time": "2023-10-13T18:03:37.651Z"
   },
   {
    "duration": 22,
    "start_time": "2023-10-13T18:03:37.680Z"
   },
   {
    "duration": 9,
    "start_time": "2023-10-13T18:03:37.703Z"
   },
   {
    "duration": 133,
    "start_time": "2023-10-13T18:03:37.714Z"
   },
   {
    "duration": 39,
    "start_time": "2023-10-13T18:03:37.849Z"
   },
   {
    "duration": 27,
    "start_time": "2023-10-13T18:03:37.889Z"
   },
   {
    "duration": 12,
    "start_time": "2023-10-13T18:03:37.917Z"
   },
   {
    "duration": 45,
    "start_time": "2023-10-13T18:03:37.943Z"
   },
   {
    "duration": 29,
    "start_time": "2023-10-13T18:03:37.990Z"
   },
   {
    "duration": 95,
    "start_time": "2023-10-13T18:03:38.021Z"
   },
   {
    "duration": 8,
    "start_time": "2023-10-13T18:03:38.118Z"
   },
   {
    "duration": 50,
    "start_time": "2023-10-13T18:03:38.143Z"
   },
   {
    "duration": 971,
    "start_time": "2023-10-13T18:03:38.195Z"
   },
   {
    "duration": 388,
    "start_time": "2023-10-13T18:03:39.168Z"
   },
   {
    "duration": 8,
    "start_time": "2023-10-13T18:03:39.558Z"
   },
   {
    "duration": 122,
    "start_time": "2023-10-13T18:03:39.568Z"
   },
   {
    "duration": 8,
    "start_time": "2023-10-13T18:03:39.692Z"
   },
   {
    "duration": 2078,
    "start_time": "2023-10-13T18:03:39.702Z"
   },
   {
    "duration": 376,
    "start_time": "2023-10-13T18:03:41.782Z"
   },
   {
    "duration": 36,
    "start_time": "2023-10-13T18:03:42.160Z"
   },
   {
    "duration": 26,
    "start_time": "2023-10-13T18:03:42.197Z"
   },
   {
    "duration": 462,
    "start_time": "2023-10-13T18:03:42.225Z"
   },
   {
    "duration": 40,
    "start_time": "2023-10-13T18:03:42.689Z"
   },
   {
    "duration": 26,
    "start_time": "2023-10-13T18:03:42.731Z"
   },
   {
    "duration": 430,
    "start_time": "2023-10-13T18:03:42.759Z"
   },
   {
    "duration": 54,
    "start_time": "2023-10-13T18:03:43.191Z"
   },
   {
    "duration": 14,
    "start_time": "2023-10-13T18:03:43.247Z"
   },
   {
    "duration": 13,
    "start_time": "2023-10-13T18:03:43.264Z"
   },
   {
    "duration": 8198,
    "start_time": "2023-10-13T18:03:43.279Z"
   },
   {
    "duration": 13,
    "start_time": "2023-10-13T18:03:51.479Z"
   },
   {
    "duration": 3421,
    "start_time": "2023-10-13T18:03:51.493Z"
   },
   {
    "duration": 12,
    "start_time": "2023-10-13T18:03:54.916Z"
   },
   {
    "duration": 2320,
    "start_time": "2023-10-13T18:03:54.930Z"
   },
   {
    "duration": 18961,
    "start_time": "2023-10-13T18:03:57.252Z"
   },
   {
    "duration": 15476,
    "start_time": "2023-10-13T18:04:16.217Z"
   },
   {
    "duration": 126,
    "start_time": "2023-10-13T18:04:31.695Z"
   },
   {
    "duration": 130,
    "start_time": "2023-10-13T18:04:31.823Z"
   },
   {
    "duration": 47,
    "start_time": "2023-10-13T18:04:31.955Z"
   },
   {
    "duration": 3,
    "start_time": "2023-10-13T18:04:32.004Z"
   },
   {
    "duration": 282,
    "start_time": "2023-10-13T18:04:32.008Z"
   },
   {
    "duration": 6,
    "start_time": "2023-10-13T18:04:32.291Z"
   },
   {
    "duration": 1454,
    "start_time": "2023-10-13T18:04:32.299Z"
   },
   {
    "duration": 15559,
    "start_time": "2023-10-13T18:04:33.756Z"
   },
   {
    "duration": 14860,
    "start_time": "2023-10-13T18:04:49.318Z"
   },
   {
    "duration": 7254,
    "start_time": "2023-10-13T18:05:04.179Z"
   },
   {
    "duration": 8,
    "start_time": "2023-10-13T18:05:11.435Z"
   },
   {
    "duration": 2798,
    "start_time": "2023-10-13T18:05:11.445Z"
   },
   {
    "duration": 4,
    "start_time": "2023-10-13T18:05:14.245Z"
   },
   {
    "duration": 28552,
    "start_time": "2023-10-13T18:05:14.251Z"
   },
   {
    "duration": 21172,
    "start_time": "2023-10-13T18:05:42.805Z"
   },
   {
    "duration": 4,
    "start_time": "2023-10-13T18:06:03.979Z"
   },
   {
    "duration": 17,
    "start_time": "2023-10-13T18:06:03.984Z"
   },
   {
    "duration": 724,
    "start_time": "2023-10-13T18:06:04.003Z"
   },
   {
    "duration": 321,
    "start_time": "2023-10-13T18:06:04.729Z"
   },
   {
    "duration": 9,
    "start_time": "2023-10-13T18:06:05.052Z"
   },
   {
    "duration": 121,
    "start_time": "2023-10-13T18:06:05.063Z"
   },
   {
    "duration": 848,
    "start_time": "2023-10-13T18:07:43.287Z"
   },
   {
    "duration": 734,
    "start_time": "2023-10-13T18:09:40.220Z"
   },
   {
    "duration": 34,
    "start_time": "2023-10-13T18:10:00.898Z"
   },
   {
    "duration": 33,
    "start_time": "2023-10-13T18:10:22.553Z"
   },
   {
    "duration": 30,
    "start_time": "2023-10-13T18:10:39.581Z"
   },
   {
    "duration": 8,
    "start_time": "2023-10-13T18:10:57.411Z"
   },
   {
    "duration": 13,
    "start_time": "2023-10-13T18:11:27.235Z"
   },
   {
    "duration": 33,
    "start_time": "2023-10-13T18:11:39.994Z"
   },
   {
    "duration": 8,
    "start_time": "2023-10-13T18:12:10.211Z"
   },
   {
    "duration": 32,
    "start_time": "2023-10-13T18:12:32.951Z"
   },
   {
    "duration": 33,
    "start_time": "2023-10-13T18:14:08.015Z"
   },
   {
    "duration": 29,
    "start_time": "2023-10-13T18:15:36.639Z"
   },
   {
    "duration": 209,
    "start_time": "2023-10-13T18:15:59.331Z"
   },
   {
    "duration": 215,
    "start_time": "2023-10-13T18:16:21.742Z"
   },
   {
    "duration": 1012,
    "start_time": "2023-10-13T18:16:50.140Z"
   },
   {
    "duration": 993,
    "start_time": "2023-10-13T18:22:31.897Z"
   },
   {
    "duration": 1168,
    "start_time": "2023-10-13T18:22:43.868Z"
   },
   {
    "duration": 227,
    "start_time": "2023-10-13T18:23:29.924Z"
   },
   {
    "duration": 979,
    "start_time": "2023-10-13T18:23:55.461Z"
   },
   {
    "duration": 5,
    "start_time": "2023-10-13T18:24:44.522Z"
   },
   {
    "duration": 78,
    "start_time": "2023-10-13T18:24:48.951Z"
   },
   {
    "duration": 1070,
    "start_time": "2023-10-13T18:28:38.145Z"
   },
   {
    "duration": 244,
    "start_time": "2023-10-13T18:29:33.707Z"
   },
   {
    "duration": 1065,
    "start_time": "2023-10-13T18:30:44.217Z"
   },
   {
    "duration": 9,
    "start_time": "2023-10-13T18:49:20.174Z"
   },
   {
    "duration": 6,
    "start_time": "2023-10-13T18:50:40.921Z"
   },
   {
    "duration": 9,
    "start_time": "2023-10-13T18:51:56.163Z"
   },
   {
    "duration": 10,
    "start_time": "2023-10-13T18:52:01.757Z"
   },
   {
    "duration": 45,
    "start_time": "2023-10-14T12:31:35.830Z"
   },
   {
    "duration": 10757,
    "start_time": "2023-10-14T12:31:54.702Z"
   },
   {
    "duration": 1386,
    "start_time": "2023-10-14T12:32:05.461Z"
   },
   {
    "duration": 2,
    "start_time": "2023-10-14T12:32:06.849Z"
   },
   {
    "duration": 673,
    "start_time": "2023-10-14T12:32:06.853Z"
   },
   {
    "duration": 30,
    "start_time": "2023-10-14T12:32:07.528Z"
   },
   {
    "duration": 84,
    "start_time": "2023-10-14T12:32:07.560Z"
   },
   {
    "duration": 18,
    "start_time": "2023-10-14T12:32:07.646Z"
   },
   {
    "duration": 73,
    "start_time": "2023-10-14T12:32:07.666Z"
   },
   {
    "duration": 9,
    "start_time": "2023-10-14T12:32:07.740Z"
   },
   {
    "duration": 177,
    "start_time": "2023-10-14T12:32:07.752Z"
   },
   {
    "duration": 24,
    "start_time": "2023-10-14T12:32:07.931Z"
   },
   {
    "duration": 74,
    "start_time": "2023-10-14T12:32:07.957Z"
   },
   {
    "duration": 5,
    "start_time": "2023-10-14T12:32:08.033Z"
   },
   {
    "duration": 85,
    "start_time": "2023-10-14T12:32:08.039Z"
   },
   {
    "duration": 26,
    "start_time": "2023-10-14T12:32:08.126Z"
   },
   {
    "duration": 182,
    "start_time": "2023-10-14T12:32:08.154Z"
   },
   {
    "duration": 6,
    "start_time": "2023-10-14T12:32:08.338Z"
   },
   {
    "duration": 125,
    "start_time": "2023-10-14T12:32:08.346Z"
   },
   {
    "duration": 8,
    "start_time": "2023-10-14T12:32:08.473Z"
   },
   {
    "duration": 27,
    "start_time": "2023-10-14T12:32:08.482Z"
   },
   {
    "duration": 92,
    "start_time": "2023-10-14T12:32:08.511Z"
   },
   {
    "duration": 0,
    "start_time": "2023-10-14T12:32:08.606Z"
   },
   {
    "duration": 0,
    "start_time": "2023-10-14T12:32:08.607Z"
   },
   {
    "duration": 0,
    "start_time": "2023-10-14T12:32:08.608Z"
   },
   {
    "duration": 0,
    "start_time": "2023-10-14T12:32:08.609Z"
   },
   {
    "duration": 0,
    "start_time": "2023-10-14T12:32:08.610Z"
   },
   {
    "duration": 0,
    "start_time": "2023-10-14T12:32:08.612Z"
   },
   {
    "duration": 0,
    "start_time": "2023-10-14T12:32:08.613Z"
   },
   {
    "duration": 0,
    "start_time": "2023-10-14T12:32:08.614Z"
   },
   {
    "duration": 0,
    "start_time": "2023-10-14T12:32:08.615Z"
   },
   {
    "duration": 0,
    "start_time": "2023-10-14T12:32:08.616Z"
   },
   {
    "duration": 0,
    "start_time": "2023-10-14T12:32:08.618Z"
   },
   {
    "duration": 0,
    "start_time": "2023-10-14T12:32:08.619Z"
   },
   {
    "duration": 0,
    "start_time": "2023-10-14T12:32:08.619Z"
   },
   {
    "duration": 0,
    "start_time": "2023-10-14T12:32:08.621Z"
   },
   {
    "duration": 1,
    "start_time": "2023-10-14T12:32:08.621Z"
   },
   {
    "duration": 0,
    "start_time": "2023-10-14T12:32:08.622Z"
   },
   {
    "duration": 0,
    "start_time": "2023-10-14T12:32:08.623Z"
   },
   {
    "duration": 1,
    "start_time": "2023-10-14T12:32:08.624Z"
   },
   {
    "duration": 0,
    "start_time": "2023-10-14T12:32:08.626Z"
   },
   {
    "duration": 0,
    "start_time": "2023-10-14T12:32:08.627Z"
   },
   {
    "duration": 0,
    "start_time": "2023-10-14T12:32:08.628Z"
   },
   {
    "duration": 0,
    "start_time": "2023-10-14T12:32:08.629Z"
   },
   {
    "duration": 0,
    "start_time": "2023-10-14T12:32:08.630Z"
   },
   {
    "duration": 0,
    "start_time": "2023-10-14T12:32:08.631Z"
   },
   {
    "duration": 0,
    "start_time": "2023-10-14T12:32:08.632Z"
   },
   {
    "duration": 0,
    "start_time": "2023-10-14T12:32:08.633Z"
   },
   {
    "duration": 0,
    "start_time": "2023-10-14T12:32:08.634Z"
   },
   {
    "duration": 0,
    "start_time": "2023-10-14T12:32:08.635Z"
   },
   {
    "duration": 0,
    "start_time": "2023-10-14T12:32:08.636Z"
   },
   {
    "duration": 0,
    "start_time": "2023-10-14T12:32:08.637Z"
   },
   {
    "duration": 0,
    "start_time": "2023-10-14T12:32:08.639Z"
   },
   {
    "duration": 0,
    "start_time": "2023-10-14T12:32:08.640Z"
   },
   {
    "duration": 0,
    "start_time": "2023-10-14T12:32:08.641Z"
   },
   {
    "duration": 0,
    "start_time": "2023-10-14T12:32:08.642Z"
   },
   {
    "duration": 0,
    "start_time": "2023-10-14T12:32:08.642Z"
   },
   {
    "duration": 0,
    "start_time": "2023-10-14T12:32:08.643Z"
   },
   {
    "duration": 0,
    "start_time": "2023-10-14T12:32:08.645Z"
   },
   {
    "duration": 0,
    "start_time": "2023-10-14T12:32:08.647Z"
   },
   {
    "duration": 0,
    "start_time": "2023-10-14T12:32:08.648Z"
   },
   {
    "duration": 0,
    "start_time": "2023-10-14T12:32:08.649Z"
   },
   {
    "duration": 0,
    "start_time": "2023-10-14T12:32:08.651Z"
   },
   {
    "duration": 0,
    "start_time": "2023-10-14T12:32:08.652Z"
   },
   {
    "duration": 0,
    "start_time": "2023-10-14T12:32:08.654Z"
   },
   {
    "duration": 0,
    "start_time": "2023-10-14T12:32:08.656Z"
   },
   {
    "duration": 26,
    "start_time": "2023-10-14T12:33:05.176Z"
   },
   {
    "duration": 111,
    "start_time": "2023-10-14T12:40:35.029Z"
   },
   {
    "duration": 10,
    "start_time": "2023-10-14T12:42:24.712Z"
   },
   {
    "duration": 150,
    "start_time": "2023-10-14T12:42:31.415Z"
   },
   {
    "duration": 569,
    "start_time": "2023-10-14T12:43:02.820Z"
   },
   {
    "duration": 622,
    "start_time": "2023-10-14T12:43:23.037Z"
   },
   {
    "duration": 1247,
    "start_time": "2023-10-14T12:43:27.560Z"
   },
   {
    "duration": 1165,
    "start_time": "2023-10-14T12:45:33.984Z"
   },
   {
    "duration": 1288,
    "start_time": "2023-10-14T12:45:48.956Z"
   },
   {
    "duration": 1316,
    "start_time": "2023-10-14T12:46:42.939Z"
   },
   {
    "duration": 1270,
    "start_time": "2023-10-14T12:47:05.258Z"
   },
   {
    "duration": 10,
    "start_time": "2023-10-14T12:49:28.739Z"
   },
   {
    "duration": 14,
    "start_time": "2023-10-14T12:49:37.947Z"
   },
   {
    "duration": 10,
    "start_time": "2023-10-14T12:53:38.966Z"
   },
   {
    "duration": 230,
    "start_time": "2023-10-14T12:53:45.438Z"
   },
   {
    "duration": 12615,
    "start_time": "2023-10-14T14:40:54.507Z"
   },
   {
    "duration": 1609,
    "start_time": "2023-10-14T14:41:07.125Z"
   },
   {
    "duration": 3,
    "start_time": "2023-10-14T14:41:08.736Z"
   },
   {
    "duration": 535,
    "start_time": "2023-10-14T14:41:08.741Z"
   },
   {
    "duration": 29,
    "start_time": "2023-10-14T14:41:09.278Z"
   },
   {
    "duration": 49,
    "start_time": "2023-10-14T14:41:09.309Z"
   },
   {
    "duration": 22,
    "start_time": "2023-10-14T14:41:09.361Z"
   },
   {
    "duration": 33,
    "start_time": "2023-10-14T14:41:09.385Z"
   },
   {
    "duration": 13,
    "start_time": "2023-10-14T14:41:09.420Z"
   },
   {
    "duration": 95,
    "start_time": "2023-10-14T14:41:09.435Z"
   },
   {
    "duration": 29,
    "start_time": "2023-10-14T14:41:09.531Z"
   },
   {
    "duration": 40,
    "start_time": "2023-10-14T14:41:09.562Z"
   },
   {
    "duration": 20,
    "start_time": "2023-10-14T14:41:09.604Z"
   },
   {
    "duration": 53,
    "start_time": "2023-10-14T14:41:09.626Z"
   },
   {
    "duration": 30,
    "start_time": "2023-10-14T14:41:09.680Z"
   },
   {
    "duration": 79,
    "start_time": "2023-10-14T14:41:09.711Z"
   },
   {
    "duration": 7,
    "start_time": "2023-10-14T14:41:09.802Z"
   },
   {
    "duration": 89,
    "start_time": "2023-10-14T14:41:09.811Z"
   },
   {
    "duration": 10,
    "start_time": "2023-10-14T14:41:09.902Z"
   },
   {
    "duration": 72,
    "start_time": "2023-10-14T14:41:09.914Z"
   },
   {
    "duration": 13,
    "start_time": "2023-10-14T14:41:29.725Z"
   },
   {
    "duration": 11,
    "start_time": "2023-10-14T14:42:09.802Z"
   },
   {
    "duration": 124,
    "start_time": "2023-10-14T14:43:56.217Z"
   },
   {
    "duration": 7,
    "start_time": "2023-10-14T14:44:04.879Z"
   },
   {
    "duration": 7,
    "start_time": "2023-10-14T14:47:43.620Z"
   },
   {
    "duration": 11,
    "start_time": "2023-10-14T14:48:03.431Z"
   },
   {
    "duration": 7,
    "start_time": "2023-10-14T14:48:09.695Z"
   },
   {
    "duration": 8,
    "start_time": "2023-10-14T14:48:21.238Z"
   },
   {
    "duration": 180,
    "start_time": "2023-10-14T14:51:32.891Z"
   },
   {
    "duration": 125,
    "start_time": "2023-10-14T14:52:07.127Z"
   },
   {
    "duration": 4,
    "start_time": "2023-10-14T14:52:48.319Z"
   },
   {
    "duration": 4,
    "start_time": "2023-10-14T14:53:07.620Z"
   },
   {
    "duration": 19,
    "start_time": "2023-10-14T14:54:27.301Z"
   },
   {
    "duration": 5,
    "start_time": "2023-10-14T14:54:30.177Z"
   },
   {
    "duration": 5,
    "start_time": "2023-10-14T14:54:32.129Z"
   },
   {
    "duration": 11,
    "start_time": "2023-10-14T14:56:39.825Z"
   },
   {
    "duration": 8,
    "start_time": "2023-10-14T14:57:29.911Z"
   },
   {
    "duration": 8,
    "start_time": "2023-10-14T14:57:51.009Z"
   },
   {
    "duration": 10,
    "start_time": "2023-10-14T14:58:08.969Z"
   },
   {
    "duration": 7,
    "start_time": "2023-10-14T14:58:33.169Z"
   },
   {
    "duration": 6,
    "start_time": "2023-10-14T15:00:42.082Z"
   },
   {
    "duration": 59,
    "start_time": "2023-10-14T15:02:43.831Z"
   },
   {
    "duration": 9,
    "start_time": "2023-10-14T15:02:56.611Z"
   },
   {
    "duration": 17,
    "start_time": "2023-10-14T15:11:56.239Z"
   },
   {
    "duration": 59,
    "start_time": "2023-10-14T15:12:09.406Z"
   },
   {
    "duration": 1410,
    "start_time": "2023-10-14T15:12:13.993Z"
   },
   {
    "duration": 18,
    "start_time": "2023-10-14T15:12:40.657Z"
   },
   {
    "duration": 19,
    "start_time": "2023-10-14T15:14:51.491Z"
   },
   {
    "duration": 137,
    "start_time": "2023-10-14T15:15:08.770Z"
   },
   {
    "duration": 22,
    "start_time": "2023-10-14T15:15:14.739Z"
   },
   {
    "duration": 27,
    "start_time": "2023-10-14T15:16:07.094Z"
   },
   {
    "duration": 90,
    "start_time": "2023-10-14T15:22:27.798Z"
   },
   {
    "duration": 14,
    "start_time": "2023-10-14T15:22:45.356Z"
   },
   {
    "duration": 179,
    "start_time": "2023-10-14T15:26:09.018Z"
   },
   {
    "duration": 29,
    "start_time": "2023-10-14T15:26:23.448Z"
   },
   {
    "duration": 144,
    "start_time": "2023-10-14T15:28:28.021Z"
   },
   {
    "duration": 2313,
    "start_time": "2023-10-14T15:29:27.214Z"
   },
   {
    "duration": 13,
    "start_time": "2023-10-14T15:32:07.802Z"
   },
   {
    "duration": 52,
    "start_time": "2023-10-14T15:32:19.927Z"
   },
   {
    "duration": 2276,
    "start_time": "2023-10-14T15:32:42.783Z"
   },
   {
    "duration": 435,
    "start_time": "2023-10-14T15:32:54.402Z"
   },
   {
    "duration": 38,
    "start_time": "2023-10-14T15:32:58.359Z"
   },
   {
    "duration": 14,
    "start_time": "2023-10-14T15:33:03.074Z"
   },
   {
    "duration": 609,
    "start_time": "2023-10-14T15:37:14.695Z"
   },
   {
    "duration": 54,
    "start_time": "2023-10-14T15:37:19.630Z"
   },
   {
    "duration": 15,
    "start_time": "2023-10-14T15:37:22.662Z"
   },
   {
    "duration": 477,
    "start_time": "2023-10-14T15:40:37.236Z"
   },
   {
    "duration": 55,
    "start_time": "2023-10-14T15:40:40.494Z"
   },
   {
    "duration": 12,
    "start_time": "2023-10-14T15:40:43.154Z"
   },
   {
    "duration": 11,
    "start_time": "2023-10-14T15:43:54.062Z"
   },
   {
    "duration": 11523,
    "start_time": "2023-10-14T15:43:56.095Z"
   },
   {
    "duration": 15,
    "start_time": "2023-10-14T15:44:07.621Z"
   },
   {
    "duration": 4762,
    "start_time": "2023-10-14T16:38:35.676Z"
   },
   {
    "duration": 5,
    "start_time": "2023-10-14T16:38:40.441Z"
   },
   {
    "duration": 8,
    "start_time": "2023-10-14T16:38:40.447Z"
   },
   {
    "duration": 236,
    "start_time": "2023-10-14T16:38:40.457Z"
   },
   {
    "duration": 23,
    "start_time": "2023-10-14T16:38:40.694Z"
   },
   {
    "duration": 40,
    "start_time": "2023-10-14T16:38:40.719Z"
   },
   {
    "duration": 20,
    "start_time": "2023-10-14T16:38:40.761Z"
   },
   {
    "duration": 43,
    "start_time": "2023-10-14T16:38:40.783Z"
   },
   {
    "duration": 10,
    "start_time": "2023-10-14T16:38:40.828Z"
   },
   {
    "duration": 84,
    "start_time": "2023-10-14T16:38:40.841Z"
   },
   {
    "duration": 26,
    "start_time": "2023-10-14T16:38:40.927Z"
   },
   {
    "duration": 19,
    "start_time": "2023-10-14T16:38:40.955Z"
   },
   {
    "duration": 28,
    "start_time": "2023-10-14T16:38:40.976Z"
   },
   {
    "duration": 40,
    "start_time": "2023-10-14T16:38:41.005Z"
   },
   {
    "duration": 31,
    "start_time": "2023-10-14T16:38:41.046Z"
   },
   {
    "duration": 100,
    "start_time": "2023-10-14T16:38:41.079Z"
   },
   {
    "duration": 21,
    "start_time": "2023-10-14T16:38:41.181Z"
   },
   {
    "duration": 83,
    "start_time": "2023-10-14T16:38:41.205Z"
   },
   {
    "duration": 12,
    "start_time": "2023-10-14T16:38:41.302Z"
   },
   {
    "duration": 45,
    "start_time": "2023-10-14T16:38:41.316Z"
   },
   {
    "duration": 288,
    "start_time": "2023-10-14T16:38:41.364Z"
   },
   {
    "duration": 131,
    "start_time": "2023-10-14T16:38:41.654Z"
   },
   {
    "duration": 30,
    "start_time": "2023-10-14T16:38:41.787Z"
   },
   {
    "duration": 17,
    "start_time": "2023-10-14T16:38:41.818Z"
   },
   {
    "duration": 17,
    "start_time": "2023-10-14T16:38:41.837Z"
   },
   {
    "duration": 21,
    "start_time": "2023-10-14T16:38:41.856Z"
   },
   {
    "duration": 69,
    "start_time": "2023-10-14T16:38:41.879Z"
   },
   {
    "duration": 1134,
    "start_time": "2023-10-14T16:38:41.953Z"
   },
   {
    "duration": 37,
    "start_time": "2023-10-14T16:38:43.089Z"
   },
   {
    "duration": 263,
    "start_time": "2023-10-14T16:38:43.128Z"
   },
   {
    "duration": 2129,
    "start_time": "2023-10-14T16:38:43.393Z"
   },
   {
    "duration": 368,
    "start_time": "2023-10-14T16:38:45.523Z"
   },
   {
    "duration": 42,
    "start_time": "2023-10-14T16:38:45.892Z"
   },
   {
    "duration": 15,
    "start_time": "2023-10-14T16:38:45.935Z"
   },
   {
    "duration": 470,
    "start_time": "2023-10-14T16:38:45.951Z"
   },
   {
    "duration": 157,
    "start_time": "2023-10-14T16:38:46.423Z"
   },
   {
    "duration": 28,
    "start_time": "2023-10-14T16:38:46.582Z"
   },
   {
    "duration": 419,
    "start_time": "2023-10-14T16:38:46.612Z"
   },
   {
    "duration": 40,
    "start_time": "2023-10-14T16:38:47.033Z"
   },
   {
    "duration": 68,
    "start_time": "2023-10-14T16:38:47.075Z"
   },
   {
    "duration": 4677,
    "start_time": "2023-10-14T16:54:03.092Z"
   },
   {
    "duration": 6,
    "start_time": "2023-10-14T16:54:07.772Z"
   },
   {
    "duration": 7,
    "start_time": "2023-10-14T16:54:07.780Z"
   },
   {
    "duration": 257,
    "start_time": "2023-10-14T16:54:07.789Z"
   },
   {
    "duration": 22,
    "start_time": "2023-10-14T16:54:08.049Z"
   },
   {
    "duration": 43,
    "start_time": "2023-10-14T16:54:08.073Z"
   },
   {
    "duration": 21,
    "start_time": "2023-10-14T16:54:08.117Z"
   },
   {
    "duration": 32,
    "start_time": "2023-10-14T16:54:08.140Z"
   },
   {
    "duration": 29,
    "start_time": "2023-10-14T16:54:08.173Z"
   },
   {
    "duration": 77,
    "start_time": "2023-10-14T16:54:08.204Z"
   },
   {
    "duration": 36,
    "start_time": "2023-10-14T16:54:08.283Z"
   },
   {
    "duration": 67,
    "start_time": "2023-10-14T16:54:08.320Z"
   },
   {
    "duration": 11,
    "start_time": "2023-10-14T16:54:08.389Z"
   },
   {
    "duration": 49,
    "start_time": "2023-10-14T16:54:08.403Z"
   },
   {
    "duration": 30,
    "start_time": "2023-10-14T16:54:08.453Z"
   },
   {
    "duration": 78,
    "start_time": "2023-10-14T16:54:08.485Z"
   },
   {
    "duration": 7,
    "start_time": "2023-10-14T16:54:08.565Z"
   },
   {
    "duration": 84,
    "start_time": "2023-10-14T16:54:08.574Z"
   },
   {
    "duration": 10,
    "start_time": "2023-10-14T16:54:08.660Z"
   },
   {
    "duration": 45,
    "start_time": "2023-10-14T16:54:08.671Z"
   },
   {
    "duration": 165,
    "start_time": "2023-10-14T16:54:08.718Z"
   },
   {
    "duration": 146,
    "start_time": "2023-10-14T16:54:08.885Z"
   },
   {
    "duration": 17,
    "start_time": "2023-10-14T16:54:09.032Z"
   },
   {
    "duration": 12,
    "start_time": "2023-10-14T16:54:09.051Z"
   },
   {
    "duration": 25,
    "start_time": "2023-10-14T16:54:09.065Z"
   },
   {
    "duration": 15,
    "start_time": "2023-10-14T16:54:09.092Z"
   },
   {
    "duration": 57,
    "start_time": "2023-10-14T16:54:09.109Z"
   },
   {
    "duration": 1136,
    "start_time": "2023-10-14T16:54:09.168Z"
   },
   {
    "duration": 26,
    "start_time": "2023-10-14T16:54:10.305Z"
   },
   {
    "duration": 191,
    "start_time": "2023-10-14T16:54:10.333Z"
   },
   {
    "duration": 2043,
    "start_time": "2023-10-14T16:54:10.526Z"
   },
   {
    "duration": 348,
    "start_time": "2023-10-14T16:54:12.571Z"
   },
   {
    "duration": 150,
    "start_time": "2023-10-14T16:54:12.921Z"
   },
   {
    "duration": 12,
    "start_time": "2023-10-14T16:54:13.073Z"
   },
   {
    "duration": 449,
    "start_time": "2023-10-14T16:54:13.102Z"
   },
   {
    "duration": 50,
    "start_time": "2023-10-14T16:54:13.553Z"
   },
   {
    "duration": 15,
    "start_time": "2023-10-14T16:54:13.605Z"
   },
   {
    "duration": 416,
    "start_time": "2023-10-14T16:54:13.621Z"
   },
   {
    "duration": 41,
    "start_time": "2023-10-14T16:54:14.038Z"
   },
   {
    "duration": 26,
    "start_time": "2023-10-14T16:54:14.080Z"
   },
   {
    "duration": 19,
    "start_time": "2023-10-14T16:54:14.110Z"
   },
   {
    "duration": 125,
    "start_time": "2023-10-14T16:56:14.620Z"
   },
   {
    "duration": 31,
    "start_time": "2023-10-14T16:56:24.588Z"
   },
   {
    "duration": 120,
    "start_time": "2023-10-14T17:00:31.917Z"
   },
   {
    "duration": 88,
    "start_time": "2023-10-14T17:03:20.849Z"
   },
   {
    "duration": 4923,
    "start_time": "2023-10-14T17:03:50.258Z"
   },
   {
    "duration": 7,
    "start_time": "2023-10-14T17:03:55.183Z"
   },
   {
    "duration": 40,
    "start_time": "2023-10-14T17:03:55.191Z"
   },
   {
    "duration": 269,
    "start_time": "2023-10-14T17:03:55.233Z"
   },
   {
    "duration": 22,
    "start_time": "2023-10-14T17:03:55.504Z"
   },
   {
    "duration": 57,
    "start_time": "2023-10-14T17:03:55.527Z"
   },
   {
    "duration": 28,
    "start_time": "2023-10-14T17:03:55.587Z"
   },
   {
    "duration": 53,
    "start_time": "2023-10-14T17:03:55.617Z"
   },
   {
    "duration": 12,
    "start_time": "2023-10-14T17:03:55.672Z"
   },
   {
    "duration": 82,
    "start_time": "2023-10-14T17:03:55.686Z"
   },
   {
    "duration": 38,
    "start_time": "2023-10-14T17:03:55.770Z"
   },
   {
    "duration": 22,
    "start_time": "2023-10-14T17:03:55.810Z"
   },
   {
    "duration": 19,
    "start_time": "2023-10-14T17:03:55.833Z"
   },
   {
    "duration": 32,
    "start_time": "2023-10-14T17:03:55.856Z"
   },
   {
    "duration": 31,
    "start_time": "2023-10-14T17:03:55.902Z"
   },
   {
    "duration": 90,
    "start_time": "2023-10-14T17:03:55.934Z"
   },
   {
    "duration": 9,
    "start_time": "2023-10-14T17:03:56.026Z"
   },
   {
    "duration": 103,
    "start_time": "2023-10-14T17:03:56.036Z"
   },
   {
    "duration": 12,
    "start_time": "2023-10-14T17:03:56.141Z"
   },
   {
    "duration": 58,
    "start_time": "2023-10-14T17:03:56.156Z"
   },
   {
    "duration": 195,
    "start_time": "2023-10-14T17:03:56.217Z"
   },
   {
    "duration": 137,
    "start_time": "2023-10-14T17:03:56.414Z"
   },
   {
    "duration": 16,
    "start_time": "2023-10-14T17:03:56.553Z"
   },
   {
    "duration": 7,
    "start_time": "2023-10-14T17:03:56.571Z"
   },
   {
    "duration": 33,
    "start_time": "2023-10-14T17:03:56.580Z"
   },
   {
    "duration": 18,
    "start_time": "2023-10-14T17:03:56.615Z"
   },
   {
    "duration": 70,
    "start_time": "2023-10-14T17:03:56.635Z"
   },
   {
    "duration": 1144,
    "start_time": "2023-10-14T17:03:56.707Z"
   },
   {
    "duration": 27,
    "start_time": "2023-10-14T17:03:57.853Z"
   },
   {
    "duration": 186,
    "start_time": "2023-10-14T17:03:57.901Z"
   },
   {
    "duration": 2186,
    "start_time": "2023-10-14T17:03:58.089Z"
   },
   {
    "duration": 356,
    "start_time": "2023-10-14T17:04:00.277Z"
   },
   {
    "duration": 39,
    "start_time": "2023-10-14T17:04:00.636Z"
   },
   {
    "duration": 65,
    "start_time": "2023-10-14T17:04:00.677Z"
   },
   {
    "duration": 513,
    "start_time": "2023-10-14T17:04:00.744Z"
   },
   {
    "duration": 51,
    "start_time": "2023-10-14T17:04:01.259Z"
   },
   {
    "duration": 94,
    "start_time": "2023-10-14T17:04:01.312Z"
   },
   {
    "duration": 452,
    "start_time": "2023-10-14T17:04:01.408Z"
   },
   {
    "duration": 52,
    "start_time": "2023-10-14T17:04:01.863Z"
   },
   {
    "duration": 42,
    "start_time": "2023-10-14T17:04:01.917Z"
   },
   {
    "duration": 31,
    "start_time": "2023-10-14T17:04:01.964Z"
   },
   {
    "duration": 7994,
    "start_time": "2023-10-14T17:04:01.997Z"
   },
   {
    "duration": 21,
    "start_time": "2023-10-14T17:04:09.992Z"
   },
   {
    "duration": 183,
    "start_time": "2023-10-14T17:04:10.015Z"
   },
   {
    "duration": 23,
    "start_time": "2023-10-14T17:04:10.200Z"
   },
   {
    "duration": 4712,
    "start_time": "2023-10-14T17:06:34.263Z"
   },
   {
    "duration": 3909,
    "start_time": "2023-10-14T17:11:02.069Z"
   },
   {
    "duration": 109,
    "start_time": "2023-10-14T17:13:13.723Z"
   },
   {
    "duration": 5134,
    "start_time": "2023-10-14T17:13:24.466Z"
   },
   {
    "duration": 1381,
    "start_time": "2023-10-14T17:13:29.603Z"
   },
   {
    "duration": 3,
    "start_time": "2023-10-14T17:13:30.986Z"
   },
   {
    "duration": 561,
    "start_time": "2023-10-14T17:13:30.990Z"
   },
   {
    "duration": 48,
    "start_time": "2023-10-14T17:13:31.553Z"
   },
   {
    "duration": 545,
    "start_time": "2023-10-14T17:13:31.604Z"
   },
   {
    "duration": 166,
    "start_time": "2023-10-14T17:13:32.151Z"
   },
   {
    "duration": 129,
    "start_time": "2023-10-14T17:13:32.319Z"
   },
   {
    "duration": 126,
    "start_time": "2023-10-14T17:13:32.451Z"
   },
   {
    "duration": 236,
    "start_time": "2023-10-14T17:13:32.579Z"
   },
   {
    "duration": 29,
    "start_time": "2023-10-14T17:13:32.817Z"
   },
   {
    "duration": 92,
    "start_time": "2023-10-14T17:13:32.848Z"
   },
   {
    "duration": 72,
    "start_time": "2023-10-14T17:13:32.943Z"
   },
   {
    "duration": 89,
    "start_time": "2023-10-14T17:13:33.018Z"
   },
   {
    "duration": 41,
    "start_time": "2023-10-14T17:13:33.109Z"
   },
   {
    "duration": 141,
    "start_time": "2023-10-14T17:13:33.152Z"
   },
   {
    "duration": 9,
    "start_time": "2023-10-14T17:13:33.295Z"
   },
   {
    "duration": 107,
    "start_time": "2023-10-14T17:13:33.307Z"
   },
   {
    "duration": 11,
    "start_time": "2023-10-14T17:13:33.416Z"
   },
   {
    "duration": 49,
    "start_time": "2023-10-14T17:13:33.429Z"
   },
   {
    "duration": 190,
    "start_time": "2023-10-14T17:13:33.480Z"
   },
   {
    "duration": 145,
    "start_time": "2023-10-14T17:13:33.672Z"
   },
   {
    "duration": 20,
    "start_time": "2023-10-14T17:13:33.819Z"
   },
   {
    "duration": 13,
    "start_time": "2023-10-14T17:13:33.841Z"
   },
   {
    "duration": 21,
    "start_time": "2023-10-14T17:13:33.856Z"
   },
   {
    "duration": 24,
    "start_time": "2023-10-14T17:13:33.879Z"
   },
   {
    "duration": 77,
    "start_time": "2023-10-14T17:13:33.905Z"
   },
   {
    "duration": 1316,
    "start_time": "2023-10-14T17:13:33.985Z"
   },
   {
    "duration": 29,
    "start_time": "2023-10-14T17:13:35.303Z"
   },
   {
    "duration": 205,
    "start_time": "2023-10-14T17:13:35.333Z"
   },
   {
    "duration": 1912,
    "start_time": "2023-10-14T17:13:35.540Z"
   },
   {
    "duration": 347,
    "start_time": "2023-10-14T17:13:37.454Z"
   },
   {
    "duration": 37,
    "start_time": "2023-10-14T17:13:37.803Z"
   },
   {
    "duration": 18,
    "start_time": "2023-10-14T17:13:37.842Z"
   },
   {
    "duration": 478,
    "start_time": "2023-10-14T17:13:37.861Z"
   },
   {
    "duration": 60,
    "start_time": "2023-10-14T17:13:38.341Z"
   },
   {
    "duration": 16,
    "start_time": "2023-10-14T17:13:38.404Z"
   },
   {
    "duration": 500,
    "start_time": "2023-10-14T17:13:38.422Z"
   },
   {
    "duration": 39,
    "start_time": "2023-10-14T17:13:38.924Z"
   },
   {
    "duration": 13,
    "start_time": "2023-10-14T17:13:38.965Z"
   },
   {
    "duration": 11,
    "start_time": "2023-10-14T17:13:39.002Z"
   },
   {
    "duration": 11059,
    "start_time": "2023-10-14T17:13:39.014Z"
   },
   {
    "duration": 26,
    "start_time": "2023-10-14T17:13:50.075Z"
   },
   {
    "duration": 345,
    "start_time": "2023-10-14T17:13:50.103Z"
   },
   {
    "duration": 22,
    "start_time": "2023-10-14T17:13:50.450Z"
   },
   {
    "duration": 2678,
    "start_time": "2023-10-14T17:13:50.474Z"
   },
   {
    "duration": 0,
    "start_time": "2023-10-14T17:13:53.154Z"
   },
   {
    "duration": 0,
    "start_time": "2023-10-14T17:13:53.155Z"
   },
   {
    "duration": 0,
    "start_time": "2023-10-14T17:13:53.157Z"
   },
   {
    "duration": 0,
    "start_time": "2023-10-14T17:13:53.159Z"
   },
   {
    "duration": 0,
    "start_time": "2023-10-14T17:13:53.161Z"
   },
   {
    "duration": 0,
    "start_time": "2023-10-14T17:13:53.162Z"
   },
   {
    "duration": 0,
    "start_time": "2023-10-14T17:13:53.164Z"
   },
   {
    "duration": 0,
    "start_time": "2023-10-14T17:13:53.166Z"
   },
   {
    "duration": 0,
    "start_time": "2023-10-14T17:13:53.167Z"
   },
   {
    "duration": 0,
    "start_time": "2023-10-14T17:13:53.169Z"
   },
   {
    "duration": 0,
    "start_time": "2023-10-14T17:13:53.170Z"
   },
   {
    "duration": 0,
    "start_time": "2023-10-14T17:13:53.172Z"
   },
   {
    "duration": 0,
    "start_time": "2023-10-14T17:13:53.202Z"
   },
   {
    "duration": 0,
    "start_time": "2023-10-14T17:13:53.204Z"
   },
   {
    "duration": 0,
    "start_time": "2023-10-14T17:13:53.206Z"
   },
   {
    "duration": 0,
    "start_time": "2023-10-14T17:13:53.207Z"
   },
   {
    "duration": 0,
    "start_time": "2023-10-14T17:13:53.209Z"
   },
   {
    "duration": 0,
    "start_time": "2023-10-14T17:13:53.211Z"
   },
   {
    "duration": 0,
    "start_time": "2023-10-14T17:13:53.212Z"
   },
   {
    "duration": 0,
    "start_time": "2023-10-14T17:13:53.214Z"
   },
   {
    "duration": 0,
    "start_time": "2023-10-14T17:13:53.215Z"
   },
   {
    "duration": 0,
    "start_time": "2023-10-14T17:13:53.217Z"
   },
   {
    "duration": 0,
    "start_time": "2023-10-14T17:13:53.219Z"
   },
   {
    "duration": 95,
    "start_time": "2023-10-14T17:15:09.395Z"
   },
   {
    "duration": 21,
    "start_time": "2023-10-14T17:15:13.418Z"
   },
   {
    "duration": 85,
    "start_time": "2023-10-14T17:16:14.297Z"
   },
   {
    "duration": 18,
    "start_time": "2023-10-14T17:16:17.736Z"
   },
   {
    "duration": 2568,
    "start_time": "2023-10-14T17:16:32.572Z"
   },
   {
    "duration": 4580,
    "start_time": "2023-10-14T17:17:31.560Z"
   },
   {
    "duration": 15,
    "start_time": "2023-10-14T17:17:36.642Z"
   },
   {
    "duration": 2600,
    "start_time": "2023-10-14T17:17:40.209Z"
   },
   {
    "duration": 4922,
    "start_time": "2023-10-14T17:18:05.467Z"
   },
   {
    "duration": 5,
    "start_time": "2023-10-14T17:18:10.392Z"
   },
   {
    "duration": 36,
    "start_time": "2023-10-14T17:18:10.399Z"
   },
   {
    "duration": 272,
    "start_time": "2023-10-14T17:18:10.437Z"
   },
   {
    "duration": 24,
    "start_time": "2023-10-14T17:18:10.712Z"
   },
   {
    "duration": 41,
    "start_time": "2023-10-14T17:18:10.738Z"
   },
   {
    "duration": 34,
    "start_time": "2023-10-14T17:18:10.781Z"
   },
   {
    "duration": 28,
    "start_time": "2023-10-14T17:18:10.817Z"
   },
   {
    "duration": 12,
    "start_time": "2023-10-14T17:18:10.847Z"
   },
   {
    "duration": 149,
    "start_time": "2023-10-14T17:18:10.861Z"
   },
   {
    "duration": 28,
    "start_time": "2023-10-14T17:18:11.012Z"
   },
   {
    "duration": 45,
    "start_time": "2023-10-14T17:18:11.042Z"
   },
   {
    "duration": 20,
    "start_time": "2023-10-14T17:18:11.089Z"
   },
   {
    "duration": 53,
    "start_time": "2023-10-14T17:18:11.112Z"
   },
   {
    "duration": 99,
    "start_time": "2023-10-14T17:18:11.167Z"
   },
   {
    "duration": 79,
    "start_time": "2023-10-14T17:18:11.268Z"
   },
   {
    "duration": 7,
    "start_time": "2023-10-14T17:18:11.349Z"
   },
   {
    "duration": 86,
    "start_time": "2023-10-14T17:18:11.358Z"
   },
   {
    "duration": 10,
    "start_time": "2023-10-14T17:18:11.445Z"
   },
   {
    "duration": 37,
    "start_time": "2023-10-14T17:18:11.457Z"
   },
   {
    "duration": 171,
    "start_time": "2023-10-14T17:18:11.500Z"
   },
   {
    "duration": 266,
    "start_time": "2023-10-14T17:18:11.673Z"
   },
   {
    "duration": 19,
    "start_time": "2023-10-14T17:18:11.941Z"
   },
   {
    "duration": 7,
    "start_time": "2023-10-14T17:18:11.962Z"
   },
   {
    "duration": 34,
    "start_time": "2023-10-14T17:18:11.971Z"
   },
   {
    "duration": 8,
    "start_time": "2023-10-14T17:18:12.008Z"
   },
   {
    "duration": 64,
    "start_time": "2023-10-14T17:18:12.018Z"
   },
   {
    "duration": 1130,
    "start_time": "2023-10-14T17:18:12.085Z"
   },
   {
    "duration": 25,
    "start_time": "2023-10-14T17:18:13.217Z"
   },
   {
    "duration": 188,
    "start_time": "2023-10-14T17:18:13.244Z"
   },
   {
    "duration": 1958,
    "start_time": "2023-10-14T17:18:13.434Z"
   },
   {
    "duration": 350,
    "start_time": "2023-10-14T17:18:15.394Z"
   },
   {
    "duration": 39,
    "start_time": "2023-10-14T17:18:15.747Z"
   },
   {
    "duration": 24,
    "start_time": "2023-10-14T17:18:15.788Z"
   },
   {
    "duration": 459,
    "start_time": "2023-10-14T17:18:15.814Z"
   },
   {
    "duration": 53,
    "start_time": "2023-10-14T17:18:16.275Z"
   },
   {
    "duration": 13,
    "start_time": "2023-10-14T17:18:16.330Z"
   },
   {
    "duration": 561,
    "start_time": "2023-10-14T17:18:16.345Z"
   },
   {
    "duration": 47,
    "start_time": "2023-10-14T17:18:16.908Z"
   },
   {
    "duration": 13,
    "start_time": "2023-10-14T17:18:16.957Z"
   },
   {
    "duration": 40,
    "start_time": "2023-10-14T17:18:16.975Z"
   },
   {
    "duration": 10342,
    "start_time": "2023-10-14T17:18:17.017Z"
   },
   {
    "duration": 15,
    "start_time": "2023-10-14T17:18:27.361Z"
   },
   {
    "duration": 4190,
    "start_time": "2023-10-14T17:18:27.377Z"
   },
   {
    "duration": 14,
    "start_time": "2023-10-14T17:18:31.568Z"
   },
   {
    "duration": 2320,
    "start_time": "2023-10-14T17:18:31.584Z"
   },
   {
    "duration": 18994,
    "start_time": "2023-10-14T17:18:33.907Z"
   },
   {
    "duration": 15857,
    "start_time": "2023-10-14T17:18:52.903Z"
   },
   {
    "duration": 130,
    "start_time": "2023-10-14T17:19:08.761Z"
   },
   {
    "duration": 131,
    "start_time": "2023-10-14T17:19:08.893Z"
   },
   {
    "duration": 48,
    "start_time": "2023-10-14T17:19:09.025Z"
   },
   {
    "duration": 3,
    "start_time": "2023-10-14T17:19:09.075Z"
   },
   {
    "duration": 302,
    "start_time": "2023-10-14T17:19:09.079Z"
   },
   {
    "duration": 7,
    "start_time": "2023-10-14T17:19:09.383Z"
   },
   {
    "duration": 1810,
    "start_time": "2023-10-14T17:19:09.392Z"
   },
   {
    "duration": 15315,
    "start_time": "2023-10-14T17:19:11.204Z"
   },
   {
    "duration": 14028,
    "start_time": "2023-10-14T17:19:26.520Z"
   },
   {
    "duration": 7098,
    "start_time": "2023-10-14T17:19:40.550Z"
   },
   {
    "duration": 6,
    "start_time": "2023-10-14T17:19:47.651Z"
   },
   {
    "duration": 3643,
    "start_time": "2023-10-14T17:19:47.659Z"
   },
   {
    "duration": 3,
    "start_time": "2023-10-14T17:19:51.304Z"
   },
   {
    "duration": 27926,
    "start_time": "2023-10-14T17:19:51.308Z"
   },
   {
    "duration": 22140,
    "start_time": "2023-10-14T17:20:19.235Z"
   },
   {
    "duration": 6,
    "start_time": "2023-10-14T17:20:41.377Z"
   },
   {
    "duration": 25,
    "start_time": "2023-10-14T17:20:41.384Z"
   },
   {
    "duration": 678,
    "start_time": "2023-10-14T17:20:41.411Z"
   },
   {
    "duration": 299,
    "start_time": "2023-10-14T17:20:42.091Z"
   },
   {
    "duration": 9,
    "start_time": "2023-10-14T17:20:42.392Z"
   },
   {
    "duration": 380,
    "start_time": "2023-10-14T17:20:42.403Z"
   },
   {
    "duration": 5,
    "start_time": "2023-10-14T17:28:28.397Z"
   },
   {
    "duration": 9741,
    "start_time": "2023-10-14T17:29:45.162Z"
   },
   {
    "duration": 4669,
    "start_time": "2023-10-14T18:09:03.747Z"
   },
   {
    "duration": 6,
    "start_time": "2023-10-14T18:09:08.419Z"
   },
   {
    "duration": 22,
    "start_time": "2023-10-14T18:09:08.427Z"
   },
   {
    "duration": 228,
    "start_time": "2023-10-14T18:09:08.452Z"
   },
   {
    "duration": 23,
    "start_time": "2023-10-14T18:09:08.684Z"
   },
   {
    "duration": 39,
    "start_time": "2023-10-14T18:09:08.709Z"
   },
   {
    "duration": 21,
    "start_time": "2023-10-14T18:09:08.750Z"
   },
   {
    "duration": 41,
    "start_time": "2023-10-14T18:09:08.772Z"
   },
   {
    "duration": 10,
    "start_time": "2023-10-14T18:09:08.815Z"
   },
   {
    "duration": 96,
    "start_time": "2023-10-14T18:09:08.827Z"
   },
   {
    "duration": 25,
    "start_time": "2023-10-14T18:09:08.925Z"
   },
   {
    "duration": 19,
    "start_time": "2023-10-14T18:09:08.952Z"
   },
   {
    "duration": 35,
    "start_time": "2023-10-14T18:09:08.973Z"
   },
   {
    "duration": 33,
    "start_time": "2023-10-14T18:09:09.011Z"
   },
   {
    "duration": 30,
    "start_time": "2023-10-14T18:09:09.046Z"
   },
   {
    "duration": 97,
    "start_time": "2023-10-14T18:09:09.078Z"
   },
   {
    "duration": 8,
    "start_time": "2023-10-14T18:09:09.177Z"
   },
   {
    "duration": 87,
    "start_time": "2023-10-14T18:09:09.187Z"
   },
   {
    "duration": 9,
    "start_time": "2023-10-14T18:09:09.276Z"
   },
   {
    "duration": 44,
    "start_time": "2023-10-14T18:09:09.287Z"
   },
   {
    "duration": 153,
    "start_time": "2023-10-14T18:09:09.333Z"
   },
   {
    "duration": 137,
    "start_time": "2023-10-14T18:09:09.487Z"
   },
   {
    "duration": 16,
    "start_time": "2023-10-14T18:09:09.625Z"
   },
   {
    "duration": 54,
    "start_time": "2023-10-14T18:09:09.643Z"
   },
   {
    "duration": 13,
    "start_time": "2023-10-14T18:09:09.699Z"
   },
   {
    "duration": 7,
    "start_time": "2023-10-14T18:09:09.714Z"
   },
   {
    "duration": 65,
    "start_time": "2023-10-14T18:09:09.724Z"
   },
   {
    "duration": 1091,
    "start_time": "2023-10-14T18:09:09.791Z"
   },
   {
    "duration": 30,
    "start_time": "2023-10-14T18:09:10.884Z"
   },
   {
    "duration": 189,
    "start_time": "2023-10-14T18:09:10.916Z"
   },
   {
    "duration": 2018,
    "start_time": "2023-10-14T18:09:11.107Z"
   },
   {
    "duration": 344,
    "start_time": "2023-10-14T18:09:13.127Z"
   },
   {
    "duration": 46,
    "start_time": "2023-10-14T18:09:13.473Z"
   },
   {
    "duration": 12,
    "start_time": "2023-10-14T18:09:13.521Z"
   },
   {
    "duration": 433,
    "start_time": "2023-10-14T18:09:13.535Z"
   },
   {
    "duration": 55,
    "start_time": "2023-10-14T18:09:13.971Z"
   },
   {
    "duration": 13,
    "start_time": "2023-10-14T18:09:14.028Z"
   },
   {
    "duration": 424,
    "start_time": "2023-10-14T18:09:14.042Z"
   },
   {
    "duration": 46,
    "start_time": "2023-10-14T18:09:14.468Z"
   },
   {
    "duration": 12,
    "start_time": "2023-10-14T18:09:14.516Z"
   },
   {
    "duration": 13,
    "start_time": "2023-10-14T18:09:14.533Z"
   },
   {
    "duration": 8940,
    "start_time": "2023-10-14T18:09:14.548Z"
   },
   {
    "duration": 19,
    "start_time": "2023-10-14T18:09:23.490Z"
   },
   {
    "duration": 3231,
    "start_time": "2023-10-14T18:09:23.511Z"
   },
   {
    "duration": 14,
    "start_time": "2023-10-14T18:09:26.743Z"
   },
   {
    "duration": 10343,
    "start_time": "2023-10-14T18:09:26.759Z"
   },
   {
    "duration": 18930,
    "start_time": "2023-10-14T18:09:37.104Z"
   },
   {
    "duration": 15265,
    "start_time": "2023-10-14T18:09:56.037Z"
   },
   {
    "duration": 122,
    "start_time": "2023-10-14T18:10:11.304Z"
   },
   {
    "duration": 114,
    "start_time": "2023-10-14T18:10:11.428Z"
   },
   {
    "duration": 64,
    "start_time": "2023-10-14T18:10:11.544Z"
   },
   {
    "duration": 4,
    "start_time": "2023-10-14T18:10:11.610Z"
   },
   {
    "duration": 272,
    "start_time": "2023-10-14T18:10:11.617Z"
   },
   {
    "duration": 14,
    "start_time": "2023-10-14T18:10:11.890Z"
   },
   {
    "duration": 1496,
    "start_time": "2023-10-14T18:10:11.906Z"
   },
   {
    "duration": 14999,
    "start_time": "2023-10-14T18:10:13.404Z"
   },
   {
    "duration": 14153,
    "start_time": "2023-10-14T18:10:28.405Z"
   },
   {
    "duration": 7244,
    "start_time": "2023-10-14T18:10:42.560Z"
   },
   {
    "duration": 10,
    "start_time": "2023-10-14T18:10:49.806Z"
   },
   {
    "duration": 3291,
    "start_time": "2023-10-14T18:10:49.817Z"
   },
   {
    "duration": 4,
    "start_time": "2023-10-14T18:10:53.200Z"
   },
   {
    "duration": 27475,
    "start_time": "2023-10-14T18:10:53.206Z"
   },
   {
    "duration": 20652,
    "start_time": "2023-10-14T18:11:20.683Z"
   },
   {
    "duration": 5,
    "start_time": "2023-10-14T18:11:41.337Z"
   },
   {
    "duration": 10,
    "start_time": "2023-10-14T18:11:41.344Z"
   },
   {
    "duration": 623,
    "start_time": "2023-10-14T18:11:41.355Z"
   },
   {
    "duration": 334,
    "start_time": "2023-10-14T18:11:41.980Z"
   },
   {
    "duration": 4,
    "start_time": "2023-10-14T18:11:42.316Z"
   },
   {
    "duration": 123,
    "start_time": "2023-10-14T18:11:42.321Z"
   },
   {
    "duration": 10505,
    "start_time": "2023-10-14T18:16:01.898Z"
   },
   {
    "duration": 5,
    "start_time": "2023-10-14T18:16:53.727Z"
   },
   {
    "duration": 9194,
    "start_time": "2023-10-14T18:16:59.513Z"
   },
   {
    "duration": 8680,
    "start_time": "2023-10-14T18:17:57.764Z"
   },
   {
    "duration": 90153,
    "start_time": "2023-10-14T18:18:17.222Z"
   },
   {
    "duration": 88614,
    "start_time": "2023-10-14T18:21:15.812Z"
   },
   {
    "duration": 72004,
    "start_time": "2023-10-14T18:22:53.265Z"
   },
   {
    "duration": 88939,
    "start_time": "2023-10-14T18:24:46.120Z"
   },
   {
    "duration": 75604,
    "start_time": "2023-10-14T18:26:15.061Z"
   },
   {
    "duration": 203,
    "start_time": "2023-10-14T18:39:42.238Z"
   },
   {
    "duration": 113,
    "start_time": "2023-10-14T18:39:49.832Z"
   },
   {
    "duration": 12980,
    "start_time": "2023-10-17T14:46:43.682Z"
   },
   {
    "duration": 1531,
    "start_time": "2023-10-17T14:46:56.665Z"
   },
   {
    "duration": 2,
    "start_time": "2023-10-17T14:46:58.198Z"
   },
   {
    "duration": 461,
    "start_time": "2023-10-17T14:46:58.202Z"
   },
   {
    "duration": 23,
    "start_time": "2023-10-17T14:46:58.665Z"
   },
   {
    "duration": 28,
    "start_time": "2023-10-17T14:46:58.689Z"
   },
   {
    "duration": 28,
    "start_time": "2023-10-17T14:46:58.719Z"
   },
   {
    "duration": 26,
    "start_time": "2023-10-17T14:46:58.749Z"
   },
   {
    "duration": 27,
    "start_time": "2023-10-17T14:46:58.777Z"
   },
   {
    "duration": 93,
    "start_time": "2023-10-17T14:46:58.805Z"
   },
   {
    "duration": 33,
    "start_time": "2023-10-17T14:46:58.899Z"
   },
   {
    "duration": 31,
    "start_time": "2023-10-17T14:46:58.935Z"
   },
   {
    "duration": 6,
    "start_time": "2023-10-17T14:46:58.968Z"
   },
   {
    "duration": 61,
    "start_time": "2023-10-17T14:46:58.978Z"
   },
   {
    "duration": 39,
    "start_time": "2023-10-17T14:46:59.041Z"
   },
   {
    "duration": 88,
    "start_time": "2023-10-17T14:46:59.082Z"
   },
   {
    "duration": 8,
    "start_time": "2023-10-17T14:46:59.172Z"
   },
   {
    "duration": 84,
    "start_time": "2023-10-17T14:46:59.182Z"
   },
   {
    "duration": 10,
    "start_time": "2023-10-17T14:46:59.267Z"
   },
   {
    "duration": 27,
    "start_time": "2023-10-17T14:46:59.278Z"
   },
   {
    "duration": 198,
    "start_time": "2023-10-17T14:46:59.307Z"
   },
   {
    "duration": 142,
    "start_time": "2023-10-17T14:46:59.507Z"
   },
   {
    "duration": 21,
    "start_time": "2023-10-17T14:46:59.652Z"
   },
   {
    "duration": 9,
    "start_time": "2023-10-17T14:46:59.676Z"
   },
   {
    "duration": 34,
    "start_time": "2023-10-17T14:46:59.688Z"
   },
   {
    "duration": 19,
    "start_time": "2023-10-17T14:46:59.724Z"
   },
   {
    "duration": 61,
    "start_time": "2023-10-17T14:46:59.745Z"
   },
   {
    "duration": 1166,
    "start_time": "2023-10-17T14:46:59.808Z"
   },
   {
    "duration": 25,
    "start_time": "2023-10-17T14:47:00.975Z"
   },
   {
    "duration": 209,
    "start_time": "2023-10-17T14:47:01.002Z"
   },
   {
    "duration": 1958,
    "start_time": "2023-10-17T14:47:01.212Z"
   },
   {
    "duration": 373,
    "start_time": "2023-10-17T14:47:03.174Z"
   },
   {
    "duration": 34,
    "start_time": "2023-10-17T14:47:03.549Z"
   },
   {
    "duration": 12,
    "start_time": "2023-10-17T14:47:03.584Z"
   },
   {
    "duration": 478,
    "start_time": "2023-10-17T14:47:03.598Z"
   },
   {
    "duration": 39,
    "start_time": "2023-10-17T14:47:04.079Z"
   },
   {
    "duration": 25,
    "start_time": "2023-10-17T14:47:04.119Z"
   },
   {
    "duration": 456,
    "start_time": "2023-10-17T14:47:04.146Z"
   },
   {
    "duration": 55,
    "start_time": "2023-10-17T14:47:04.605Z"
   },
   {
    "duration": 14,
    "start_time": "2023-10-17T14:47:04.661Z"
   },
   {
    "duration": 18,
    "start_time": "2023-10-17T14:47:04.678Z"
   },
   {
    "duration": 6649,
    "start_time": "2023-10-17T14:47:04.698Z"
   },
   {
    "duration": 14,
    "start_time": "2023-10-17T14:47:11.348Z"
   },
   {
    "duration": 3003,
    "start_time": "2023-10-17T14:47:11.363Z"
   },
   {
    "duration": 19,
    "start_time": "2023-10-17T14:47:14.368Z"
   },
   {
    "duration": 2077,
    "start_time": "2023-10-17T14:47:36.784Z"
   },
   {
    "duration": 9092,
    "start_time": "2023-10-17T14:48:41.853Z"
   },
   {
    "duration": 88218,
    "start_time": "2023-10-17T14:49:42.217Z"
   },
   {
    "duration": 95,
    "start_time": "2023-10-17T14:51:10.438Z"
   },
   {
    "duration": 67655,
    "start_time": "2023-10-17T14:52:04.640Z"
   },
   {
    "duration": 2000,
    "start_time": "2023-10-17T17:26:39.561Z"
   },
   {
    "duration": 16053,
    "start_time": "2023-10-17T17:26:51.706Z"
   },
   {
    "duration": 28,
    "start_time": "2023-10-17T17:27:10.439Z"
   },
   {
    "duration": 5093,
    "start_time": "2023-10-17T17:27:36.016Z"
   },
   {
    "duration": 1344,
    "start_time": "2023-10-17T17:27:41.112Z"
   },
   {
    "duration": 3,
    "start_time": "2023-10-17T17:27:42.458Z"
   },
   {
    "duration": 537,
    "start_time": "2023-10-17T17:27:42.463Z"
   },
   {
    "duration": 26,
    "start_time": "2023-10-17T17:27:43.003Z"
   },
   {
    "duration": 43,
    "start_time": "2023-10-17T17:27:43.031Z"
   },
   {
    "duration": 21,
    "start_time": "2023-10-17T17:27:43.076Z"
   },
   {
    "duration": 42,
    "start_time": "2023-10-17T17:27:43.098Z"
   },
   {
    "duration": 20,
    "start_time": "2023-10-17T17:27:43.141Z"
   },
   {
    "duration": 94,
    "start_time": "2023-10-17T17:27:43.163Z"
   },
   {
    "duration": 28,
    "start_time": "2023-10-17T17:27:43.259Z"
   },
   {
    "duration": 39,
    "start_time": "2023-10-17T17:27:43.289Z"
   },
   {
    "duration": 5,
    "start_time": "2023-10-17T17:27:43.331Z"
   },
   {
    "duration": 49,
    "start_time": "2023-10-17T17:27:43.339Z"
   },
   {
    "duration": 31,
    "start_time": "2023-10-17T17:27:43.390Z"
   },
   {
    "duration": 103,
    "start_time": "2023-10-17T17:27:43.422Z"
   },
   {
    "duration": 7,
    "start_time": "2023-10-17T17:27:43.527Z"
   },
   {
    "duration": 95,
    "start_time": "2023-10-17T17:27:43.535Z"
   },
   {
    "duration": 11,
    "start_time": "2023-10-17T17:27:43.632Z"
   },
   {
    "duration": 38,
    "start_time": "2023-10-17T17:27:43.646Z"
   },
   {
    "duration": 196,
    "start_time": "2023-10-17T17:27:43.686Z"
   },
   {
    "duration": 144,
    "start_time": "2023-10-17T17:27:43.884Z"
   },
   {
    "duration": 28,
    "start_time": "2023-10-17T17:27:44.030Z"
   },
   {
    "duration": 14,
    "start_time": "2023-10-17T17:27:44.060Z"
   },
   {
    "duration": 32,
    "start_time": "2023-10-17T17:27:44.077Z"
   },
   {
    "duration": 8,
    "start_time": "2023-10-17T17:27:44.111Z"
   },
   {
    "duration": 73,
    "start_time": "2023-10-17T17:27:44.121Z"
   },
   {
    "duration": 1367,
    "start_time": "2023-10-17T17:27:44.196Z"
   },
   {
    "duration": 30,
    "start_time": "2023-10-17T17:27:45.566Z"
   },
   {
    "duration": 212,
    "start_time": "2023-10-17T17:27:45.597Z"
   },
   {
    "duration": 2256,
    "start_time": "2023-10-17T17:27:45.812Z"
   },
   {
    "duration": 393,
    "start_time": "2023-10-17T17:27:48.070Z"
   },
   {
    "duration": 39,
    "start_time": "2023-10-17T17:27:48.465Z"
   },
   {
    "duration": 12,
    "start_time": "2023-10-17T17:27:48.506Z"
   },
   {
    "duration": 496,
    "start_time": "2023-10-17T17:27:48.520Z"
   },
   {
    "duration": 55,
    "start_time": "2023-10-17T17:27:49.018Z"
   },
   {
    "duration": 16,
    "start_time": "2023-10-17T17:27:49.076Z"
   },
   {
    "duration": 480,
    "start_time": "2023-10-17T17:27:49.094Z"
   },
   {
    "duration": 44,
    "start_time": "2023-10-17T17:27:49.577Z"
   },
   {
    "duration": 33,
    "start_time": "2023-10-17T17:27:49.623Z"
   },
   {
    "duration": 12,
    "start_time": "2023-10-17T17:27:49.663Z"
   },
   {
    "duration": 9306,
    "start_time": "2023-10-17T17:27:49.677Z"
   },
   {
    "duration": 16,
    "start_time": "2023-10-17T17:27:58.985Z"
   },
   {
    "duration": 3965,
    "start_time": "2023-10-17T17:27:59.003Z"
   },
   {
    "duration": 15,
    "start_time": "2023-10-17T17:28:02.969Z"
   },
   {
    "duration": 10974,
    "start_time": "2023-10-17T17:28:02.987Z"
   },
   {
    "duration": 101574,
    "start_time": "2023-10-17T17:28:13.963Z"
   },
   {
    "duration": 78010,
    "start_time": "2023-10-17T17:29:55.539Z"
   },
   {
    "duration": 132,
    "start_time": "2023-10-17T17:31:13.554Z"
   },
   {
    "duration": 225,
    "start_time": "2023-10-17T17:31:13.688Z"
   },
   {
    "duration": 49,
    "start_time": "2023-10-17T17:31:13.915Z"
   },
   {
    "duration": 3,
    "start_time": "2023-10-17T17:31:13.966Z"
   },
   {
    "duration": 297,
    "start_time": "2023-10-17T17:31:13.971Z"
   },
   {
    "duration": 7,
    "start_time": "2023-10-17T17:31:14.270Z"
   },
   {
    "duration": 1678,
    "start_time": "2023-10-17T17:31:14.279Z"
   },
   {
    "duration": 16624,
    "start_time": "2023-10-17T17:31:15.964Z"
   },
   {
    "duration": 14653,
    "start_time": "2023-10-17T17:31:32.590Z"
   },
   {
    "duration": 7954,
    "start_time": "2023-10-17T17:31:47.251Z"
   },
   {
    "duration": 7,
    "start_time": "2023-10-17T17:31:55.208Z"
   },
   {
    "duration": 3549,
    "start_time": "2023-10-17T17:31:55.217Z"
   },
   {
    "duration": 3,
    "start_time": "2023-10-17T17:31:58.848Z"
   },
   {
    "duration": 30379,
    "start_time": "2023-10-17T17:31:58.852Z"
   },
   {
    "duration": 24049,
    "start_time": "2023-10-17T17:32:29.232Z"
   },
   {
    "duration": 7,
    "start_time": "2023-10-17T17:32:53.283Z"
   },
   {
    "duration": 38,
    "start_time": "2023-10-17T17:32:53.291Z"
   },
   {
    "duration": 750,
    "start_time": "2023-10-17T17:32:53.331Z"
   },
   {
    "duration": 370,
    "start_time": "2023-10-17T17:32:54.083Z"
   },
   {
    "duration": 7,
    "start_time": "2023-10-17T17:32:54.455Z"
   },
   {
    "duration": 111,
    "start_time": "2023-10-17T17:32:54.465Z"
   },
   {
    "duration": 6,
    "start_time": "2023-10-17T17:49:15.764Z"
   },
   {
    "duration": 148,
    "start_time": "2023-10-17T17:50:44.072Z"
   },
   {
    "duration": 12,
    "start_time": "2023-10-17T17:51:11.581Z"
   },
   {
    "duration": 11,
    "start_time": "2023-10-17T17:52:01.193Z"
   },
   {
    "duration": 3,
    "start_time": "2023-10-17T17:52:23.554Z"
   },
   {
    "duration": 1652,
    "start_time": "2023-10-18T14:53:23.566Z"
   },
   {
    "duration": 10347,
    "start_time": "2023-10-18T14:55:27.199Z"
   },
   {
    "duration": 1232,
    "start_time": "2023-10-18T14:55:37.548Z"
   },
   {
    "duration": 2,
    "start_time": "2023-10-18T14:55:38.783Z"
   },
   {
    "duration": 533,
    "start_time": "2023-10-18T14:55:38.787Z"
   },
   {
    "duration": 22,
    "start_time": "2023-10-18T14:55:39.322Z"
   },
   {
    "duration": 30,
    "start_time": "2023-10-18T14:55:39.346Z"
   },
   {
    "duration": 18,
    "start_time": "2023-10-18T14:55:39.378Z"
   },
   {
    "duration": 22,
    "start_time": "2023-10-18T14:55:39.397Z"
   },
   {
    "duration": 22,
    "start_time": "2023-10-18T14:55:39.421Z"
   },
   {
    "duration": 75,
    "start_time": "2023-10-18T14:55:39.445Z"
   },
   {
    "duration": 39,
    "start_time": "2023-10-18T14:55:39.522Z"
   },
   {
    "duration": 26,
    "start_time": "2023-10-18T14:55:39.563Z"
   },
   {
    "duration": 17,
    "start_time": "2023-10-18T14:55:39.591Z"
   },
   {
    "duration": 55,
    "start_time": "2023-10-18T14:55:39.611Z"
   },
   {
    "duration": 25,
    "start_time": "2023-10-18T14:55:39.668Z"
   },
   {
    "duration": 80,
    "start_time": "2023-10-18T14:55:39.695Z"
   },
   {
    "duration": 7,
    "start_time": "2023-10-18T14:55:39.777Z"
   },
   {
    "duration": 81,
    "start_time": "2023-10-18T14:55:39.786Z"
   },
   {
    "duration": 8,
    "start_time": "2023-10-18T14:55:39.868Z"
   },
   {
    "duration": 49,
    "start_time": "2023-10-18T14:55:39.878Z"
   },
   {
    "duration": 194,
    "start_time": "2023-10-18T14:55:39.928Z"
   },
   {
    "duration": 133,
    "start_time": "2023-10-18T14:55:40.124Z"
   },
   {
    "duration": 69,
    "start_time": "2023-10-18T14:55:40.259Z"
   },
   {
    "duration": 7,
    "start_time": "2023-10-18T14:55:40.330Z"
   },
   {
    "duration": 11,
    "start_time": "2023-10-18T14:55:40.338Z"
   },
   {
    "duration": 11,
    "start_time": "2023-10-18T14:55:40.351Z"
   },
   {
    "duration": 86,
    "start_time": "2023-10-18T14:55:40.364Z"
   },
   {
    "duration": 1098,
    "start_time": "2023-10-18T14:55:40.452Z"
   },
   {
    "duration": 25,
    "start_time": "2023-10-18T14:55:41.552Z"
   },
   {
    "duration": 178,
    "start_time": "2023-10-18T14:55:41.578Z"
   },
   {
    "duration": 1893,
    "start_time": "2023-10-18T14:55:41.758Z"
   },
   {
    "duration": 344,
    "start_time": "2023-10-18T14:55:43.653Z"
   },
   {
    "duration": 32,
    "start_time": "2023-10-18T14:55:43.999Z"
   },
   {
    "duration": 21,
    "start_time": "2023-10-18T14:55:44.033Z"
   },
   {
    "duration": 417,
    "start_time": "2023-10-18T14:55:44.055Z"
   },
   {
    "duration": 53,
    "start_time": "2023-10-18T14:55:44.474Z"
   },
   {
    "duration": 27,
    "start_time": "2023-10-18T14:55:44.529Z"
   },
   {
    "duration": 415,
    "start_time": "2023-10-18T14:55:44.559Z"
   },
   {
    "duration": 35,
    "start_time": "2023-10-18T14:55:44.975Z"
   },
   {
    "duration": 12,
    "start_time": "2023-10-18T14:55:45.012Z"
   },
   {
    "duration": 61,
    "start_time": "2023-10-18T14:55:45.046Z"
   },
   {
    "duration": 6488,
    "start_time": "2023-10-18T14:55:45.109Z"
   },
   {
    "duration": 12,
    "start_time": "2023-10-18T14:55:51.599Z"
   },
   {
    "duration": 2880,
    "start_time": "2023-10-18T14:55:51.613Z"
   },
   {
    "duration": 16,
    "start_time": "2023-10-18T14:55:54.495Z"
   },
   {
    "duration": 9131,
    "start_time": "2023-10-18T14:55:54.513Z"
   },
   {
    "duration": 84767,
    "start_time": "2023-10-18T14:56:03.649Z"
   },
   {
    "duration": 65709,
    "start_time": "2023-10-18T14:57:28.418Z"
   },
   {
    "duration": 108,
    "start_time": "2023-10-18T14:58:34.129Z"
   },
   {
    "duration": 206,
    "start_time": "2023-10-18T14:58:34.238Z"
   },
   {
    "duration": 34,
    "start_time": "2023-10-18T14:58:34.446Z"
   },
   {
    "duration": 3,
    "start_time": "2023-10-18T14:58:34.483Z"
   },
   {
    "duration": 20,
    "start_time": "2023-10-18T14:58:34.488Z"
   },
   {
    "duration": 145,
    "start_time": "2023-10-18T14:58:34.510Z"
   },
   {
    "duration": 0,
    "start_time": "2023-10-18T14:58:34.657Z"
   },
   {
    "duration": 0,
    "start_time": "2023-10-18T14:58:34.659Z"
   },
   {
    "duration": 0,
    "start_time": "2023-10-18T14:58:34.660Z"
   },
   {
    "duration": 0,
    "start_time": "2023-10-18T14:58:34.662Z"
   },
   {
    "duration": 0,
    "start_time": "2023-10-18T14:58:34.664Z"
   },
   {
    "duration": 0,
    "start_time": "2023-10-18T14:58:34.665Z"
   },
   {
    "duration": 0,
    "start_time": "2023-10-18T14:58:34.667Z"
   },
   {
    "duration": 0,
    "start_time": "2023-10-18T14:58:34.668Z"
   },
   {
    "duration": 0,
    "start_time": "2023-10-18T14:58:34.670Z"
   },
   {
    "duration": 0,
    "start_time": "2023-10-18T14:58:34.671Z"
   },
   {
    "duration": 0,
    "start_time": "2023-10-18T14:58:34.673Z"
   },
   {
    "duration": 0,
    "start_time": "2023-10-18T14:58:34.675Z"
   },
   {
    "duration": 0,
    "start_time": "2023-10-18T14:58:34.676Z"
   },
   {
    "duration": 10604,
    "start_time": "2023-10-18T14:59:19.417Z"
   },
   {
    "duration": 84197,
    "start_time": "2023-10-18T14:59:32.080Z"
   },
   {
    "duration": 12342,
    "start_time": "2023-10-18T18:37:55.306Z"
   },
   {
    "duration": 1423,
    "start_time": "2023-10-18T18:38:07.651Z"
   },
   {
    "duration": 3,
    "start_time": "2023-10-18T18:38:09.076Z"
   },
   {
    "duration": 532,
    "start_time": "2023-10-18T18:38:09.081Z"
   },
   {
    "duration": 24,
    "start_time": "2023-10-18T18:38:09.615Z"
   },
   {
    "duration": 71,
    "start_time": "2023-10-18T18:38:09.640Z"
   },
   {
    "duration": 72,
    "start_time": "2023-10-18T18:38:09.713Z"
   },
   {
    "duration": 161,
    "start_time": "2023-10-18T18:38:09.787Z"
   },
   {
    "duration": 95,
    "start_time": "2023-10-18T18:38:09.950Z"
   },
   {
    "duration": 130,
    "start_time": "2023-10-18T18:38:10.046Z"
   },
   {
    "duration": 115,
    "start_time": "2023-10-18T18:38:10.178Z"
   },
   {
    "duration": 35,
    "start_time": "2023-10-18T18:38:10.295Z"
   },
   {
    "duration": 43,
    "start_time": "2023-10-18T18:38:10.332Z"
   },
   {
    "duration": 62,
    "start_time": "2023-10-18T18:38:10.380Z"
   },
   {
    "duration": 111,
    "start_time": "2023-10-18T18:38:10.443Z"
   },
   {
    "duration": 192,
    "start_time": "2023-10-18T18:38:10.556Z"
   },
   {
    "duration": 74,
    "start_time": "2023-10-18T18:38:10.749Z"
   },
   {
    "duration": 194,
    "start_time": "2023-10-18T18:38:10.825Z"
   },
   {
    "duration": 122,
    "start_time": "2023-10-18T18:38:11.021Z"
   },
   {
    "duration": 173,
    "start_time": "2023-10-18T18:38:11.145Z"
   },
   {
    "duration": 162,
    "start_time": "2023-10-18T18:38:11.320Z"
   },
   {
    "duration": 146,
    "start_time": "2023-10-18T18:38:11.483Z"
   },
   {
    "duration": 17,
    "start_time": "2023-10-18T18:38:11.630Z"
   },
   {
    "duration": 14,
    "start_time": "2023-10-18T18:38:11.649Z"
   },
   {
    "duration": 36,
    "start_time": "2023-10-18T18:38:11.665Z"
   },
   {
    "duration": 15,
    "start_time": "2023-10-18T18:38:11.702Z"
   },
   {
    "duration": 74,
    "start_time": "2023-10-18T18:38:11.718Z"
   },
   {
    "duration": 1159,
    "start_time": "2023-10-18T18:38:11.794Z"
   },
   {
    "duration": 26,
    "start_time": "2023-10-18T18:38:12.955Z"
   },
   {
    "duration": 186,
    "start_time": "2023-10-18T18:38:12.983Z"
   },
   {
    "duration": 1919,
    "start_time": "2023-10-18T18:38:13.171Z"
   },
   {
    "duration": 337,
    "start_time": "2023-10-18T18:38:15.091Z"
   },
   {
    "duration": 34,
    "start_time": "2023-10-18T18:38:15.430Z"
   },
   {
    "duration": 11,
    "start_time": "2023-10-18T18:38:15.465Z"
   },
   {
    "duration": 501,
    "start_time": "2023-10-18T18:38:15.478Z"
   },
   {
    "duration": 61,
    "start_time": "2023-10-18T18:38:15.981Z"
   },
   {
    "duration": 22,
    "start_time": "2023-10-18T18:38:16.045Z"
   },
   {
    "duration": 428,
    "start_time": "2023-10-18T18:38:16.070Z"
   },
   {
    "duration": 46,
    "start_time": "2023-10-18T18:38:16.500Z"
   },
   {
    "duration": 12,
    "start_time": "2023-10-18T18:38:16.547Z"
   },
   {
    "duration": 11,
    "start_time": "2023-10-18T18:38:16.565Z"
   },
   {
    "duration": 7867,
    "start_time": "2023-10-18T18:38:16.577Z"
   },
   {
    "duration": 14,
    "start_time": "2023-10-18T18:38:24.446Z"
   },
   {
    "duration": 3192,
    "start_time": "2023-10-18T18:38:24.462Z"
   },
   {
    "duration": 13,
    "start_time": "2023-10-18T18:38:27.657Z"
   },
   {
    "duration": 9857,
    "start_time": "2023-10-18T18:38:27.672Z"
   },
   {
    "duration": 90470,
    "start_time": "2023-10-18T18:38:37.534Z"
   },
   {
    "duration": 73131,
    "start_time": "2023-10-18T18:40:08.006Z"
   },
   {
    "duration": 112,
    "start_time": "2023-10-18T18:41:21.139Z"
   },
   {
    "duration": 117,
    "start_time": "2023-10-18T18:41:21.252Z"
   },
   {
    "duration": 61,
    "start_time": "2023-10-18T18:41:21.371Z"
   },
   {
    "duration": 4,
    "start_time": "2023-10-18T18:41:21.434Z"
   },
   {
    "duration": 8,
    "start_time": "2023-10-18T18:41:21.440Z"
   },
   {
    "duration": 85946,
    "start_time": "2023-10-18T18:41:21.450Z"
   },
   {
    "duration": 133,
    "start_time": "2023-10-18T18:42:47.398Z"
   },
   {
    "duration": 0,
    "start_time": "2023-10-18T18:42:47.533Z"
   },
   {
    "duration": 0,
    "start_time": "2023-10-18T18:42:47.536Z"
   },
   {
    "duration": 0,
    "start_time": "2023-10-18T18:42:47.537Z"
   },
   {
    "duration": 0,
    "start_time": "2023-10-18T18:42:47.538Z"
   },
   {
    "duration": 0,
    "start_time": "2023-10-18T18:42:47.539Z"
   },
   {
    "duration": 0,
    "start_time": "2023-10-18T18:42:47.541Z"
   },
   {
    "duration": 0,
    "start_time": "2023-10-18T18:42:47.542Z"
   },
   {
    "duration": 0,
    "start_time": "2023-10-18T18:42:47.543Z"
   },
   {
    "duration": 0,
    "start_time": "2023-10-18T18:42:47.544Z"
   },
   {
    "duration": 0,
    "start_time": "2023-10-18T18:42:47.545Z"
   },
   {
    "duration": 0,
    "start_time": "2023-10-18T18:42:47.546Z"
   },
   {
    "duration": 0,
    "start_time": "2023-10-18T18:42:47.548Z"
   },
   {
    "duration": 15,
    "start_time": "2023-10-18T18:56:02.529Z"
   },
   {
    "duration": 4468,
    "start_time": "2023-10-18T18:57:34.737Z"
   },
   {
    "duration": 1341,
    "start_time": "2023-10-18T18:57:39.208Z"
   },
   {
    "duration": 3,
    "start_time": "2023-10-18T18:57:40.551Z"
   },
   {
    "duration": 260,
    "start_time": "2023-10-18T18:57:40.556Z"
   },
   {
    "duration": 25,
    "start_time": "2023-10-18T18:57:40.818Z"
   },
   {
    "duration": 47,
    "start_time": "2023-10-18T18:57:40.845Z"
   },
   {
    "duration": 21,
    "start_time": "2023-10-18T18:57:40.894Z"
   },
   {
    "duration": 44,
    "start_time": "2023-10-18T18:57:40.916Z"
   },
   {
    "duration": 9,
    "start_time": "2023-10-18T18:57:40.962Z"
   },
   {
    "duration": 126,
    "start_time": "2023-10-18T18:57:40.973Z"
   },
   {
    "duration": 30,
    "start_time": "2023-10-18T18:57:41.101Z"
   },
   {
    "duration": 21,
    "start_time": "2023-10-18T18:57:41.133Z"
   },
   {
    "duration": 20,
    "start_time": "2023-10-18T18:57:41.156Z"
   },
   {
    "duration": 47,
    "start_time": "2023-10-18T18:57:41.178Z"
   },
   {
    "duration": 30,
    "start_time": "2023-10-18T18:57:41.226Z"
   },
   {
    "duration": 97,
    "start_time": "2023-10-18T18:57:41.258Z"
   },
   {
    "duration": 9,
    "start_time": "2023-10-18T18:57:41.357Z"
   },
   {
    "duration": 92,
    "start_time": "2023-10-18T18:57:41.368Z"
   },
   {
    "duration": 11,
    "start_time": "2023-10-18T18:57:41.462Z"
   },
   {
    "duration": 52,
    "start_time": "2023-10-18T18:57:41.475Z"
   },
   {
    "duration": 182,
    "start_time": "2023-10-18T18:57:41.529Z"
   },
   {
    "duration": 128,
    "start_time": "2023-10-18T18:57:41.712Z"
   },
   {
    "duration": 19,
    "start_time": "2023-10-18T18:57:41.842Z"
   },
   {
    "duration": 8,
    "start_time": "2023-10-18T18:57:41.863Z"
   },
   {
    "duration": 47,
    "start_time": "2023-10-18T18:57:41.873Z"
   },
   {
    "duration": 84,
    "start_time": "2023-10-18T18:57:41.922Z"
   },
   {
    "duration": 81,
    "start_time": "2023-10-18T18:57:42.007Z"
   },
   {
    "duration": 1243,
    "start_time": "2023-10-18T18:57:42.093Z"
   },
   {
    "duration": 25,
    "start_time": "2023-10-18T18:57:43.338Z"
   },
   {
    "duration": 191,
    "start_time": "2023-10-18T18:57:43.365Z"
   },
   {
    "duration": 1919,
    "start_time": "2023-10-18T18:57:43.558Z"
   },
   {
    "duration": 321,
    "start_time": "2023-10-18T18:57:45.478Z"
   },
   {
    "duration": 42,
    "start_time": "2023-10-18T18:57:45.801Z"
   },
   {
    "duration": 13,
    "start_time": "2023-10-18T18:57:45.845Z"
   },
   {
    "duration": 522,
    "start_time": "2023-10-18T18:57:45.860Z"
   },
   {
    "duration": 47,
    "start_time": "2023-10-18T18:57:46.384Z"
   },
   {
    "duration": 14,
    "start_time": "2023-10-18T18:57:46.433Z"
   },
   {
    "duration": 412,
    "start_time": "2023-10-18T18:57:46.449Z"
   },
   {
    "duration": 39,
    "start_time": "2023-10-18T18:57:46.863Z"
   },
   {
    "duration": 63,
    "start_time": "2023-10-18T18:57:46.904Z"
   },
   {
    "duration": 32,
    "start_time": "2023-10-18T18:57:46.969Z"
   },
   {
    "duration": 7376,
    "start_time": "2023-10-18T18:57:47.002Z"
   },
   {
    "duration": 13,
    "start_time": "2023-10-18T18:57:54.379Z"
   },
   {
    "duration": 3036,
    "start_time": "2023-10-18T18:57:54.393Z"
   },
   {
    "duration": 15,
    "start_time": "2023-10-18T18:57:57.431Z"
   },
   {
    "duration": 9378,
    "start_time": "2023-10-18T18:57:57.447Z"
   },
   {
    "duration": 85538,
    "start_time": "2023-10-18T18:58:06.827Z"
   },
   {
    "duration": 68080,
    "start_time": "2023-10-18T18:59:32.367Z"
   },
   {
    "duration": 114,
    "start_time": "2023-10-18T19:00:40.449Z"
   },
   {
    "duration": 216,
    "start_time": "2023-10-18T19:00:40.565Z"
   },
   {
    "duration": 45,
    "start_time": "2023-10-18T19:00:40.783Z"
   },
   {
    "duration": 3,
    "start_time": "2023-10-18T19:00:40.830Z"
   },
   {
    "duration": 6,
    "start_time": "2023-10-18T19:00:40.835Z"
   }
  ],
  "kernelspec": {
   "display_name": "Python 3 (ipykernel)",
   "language": "python",
   "name": "python3"
  },
  "language_info": {
   "codemirror_mode": {
    "name": "ipython",
    "version": 3
   },
   "file_extension": ".py",
   "mimetype": "text/x-python",
   "name": "python",
   "nbconvert_exporter": "python",
   "pygments_lexer": "ipython3",
   "version": "3.9.13"
  },
  "toc": {
   "base_numbering": 1,
   "nav_menu": {},
   "number_sections": true,
   "sideBar": true,
   "skip_h1_title": true,
   "title_cell": "Table of Contents",
   "title_sidebar": "Contents",
   "toc_cell": false,
   "toc_position": {
    "height": "calc(100% - 180px)",
    "left": "10px",
    "top": "150px",
    "width": "325.643372px"
   },
   "toc_section_display": true,
   "toc_window_display": true
  }
 },
 "nbformat": 4,
 "nbformat_minor": 2
}
